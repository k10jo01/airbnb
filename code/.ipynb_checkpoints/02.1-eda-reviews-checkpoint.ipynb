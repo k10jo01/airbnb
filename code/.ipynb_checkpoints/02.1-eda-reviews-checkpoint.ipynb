{
 "cells": [
  {
   "cell_type": "markdown",
   "metadata": {},
   "source": [
    "# EDA: Reviews"
   ]
  },
  {
   "cell_type": "code",
   "execution_count": 5,
   "metadata": {},
   "outputs": [],
   "source": [
    "# Import libraries\n",
    "import pandas as pd\n",
    "import matplotlib.pyplot as plt\n",
    "\n",
    "%matplotlib inline"
   ]
  },
  {
   "cell_type": "code",
   "execution_count": 2,
   "metadata": {},
   "outputs": [
    {
     "data": {
      "text/plain": [
       "(358268, 6)"
      ]
     },
     "execution_count": 2,
     "metadata": {},
     "output_type": "execute_result"
    }
   ],
   "source": [
    "# Read in Reviews dataset\n",
    "reviews = pd.read_csv('/Users/jessieowens2/Desktop/general_assembly/airbnb_data/reviews.csv')\n",
    "# Check shape for total number of reviews\n",
    "reviews.shape"
   ]
  },
  {
   "cell_type": "code",
   "execution_count": 4,
   "metadata": {},
   "outputs": [
    {
     "data": {
      "text/html": [
       "<div>\n",
       "<style scoped>\n",
       "    .dataframe tbody tr th:only-of-type {\n",
       "        vertical-align: middle;\n",
       "    }\n",
       "\n",
       "    .dataframe tbody tr th {\n",
       "        vertical-align: top;\n",
       "    }\n",
       "\n",
       "    .dataframe thead th {\n",
       "        text-align: right;\n",
       "    }\n",
       "</style>\n",
       "<table border=\"1\" class=\"dataframe\">\n",
       "  <thead>\n",
       "    <tr style=\"text-align: right;\">\n",
       "      <th></th>\n",
       "      <th>listing_id</th>\n",
       "      <th>id</th>\n",
       "      <th>date</th>\n",
       "      <th>reviewer_id</th>\n",
       "      <th>reviewer_name</th>\n",
       "      <th>comments</th>\n",
       "    </tr>\n",
       "  </thead>\n",
       "  <tbody>\n",
       "    <tr>\n",
       "      <td>0</td>\n",
       "      <td>3344</td>\n",
       "      <td>2185</td>\n",
       "      <td>2009-05-09</td>\n",
       "      <td>12016</td>\n",
       "      <td>Tony</td>\n",
       "      <td>The stay at Amos' condo greatly exceeded my ex...</td>\n",
       "    </tr>\n",
       "    <tr>\n",
       "      <td>1</td>\n",
       "      <td>3344</td>\n",
       "      <td>18774</td>\n",
       "      <td>2009-11-29</td>\n",
       "      <td>40724</td>\n",
       "      <td>Faris</td>\n",
       "      <td>What can I say?  AJ picked me up from Dulles, ...</td>\n",
       "    </tr>\n",
       "    <tr>\n",
       "      <td>2</td>\n",
       "      <td>3344</td>\n",
       "      <td>20550</td>\n",
       "      <td>2009-12-16</td>\n",
       "      <td>58506</td>\n",
       "      <td>Sean</td>\n",
       "      <td>Amos is a phenomenal host. Where to start? Fir...</td>\n",
       "    </tr>\n",
       "    <tr>\n",
       "      <td>3</td>\n",
       "      <td>3344</td>\n",
       "      <td>293978</td>\n",
       "      <td>2011-06-01</td>\n",
       "      <td>583926</td>\n",
       "      <td>Yewwee</td>\n",
       "      <td>Aj is a great and friendly host! Excellent loc...</td>\n",
       "    </tr>\n",
       "    <tr>\n",
       "      <td>4</td>\n",
       "      <td>3344</td>\n",
       "      <td>296775</td>\n",
       "      <td>2011-06-04</td>\n",
       "      <td>503189</td>\n",
       "      <td>Jonathan</td>\n",
       "      <td>As a first-time airbnb.com user, I am glad Amo...</td>\n",
       "    </tr>\n",
       "  </tbody>\n",
       "</table>\n",
       "</div>"
      ],
      "text/plain": [
       "   listing_id      id        date  reviewer_id reviewer_name  \\\n",
       "0        3344    2185  2009-05-09        12016          Tony   \n",
       "1        3344   18774  2009-11-29        40724         Faris   \n",
       "2        3344   20550  2009-12-16        58506          Sean   \n",
       "3        3344  293978  2011-06-01       583926        Yewwee   \n",
       "4        3344  296775  2011-06-04       503189      Jonathan   \n",
       "\n",
       "                                            comments  \n",
       "0  The stay at Amos' condo greatly exceeded my ex...  \n",
       "1  What can I say?  AJ picked me up from Dulles, ...  \n",
       "2  Amos is a phenomenal host. Where to start? Fir...  \n",
       "3  Aj is a great and friendly host! Excellent loc...  \n",
       "4  As a first-time airbnb.com user, I am glad Amo...  "
      ]
     },
     "execution_count": 4,
     "metadata": {},
     "output_type": "execute_result"
    }
   ],
   "source": [
    "# Look at reviews data\n",
    "reviews.head()"
   ]
  },
  {
   "cell_type": "code",
   "execution_count": 38,
   "metadata": {},
   "outputs": [
    {
     "name": "stdout",
     "output_type": "stream",
     "text": [
      "<class 'pandas.core.frame.DataFrame'>\n",
      "RangeIndex: 358268 entries, 0 to 358267\n",
      "Data columns (total 6 columns):\n",
      "listing_id       358268 non-null int64\n",
      "id               358268 non-null int64\n",
      "date             358268 non-null object\n",
      "reviewer_id      358268 non-null int64\n",
      "reviewer_name    358268 non-null object\n",
      "comments         358090 non-null object\n",
      "dtypes: int64(3), object(3)\n",
      "memory usage: 16.4+ MB\n"
     ]
    }
   ],
   "source": [
    "# Look at info stats\n",
    "reviews.info()"
   ]
  },
  {
   "cell_type": "code",
   "execution_count": 7,
   "metadata": {
    "scrolled": true
   },
   "outputs": [
    {
     "data": {
      "text/plain": [
       "listing_id\n",
       "3771                 588\n",
       "893529           5144488\n",
       "632735          10141779\n",
       "2503630         11270259\n",
       "2481335         11334360\n",
       "                ...     \n",
       "453315      106596084153\n",
       "11640393    110373320269\n",
       "2833952     111133945751\n",
       "15435963    126823184215\n",
       "15373088    126985948330\n",
       "Name: id, Length: 7421, dtype: int64"
      ]
     },
     "execution_count": 7,
     "metadata": {},
     "output_type": "execute_result"
    }
   ],
   "source": [
    "# all reviews in this dataset have a listing id tied to them\n",
    "reviews['id'].groupby(by=reviews['listing_id']).sum().sort_values()"
   ]
  },
  {
   "cell_type": "code",
   "execution_count": 8,
   "metadata": {},
   "outputs": [
    {
     "data": {
      "text/plain": [
       "(358268, 6)"
      ]
     },
     "execution_count": 8,
     "metadata": {},
     "output_type": "execute_result"
    }
   ],
   "source": [
    "reviews.shape"
   ]
  },
  {
   "cell_type": "code",
   "execution_count": 9,
   "metadata": {},
   "outputs": [
    {
     "data": {
      "text/plain": [
       "7421"
      ]
     },
     "execution_count": 9,
     "metadata": {},
     "output_type": "execute_result"
    }
   ],
   "source": [
    "# there are 7421 unique listing ids in the reviews dataset\n",
    "reviews['listing_id'].nunique()"
   ]
  },
  {
   "cell_type": "code",
   "execution_count": 20,
   "metadata": {},
   "outputs": [],
   "source": [
    "# read in listings dataset for comparison\n",
    "listings = pd.read_csv('/Users/jessieowens2/Desktop/general_assembly/airbnb_data/listings.csv')"
   ]
  },
  {
   "cell_type": "code",
   "execution_count": 19,
   "metadata": {},
   "outputs": [
    {
     "data": {
      "text/plain": [
       "9189"
      ]
     },
     "execution_count": 19,
     "metadata": {},
     "output_type": "execute_result"
    }
   ],
   "source": [
    "listings['id'].nunique()\n",
    "# Some listings do not have reviews"
   ]
  },
  {
   "cell_type": "code",
   "execution_count": null,
   "metadata": {},
   "outputs": [],
   "source": [
    "# All reviews in the reviews dataset have reviews listed, however some of the listings in the listings dataset are not\n",
    "# in the reviews dataset. Will check this in the listings EDA notebook"
   ]
  },
  {
   "cell_type": "code",
   "execution_count": 21,
   "metadata": {},
   "outputs": [
    {
     "data": {
      "text/plain": [
       "1768"
      ]
     },
     "execution_count": 21,
     "metadata": {},
     "output_type": "execute_result"
    }
   ],
   "source": [
    "9189 - 7421\n",
    "# 1768 listings without reviews"
   ]
  },
  {
   "cell_type": "markdown",
   "metadata": {},
   "source": [
    "Or listings that only got bad reviews? "
   ]
  },
  {
   "cell_type": "markdown",
   "metadata": {},
   "source": [
    "What can be analyzed about the actual review content? Classify certain words as positive? Or negative? "
   ]
  },
  {
   "cell_type": "markdown",
   "metadata": {},
   "source": [
    "Should reviewer name be removed and just use the id? (For ethical concerns? But the host name of review is public on the site?)"
   ]
  },
  {
   "cell_type": "code",
   "execution_count": 6,
   "metadata": {
    "scrolled": true
   },
   "outputs": [
    {
     "data": {
      "text/plain": [
       "listing_id         0\n",
       "id                 0\n",
       "date               0\n",
       "reviewer_id        0\n",
       "reviewer_name      0\n",
       "comments         178\n",
       "dtype: int64"
      ]
     },
     "execution_count": 6,
     "metadata": {},
     "output_type": "execute_result"
    }
   ],
   "source": [
    "# Check for null values\n",
    "reviews.isnull().sum()"
   ]
  },
  {
   "cell_type": "code",
   "execution_count": 3,
   "metadata": {},
   "outputs": [
    {
     "data": {
      "text/html": [
       "<div>\n",
       "<style scoped>\n",
       "    .dataframe tbody tr th:only-of-type {\n",
       "        vertical-align: middle;\n",
       "    }\n",
       "\n",
       "    .dataframe tbody tr th {\n",
       "        vertical-align: top;\n",
       "    }\n",
       "\n",
       "    .dataframe thead th {\n",
       "        text-align: right;\n",
       "    }\n",
       "</style>\n",
       "<table border=\"1\" class=\"dataframe\">\n",
       "  <thead>\n",
       "    <tr style=\"text-align: right;\">\n",
       "      <th></th>\n",
       "      <th>listing_id</th>\n",
       "      <th>id</th>\n",
       "      <th>date</th>\n",
       "      <th>reviewer_id</th>\n",
       "      <th>reviewer_name</th>\n",
       "      <th>comments</th>\n",
       "    </tr>\n",
       "  </thead>\n",
       "  <tbody>\n",
       "    <tr>\n",
       "      <td>12985</td>\n",
       "      <td>586981</td>\n",
       "      <td>239615096</td>\n",
       "      <td>2018-03-02</td>\n",
       "      <td>117486914</td>\n",
       "      <td>Roman</td>\n",
       "      <td>NaN</td>\n",
       "    </tr>\n",
       "    <tr>\n",
       "      <td>14847</td>\n",
       "      <td>713529</td>\n",
       "      <td>125989966</td>\n",
       "      <td>2017-01-08</td>\n",
       "      <td>109392285</td>\n",
       "      <td>Dylan</td>\n",
       "      <td>NaN</td>\n",
       "    </tr>\n",
       "    <tr>\n",
       "      <td>18674</td>\n",
       "      <td>860336</td>\n",
       "      <td>440256846</td>\n",
       "      <td>2019-04-20</td>\n",
       "      <td>182551906</td>\n",
       "      <td>אלי</td>\n",
       "      <td>NaN</td>\n",
       "    </tr>\n",
       "    <tr>\n",
       "      <td>19303</td>\n",
       "      <td>892183</td>\n",
       "      <td>167072868</td>\n",
       "      <td>2017-07-05</td>\n",
       "      <td>9737637</td>\n",
       "      <td>Jessie</td>\n",
       "      <td>NaN</td>\n",
       "    </tr>\n",
       "    <tr>\n",
       "      <td>20964</td>\n",
       "      <td>1026034</td>\n",
       "      <td>248037000</td>\n",
       "      <td>2018-03-30</td>\n",
       "      <td>180885491</td>\n",
       "      <td>Whitney</td>\n",
       "      <td>NaN</td>\n",
       "    </tr>\n",
       "    <tr>\n",
       "      <td>...</td>\n",
       "      <td>...</td>\n",
       "      <td>...</td>\n",
       "      <td>...</td>\n",
       "      <td>...</td>\n",
       "      <td>...</td>\n",
       "      <td>...</td>\n",
       "    </tr>\n",
       "    <tr>\n",
       "      <td>353070</td>\n",
       "      <td>33577623</td>\n",
       "      <td>472836062</td>\n",
       "      <td>2019-06-20</td>\n",
       "      <td>245367094</td>\n",
       "      <td>Matt</td>\n",
       "      <td>NaN</td>\n",
       "    </tr>\n",
       "    <tr>\n",
       "      <td>354640</td>\n",
       "      <td>34332428</td>\n",
       "      <td>461473439</td>\n",
       "      <td>2019-05-31</td>\n",
       "      <td>125351296</td>\n",
       "      <td>默涵</td>\n",
       "      <td>NaN</td>\n",
       "    </tr>\n",
       "    <tr>\n",
       "      <td>354678</td>\n",
       "      <td>34358109</td>\n",
       "      <td>469371259</td>\n",
       "      <td>2019-06-14</td>\n",
       "      <td>58737699</td>\n",
       "      <td>Kimberly</td>\n",
       "      <td>NaN</td>\n",
       "    </tr>\n",
       "    <tr>\n",
       "      <td>354820</td>\n",
       "      <td>34422566</td>\n",
       "      <td>523421758</td>\n",
       "      <td>2019-09-03</td>\n",
       "      <td>278450123</td>\n",
       "      <td>Zaid</td>\n",
       "      <td>NaN</td>\n",
       "    </tr>\n",
       "    <tr>\n",
       "      <td>355515</td>\n",
       "      <td>34907238</td>\n",
       "      <td>522781850</td>\n",
       "      <td>2019-09-02</td>\n",
       "      <td>139761345</td>\n",
       "      <td>James</td>\n",
       "      <td>NaN</td>\n",
       "    </tr>\n",
       "  </tbody>\n",
       "</table>\n",
       "<p>178 rows × 6 columns</p>\n",
       "</div>"
      ],
      "text/plain": [
       "        listing_id         id        date  reviewer_id reviewer_name comments\n",
       "12985       586981  239615096  2018-03-02    117486914         Roman      NaN\n",
       "14847       713529  125989966  2017-01-08    109392285         Dylan      NaN\n",
       "18674       860336  440256846  2019-04-20    182551906           אלי      NaN\n",
       "19303       892183  167072868  2017-07-05      9737637        Jessie      NaN\n",
       "20964      1026034  248037000  2018-03-30    180885491       Whitney      NaN\n",
       "...            ...        ...         ...          ...           ...      ...\n",
       "353070    33577623  472836062  2019-06-20    245367094          Matt      NaN\n",
       "354640    34332428  461473439  2019-05-31    125351296            默涵      NaN\n",
       "354678    34358109  469371259  2019-06-14     58737699      Kimberly      NaN\n",
       "354820    34422566  523421758  2019-09-03    278450123          Zaid      NaN\n",
       "355515    34907238  522781850  2019-09-02    139761345         James      NaN\n",
       "\n",
       "[178 rows x 6 columns]"
      ]
     },
     "execution_count": 3,
     "metadata": {},
     "output_type": "execute_result"
    }
   ],
   "source": [
    "reviews[reviews['comments'].isnull()]"
   ]
  },
  {
   "cell_type": "code",
   "execution_count": 4,
   "metadata": {},
   "outputs": [],
   "source": [
    "# might be value in the missing reviews (when comparing to listing_id) so will fill with 'missing'\n",
    "reviews['comments'].fillna('Missing', inplace=True)"
   ]
  },
  {
   "cell_type": "code",
   "execution_count": 4,
   "metadata": {},
   "outputs": [
    {
     "data": {
      "text/html": [
       "<div>\n",
       "<style scoped>\n",
       "    .dataframe tbody tr th:only-of-type {\n",
       "        vertical-align: middle;\n",
       "    }\n",
       "\n",
       "    .dataframe tbody tr th {\n",
       "        vertical-align: top;\n",
       "    }\n",
       "\n",
       "    .dataframe thead th {\n",
       "        text-align: right;\n",
       "    }\n",
       "</style>\n",
       "<table border=\"1\" class=\"dataframe\">\n",
       "  <thead>\n",
       "    <tr style=\"text-align: right;\">\n",
       "      <th></th>\n",
       "      <th>listing_id</th>\n",
       "      <th>id</th>\n",
       "      <th>date</th>\n",
       "      <th>reviewer_id</th>\n",
       "      <th>reviewer_name</th>\n",
       "      <th>comments</th>\n",
       "    </tr>\n",
       "  </thead>\n",
       "  <tbody>\n",
       "    <tr>\n",
       "      <td>6664</td>\n",
       "      <td>223922</td>\n",
       "      <td>534301264</td>\n",
       "      <td>2019-09-22</td>\n",
       "      <td>286508382</td>\n",
       "      <td>Kierrha</td>\n",
       "      <td>Natasha was very kind and welcoming. The locat...</td>\n",
       "    </tr>\n",
       "    <tr>\n",
       "      <td>6716</td>\n",
       "      <td>262629</td>\n",
       "      <td>534389351</td>\n",
       "      <td>2019-09-22</td>\n",
       "      <td>27311645</td>\n",
       "      <td>Tsitsi</td>\n",
       "      <td>Hellen was an exceptional host. She was nice a...</td>\n",
       "    </tr>\n",
       "    <tr>\n",
       "      <td>24339</td>\n",
       "      <td>1245292</td>\n",
       "      <td>534398015</td>\n",
       "      <td>2019-09-22</td>\n",
       "      <td>155838693</td>\n",
       "      <td>Kristi</td>\n",
       "      <td>I enjoyed my stay so much! This family goes th...</td>\n",
       "    </tr>\n",
       "    <tr>\n",
       "      <td>53275</td>\n",
       "      <td>3729418</td>\n",
       "      <td>534326069</td>\n",
       "      <td>2019-09-22</td>\n",
       "      <td>41107304</td>\n",
       "      <td>Joshua</td>\n",
       "      <td>Had a fantastic, stress-free stay in Sally’s b...</td>\n",
       "    </tr>\n",
       "    <tr>\n",
       "      <td>75242</td>\n",
       "      <td>5495901</td>\n",
       "      <td>534414090</td>\n",
       "      <td>2019-09-22</td>\n",
       "      <td>6030437</td>\n",
       "      <td>Heidi</td>\n",
       "      <td>What a treat! Convenient location on Capitol H...</td>\n",
       "    </tr>\n",
       "    <tr>\n",
       "      <td>...</td>\n",
       "      <td>...</td>\n",
       "      <td>...</td>\n",
       "      <td>...</td>\n",
       "      <td>...</td>\n",
       "      <td>...</td>\n",
       "      <td>...</td>\n",
       "    </tr>\n",
       "    <tr>\n",
       "      <td>358028</td>\n",
       "      <td>37676860</td>\n",
       "      <td>534611186</td>\n",
       "      <td>2019-09-22</td>\n",
       "      <td>13781772</td>\n",
       "      <td>(Email hidden by Airbnb)</td>\n",
       "      <td>The host canceled this reservation 18 days bef...</td>\n",
       "    </tr>\n",
       "    <tr>\n",
       "      <td>358114</td>\n",
       "      <td>37841043</td>\n",
       "      <td>534322275</td>\n",
       "      <td>2019-09-22</td>\n",
       "      <td>21978461</td>\n",
       "      <td>Liz</td>\n",
       "      <td>This is a great space and was perfect for my d...</td>\n",
       "    </tr>\n",
       "    <tr>\n",
       "      <td>358117</td>\n",
       "      <td>37841107</td>\n",
       "      <td>534362566</td>\n",
       "      <td>2019-09-22</td>\n",
       "      <td>130834330</td>\n",
       "      <td>Joe</td>\n",
       "      <td>A lovely experience. Glenn’s apartment is very...</td>\n",
       "    </tr>\n",
       "    <tr>\n",
       "      <td>358248</td>\n",
       "      <td>38409709</td>\n",
       "      <td>534367786</td>\n",
       "      <td>2019-09-22</td>\n",
       "      <td>206960670</td>\n",
       "      <td>Romond</td>\n",
       "      <td>Had to cut my visit short but the place was cl...</td>\n",
       "    </tr>\n",
       "    <tr>\n",
       "      <td>358266</td>\n",
       "      <td>38721867</td>\n",
       "      <td>534214466</td>\n",
       "      <td>2019-09-22</td>\n",
       "      <td>68112602</td>\n",
       "      <td>LaFayette</td>\n",
       "      <td>Thanks for the hospitality! Never had someone ...</td>\n",
       "    </tr>\n",
       "  </tbody>\n",
       "</table>\n",
       "<p>77 rows × 6 columns</p>\n",
       "</div>"
      ],
      "text/plain": [
       "        listing_id         id        date  reviewer_id  \\\n",
       "6664        223922  534301264  2019-09-22    286508382   \n",
       "6716        262629  534389351  2019-09-22     27311645   \n",
       "24339      1245292  534398015  2019-09-22    155838693   \n",
       "53275      3729418  534326069  2019-09-22     41107304   \n",
       "75242      5495901  534414090  2019-09-22      6030437   \n",
       "...            ...        ...         ...          ...   \n",
       "358028    37676860  534611186  2019-09-22     13781772   \n",
       "358114    37841043  534322275  2019-09-22     21978461   \n",
       "358117    37841107  534362566  2019-09-22    130834330   \n",
       "358248    38409709  534367786  2019-09-22    206960670   \n",
       "358266    38721867  534214466  2019-09-22     68112602   \n",
       "\n",
       "                   reviewer_name  \\\n",
       "6664                     Kierrha   \n",
       "6716                      Tsitsi   \n",
       "24339                     Kristi   \n",
       "53275                     Joshua   \n",
       "75242                      Heidi   \n",
       "...                          ...   \n",
       "358028  (Email hidden by Airbnb)   \n",
       "358114                       Liz   \n",
       "358117                       Joe   \n",
       "358248                    Romond   \n",
       "358266                 LaFayette   \n",
       "\n",
       "                                                 comments  \n",
       "6664    Natasha was very kind and welcoming. The locat...  \n",
       "6716    Hellen was an exceptional host. She was nice a...  \n",
       "24339   I enjoyed my stay so much! This family goes th...  \n",
       "53275   Had a fantastic, stress-free stay in Sally’s b...  \n",
       "75242   What a treat! Convenient location on Capitol H...  \n",
       "...                                                   ...  \n",
       "358028  The host canceled this reservation 18 days bef...  \n",
       "358114  This is a great space and was perfect for my d...  \n",
       "358117  A lovely experience. Glenn’s apartment is very...  \n",
       "358248  Had to cut my visit short but the place was cl...  \n",
       "358266  Thanks for the hospitality! Never had someone ...  \n",
       "\n",
       "[77 rows x 6 columns]"
      ]
     },
     "execution_count": 4,
     "metadata": {},
     "output_type": "execute_result"
    }
   ],
   "source": [
    "# Looking at how many reviews are listed for a single date\n",
    "reviews[reviews['date'] == '2019-09-22']"
   ]
  },
  {
   "cell_type": "code",
   "execution_count": 8,
   "metadata": {
    "scrolled": true
   },
   "outputs": [],
   "source": [
    "rev_by_date = reviews.groupby('date')['comments'].count()"
   ]
  },
  {
   "cell_type": "code",
   "execution_count": 11,
   "metadata": {},
   "outputs": [
    {
     "data": {
      "text/plain": [
       "date\n",
       "2011-07-16       1\n",
       "2011-05-18       1\n",
       "2011-05-15       1\n",
       "2011-05-13       1\n",
       "2011-05-03       1\n",
       "              ... \n",
       "2019-04-21     844\n",
       "2019-04-14     878\n",
       "2019-03-31     878\n",
       "2019-04-28     890\n",
       "2019-04-07    1044\n",
       "Name: comments, Length: 3314, dtype: int64"
      ]
     },
     "execution_count": 11,
     "metadata": {},
     "output_type": "execute_result"
    }
   ],
   "source": [
    "rev_by_date.sort_values()"
   ]
  },
  {
   "cell_type": "code",
   "execution_count": 12,
   "metadata": {},
   "outputs": [
    {
     "data": {
      "image/png": "[encoded data removed]",
      "text/plain": [
       "<Figure size 1152x864 with 1 Axes>"
      ]
     },
     "metadata": {
      "needs_background": "light"
     },
     "output_type": "display_data"
    }
   ],
   "source": [
    "plt.figure(figsize=(16, 12))\n",
    "plt.plot(rev_by_date);"
   ]
  },
  {
   "cell_type": "code",
   "execution_count": 8,
   "metadata": {
    "scrolled": true
   },
   "outputs": [
    {
     "data": {
      "text/plain": [
       "2019-04-07    1044\n",
       "2019-04-28     890\n",
       "2019-04-14     878\n",
       "2019-03-31     878\n",
       "2019-04-21     844\n",
       "              ... \n",
       "2012-01-29       1\n",
       "2011-04-22       1\n",
       "2011-05-13       1\n",
       "2012-06-23       1\n",
       "2009-10-30       1\n",
       "Name: date, Length: 3314, dtype: int64"
      ]
     },
     "execution_count": 8,
     "metadata": {},
     "output_type": "execute_result"
    }
   ],
   "source": [
    "# Look at number of reviews per date\n",
    "reviews['date'].value_counts()\n",
    "# cherry blossom festival"
   ]
  },
  {
   "cell_type": "markdown",
   "metadata": {},
   "source": [
    "The first five dates are within a 20 day span and each have a high volume of reviews. Should look into how volume of reviews left over time changes? Does it increase at similar rate that listings increase at? Or similar/inverse to something else? Also do external research on what might have related to this? Is this at time of Cherry Blossom festival or some other event?"
   ]
  },
  {
   "cell_type": "markdown",
   "metadata": {},
   "source": [
    "Reviews go back to 2009 (which may be around the time that AirBnB started listing places in DC) - worth further investigation"
   ]
  },
  {
   "cell_type": "code",
   "execution_count": 4,
   "metadata": {},
   "outputs": [
    {
     "data": {
      "text/plain": [
       "'What can I say?  AJ picked me up from Dulles, waiting patiently for three hours while I cleared customs and immigration.  \"Why did you wait so long?  You could have gone back home.\" , AJ answered: \"Because I gave you my word that I would be here and that I would wait.  You flew for 14 hours and did not need to be holed up in a beat-up $60.00 taxi trying to get to downtown D.C.\"  And that set the tone for the entire visit.  AJ is a busy international-trade lawyer, so I had plenty of privacy, which was great for reading and studying but at the same time I had many interesting talks with him(I went dinner with him at least twice). He provided ample breakfast and snacking options, with premium juices, waters, and more (he contacted me before to know what I like!). The bathroom and bedroom were spotless.  I had a great view from the ninth floor.  AJ has a sharp sense of humor, friendly and very open to other cultures, and despite his schedule, he found time for swimming and tennis.  Always the Southern gentleman, he invited me along.  He by necessity seems selective in allowing guests in his home, and I\\'m cautious about choosing accommodations, too.  This caution is understandable, and it seems to work well for hosts and guests.  AJ and his place were ideal, a real bargain in the best location I imagined.  I will recommend Luxury and Location even to my close friends if they are visiting D.C.!'"
      ]
     },
     "execution_count": 4,
     "metadata": {},
     "output_type": "execute_result"
    }
   ],
   "source": [
    "reviews['comments'][1]"
   ]
  },
  {
   "cell_type": "code",
   "execution_count": 7,
   "metadata": {},
   "outputs": [],
   "source": [
    "import Algorithmia"
   ]
  },
  {
   "cell_type": "code",
   "execution_count": 8,
   "metadata": {},
   "outputs": [],
   "source": [
    "client = Algorithmia.client('simgBmYUD+Y0qQcpD6HW8qMfzpY1')"
   ]
  },
  {
   "cell_type": "code",
   "execution_count": 9,
   "metadata": {},
   "outputs": [],
   "source": [
    "algo = client.algo('nlp/Summarizer/0.1.3')"
   ]
  },
  {
   "cell_type": "code",
   "execution_count": 12,
   "metadata": {},
   "outputs": [],
   "source": [
    "input = \"What can I say?\" + \\\n",
    "\"AJ picked me up from Dulles, waiting patiently for three hours while I cleared customs and immigration.\" + \\\n",
    "\"Why did you wait so long?\" + \\\n",
    "\"You could have gone back home.\" + \\\n",
    "\"AJ answered: 'Because I gave you my word that I would be here and that I would wait.'\" + \\\n",
    "\"'You flew for 14 hours and did not need to be holed up in a beat-up $60.00 taxi trying to get to downtown D.C.'\" + \\\n",
    "\"And that set the tone for the entire visit.\" + \\\n",
    "\"AJ is a busy international-trade lawyer, so I had plenty of privacy, which was great for reading and studying but at the same time I had many interesting talks with him(I went dinner with him at least twice).\" + \\\n",
    "\"He provided ample breakfast and snacking options, with premium juices, waters, and more (he contacted me before to know what I like!).\" + \\\n",
    "\"The bathroom and bedroom were spotless.\" + \\\n",
    "\"I had a great view from the ninth floor.\" + \\\n",
    "\"AJ has a sharp sense of humor, friendly and very open to other cultures, and despite his schedule, he found time for swimming and tennis.\" + \\\n",
    "\"Always the Southern gentleman, he invited me along.\" + \\\n",
    "\"He by necessity seems selective in allowing guests in his home, and I\\'m cautious about choosing accommodations, too.\" + \\\n",
    "\"This caution is understandable, and it seems to work well for hosts and guests.\" + \\\n",
    "\"AJ and his place were ideal, a real bargain in the best location I imagined.\" + \\\n",
    "\"I will recommend Luxury and Location even to my close friends if they are visiting D.C.!\""
   ]
  },
  {
   "cell_type": "code",
   "execution_count": 14,
   "metadata": {},
   "outputs": [
    {
     "ename": "TypeError",
     "evalue": "__str__ returned non-string (type bytes)",
     "output_type": "error",
     "traceback": [
      "\u001b[0;31m---------------------------------------------------------------------------\u001b[0m",
      "\u001b[0;31mTypeError\u001b[0m                                 Traceback (most recent call last)",
      "\u001b[0;32m<ipython-input-14-89156dc8c773>\u001b[0m in \u001b[0;36m<module>\u001b[0;34m\u001b[0m\n\u001b[0;32m----> 1\u001b[0;31m \u001b[0mprint\u001b[0m\u001b[0;34m(\u001b[0m\u001b[0malgo\u001b[0m\u001b[0;34m.\u001b[0m\u001b[0mpipe\u001b[0m\u001b[0;34m(\u001b[0m\u001b[0minput\u001b[0m\u001b[0;34m)\u001b[0m\u001b[0;34m)\u001b[0m\u001b[0;34m\u001b[0m\u001b[0;34m\u001b[0m\u001b[0m\n\u001b[0m",
      "\u001b[0;31mTypeError\u001b[0m: __str__ returned non-string (type bytes)"
     ]
    }
   ],
   "source": [
    "print(algo.pipe(input))"
   ]
  },
  {
   "cell_type": "markdown",
   "metadata": {},
   "source": [
    "Time since last review - does this relate to anything? "
   ]
  },
  {
   "cell_type": "markdown",
   "metadata": {},
   "source": [
    "Reviews per month max is around 13 - is this an outlier? \n",
    "\n",
    "Listings per host max is 152 - is this an outlier?"
   ]
  },
  {
   "cell_type": "markdown",
   "metadata": {},
   "source": [
    "Check for outliers"
   ]
  },
  {
   "cell_type": "code",
   "execution_count": null,
   "metadata": {},
   "outputs": [],
   "source": [
    "# Look at info stats\n"
   ]
  },
  {
   "cell_type": "markdown",
   "metadata": {},
   "source": [
    "Some listings have no reviews - how to handle those? still have valuable data. Also is a large chunk of the data"
   ]
  },
  {
   "cell_type": "markdown",
   "metadata": {},
   "source": [
    "Some listings haven't been reviewed in many years. Were they bad reviews? "
   ]
  },
  {
   "cell_type": "markdown",
   "metadata": {},
   "source": [
    "## Additional notes on future actions"
   ]
  },
  {
   "cell_type": "markdown",
   "metadata": {},
   "source": [
    "Unsupervised learning problem: analyzing factors that contribute to good reviews and predict on a new dataset? (should be oct and nov data by time of capstone) \n",
    "\n",
    "Try to predict price changes based on review sentiment? "
   ]
  },
  {
   "cell_type": "markdown",
   "metadata": {},
   "source": [
    "Does high availability of a listing have a relationship with anything? (review sentiment, number of reviews, price per night, neighbourhood, host?)"
   ]
  },
  {
   "cell_type": "markdown",
   "metadata": {},
   "source": [
    "Look at how price has changed over time"
   ]
  },
  {
   "cell_type": "markdown",
   "metadata": {},
   "source": [
    "May or may not use time series to correlate data over time"
   ]
  },
  {
   "cell_type": "markdown",
   "metadata": {},
   "source": [
    "Use archived calendar data set to account for seasonality or change over time"
   ]
  },
  {
   "cell_type": "markdown",
   "metadata": {},
   "source": [
    "Look at how older events affected the price and see if this can predict how newer events will affect price (model)"
   ]
  }
 ],
 "metadata": {
  "kernelspec": {
   "display_name": "Python 3",
   "language": "python",
   "name": "python3"
  },
  "language_info": {
   "codemirror_mode": {
    "name": "ipython",
    "version": 3
   },
   "file_extension": ".py",
   "mimetype": "text/x-python",
   "name": "python",
   "nbconvert_exporter": "python",
   "pygments_lexer": "ipython3",
   "version": "3.7.3"
  }
 },
 "nbformat": 4,
 "nbformat_minor": 2
}
