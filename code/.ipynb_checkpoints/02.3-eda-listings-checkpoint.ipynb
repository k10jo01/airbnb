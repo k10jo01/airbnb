{
 "cells": [
  {
   "cell_type": "markdown",
   "metadata": {},
   "source": [
    "# EDA: Listings "
   ]
  },
  {
   "cell_type": "markdown",
   "metadata": {},
   "source": [
    "---"
   ]
  },
  {
   "cell_type": "markdown",
   "metadata": {},
   "source": [
    "## Import Libraries, Read in Data"
   ]
  },
  {
   "cell_type": "code",
   "execution_count": 55,
   "metadata": {},
   "outputs": [],
   "source": [
    "# Import libraries\n",
    "import pandas as pd\n",
    "import numpy as np\n",
    "import matplotlib.pyplot as plt\n",
    "\n",
    "#importing the vincenty distance calculator to calculate the distance between lat/long coordinates\n",
    "from geopy.distance import vincenty\n",
    "\n",
    "%matplotlib inline"
   ]
  },
  {
   "cell_type": "code",
   "execution_count": 2,
   "metadata": {},
   "outputs": [
    {
     "data": {
      "text/plain": [
       "(9189, 16)"
      ]
     },
     "execution_count": 2,
     "metadata": {},
     "output_type": "execute_result"
    }
   ],
   "source": [
    "# Read in Listings data\n",
    "listings = pd.read_csv('/Users/jessieowens2/Desktop/general_assembly/airbnb_data/listings.csv')\n",
    "# Check shape for total number of listings\n",
    "listings.shape"
   ]
  },
  {
   "cell_type": "code",
   "execution_count": 3,
   "metadata": {
    "scrolled": true
   },
   "outputs": [
    {
     "data": {
      "text/html": [
       "<div>\n",
       "<style scoped>\n",
       "    .dataframe tbody tr th:only-of-type {\n",
       "        vertical-align: middle;\n",
       "    }\n",
       "\n",
       "    .dataframe tbody tr th {\n",
       "        vertical-align: top;\n",
       "    }\n",
       "\n",
       "    .dataframe thead th {\n",
       "        text-align: right;\n",
       "    }\n",
       "</style>\n",
       "<table border=\"1\" class=\"dataframe\">\n",
       "  <thead>\n",
       "    <tr style=\"text-align: right;\">\n",
       "      <th></th>\n",
       "      <th>id</th>\n",
       "      <th>name</th>\n",
       "      <th>host_id</th>\n",
       "      <th>host_name</th>\n",
       "      <th>neighbourhood_group</th>\n",
       "      <th>neighbourhood</th>\n",
       "      <th>latitude</th>\n",
       "      <th>longitude</th>\n",
       "      <th>room_type</th>\n",
       "      <th>price</th>\n",
       "      <th>minimum_nights</th>\n",
       "      <th>number_of_reviews</th>\n",
       "      <th>last_review</th>\n",
       "      <th>reviews_per_month</th>\n",
       "      <th>calculated_host_listings_count</th>\n",
       "      <th>availability_365</th>\n",
       "    </tr>\n",
       "  </thead>\n",
       "  <tbody>\n",
       "    <tr>\n",
       "      <td>0</td>\n",
       "      <td>3344</td>\n",
       "      <td>White House/Center City, 1 roommate</td>\n",
       "      <td>4957</td>\n",
       "      <td>A.J.</td>\n",
       "      <td>NaN</td>\n",
       "      <td>Downtown, Chinatown, Penn Quarters, Mount Vern...</td>\n",
       "      <td>38.90126</td>\n",
       "      <td>-77.02857</td>\n",
       "      <td>Private room</td>\n",
       "      <td>58</td>\n",
       "      <td>90</td>\n",
       "      <td>11</td>\n",
       "      <td>2016-08-31</td>\n",
       "      <td>0.09</td>\n",
       "      <td>2</td>\n",
       "      <td>358</td>\n",
       "    </tr>\n",
       "    <tr>\n",
       "      <td>1</td>\n",
       "      <td>3362</td>\n",
       "      <td>Convention Center Rowhouse &amp; In Law: 2 Units, 4BR</td>\n",
       "      <td>2798</td>\n",
       "      <td>Ayeh</td>\n",
       "      <td>NaN</td>\n",
       "      <td>Shaw, Logan Circle</td>\n",
       "      <td>38.91046</td>\n",
       "      <td>-77.01933</td>\n",
       "      <td>Entire home/apt</td>\n",
       "      <td>433</td>\n",
       "      <td>2</td>\n",
       "      <td>171</td>\n",
       "      <td>2019-08-26</td>\n",
       "      <td>1.32</td>\n",
       "      <td>5</td>\n",
       "      <td>307</td>\n",
       "    </tr>\n",
       "    <tr>\n",
       "      <td>2</td>\n",
       "      <td>3662</td>\n",
       "      <td>Vita's Hideaway II</td>\n",
       "      <td>4645</td>\n",
       "      <td>Vita</td>\n",
       "      <td>NaN</td>\n",
       "      <td>Historic Anacostia</td>\n",
       "      <td>38.86193</td>\n",
       "      <td>-76.98963</td>\n",
       "      <td>Private room</td>\n",
       "      <td>65</td>\n",
       "      <td>2</td>\n",
       "      <td>36</td>\n",
       "      <td>2019-04-14</td>\n",
       "      <td>0.35</td>\n",
       "      <td>3</td>\n",
       "      <td>296</td>\n",
       "    </tr>\n",
       "    <tr>\n",
       "      <td>3</td>\n",
       "      <td>3670</td>\n",
       "      <td>Beautiful Sun-Lit U Street 1BR/1BA</td>\n",
       "      <td>4630</td>\n",
       "      <td>Sheila</td>\n",
       "      <td>NaN</td>\n",
       "      <td>Howard University, Le Droit Park, Cardozo/Shaw</td>\n",
       "      <td>38.91842</td>\n",
       "      <td>-77.02750</td>\n",
       "      <td>Private room</td>\n",
       "      <td>75</td>\n",
       "      <td>2</td>\n",
       "      <td>79</td>\n",
       "      <td>2018-07-25</td>\n",
       "      <td>1.44</td>\n",
       "      <td>1</td>\n",
       "      <td>361</td>\n",
       "    </tr>\n",
       "    <tr>\n",
       "      <td>4</td>\n",
       "      <td>3686</td>\n",
       "      <td>Vita's Hideaway</td>\n",
       "      <td>4645</td>\n",
       "      <td>Vita</td>\n",
       "      <td>NaN</td>\n",
       "      <td>Historic Anacostia</td>\n",
       "      <td>38.86314</td>\n",
       "      <td>-76.98836</td>\n",
       "      <td>Private room</td>\n",
       "      <td>55</td>\n",
       "      <td>2</td>\n",
       "      <td>71</td>\n",
       "      <td>2019-08-05</td>\n",
       "      <td>0.66</td>\n",
       "      <td>3</td>\n",
       "      <td>283</td>\n",
       "    </tr>\n",
       "  </tbody>\n",
       "</table>\n",
       "</div>"
      ],
      "text/plain": [
       "     id                                               name  host_id host_name  \\\n",
       "0  3344                White House/Center City, 1 roommate     4957      A.J.   \n",
       "1  3362  Convention Center Rowhouse & In Law: 2 Units, 4BR     2798      Ayeh   \n",
       "2  3662                                 Vita's Hideaway II     4645      Vita   \n",
       "3  3670                 Beautiful Sun-Lit U Street 1BR/1BA     4630    Sheila   \n",
       "4  3686                                    Vita's Hideaway     4645      Vita   \n",
       "\n",
       "   neighbourhood_group                                      neighbourhood  \\\n",
       "0                  NaN  Downtown, Chinatown, Penn Quarters, Mount Vern...   \n",
       "1                  NaN                                 Shaw, Logan Circle   \n",
       "2                  NaN                                 Historic Anacostia   \n",
       "3                  NaN     Howard University, Le Droit Park, Cardozo/Shaw   \n",
       "4                  NaN                                 Historic Anacostia   \n",
       "\n",
       "   latitude  longitude        room_type  price  minimum_nights  \\\n",
       "0  38.90126  -77.02857     Private room     58              90   \n",
       "1  38.91046  -77.01933  Entire home/apt    433               2   \n",
       "2  38.86193  -76.98963     Private room     65               2   \n",
       "3  38.91842  -77.02750     Private room     75               2   \n",
       "4  38.86314  -76.98836     Private room     55               2   \n",
       "\n",
       "   number_of_reviews last_review  reviews_per_month  \\\n",
       "0                 11  2016-08-31               0.09   \n",
       "1                171  2019-08-26               1.32   \n",
       "2                 36  2019-04-14               0.35   \n",
       "3                 79  2018-07-25               1.44   \n",
       "4                 71  2019-08-05               0.66   \n",
       "\n",
       "   calculated_host_listings_count  availability_365  \n",
       "0                               2               358  \n",
       "1                               5               307  \n",
       "2                               3               296  \n",
       "3                               1               361  \n",
       "4                               3               283  "
      ]
     },
     "execution_count": 3,
     "metadata": {},
     "output_type": "execute_result"
    }
   ],
   "source": [
    "# Look at Listings data\n",
    "listings.head()"
   ]
  },
  {
   "cell_type": "code",
   "execution_count": 11,
   "metadata": {},
   "outputs": [
    {
     "data": {
      "text/plain": [
       "9189"
      ]
     },
     "execution_count": 11,
     "metadata": {},
     "output_type": "execute_result"
    }
   ],
   "source": [
    "# how many unique listings are there\n",
    "listings['id'].nunique()\n",
    "# same size as df"
   ]
  },
  {
   "cell_type": "markdown",
   "metadata": {},
   "source": [
    "---"
   ]
  },
  {
   "cell_type": "markdown",
   "metadata": {},
   "source": [
    "## Missing Data"
   ]
  },
  {
   "cell_type": "code",
   "execution_count": 11,
   "metadata": {},
   "outputs": [
    {
     "data": {
      "text/plain": [
       "id                                   0\n",
       "name                                 3\n",
       "host_id                              0\n",
       "host_name                            1\n",
       "neighbourhood_group               9189\n",
       "neighbourhood                        0\n",
       "latitude                             0\n",
       "longitude                            0\n",
       "room_type                            0\n",
       "price                                0\n",
       "minimum_nights                       0\n",
       "number_of_reviews                    0\n",
       "last_review                       1768\n",
       "reviews_per_month                 1768\n",
       "calculated_host_listings_count       0\n",
       "availability_365                     0\n",
       "dtype: int64"
      ]
     },
     "execution_count": 11,
     "metadata": {},
     "output_type": "execute_result"
    }
   ],
   "source": [
    "# check for null values\n",
    "listings.isnull().sum()"
   ]
  },
  {
   "cell_type": "code",
   "execution_count": 28,
   "metadata": {},
   "outputs": [],
   "source": [
    "# listings[listings['name'].isnull()]\n",
    "listings['name'].fillna('NA', inplace=True)"
   ]
  },
  {
   "cell_type": "code",
   "execution_count": 29,
   "metadata": {},
   "outputs": [],
   "source": [
    "# listings[listings['host_name'].isnull()]\n",
    "listings['host_name'].fillna('NA', inplace=True)"
   ]
  },
  {
   "cell_type": "code",
   "execution_count": 22,
   "metadata": {},
   "outputs": [],
   "source": [
    "listings.drop(columns='neighbourhood_group', axis=1, inplace=True)"
   ]
  },
  {
   "cell_type": "code",
   "execution_count": 25,
   "metadata": {},
   "outputs": [],
   "source": [
    "# listings[listings['last_review'].isnull()]\n",
    "listings['last_review'].fillna('NA', inplace=True)"
   ]
  },
  {
   "cell_type": "code",
   "execution_count": 27,
   "metadata": {},
   "outputs": [],
   "source": [
    "listings['reviews_per_month'].fillna(0.0, inplace=True)"
   ]
  },
  {
   "cell_type": "code",
   "execution_count": 30,
   "metadata": {
    "scrolled": true
   },
   "outputs": [
    {
     "data": {
      "text/plain": [
       "id                                0\n",
       "name                              0\n",
       "host_id                           0\n",
       "host_name                         0\n",
       "neighbourhood                     0\n",
       "latitude                          0\n",
       "longitude                         0\n",
       "room_type                         0\n",
       "price                             0\n",
       "minimum_nights                    0\n",
       "number_of_reviews                 0\n",
       "last_review                       0\n",
       "reviews_per_month                 0\n",
       "calculated_host_listings_count    0\n",
       "availability_365                  0\n",
       "lat_mall                          0\n",
       "lon_mall                          0\n",
       "distance_mall                     0\n",
       "dtype: int64"
      ]
     },
     "execution_count": 30,
     "metadata": {},
     "output_type": "execute_result"
    }
   ],
   "source": [
    "listings.isnull().sum()"
   ]
  },
  {
   "cell_type": "markdown",
   "metadata": {},
   "source": [
    "---"
   ]
  },
  {
   "cell_type": "markdown",
   "metadata": {},
   "source": [
    "## Summary Stats"
   ]
  },
  {
   "cell_type": "code",
   "execution_count": 39,
   "metadata": {
    "scrolled": true
   },
   "outputs": [
    {
     "data": {
      "text/html": [
       "<div>\n",
       "<style scoped>\n",
       "    .dataframe tbody tr th:only-of-type {\n",
       "        vertical-align: middle;\n",
       "    }\n",
       "\n",
       "    .dataframe tbody tr th {\n",
       "        vertical-align: top;\n",
       "    }\n",
       "\n",
       "    .dataframe thead th {\n",
       "        text-align: right;\n",
       "    }\n",
       "</style>\n",
       "<table border=\"1\" class=\"dataframe\">\n",
       "  <thead>\n",
       "    <tr style=\"text-align: right;\">\n",
       "      <th></th>\n",
       "      <th>id</th>\n",
       "      <th>host_id</th>\n",
       "      <th>latitude</th>\n",
       "      <th>longitude</th>\n",
       "      <th>price</th>\n",
       "      <th>minimum_nights</th>\n",
       "      <th>number_of_reviews</th>\n",
       "      <th>reviews_per_month</th>\n",
       "      <th>calculated_host_listings_count</th>\n",
       "      <th>availability_365</th>\n",
       "    </tr>\n",
       "  </thead>\n",
       "  <tbody>\n",
       "    <tr>\n",
       "      <td>count</td>\n",
       "      <td>9.189000e+03</td>\n",
       "      <td>9.189000e+03</td>\n",
       "      <td>9189.000000</td>\n",
       "      <td>9189.000000</td>\n",
       "      <td>9189.000000</td>\n",
       "      <td>9189.00000</td>\n",
       "      <td>9189.000000</td>\n",
       "      <td>7421.000000</td>\n",
       "      <td>9189.000000</td>\n",
       "      <td>9189.000000</td>\n",
       "    </tr>\n",
       "    <tr>\n",
       "      <td>mean</td>\n",
       "      <td>1.980641e+07</td>\n",
       "      <td>6.053887e+07</td>\n",
       "      <td>38.911971</td>\n",
       "      <td>-77.017908</td>\n",
       "      <td>197.084558</td>\n",
       "      <td>5.57928</td>\n",
       "      <td>38.988791</td>\n",
       "      <td>2.010132</td>\n",
       "      <td>8.486560</td>\n",
       "      <td>127.113614</td>\n",
       "    </tr>\n",
       "    <tr>\n",
       "      <td>std</td>\n",
       "      <td>1.049327e+07</td>\n",
       "      <td>6.849793e+07</td>\n",
       "      <td>0.023371</td>\n",
       "      <td>0.029230</td>\n",
       "      <td>308.754577</td>\n",
       "      <td>19.49065</td>\n",
       "      <td>64.184896</td>\n",
       "      <td>2.121140</td>\n",
       "      <td>23.161285</td>\n",
       "      <td>131.208827</td>\n",
       "    </tr>\n",
       "    <tr>\n",
       "      <td>min</td>\n",
       "      <td>3.344000e+03</td>\n",
       "      <td>1.585000e+03</td>\n",
       "      <td>38.820370</td>\n",
       "      <td>-77.121280</td>\n",
       "      <td>10.000000</td>\n",
       "      <td>1.00000</td>\n",
       "      <td>0.000000</td>\n",
       "      <td>0.010000</td>\n",
       "      <td>1.000000</td>\n",
       "      <td>0.000000</td>\n",
       "    </tr>\n",
       "    <tr>\n",
       "      <td>25%</td>\n",
       "      <td>1.251382e+07</td>\n",
       "      <td>9.419684e+06</td>\n",
       "      <td>38.899530</td>\n",
       "      <td>-77.037300</td>\n",
       "      <td>80.000000</td>\n",
       "      <td>1.00000</td>\n",
       "      <td>1.000000</td>\n",
       "      <td>0.330000</td>\n",
       "      <td>1.000000</td>\n",
       "      <td>0.000000</td>\n",
       "    </tr>\n",
       "    <tr>\n",
       "      <td>50%</td>\n",
       "      <td>1.876655e+07</td>\n",
       "      <td>3.331386e+07</td>\n",
       "      <td>38.911210</td>\n",
       "      <td>-77.020250</td>\n",
       "      <td>118.000000</td>\n",
       "      <td>2.00000</td>\n",
       "      <td>11.000000</td>\n",
       "      <td>1.210000</td>\n",
       "      <td>1.000000</td>\n",
       "      <td>84.000000</td>\n",
       "    </tr>\n",
       "    <tr>\n",
       "      <td>75%</td>\n",
       "      <td>2.854158e+07</td>\n",
       "      <td>9.545940e+07</td>\n",
       "      <td>38.924780</td>\n",
       "      <td>-76.997400</td>\n",
       "      <td>195.000000</td>\n",
       "      <td>3.00000</td>\n",
       "      <td>50.000000</td>\n",
       "      <td>3.110000</td>\n",
       "      <td>4.000000</td>\n",
       "      <td>254.000000</td>\n",
       "    </tr>\n",
       "    <tr>\n",
       "      <td>max</td>\n",
       "      <td>3.881766e+07</td>\n",
       "      <td>2.965228e+08</td>\n",
       "      <td>38.995490</td>\n",
       "      <td>-76.904820</td>\n",
       "      <td>10000.000000</td>\n",
       "      <td>600.00000</td>\n",
       "      <td>769.000000</td>\n",
       "      <td>12.970000</td>\n",
       "      <td>152.000000</td>\n",
       "      <td>365.000000</td>\n",
       "    </tr>\n",
       "  </tbody>\n",
       "</table>\n",
       "</div>"
      ],
      "text/plain": [
       "                 id       host_id     latitude    longitude         price  \\\n",
       "count  9.189000e+03  9.189000e+03  9189.000000  9189.000000   9189.000000   \n",
       "mean   1.980641e+07  6.053887e+07    38.911971   -77.017908    197.084558   \n",
       "std    1.049327e+07  6.849793e+07     0.023371     0.029230    308.754577   \n",
       "min    3.344000e+03  1.585000e+03    38.820370   -77.121280     10.000000   \n",
       "25%    1.251382e+07  9.419684e+06    38.899530   -77.037300     80.000000   \n",
       "50%    1.876655e+07  3.331386e+07    38.911210   -77.020250    118.000000   \n",
       "75%    2.854158e+07  9.545940e+07    38.924780   -76.997400    195.000000   \n",
       "max    3.881766e+07  2.965228e+08    38.995490   -76.904820  10000.000000   \n",
       "\n",
       "       minimum_nights  number_of_reviews  reviews_per_month  \\\n",
       "count      9189.00000        9189.000000        7421.000000   \n",
       "mean          5.57928          38.988791           2.010132   \n",
       "std          19.49065          64.184896           2.121140   \n",
       "min           1.00000           0.000000           0.010000   \n",
       "25%           1.00000           1.000000           0.330000   \n",
       "50%           2.00000          11.000000           1.210000   \n",
       "75%           3.00000          50.000000           3.110000   \n",
       "max         600.00000         769.000000          12.970000   \n",
       "\n",
       "       calculated_host_listings_count  availability_365  \n",
       "count                     9189.000000       9189.000000  \n",
       "mean                         8.486560        127.113614  \n",
       "std                         23.161285        131.208827  \n",
       "min                          1.000000          0.000000  \n",
       "25%                          1.000000          0.000000  \n",
       "50%                          1.000000         84.000000  \n",
       "75%                          4.000000        254.000000  \n",
       "max                        152.000000        365.000000  "
      ]
     },
     "execution_count": 39,
     "metadata": {},
     "output_type": "execute_result"
    }
   ],
   "source": [
    "# Look at describe stats\n",
    "listings.describe()"
   ]
  },
  {
   "cell_type": "code",
   "execution_count": 39,
   "metadata": {},
   "outputs": [
    {
     "data": {
      "text/plain": [
       "id                                  int64\n",
       "name                               object\n",
       "host_id                             int64\n",
       "host_name                          object\n",
       "neighbourhood                      object\n",
       "latitude                          float64\n",
       "longitude                         float64\n",
       "room_type                          object\n",
       "price                               int64\n",
       "minimum_nights                      int64\n",
       "number_of_reviews                   int64\n",
       "last_review                        object\n",
       "reviews_per_month                 float64\n",
       "calculated_host_listings_count      int64\n",
       "availability_365                    int64\n",
       "lat_mall                          float64\n",
       "lon_mall                          float64\n",
       "distance_mall                     float64\n",
       "dtype: object"
      ]
     },
     "execution_count": 39,
     "metadata": {},
     "output_type": "execute_result"
    }
   ],
   "source": [
    "listings.dtypes"
   ]
  },
  {
   "cell_type": "code",
   "execution_count": 41,
   "metadata": {},
   "outputs": [
    {
     "name": "stdout",
     "output_type": "stream",
     "text": [
      "<class 'pandas.core.frame.DataFrame'>\n",
      "RangeIndex: 9189 entries, 0 to 9188\n",
      "Data columns (total 18 columns):\n",
      "id                                9189 non-null int64\n",
      "name                              9189 non-null object\n",
      "host_id                           9189 non-null int64\n",
      "host_name                         9189 non-null object\n",
      "neighbourhood                     9189 non-null object\n",
      "latitude                          9189 non-null float64\n",
      "longitude                         9189 non-null float64\n",
      "room_type                         9189 non-null object\n",
      "price                             9189 non-null int64\n",
      "minimum_nights                    9189 non-null int64\n",
      "number_of_reviews                 9189 non-null int64\n",
      "last_review                       9189 non-null object\n",
      "reviews_per_month                 9189 non-null float64\n",
      "calculated_host_listings_count    9189 non-null int64\n",
      "availability_365                  9189 non-null int64\n",
      "lat_mall                          9189 non-null float64\n",
      "lon_mall                          9189 non-null float64\n",
      "distance_mall                     9189 non-null float64\n",
      "dtypes: float64(6), int64(7), object(5)\n",
      "memory usage: 1.3+ MB\n"
     ]
    }
   ],
   "source": [
    "# Look at info stats\n",
    "listings.info()"
   ]
  },
  {
   "cell_type": "markdown",
   "metadata": {},
   "source": [
    "---"
   ]
  },
  {
   "cell_type": "markdown",
   "metadata": {},
   "source": [
    "---"
   ]
  },
  {
   "cell_type": "markdown",
   "metadata": {},
   "source": [
    "---"
   ]
  },
  {
   "cell_type": "markdown",
   "metadata": {},
   "source": [
    "---"
   ]
  },
  {
   "cell_type": "markdown",
   "metadata": {},
   "source": [
    "---"
   ]
  },
  {
   "cell_type": "markdown",
   "metadata": {},
   "source": [
    "## Next section"
   ]
  },
  {
   "cell_type": "markdown",
   "metadata": {},
   "source": [
    "## Hosts"
   ]
  },
  {
   "cell_type": "markdown",
   "metadata": {},
   "source": [
    "Should host name be removed? Their names are referenced in reviews. Same ethical concern as mentioned with reviews.csv"
   ]
  },
  {
   "cell_type": "markdown",
   "metadata": {},
   "source": [
    "Listings per host max is 152 - is this an outlier?"
   ]
  },
  {
   "cell_type": "code",
   "execution_count": 42,
   "metadata": {},
   "outputs": [
    {
     "data": {
      "text/html": [
       "<div>\n",
       "<style scoped>\n",
       "    .dataframe tbody tr th:only-of-type {\n",
       "        vertical-align: middle;\n",
       "    }\n",
       "\n",
       "    .dataframe tbody tr th {\n",
       "        vertical-align: top;\n",
       "    }\n",
       "\n",
       "    .dataframe thead th {\n",
       "        text-align: right;\n",
       "    }\n",
       "</style>\n",
       "<table border=\"1\" class=\"dataframe\">\n",
       "  <thead>\n",
       "    <tr style=\"text-align: right;\">\n",
       "      <th></th>\n",
       "      <th>id</th>\n",
       "      <th>name</th>\n",
       "      <th>host_id</th>\n",
       "      <th>host_name</th>\n",
       "      <th>neighbourhood</th>\n",
       "      <th>latitude</th>\n",
       "      <th>longitude</th>\n",
       "      <th>room_type</th>\n",
       "      <th>price</th>\n",
       "      <th>minimum_nights</th>\n",
       "      <th>number_of_reviews</th>\n",
       "      <th>last_review</th>\n",
       "      <th>reviews_per_month</th>\n",
       "      <th>calculated_host_listings_count</th>\n",
       "      <th>availability_365</th>\n",
       "      <th>lat_mall</th>\n",
       "      <th>lon_mall</th>\n",
       "      <th>distance_mall</th>\n",
       "    </tr>\n",
       "  </thead>\n",
       "  <tbody>\n",
       "    <tr>\n",
       "      <td>0</td>\n",
       "      <td>3344</td>\n",
       "      <td>White House/Center City, 1 roommate</td>\n",
       "      <td>4957</td>\n",
       "      <td>A.J.</td>\n",
       "      <td>Downtown, Chinatown, Penn Quarters, Mount Vern...</td>\n",
       "      <td>38.90126</td>\n",
       "      <td>-77.02857</td>\n",
       "      <td>Private room</td>\n",
       "      <td>58</td>\n",
       "      <td>90</td>\n",
       "      <td>11</td>\n",
       "      <td>2016-08-31</td>\n",
       "      <td>0.09</td>\n",
       "      <td>2</td>\n",
       "      <td>358</td>\n",
       "      <td>38.88977</td>\n",
       "      <td>-77.023653</td>\n",
       "      <td>0.835733</td>\n",
       "    </tr>\n",
       "    <tr>\n",
       "      <td>1</td>\n",
       "      <td>3362</td>\n",
       "      <td>Convention Center Rowhouse &amp; In Law: 2 Units, 4BR</td>\n",
       "      <td>2798</td>\n",
       "      <td>Ayeh</td>\n",
       "      <td>Shaw, Logan Circle</td>\n",
       "      <td>38.91046</td>\n",
       "      <td>-77.01933</td>\n",
       "      <td>Entire home/apt</td>\n",
       "      <td>433</td>\n",
       "      <td>2</td>\n",
       "      <td>171</td>\n",
       "      <td>2019-08-26</td>\n",
       "      <td>1.32</td>\n",
       "      <td>5</td>\n",
       "      <td>307</td>\n",
       "      <td>38.88977</td>\n",
       "      <td>-77.023653</td>\n",
       "      <td>1.446107</td>\n",
       "    </tr>\n",
       "    <tr>\n",
       "      <td>2</td>\n",
       "      <td>3662</td>\n",
       "      <td>Vita's Hideaway II</td>\n",
       "      <td>4645</td>\n",
       "      <td>Vita</td>\n",
       "      <td>Historic Anacostia</td>\n",
       "      <td>38.86193</td>\n",
       "      <td>-76.98963</td>\n",
       "      <td>Private room</td>\n",
       "      <td>65</td>\n",
       "      <td>2</td>\n",
       "      <td>36</td>\n",
       "      <td>2019-04-14</td>\n",
       "      <td>0.35</td>\n",
       "      <td>3</td>\n",
       "      <td>296</td>\n",
       "      <td>38.88977</td>\n",
       "      <td>-77.023653</td>\n",
       "      <td>2.655859</td>\n",
       "    </tr>\n",
       "    <tr>\n",
       "      <td>3</td>\n",
       "      <td>3670</td>\n",
       "      <td>Beautiful Sun-Lit U Street 1BR/1BA</td>\n",
       "      <td>4630</td>\n",
       "      <td>Sheila</td>\n",
       "      <td>Howard University, Le Droit Park, Cardozo/Shaw</td>\n",
       "      <td>38.91842</td>\n",
       "      <td>-77.02750</td>\n",
       "      <td>Private room</td>\n",
       "      <td>75</td>\n",
       "      <td>2</td>\n",
       "      <td>79</td>\n",
       "      <td>2018-07-25</td>\n",
       "      <td>1.44</td>\n",
       "      <td>1</td>\n",
       "      <td>361</td>\n",
       "      <td>38.88977</td>\n",
       "      <td>-77.023653</td>\n",
       "      <td>1.987145</td>\n",
       "    </tr>\n",
       "    <tr>\n",
       "      <td>4</td>\n",
       "      <td>3686</td>\n",
       "      <td>Vita's Hideaway</td>\n",
       "      <td>4645</td>\n",
       "      <td>Vita</td>\n",
       "      <td>Historic Anacostia</td>\n",
       "      <td>38.86314</td>\n",
       "      <td>-76.98836</td>\n",
       "      <td>Private room</td>\n",
       "      <td>55</td>\n",
       "      <td>2</td>\n",
       "      <td>71</td>\n",
       "      <td>2019-08-05</td>\n",
       "      <td>0.66</td>\n",
       "      <td>3</td>\n",
       "      <td>283</td>\n",
       "      <td>38.88977</td>\n",
       "      <td>-77.023653</td>\n",
       "      <td>2.644969</td>\n",
       "    </tr>\n",
       "  </tbody>\n",
       "</table>\n",
       "</div>"
      ],
      "text/plain": [
       "     id                                               name  host_id host_name  \\\n",
       "0  3344                White House/Center City, 1 roommate     4957      A.J.   \n",
       "1  3362  Convention Center Rowhouse & In Law: 2 Units, 4BR     2798      Ayeh   \n",
       "2  3662                                 Vita's Hideaway II     4645      Vita   \n",
       "3  3670                 Beautiful Sun-Lit U Street 1BR/1BA     4630    Sheila   \n",
       "4  3686                                    Vita's Hideaway     4645      Vita   \n",
       "\n",
       "                                       neighbourhood  latitude  longitude  \\\n",
       "0  Downtown, Chinatown, Penn Quarters, Mount Vern...  38.90126  -77.02857   \n",
       "1                                 Shaw, Logan Circle  38.91046  -77.01933   \n",
       "2                                 Historic Anacostia  38.86193  -76.98963   \n",
       "3     Howard University, Le Droit Park, Cardozo/Shaw  38.91842  -77.02750   \n",
       "4                                 Historic Anacostia  38.86314  -76.98836   \n",
       "\n",
       "         room_type  price  minimum_nights  number_of_reviews last_review  \\\n",
       "0     Private room     58              90                 11  2016-08-31   \n",
       "1  Entire home/apt    433               2                171  2019-08-26   \n",
       "2     Private room     65               2                 36  2019-04-14   \n",
       "3     Private room     75               2                 79  2018-07-25   \n",
       "4     Private room     55               2                 71  2019-08-05   \n",
       "\n",
       "   reviews_per_month  calculated_host_listings_count  availability_365  \\\n",
       "0               0.09                               2               358   \n",
       "1               1.32                               5               307   \n",
       "2               0.35                               3               296   \n",
       "3               1.44                               1               361   \n",
       "4               0.66                               3               283   \n",
       "\n",
       "   lat_mall   lon_mall  distance_mall  \n",
       "0  38.88977 -77.023653       0.835733  \n",
       "1  38.88977 -77.023653       1.446107  \n",
       "2  38.88977 -77.023653       2.655859  \n",
       "3  38.88977 -77.023653       1.987145  \n",
       "4  38.88977 -77.023653       2.644969  "
      ]
     },
     "execution_count": 42,
     "metadata": {},
     "output_type": "execute_result"
    }
   ],
   "source": [
    "listings.head()"
   ]
  },
  {
   "cell_type": "code",
   "execution_count": 44,
   "metadata": {},
   "outputs": [
    {
     "data": {
      "text/plain": [
       "host_id\n",
       "1585           1\n",
       "51544429       1\n",
       "51520718       1\n",
       "51518514       1\n",
       "51499024       1\n",
       "            ... \n",
       "39930655      47\n",
       "8008783       55\n",
       "46630199      64\n",
       "107434423     95\n",
       "48005494     152\n",
       "Name: id, Length: 6076, dtype: int64"
      ]
     },
     "execution_count": 44,
     "metadata": {},
     "output_type": "execute_result"
    }
   ],
   "source": [
    "listings.groupby('host_id')['id'].count().sort_values()"
   ]
  },
  {
   "cell_type": "code",
   "execution_count": null,
   "metadata": {},
   "outputs": [],
   "source": [
    "# one host has 152 properties - 'Zues'"
   ]
  },
  {
   "cell_type": "code",
   "execution_count": 45,
   "metadata": {},
   "outputs": [
    {
     "data": {
      "text/html": [
       "<div>\n",
       "<style scoped>\n",
       "    .dataframe tbody tr th:only-of-type {\n",
       "        vertical-align: middle;\n",
       "    }\n",
       "\n",
       "    .dataframe tbody tr th {\n",
       "        vertical-align: top;\n",
       "    }\n",
       "\n",
       "    .dataframe thead th {\n",
       "        text-align: right;\n",
       "    }\n",
       "</style>\n",
       "<table border=\"1\" class=\"dataframe\">\n",
       "  <thead>\n",
       "    <tr style=\"text-align: right;\">\n",
       "      <th></th>\n",
       "      <th>id</th>\n",
       "      <th>name</th>\n",
       "      <th>host_id</th>\n",
       "      <th>host_name</th>\n",
       "      <th>neighbourhood</th>\n",
       "      <th>latitude</th>\n",
       "      <th>longitude</th>\n",
       "      <th>room_type</th>\n",
       "      <th>price</th>\n",
       "      <th>minimum_nights</th>\n",
       "      <th>number_of_reviews</th>\n",
       "      <th>last_review</th>\n",
       "      <th>reviews_per_month</th>\n",
       "      <th>calculated_host_listings_count</th>\n",
       "      <th>availability_365</th>\n",
       "      <th>lat_mall</th>\n",
       "      <th>lon_mall</th>\n",
       "      <th>distance_mall</th>\n",
       "    </tr>\n",
       "  </thead>\n",
       "  <tbody>\n",
       "    <tr>\n",
       "      <td>6919</td>\n",
       "      <td>28668627</td>\n",
       "      <td>1 Bedroom Condo in Dupont Circle</td>\n",
       "      <td>48005494</td>\n",
       "      <td>Zeus</td>\n",
       "      <td>Dupont Circle, Connecticut Avenue/K Street</td>\n",
       "      <td>38.91335</td>\n",
       "      <td>-77.04301</td>\n",
       "      <td>Entire home/apt</td>\n",
       "      <td>206</td>\n",
       "      <td>30</td>\n",
       "      <td>0</td>\n",
       "      <td>NA</td>\n",
       "      <td>0.00</td>\n",
       "      <td>152</td>\n",
       "      <td>100</td>\n",
       "      <td>38.88977</td>\n",
       "      <td>-77.023653</td>\n",
       "      <td>1.932444</td>\n",
       "    </tr>\n",
       "    <tr>\n",
       "      <td>6920</td>\n",
       "      <td>28668727</td>\n",
       "      <td>3BR Townhouse in Logan Circle</td>\n",
       "      <td>48005494</td>\n",
       "      <td>Zeus</td>\n",
       "      <td>Shaw, Logan Circle</td>\n",
       "      <td>38.91070</td>\n",
       "      <td>-77.03050</td>\n",
       "      <td>Entire home/apt</td>\n",
       "      <td>190</td>\n",
       "      <td>30</td>\n",
       "      <td>2</td>\n",
       "      <td>2019-05-07</td>\n",
       "      <td>0.37</td>\n",
       "      <td>152</td>\n",
       "      <td>280</td>\n",
       "      <td>38.88977</td>\n",
       "      <td>-77.023653</td>\n",
       "      <td>1.490191</td>\n",
       "    </tr>\n",
       "    <tr>\n",
       "      <td>6926</td>\n",
       "      <td>28695857</td>\n",
       "      <td>2 Bedroom Place in Great Location</td>\n",
       "      <td>48005494</td>\n",
       "      <td>Zeus</td>\n",
       "      <td>Dupont Circle, Connecticut Avenue/K Street</td>\n",
       "      <td>38.91602</td>\n",
       "      <td>-77.03792</td>\n",
       "      <td>Entire home/apt</td>\n",
       "      <td>141</td>\n",
       "      <td>30</td>\n",
       "      <td>2</td>\n",
       "      <td>2019-08-05</td>\n",
       "      <td>0.22</td>\n",
       "      <td>152</td>\n",
       "      <td>357</td>\n",
       "      <td>38.88977</td>\n",
       "      <td>-77.023653</td>\n",
       "      <td>1.967270</td>\n",
       "    </tr>\n",
       "    <tr>\n",
       "      <td>6931</td>\n",
       "      <td>28719542</td>\n",
       "      <td>3BR House in Washington</td>\n",
       "      <td>48005494</td>\n",
       "      <td>Zeus</td>\n",
       "      <td>Howard University, Le Droit Park, Cardozo/Shaw</td>\n",
       "      <td>38.91506</td>\n",
       "      <td>-77.02841</td>\n",
       "      <td>Entire home/apt</td>\n",
       "      <td>214</td>\n",
       "      <td>30</td>\n",
       "      <td>1</td>\n",
       "      <td>2019-01-31</td>\n",
       "      <td>0.13</td>\n",
       "      <td>152</td>\n",
       "      <td>365</td>\n",
       "      <td>38.88977</td>\n",
       "      <td>-77.023653</td>\n",
       "      <td>1.763264</td>\n",
       "    </tr>\n",
       "    <tr>\n",
       "      <td>6952</td>\n",
       "      <td>28835868</td>\n",
       "      <td>2BR Condominium in Washington</td>\n",
       "      <td>48005494</td>\n",
       "      <td>Zeus</td>\n",
       "      <td>Columbia Heights, Mt. Pleasant, Pleasant Plain...</td>\n",
       "      <td>38.92061</td>\n",
       "      <td>-77.03385</td>\n",
       "      <td>Entire home/apt</td>\n",
       "      <td>145</td>\n",
       "      <td>30</td>\n",
       "      <td>1</td>\n",
       "      <td>2019-06-28</td>\n",
       "      <td>0.34</td>\n",
       "      <td>152</td>\n",
       "      <td>356</td>\n",
       "      <td>38.88977</td>\n",
       "      <td>-77.023653</td>\n",
       "      <td>2.197214</td>\n",
       "    </tr>\n",
       "    <tr>\n",
       "      <td>...</td>\n",
       "      <td>...</td>\n",
       "      <td>...</td>\n",
       "      <td>...</td>\n",
       "      <td>...</td>\n",
       "      <td>...</td>\n",
       "      <td>...</td>\n",
       "      <td>...</td>\n",
       "      <td>...</td>\n",
       "      <td>...</td>\n",
       "      <td>...</td>\n",
       "      <td>...</td>\n",
       "      <td>...</td>\n",
       "      <td>...</td>\n",
       "      <td>...</td>\n",
       "      <td>...</td>\n",
       "      <td>...</td>\n",
       "      <td>...</td>\n",
       "      <td>...</td>\n",
       "    </tr>\n",
       "    <tr>\n",
       "      <td>8754</td>\n",
       "      <td>37093653</td>\n",
       "      <td>Chic 1BR in DC near Metro, Gym + Rooftop Pool</td>\n",
       "      <td>48005494</td>\n",
       "      <td>Zeus</td>\n",
       "      <td>Shaw, Logan Circle</td>\n",
       "      <td>38.90668</td>\n",
       "      <td>-77.03068</td>\n",
       "      <td>Entire home/apt</td>\n",
       "      <td>113</td>\n",
       "      <td>30</td>\n",
       "      <td>0</td>\n",
       "      <td>NA</td>\n",
       "      <td>0.00</td>\n",
       "      <td>152</td>\n",
       "      <td>264</td>\n",
       "      <td>38.88977</td>\n",
       "      <td>-77.023653</td>\n",
       "      <td>1.226422</td>\n",
       "    </tr>\n",
       "    <tr>\n",
       "      <td>8778</td>\n",
       "      <td>37250333</td>\n",
       "      <td>Chic 1BR in Capitol Hill, Gym + Rooftop Pool</td>\n",
       "      <td>48005494</td>\n",
       "      <td>Zeus</td>\n",
       "      <td>Near Southeast, Navy Yard</td>\n",
       "      <td>38.87465</td>\n",
       "      <td>-77.00816</td>\n",
       "      <td>Entire home/apt</td>\n",
       "      <td>108</td>\n",
       "      <td>30</td>\n",
       "      <td>0</td>\n",
       "      <td>NA</td>\n",
       "      <td>0.00</td>\n",
       "      <td>152</td>\n",
       "      <td>344</td>\n",
       "      <td>38.88977</td>\n",
       "      <td>-77.023653</td>\n",
       "      <td>1.336257</td>\n",
       "    </tr>\n",
       "    <tr>\n",
       "      <td>8779</td>\n",
       "      <td>37250398</td>\n",
       "      <td>Chic Studio in Capitol Hill, Gym + Rooftop Pool</td>\n",
       "      <td>48005494</td>\n",
       "      <td>Zeus</td>\n",
       "      <td>Near Southeast, Navy Yard</td>\n",
       "      <td>38.87390</td>\n",
       "      <td>-77.00842</td>\n",
       "      <td>Entire home/apt</td>\n",
       "      <td>95</td>\n",
       "      <td>30</td>\n",
       "      <td>0</td>\n",
       "      <td>NA</td>\n",
       "      <td>0.00</td>\n",
       "      <td>152</td>\n",
       "      <td>330</td>\n",
       "      <td>38.88977</td>\n",
       "      <td>-77.023653</td>\n",
       "      <td>1.368562</td>\n",
       "    </tr>\n",
       "    <tr>\n",
       "      <td>8780</td>\n",
       "      <td>37251463</td>\n",
       "      <td>Lovely 1BR in Capitol Hill, Gym + Rooftop Pool</td>\n",
       "      <td>48005494</td>\n",
       "      <td>Zeus</td>\n",
       "      <td>Near Southeast, Navy Yard</td>\n",
       "      <td>38.87438</td>\n",
       "      <td>-77.00792</td>\n",
       "      <td>Entire home/apt</td>\n",
       "      <td>105</td>\n",
       "      <td>30</td>\n",
       "      <td>0</td>\n",
       "      <td>NA</td>\n",
       "      <td>0.00</td>\n",
       "      <td>152</td>\n",
       "      <td>296</td>\n",
       "      <td>38.88977</td>\n",
       "      <td>-77.023653</td>\n",
       "      <td>1.358885</td>\n",
       "    </tr>\n",
       "    <tr>\n",
       "      <td>8781</td>\n",
       "      <td>37251533</td>\n",
       "      <td>Lovely Studio in Capitol Hill, Gym + Rooftop Pool</td>\n",
       "      <td>48005494</td>\n",
       "      <td>Zeus</td>\n",
       "      <td>Southwest Employment Area, Southwest/Waterfron...</td>\n",
       "      <td>38.87608</td>\n",
       "      <td>-77.00911</td>\n",
       "      <td>Entire home/apt</td>\n",
       "      <td>102</td>\n",
       "      <td>30</td>\n",
       "      <td>0</td>\n",
       "      <td>NA</td>\n",
       "      <td>0.00</td>\n",
       "      <td>152</td>\n",
       "      <td>351</td>\n",
       "      <td>38.88977</td>\n",
       "      <td>-77.023653</td>\n",
       "      <td>1.227432</td>\n",
       "    </tr>\n",
       "  </tbody>\n",
       "</table>\n",
       "<p>152 rows × 18 columns</p>\n",
       "</div>"
      ],
      "text/plain": [
       "            id                                               name   host_id  \\\n",
       "6919  28668627                   1 Bedroom Condo in Dupont Circle  48005494   \n",
       "6920  28668727                      3BR Townhouse in Logan Circle  48005494   \n",
       "6926  28695857                  2 Bedroom Place in Great Location  48005494   \n",
       "6931  28719542                            3BR House in Washington  48005494   \n",
       "6952  28835868                      2BR Condominium in Washington  48005494   \n",
       "...        ...                                                ...       ...   \n",
       "8754  37093653      Chic 1BR in DC near Metro, Gym + Rooftop Pool  48005494   \n",
       "8778  37250333       Chic 1BR in Capitol Hill, Gym + Rooftop Pool  48005494   \n",
       "8779  37250398    Chic Studio in Capitol Hill, Gym + Rooftop Pool  48005494   \n",
       "8780  37251463     Lovely 1BR in Capitol Hill, Gym + Rooftop Pool  48005494   \n",
       "8781  37251533  Lovely Studio in Capitol Hill, Gym + Rooftop Pool  48005494   \n",
       "\n",
       "     host_name                                      neighbourhood  latitude  \\\n",
       "6919      Zeus         Dupont Circle, Connecticut Avenue/K Street  38.91335   \n",
       "6920      Zeus                                 Shaw, Logan Circle  38.91070   \n",
       "6926      Zeus         Dupont Circle, Connecticut Avenue/K Street  38.91602   \n",
       "6931      Zeus     Howard University, Le Droit Park, Cardozo/Shaw  38.91506   \n",
       "6952      Zeus  Columbia Heights, Mt. Pleasant, Pleasant Plain...  38.92061   \n",
       "...        ...                                                ...       ...   \n",
       "8754      Zeus                                 Shaw, Logan Circle  38.90668   \n",
       "8778      Zeus                          Near Southeast, Navy Yard  38.87465   \n",
       "8779      Zeus                          Near Southeast, Navy Yard  38.87390   \n",
       "8780      Zeus                          Near Southeast, Navy Yard  38.87438   \n",
       "8781      Zeus  Southwest Employment Area, Southwest/Waterfron...  38.87608   \n",
       "\n",
       "      longitude        room_type  price  minimum_nights  number_of_reviews  \\\n",
       "6919  -77.04301  Entire home/apt    206              30                  0   \n",
       "6920  -77.03050  Entire home/apt    190              30                  2   \n",
       "6926  -77.03792  Entire home/apt    141              30                  2   \n",
       "6931  -77.02841  Entire home/apt    214              30                  1   \n",
       "6952  -77.03385  Entire home/apt    145              30                  1   \n",
       "...         ...              ...    ...             ...                ...   \n",
       "8754  -77.03068  Entire home/apt    113              30                  0   \n",
       "8778  -77.00816  Entire home/apt    108              30                  0   \n",
       "8779  -77.00842  Entire home/apt     95              30                  0   \n",
       "8780  -77.00792  Entire home/apt    105              30                  0   \n",
       "8781  -77.00911  Entire home/apt    102              30                  0   \n",
       "\n",
       "     last_review  reviews_per_month  calculated_host_listings_count  \\\n",
       "6919          NA               0.00                             152   \n",
       "6920  2019-05-07               0.37                             152   \n",
       "6926  2019-08-05               0.22                             152   \n",
       "6931  2019-01-31               0.13                             152   \n",
       "6952  2019-06-28               0.34                             152   \n",
       "...          ...                ...                             ...   \n",
       "8754          NA               0.00                             152   \n",
       "8778          NA               0.00                             152   \n",
       "8779          NA               0.00                             152   \n",
       "8780          NA               0.00                             152   \n",
       "8781          NA               0.00                             152   \n",
       "\n",
       "      availability_365  lat_mall   lon_mall  distance_mall  \n",
       "6919               100  38.88977 -77.023653       1.932444  \n",
       "6920               280  38.88977 -77.023653       1.490191  \n",
       "6926               357  38.88977 -77.023653       1.967270  \n",
       "6931               365  38.88977 -77.023653       1.763264  \n",
       "6952               356  38.88977 -77.023653       2.197214  \n",
       "...                ...       ...        ...            ...  \n",
       "8754               264  38.88977 -77.023653       1.226422  \n",
       "8778               344  38.88977 -77.023653       1.336257  \n",
       "8779               330  38.88977 -77.023653       1.368562  \n",
       "8780               296  38.88977 -77.023653       1.358885  \n",
       "8781               351  38.88977 -77.023653       1.227432  \n",
       "\n",
       "[152 rows x 18 columns]"
      ]
     },
     "execution_count": 45,
     "metadata": {},
     "output_type": "execute_result"
    }
   ],
   "source": [
    "listings[listings['host_id'] == 48005494]"
   ]
  },
  {
   "cell_type": "code",
   "execution_count": 46,
   "metadata": {},
   "outputs": [],
   "source": [
    "# do an analysis of Zues"
   ]
  },
  {
   "cell_type": "markdown",
   "metadata": {},
   "source": [
    "Rename host listings count column"
   ]
  },
  {
   "cell_type": "markdown",
   "metadata": {},
   "source": [
    "## Room Type"
   ]
  },
  {
   "cell_type": "markdown",
   "metadata": {},
   "source": [
    "Room type is categorical - only 4 options. Use this for some type of classification? "
   ]
  },
  {
   "cell_type": "code",
   "execution_count": 47,
   "metadata": {},
   "outputs": [
    {
     "data": {
      "text/plain": [
       "Entire home/apt    6567\n",
       "Private room       2363\n",
       "Shared room         207\n",
       "Hotel room           52\n",
       "Name: room_type, dtype: int64"
      ]
     },
     "execution_count": 47,
     "metadata": {},
     "output_type": "execute_result"
    }
   ],
   "source": [
    "listings['room_type'].value_counts()"
   ]
  },
  {
   "cell_type": "code",
   "execution_count": 48,
   "metadata": {},
   "outputs": [
    {
     "data": {
      "text/plain": [
       "room_type\n",
       "Entire home/apt    236.583524\n",
       "Hotel room         198.250000\n",
       "Private room       100.345324\n",
       "Shared room         48.024155\n",
       "Name: price, dtype: float64"
      ]
     },
     "execution_count": 48,
     "metadata": {},
     "output_type": "execute_result"
    }
   ],
   "source": [
    "listings.groupby('room_type')['price'].mean()"
   ]
  },
  {
   "cell_type": "code",
   "execution_count": 52,
   "metadata": {
    "scrolled": true
   },
   "outputs": [
    {
     "data": {
      "text/plain": [
       "room_type\n",
       "Entire home/apt    39.261002\n",
       "Hotel room         51.826923\n",
       "Private room       39.326703\n",
       "Shared room        23.270531\n",
       "Name: number_of_reviews, dtype: float64"
      ]
     },
     "execution_count": 52,
     "metadata": {},
     "output_type": "execute_result"
    }
   ],
   "source": [
    "listings.groupby('room_type')['number_of_reviews'].mean()"
   ]
  },
  {
   "cell_type": "code",
   "execution_count": 53,
   "metadata": {},
   "outputs": [
    {
     "data": {
      "text/plain": [
       "room_type\n",
       "Entire home/apt    2.335867\n",
       "Hotel room         1.762316\n",
       "Private room       2.865291\n",
       "Shared room        2.456380\n",
       "Name: distance_mall, dtype: float64"
      ]
     },
     "execution_count": 53,
     "metadata": {},
     "output_type": "execute_result"
    }
   ],
   "source": [
    "listings.groupby('room_type')['distance_mall'].mean()"
   ]
  },
  {
   "cell_type": "code",
   "execution_count": null,
   "metadata": {},
   "outputs": [],
   "source": [
    "pd.get_dummies"
   ]
  },
  {
   "cell_type": "markdown",
   "metadata": {},
   "source": [
    "## Reviews"
   ]
  },
  {
   "cell_type": "markdown",
   "metadata": {},
   "source": [
    "Manually calculate reviews per month. Does this match what that column shows?? What is the number of months used to calculate this."
   ]
  },
  {
   "cell_type": "markdown",
   "metadata": {},
   "source": [
    "Time since last review - does this relate to anything? "
   ]
  },
  {
   "cell_type": "markdown",
   "metadata": {},
   "source": [
    "Reviews per month max is around 13 - is this an outlier? "
   ]
  },
  {
   "cell_type": "markdown",
   "metadata": {},
   "source": [
    "Some listings haven't been reviewed in many years. Were they bad reviews? "
   ]
  },
  {
   "cell_type": "code",
   "execution_count": 13,
   "metadata": {},
   "outputs": [
    {
     "data": {
      "text/plain": [
       "5       2009-01-21\n",
       "148     2013-03-31\n",
       "107     2013-05-28\n",
       "180     2013-06-03\n",
       "219     2013-06-15\n",
       "           ...    \n",
       "9184           NaN\n",
       "9185           NaN\n",
       "9186           NaN\n",
       "9187           NaN\n",
       "9188           NaN\n",
       "Name: last_review, Length: 9189, dtype: object"
      ]
     },
     "execution_count": 13,
     "metadata": {},
     "output_type": "execute_result"
    }
   ],
   "source": [
    "# Sorting on last review data to get an idea of how many reviews have not been reviewed recently\n",
    "listings['last_review'].sort_values()"
   ]
  },
  {
   "cell_type": "markdown",
   "metadata": {},
   "source": [
    "Some listings have no reviews - how to handle those? still have valuable data. Also is a large chunk of the data"
   ]
  },
  {
   "cell_type": "markdown",
   "metadata": {},
   "source": [
    "## Price"
   ]
  },
  {
   "cell_type": "markdown",
   "metadata": {},
   "source": [
    "Price range of 10 - $10,000. would be good to look at how this is distributed. "
   ]
  },
  {
   "cell_type": "code",
   "execution_count": 40,
   "metadata": {},
   "outputs": [
    {
     "data": {
      "text/html": [
       "<div>\n",
       "<style scoped>\n",
       "    .dataframe tbody tr th:only-of-type {\n",
       "        vertical-align: middle;\n",
       "    }\n",
       "\n",
       "    .dataframe tbody tr th {\n",
       "        vertical-align: top;\n",
       "    }\n",
       "\n",
       "    .dataframe thead th {\n",
       "        text-align: right;\n",
       "    }\n",
       "</style>\n",
       "<table border=\"1\" class=\"dataframe\">\n",
       "  <thead>\n",
       "    <tr style=\"text-align: right;\">\n",
       "      <th></th>\n",
       "      <th>id</th>\n",
       "      <th>name</th>\n",
       "      <th>host_id</th>\n",
       "      <th>host_name</th>\n",
       "      <th>neighbourhood</th>\n",
       "      <th>latitude</th>\n",
       "      <th>longitude</th>\n",
       "      <th>room_type</th>\n",
       "      <th>price</th>\n",
       "      <th>minimum_nights</th>\n",
       "      <th>number_of_reviews</th>\n",
       "      <th>last_review</th>\n",
       "      <th>reviews_per_month</th>\n",
       "      <th>calculated_host_listings_count</th>\n",
       "      <th>availability_365</th>\n",
       "      <th>lat_mall</th>\n",
       "      <th>lon_mall</th>\n",
       "      <th>distance_mall</th>\n",
       "    </tr>\n",
       "  </thead>\n",
       "  <tbody>\n",
       "    <tr>\n",
       "      <td>199</td>\n",
       "      <td>860776</td>\n",
       "      <td>Gorgeous cozy room available in the heart of Dc</td>\n",
       "      <td>315148</td>\n",
       "      <td>John</td>\n",
       "      <td>Edgewood, Bloomingdale, Truxton Circle, Eckington</td>\n",
       "      <td>38.91912</td>\n",
       "      <td>-77.01369</td>\n",
       "      <td>Private room</td>\n",
       "      <td>28</td>\n",
       "      <td>4</td>\n",
       "      <td>9</td>\n",
       "      <td>2019-08-22</td>\n",
       "      <td>0.27</td>\n",
       "      <td>25</td>\n",
       "      <td>282</td>\n",
       "      <td>38.88977</td>\n",
       "      <td>-77.023653</td>\n",
       "      <td>2.094590</td>\n",
       "    </tr>\n",
       "    <tr>\n",
       "      <td>239</td>\n",
       "      <td>1018211</td>\n",
       "      <td>Sunny Room, Peaceful Neighborhood</td>\n",
       "      <td>509854</td>\n",
       "      <td>Elaine</td>\n",
       "      <td>Brightwood Park, Crestwood, Petworth</td>\n",
       "      <td>38.94755</td>\n",
       "      <td>-77.03105</td>\n",
       "      <td>Private room</td>\n",
       "      <td>30</td>\n",
       "      <td>1</td>\n",
       "      <td>21</td>\n",
       "      <td>2019-08-11</td>\n",
       "      <td>0.27</td>\n",
       "      <td>1</td>\n",
       "      <td>30</td>\n",
       "      <td>38.88977</td>\n",
       "      <td>-77.023653</td>\n",
       "      <td>4.005597</td>\n",
       "    </tr>\n",
       "    <tr>\n",
       "      <td>240</td>\n",
       "      <td>1020841</td>\n",
       "      <td>Brightwood Basement: private entrance, LR, BR, BA</td>\n",
       "      <td>5619026</td>\n",
       "      <td>Wendy</td>\n",
       "      <td>Takoma, Brightwood, Manor Park</td>\n",
       "      <td>38.96540</td>\n",
       "      <td>-77.02368</td>\n",
       "      <td>Private room</td>\n",
       "      <td>25</td>\n",
       "      <td>1</td>\n",
       "      <td>32</td>\n",
       "      <td>2018-08-21</td>\n",
       "      <td>1.15</td>\n",
       "      <td>1</td>\n",
       "      <td>0</td>\n",
       "      <td>38.88977</td>\n",
       "      <td>-77.023653</td>\n",
       "      <td>5.217030</td>\n",
       "    </tr>\n",
       "    <tr>\n",
       "      <td>361</td>\n",
       "      <td>1838623</td>\n",
       "      <td>Furnished Rm South of Takoma D.C.</td>\n",
       "      <td>9542055</td>\n",
       "      <td>Diane</td>\n",
       "      <td>Lamont Riggs, Queens Chapel, Fort Totten, Plea...</td>\n",
       "      <td>38.96788</td>\n",
       "      <td>-77.00875</td>\n",
       "      <td>Private room</td>\n",
       "      <td>25</td>\n",
       "      <td>30</td>\n",
       "      <td>2</td>\n",
       "      <td>2019-07-04</td>\n",
       "      <td>0.12</td>\n",
       "      <td>2</td>\n",
       "      <td>147</td>\n",
       "      <td>38.88977</td>\n",
       "      <td>-77.023653</td>\n",
       "      <td>5.447610</td>\n",
       "    </tr>\n",
       "    <tr>\n",
       "      <td>365</td>\n",
       "      <td>1841397</td>\n",
       "      <td>Furnished Lrg Rm S. of Takoma D.C.</td>\n",
       "      <td>9542055</td>\n",
       "      <td>Diane</td>\n",
       "      <td>Lamont Riggs, Queens Chapel, Fort Totten, Plea...</td>\n",
       "      <td>38.96895</td>\n",
       "      <td>-77.00858</td>\n",
       "      <td>Private room</td>\n",
       "      <td>30</td>\n",
       "      <td>30</td>\n",
       "      <td>6</td>\n",
       "      <td>2017-12-10</td>\n",
       "      <td>0.10</td>\n",
       "      <td>2</td>\n",
       "      <td>273</td>\n",
       "      <td>38.88977</td>\n",
       "      <td>-77.023653</td>\n",
       "      <td>5.521964</td>\n",
       "    </tr>\n",
       "  </tbody>\n",
       "</table>\n",
       "</div>"
      ],
      "text/plain": [
       "          id                                               name  host_id  \\\n",
       "199   860776    Gorgeous cozy room available in the heart of Dc   315148   \n",
       "239  1018211                  Sunny Room, Peaceful Neighborhood   509854   \n",
       "240  1020841  Brightwood Basement: private entrance, LR, BR, BA  5619026   \n",
       "361  1838623                  Furnished Rm South of Takoma D.C.  9542055   \n",
       "365  1841397                 Furnished Lrg Rm S. of Takoma D.C.  9542055   \n",
       "\n",
       "    host_name                                      neighbourhood  latitude  \\\n",
       "199      John  Edgewood, Bloomingdale, Truxton Circle, Eckington  38.91912   \n",
       "239    Elaine               Brightwood Park, Crestwood, Petworth  38.94755   \n",
       "240     Wendy                     Takoma, Brightwood, Manor Park  38.96540   \n",
       "361     Diane  Lamont Riggs, Queens Chapel, Fort Totten, Plea...  38.96788   \n",
       "365     Diane  Lamont Riggs, Queens Chapel, Fort Totten, Plea...  38.96895   \n",
       "\n",
       "     longitude     room_type  price  minimum_nights  number_of_reviews  \\\n",
       "199  -77.01369  Private room     28               4                  9   \n",
       "239  -77.03105  Private room     30               1                 21   \n",
       "240  -77.02368  Private room     25               1                 32   \n",
       "361  -77.00875  Private room     25              30                  2   \n",
       "365  -77.00858  Private room     30              30                  6   \n",
       "\n",
       "    last_review  reviews_per_month  calculated_host_listings_count  \\\n",
       "199  2019-08-22               0.27                              25   \n",
       "239  2019-08-11               0.27                               1   \n",
       "240  2018-08-21               1.15                               1   \n",
       "361  2019-07-04               0.12                               2   \n",
       "365  2017-12-10               0.10                               2   \n",
       "\n",
       "     availability_365  lat_mall   lon_mall  distance_mall  \n",
       "199               282  38.88977 -77.023653       2.094590  \n",
       "239                30  38.88977 -77.023653       4.005597  \n",
       "240                 0  38.88977 -77.023653       5.217030  \n",
       "361               147  38.88977 -77.023653       5.447610  \n",
       "365               273  38.88977 -77.023653       5.521964  "
      ]
     },
     "execution_count": 40,
     "metadata": {},
     "output_type": "execute_result"
    }
   ],
   "source": [
    "listings[listings['price'] <= 30].head()"
   ]
  },
  {
   "cell_type": "code",
   "execution_count": 22,
   "metadata": {
    "scrolled": true
   },
   "outputs": [
    {
     "data": {
      "image/png": "[encoded data removed]",
      "text/plain": [
       "<Figure size 432x288 with 1 Axes>"
      ]
     },
     "metadata": {
      "needs_background": "light"
     },
     "output_type": "display_data"
    }
   ],
   "source": [
    "plt.hist(listings['price'], bins=[0, 25, 50, 75, 100, 150, 200, 250, 300, 350, 400, 450, 500, 1000, 5000, 10000]);"
   ]
  },
  {
   "cell_type": "code",
   "execution_count": 60,
   "metadata": {},
   "outputs": [
    {
     "data": {
      "text/html": [
       "<div>\n",
       "<style scoped>\n",
       "    .dataframe tbody tr th:only-of-type {\n",
       "        vertical-align: middle;\n",
       "    }\n",
       "\n",
       "    .dataframe tbody tr th {\n",
       "        vertical-align: top;\n",
       "    }\n",
       "\n",
       "    .dataframe thead th {\n",
       "        text-align: right;\n",
       "    }\n",
       "</style>\n",
       "<table border=\"1\" class=\"dataframe\">\n",
       "  <thead>\n",
       "    <tr style=\"text-align: right;\">\n",
       "      <th></th>\n",
       "      <th>id</th>\n",
       "      <th>name</th>\n",
       "      <th>host_id</th>\n",
       "      <th>host_name</th>\n",
       "      <th>neighbourhood</th>\n",
       "      <th>latitude</th>\n",
       "      <th>longitude</th>\n",
       "      <th>room_type</th>\n",
       "      <th>price</th>\n",
       "      <th>minimum_nights</th>\n",
       "      <th>number_of_reviews</th>\n",
       "      <th>last_review</th>\n",
       "      <th>reviews_per_month</th>\n",
       "      <th>calculated_host_listings_count</th>\n",
       "      <th>availability_365</th>\n",
       "      <th>lat_mall</th>\n",
       "      <th>lon_mall</th>\n",
       "      <th>distance_mall</th>\n",
       "    </tr>\n",
       "  </thead>\n",
       "  <tbody>\n",
       "  </tbody>\n",
       "</table>\n",
       "</div>"
      ],
      "text/plain": [
       "Empty DataFrame\n",
       "Columns: [id, name, host_id, host_name, neighbourhood, latitude, longitude, room_type, price, minimum_nights, number_of_reviews, last_review, reviews_per_month, calculated_host_listings_count, availability_365, lat_mall, lon_mall, distance_mall]\n",
       "Index: []"
      ]
     },
     "execution_count": 60,
     "metadata": {},
     "output_type": "execute_result"
    }
   ],
   "source": [
    "listings[listings['price'] > 8000]"
   ]
  },
  {
   "cell_type": "code",
   "execution_count": 59,
   "metadata": {},
   "outputs": [],
   "source": [
    "listings.drop(index=2844, inplace=True)"
   ]
  },
  {
   "cell_type": "code",
   "execution_count": 64,
   "metadata": {},
   "outputs": [
    {
     "data": {
      "text/html": [
       "<div>\n",
       "<style scoped>\n",
       "    .dataframe tbody tr th:only-of-type {\n",
       "        vertical-align: middle;\n",
       "    }\n",
       "\n",
       "    .dataframe tbody tr th {\n",
       "        vertical-align: top;\n",
       "    }\n",
       "\n",
       "    .dataframe thead th {\n",
       "        text-align: right;\n",
       "    }\n",
       "</style>\n",
       "<table border=\"1\" class=\"dataframe\">\n",
       "  <thead>\n",
       "    <tr style=\"text-align: right;\">\n",
       "      <th></th>\n",
       "      <th>id</th>\n",
       "      <th>name</th>\n",
       "      <th>host_id</th>\n",
       "      <th>host_name</th>\n",
       "      <th>neighbourhood</th>\n",
       "      <th>latitude</th>\n",
       "      <th>longitude</th>\n",
       "      <th>room_type</th>\n",
       "      <th>price</th>\n",
       "      <th>minimum_nights</th>\n",
       "      <th>number_of_reviews</th>\n",
       "      <th>last_review</th>\n",
       "      <th>reviews_per_month</th>\n",
       "      <th>calculated_host_listings_count</th>\n",
       "      <th>availability_365</th>\n",
       "      <th>lat_mall</th>\n",
       "      <th>lon_mall</th>\n",
       "      <th>distance_mall</th>\n",
       "    </tr>\n",
       "  </thead>\n",
       "  <tbody>\n",
       "  </tbody>\n",
       "</table>\n",
       "</div>"
      ],
      "text/plain": [
       "Empty DataFrame\n",
       "Columns: [id, name, host_id, host_name, neighbourhood, latitude, longitude, room_type, price, minimum_nights, number_of_reviews, last_review, reviews_per_month, calculated_host_listings_count, availability_365, lat_mall, lon_mall, distance_mall]\n",
       "Index: []"
      ]
     },
     "execution_count": 64,
     "metadata": {},
     "output_type": "execute_result"
    }
   ],
   "source": [
    "listings[listings['price'] > 4500]"
   ]
  },
  {
   "cell_type": "code",
   "execution_count": 63,
   "metadata": {},
   "outputs": [],
   "source": [
    "listings.drop(index=[2747, 3820, 3860, 4024], inplace=True)"
   ]
  },
  {
   "cell_type": "code",
   "execution_count": 66,
   "metadata": {},
   "outputs": [],
   "source": [
    "affordable_listings = listings[listings['price'] < 700]"
   ]
  },
  {
   "cell_type": "code",
   "execution_count": 67,
   "metadata": {},
   "outputs": [
    {
     "data": {
      "text/plain": [
       "<matplotlib.collections.PathCollection at 0x11f3efcf8>"
      ]
     },
     "execution_count": 67,
     "metadata": {},
     "output_type": "execute_result"
    },
    {
     "data": {
      "image/png": "[encoded data removed]",
      "text/plain": [
       "<Figure size 1152x864 with 1 Axes>"
      ]
     },
     "metadata": {
      "needs_background": "light"
     },
     "output_type": "display_data"
    }
   ],
   "source": [
    "plt.figure(figsize=(16,12))\n",
    "\n",
    "plt.scatter(affordable_listings['distance_mall'], affordable_listings['price'])"
   ]
  },
  {
   "cell_type": "code",
   "execution_count": null,
   "metadata": {},
   "outputs": [],
   "source": [
    "# look at the inauguration palace"
   ]
  },
  {
   "cell_type": "code",
   "execution_count": null,
   "metadata": {},
   "outputs": [],
   "source": [
    "# look at the price extremes - very cheap and very expensive"
   ]
  },
  {
   "cell_type": "markdown",
   "metadata": {},
   "source": [
    "Also look at relationship between price and minimum number of nights "
   ]
  },
  {
   "cell_type": "markdown",
   "metadata": {},
   "source": [
    "Check for outliers"
   ]
  },
  {
   "cell_type": "markdown",
   "metadata": {},
   "source": [
    "What is the average price per neighborhood? "
   ]
  },
  {
   "cell_type": "markdown",
   "metadata": {},
   "source": [
    "Look at how price has changed over time"
   ]
  },
  {
   "cell_type": "markdown",
   "metadata": {},
   "source": [
    "## Location"
   ]
  },
  {
   "cell_type": "markdown",
   "metadata": {},
   "source": [
    "Do the neighbourhood values in listings line up to the 39 available in hoods CSV?"
   ]
  },
  {
   "cell_type": "code",
   "execution_count": 32,
   "metadata": {},
   "outputs": [
    {
     "data": {
      "text/plain": [
       "(39, 2)"
      ]
     },
     "execution_count": 32,
     "metadata": {},
     "output_type": "execute_result"
    }
   ],
   "source": [
    "# Read in neighbourhood data\n",
    "hoods = pd.read_csv('/Users/jessieowens2/Desktop/general_assembly/airbnb_data/neighbourhoods.csv')\n",
    "# Check shape of hood data\n",
    "hoods.shape"
   ]
  },
  {
   "cell_type": "code",
   "execution_count": 37,
   "metadata": {},
   "outputs": [
    {
     "data": {
      "text/plain": [
       "39"
      ]
     },
     "execution_count": 37,
     "metadata": {},
     "output_type": "execute_result"
    }
   ],
   "source": [
    "listings['neighbourhood'].nunique()"
   ]
  },
  {
   "cell_type": "code",
   "execution_count": null,
   "metadata": {},
   "outputs": [],
   "source": [
    "# Look at info stats\n"
   ]
  },
  {
   "cell_type": "markdown",
   "metadata": {},
   "source": [
    "Do something with mapping out the neighbourhoods? Map out with color code for price of neighbourhoods"
   ]
  },
  {
   "cell_type": "markdown",
   "metadata": {},
   "source": [
    "### look at the distance from the national mall  to each Airbnb and use that as a variable"
   ]
  },
  {
   "cell_type": "code",
   "execution_count": 14,
   "metadata": {},
   "outputs": [],
   "source": [
    "# define lat and long of the national mall (coordinates taken from Google maps)\n",
    "lat_mall = 38.889770\n",
    "lon_mall = -77.023653\n",
    "\n",
    "# add them to the df\n",
    "listings['lat_mall'] = lat_mall\n",
    "listings['lon_mall'] = lon_mall\n",
    "\n",
    "# create a new column that displays the distance between the listing and the national mall using vincenty forumla\n",
    "listings['distance_mall'] = listings.apply(lambda x: vincenty((x['latitude'], x['longitude']), \n",
    "                                                              (x['lat_mall'], x['lon_mall'])).miles, axis=1)"
   ]
  },
  {
   "cell_type": "markdown",
   "metadata": {},
   "source": [
    "The name of the listing normally has some location information in it - does this correspond to their actual location? Is it even valuable to explore this?"
   ]
  },
  {
   "cell_type": "markdown",
   "metadata": {},
   "source": [
    "---"
   ]
  },
  {
   "cell_type": "markdown",
   "metadata": {},
   "source": [
    "## Additional notes on future actions"
   ]
  },
  {
   "cell_type": "markdown",
   "metadata": {},
   "source": [
    "Unsupervised learning problem: analyzing factors that contribute to good reviews and predict on a new dataset? (should be oct and nov data by time of capstone) \n",
    "\n",
    "Try to predict price changes based on review sentiment? "
   ]
  },
  {
   "cell_type": "markdown",
   "metadata": {},
   "source": [
    "Does high availability of a listing have a relationship with anything? (review sentiment, number of reviews, price per night, neighbourhood, host?)"
   ]
  },
  {
   "cell_type": "markdown",
   "metadata": {},
   "source": [
    "May or may not use time series to correlate data over time"
   ]
  },
  {
   "cell_type": "markdown",
   "metadata": {},
   "source": [
    "Use archived calendar data set to account for seasonality or change over time"
   ]
  },
  {
   "cell_type": "markdown",
   "metadata": {},
   "source": [
    "Look at how older events affected the price and see if this can predict how newer events will affect price (model)"
   ]
  }
 ],
 "metadata": {
  "kernelspec": {
   "display_name": "Python 3",
   "language": "python",
   "name": "python3"
  },
  "language_info": {
   "codemirror_mode": {
    "name": "ipython",
    "version": 3
   },
   "file_extension": ".py",
   "mimetype": "text/x-python",
   "name": "python",
   "nbconvert_exporter": "python",
   "pygments_lexer": "ipython3",
   "version": "3.7.3"
  }
 },
 "nbformat": 4,
 "nbformat_minor": 2
}
