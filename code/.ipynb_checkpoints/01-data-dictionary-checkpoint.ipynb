{
 "cells": [
  {
   "cell_type": "markdown",
   "metadata": {},
   "source": [
    "# Data Dictionary"
   ]
  },
  {
   "cell_type": "markdown",
   "metadata": {},
   "source": [
    "This notebooked is intended to simply view the data, data features, and data types to aid in creating a data dictionary."
   ]
  },
  {
   "cell_type": "code",
   "execution_count": 1,
   "metadata": {},
   "outputs": [],
   "source": [
    "import pandas as pd"
   ]
  },
  {
   "cell_type": "markdown",
   "metadata": {},
   "source": [
    "### reviews.csv"
   ]
  },
  {
   "cell_type": "code",
   "execution_count": 2,
   "metadata": {},
   "outputs": [],
   "source": [
    "reviews = pd.read_csv('/Users/jessieowens2/Desktop/general_assembly/airbnb_data/reviews.csv')"
   ]
  },
  {
   "cell_type": "code",
   "execution_count": 3,
   "metadata": {},
   "outputs": [
    {
     "data": {
      "text/plain": [
       "Index(['listing_id', 'id', 'date', 'reviewer_id', 'reviewer_name', 'comments'], dtype='object')"
      ]
     },
     "execution_count": 3,
     "metadata": {},
     "output_type": "execute_result"
    }
   ],
   "source": [
    "reviews.columns"
   ]
  },
  {
   "cell_type": "code",
   "execution_count": 4,
   "metadata": {},
   "outputs": [
    {
     "data": {
      "text/plain": [
       "listing_id        int64\n",
       "id                int64\n",
       "date             object\n",
       "reviewer_id       int64\n",
       "reviewer_name    object\n",
       "comments         object\n",
       "dtype: object"
      ]
     },
     "execution_count": 4,
     "metadata": {},
     "output_type": "execute_result"
    }
   ],
   "source": [
    "reviews.dtypes"
   ]
  },
  {
   "cell_type": "code",
   "execution_count": 16,
   "metadata": {},
   "outputs": [
    {
     "data": {
      "text/html": [
       "<div>\n",
       "<style scoped>\n",
       "    .dataframe tbody tr th:only-of-type {\n",
       "        vertical-align: middle;\n",
       "    }\n",
       "\n",
       "    .dataframe tbody tr th {\n",
       "        vertical-align: top;\n",
       "    }\n",
       "\n",
       "    .dataframe thead th {\n",
       "        text-align: right;\n",
       "    }\n",
       "</style>\n",
       "<table border=\"1\" class=\"dataframe\">\n",
       "  <thead>\n",
       "    <tr style=\"text-align: right;\">\n",
       "      <th></th>\n",
       "      <th>listing_id</th>\n",
       "      <th>id</th>\n",
       "      <th>date</th>\n",
       "      <th>reviewer_id</th>\n",
       "      <th>reviewer_name</th>\n",
       "      <th>comments</th>\n",
       "    </tr>\n",
       "  </thead>\n",
       "  <tbody>\n",
       "    <tr>\n",
       "      <td>0</td>\n",
       "      <td>3344</td>\n",
       "      <td>2185</td>\n",
       "      <td>2009-05-09</td>\n",
       "      <td>12016</td>\n",
       "      <td>Tony</td>\n",
       "      <td>The stay at Amos' condo greatly exceeded my ex...</td>\n",
       "    </tr>\n",
       "    <tr>\n",
       "      <td>1</td>\n",
       "      <td>3344</td>\n",
       "      <td>18774</td>\n",
       "      <td>2009-11-29</td>\n",
       "      <td>40724</td>\n",
       "      <td>Faris</td>\n",
       "      <td>What can I say?  AJ picked me up from Dulles, ...</td>\n",
       "    </tr>\n",
       "    <tr>\n",
       "      <td>2</td>\n",
       "      <td>3344</td>\n",
       "      <td>20550</td>\n",
       "      <td>2009-12-16</td>\n",
       "      <td>58506</td>\n",
       "      <td>Sean</td>\n",
       "      <td>Amos is a phenomenal host. Where to start? Fir...</td>\n",
       "    </tr>\n",
       "    <tr>\n",
       "      <td>3</td>\n",
       "      <td>3344</td>\n",
       "      <td>293978</td>\n",
       "      <td>2011-06-01</td>\n",
       "      <td>583926</td>\n",
       "      <td>Yewwee</td>\n",
       "      <td>Aj is a great and friendly host! Excellent loc...</td>\n",
       "    </tr>\n",
       "    <tr>\n",
       "      <td>4</td>\n",
       "      <td>3344</td>\n",
       "      <td>296775</td>\n",
       "      <td>2011-06-04</td>\n",
       "      <td>503189</td>\n",
       "      <td>Jonathan</td>\n",
       "      <td>As a first-time airbnb.com user, I am glad Amo...</td>\n",
       "    </tr>\n",
       "  </tbody>\n",
       "</table>\n",
       "</div>"
      ],
      "text/plain": [
       "   listing_id      id        date  reviewer_id reviewer_name  \\\n",
       "0        3344    2185  2009-05-09        12016          Tony   \n",
       "1        3344   18774  2009-11-29        40724         Faris   \n",
       "2        3344   20550  2009-12-16        58506          Sean   \n",
       "3        3344  293978  2011-06-01       583926        Yewwee   \n",
       "4        3344  296775  2011-06-04       503189      Jonathan   \n",
       "\n",
       "                                            comments  \n",
       "0  The stay at Amos' condo greatly exceeded my ex...  \n",
       "1  What can I say?  AJ picked me up from Dulles, ...  \n",
       "2  Amos is a phenomenal host. Where to start? Fir...  \n",
       "3  Aj is a great and friendly host! Excellent loc...  \n",
       "4  As a first-time airbnb.com user, I am glad Amo...  "
      ]
     },
     "execution_count": 16,
     "metadata": {},
     "output_type": "execute_result"
    }
   ],
   "source": [
    "reviews.head()"
   ]
  },
  {
   "cell_type": "markdown",
   "metadata": {},
   "source": [
    "### listings.csv"
   ]
  },
  {
   "cell_type": "code",
   "execution_count": 5,
   "metadata": {},
   "outputs": [],
   "source": [
    "listings = pd.read_csv('/Users/jessieowens2/Desktop/general_assembly/airbnb_data/listings.csv')"
   ]
  },
  {
   "cell_type": "code",
   "execution_count": 6,
   "metadata": {},
   "outputs": [
    {
     "data": {
      "text/plain": [
       "Index(['id', 'name', 'host_id', 'host_name', 'neighbourhood_group',\n",
       "       'neighbourhood', 'latitude', 'longitude', 'room_type', 'price',\n",
       "       'minimum_nights', 'number_of_reviews', 'last_review',\n",
       "       'reviews_per_month', 'calculated_host_listings_count',\n",
       "       'availability_365'],\n",
       "      dtype='object')"
      ]
     },
     "execution_count": 6,
     "metadata": {},
     "output_type": "execute_result"
    }
   ],
   "source": [
    "listings.columns"
   ]
  },
  {
   "cell_type": "code",
   "execution_count": 7,
   "metadata": {},
   "outputs": [
    {
     "data": {
      "text/plain": [
       "id                                  int64\n",
       "name                               object\n",
       "host_id                             int64\n",
       "host_name                          object\n",
       "neighbourhood_group               float64\n",
       "neighbourhood                      object\n",
       "latitude                          float64\n",
       "longitude                         float64\n",
       "room_type                          object\n",
       "price                               int64\n",
       "minimum_nights                      int64\n",
       "number_of_reviews                   int64\n",
       "last_review                        object\n",
       "reviews_per_month                 float64\n",
       "calculated_host_listings_count      int64\n",
       "availability_365                    int64\n",
       "dtype: object"
      ]
     },
     "execution_count": 7,
     "metadata": {},
     "output_type": "execute_result"
    }
   ],
   "source": [
    "listings.dtypes"
   ]
  },
  {
   "cell_type": "code",
   "execution_count": 8,
   "metadata": {},
   "outputs": [
    {
     "data": {
      "text/html": [
       "<div>\n",
       "<style scoped>\n",
       "    .dataframe tbody tr th:only-of-type {\n",
       "        vertical-align: middle;\n",
       "    }\n",
       "\n",
       "    .dataframe tbody tr th {\n",
       "        vertical-align: top;\n",
       "    }\n",
       "\n",
       "    .dataframe thead th {\n",
       "        text-align: right;\n",
       "    }\n",
       "</style>\n",
       "<table border=\"1\" class=\"dataframe\">\n",
       "  <thead>\n",
       "    <tr style=\"text-align: right;\">\n",
       "      <th></th>\n",
       "      <th>id</th>\n",
       "      <th>name</th>\n",
       "      <th>host_id</th>\n",
       "      <th>host_name</th>\n",
       "      <th>neighbourhood_group</th>\n",
       "      <th>neighbourhood</th>\n",
       "      <th>latitude</th>\n",
       "      <th>longitude</th>\n",
       "      <th>room_type</th>\n",
       "      <th>price</th>\n",
       "      <th>minimum_nights</th>\n",
       "      <th>number_of_reviews</th>\n",
       "      <th>last_review</th>\n",
       "      <th>reviews_per_month</th>\n",
       "      <th>calculated_host_listings_count</th>\n",
       "      <th>availability_365</th>\n",
       "    </tr>\n",
       "  </thead>\n",
       "  <tbody>\n",
       "    <tr>\n",
       "      <td>0</td>\n",
       "      <td>3344</td>\n",
       "      <td>White House/Center City, 1 roommate</td>\n",
       "      <td>4957</td>\n",
       "      <td>A.J.</td>\n",
       "      <td>NaN</td>\n",
       "      <td>Downtown, Chinatown, Penn Quarters, Mount Vern...</td>\n",
       "      <td>38.90126</td>\n",
       "      <td>-77.02857</td>\n",
       "      <td>Private room</td>\n",
       "      <td>58</td>\n",
       "      <td>90</td>\n",
       "      <td>11</td>\n",
       "      <td>2016-08-31</td>\n",
       "      <td>0.09</td>\n",
       "      <td>2</td>\n",
       "      <td>358</td>\n",
       "    </tr>\n",
       "    <tr>\n",
       "      <td>1</td>\n",
       "      <td>3362</td>\n",
       "      <td>Convention Center Rowhouse &amp; In Law: 2 Units, 4BR</td>\n",
       "      <td>2798</td>\n",
       "      <td>Ayeh</td>\n",
       "      <td>NaN</td>\n",
       "      <td>Shaw, Logan Circle</td>\n",
       "      <td>38.91046</td>\n",
       "      <td>-77.01933</td>\n",
       "      <td>Entire home/apt</td>\n",
       "      <td>433</td>\n",
       "      <td>2</td>\n",
       "      <td>171</td>\n",
       "      <td>2019-08-26</td>\n",
       "      <td>1.32</td>\n",
       "      <td>5</td>\n",
       "      <td>307</td>\n",
       "    </tr>\n",
       "    <tr>\n",
       "      <td>2</td>\n",
       "      <td>3662</td>\n",
       "      <td>Vita's Hideaway II</td>\n",
       "      <td>4645</td>\n",
       "      <td>Vita</td>\n",
       "      <td>NaN</td>\n",
       "      <td>Historic Anacostia</td>\n",
       "      <td>38.86193</td>\n",
       "      <td>-76.98963</td>\n",
       "      <td>Private room</td>\n",
       "      <td>65</td>\n",
       "      <td>2</td>\n",
       "      <td>36</td>\n",
       "      <td>2019-04-14</td>\n",
       "      <td>0.35</td>\n",
       "      <td>3</td>\n",
       "      <td>296</td>\n",
       "    </tr>\n",
       "    <tr>\n",
       "      <td>3</td>\n",
       "      <td>3670</td>\n",
       "      <td>Beautiful Sun-Lit U Street 1BR/1BA</td>\n",
       "      <td>4630</td>\n",
       "      <td>Sheila</td>\n",
       "      <td>NaN</td>\n",
       "      <td>Howard University, Le Droit Park, Cardozo/Shaw</td>\n",
       "      <td>38.91842</td>\n",
       "      <td>-77.02750</td>\n",
       "      <td>Private room</td>\n",
       "      <td>75</td>\n",
       "      <td>2</td>\n",
       "      <td>79</td>\n",
       "      <td>2018-07-25</td>\n",
       "      <td>1.44</td>\n",
       "      <td>1</td>\n",
       "      <td>361</td>\n",
       "    </tr>\n",
       "    <tr>\n",
       "      <td>4</td>\n",
       "      <td>3686</td>\n",
       "      <td>Vita's Hideaway</td>\n",
       "      <td>4645</td>\n",
       "      <td>Vita</td>\n",
       "      <td>NaN</td>\n",
       "      <td>Historic Anacostia</td>\n",
       "      <td>38.86314</td>\n",
       "      <td>-76.98836</td>\n",
       "      <td>Private room</td>\n",
       "      <td>55</td>\n",
       "      <td>2</td>\n",
       "      <td>71</td>\n",
       "      <td>2019-08-05</td>\n",
       "      <td>0.66</td>\n",
       "      <td>3</td>\n",
       "      <td>283</td>\n",
       "    </tr>\n",
       "  </tbody>\n",
       "</table>\n",
       "</div>"
      ],
      "text/plain": [
       "     id                                               name  host_id host_name  \\\n",
       "0  3344                White House/Center City, 1 roommate     4957      A.J.   \n",
       "1  3362  Convention Center Rowhouse & In Law: 2 Units, 4BR     2798      Ayeh   \n",
       "2  3662                                 Vita's Hideaway II     4645      Vita   \n",
       "3  3670                 Beautiful Sun-Lit U Street 1BR/1BA     4630    Sheila   \n",
       "4  3686                                    Vita's Hideaway     4645      Vita   \n",
       "\n",
       "   neighbourhood_group                                      neighbourhood  \\\n",
       "0                  NaN  Downtown, Chinatown, Penn Quarters, Mount Vern...   \n",
       "1                  NaN                                 Shaw, Logan Circle   \n",
       "2                  NaN                                 Historic Anacostia   \n",
       "3                  NaN     Howard University, Le Droit Park, Cardozo/Shaw   \n",
       "4                  NaN                                 Historic Anacostia   \n",
       "\n",
       "   latitude  longitude        room_type  price  minimum_nights  \\\n",
       "0  38.90126  -77.02857     Private room     58              90   \n",
       "1  38.91046  -77.01933  Entire home/apt    433               2   \n",
       "2  38.86193  -76.98963     Private room     65               2   \n",
       "3  38.91842  -77.02750     Private room     75               2   \n",
       "4  38.86314  -76.98836     Private room     55               2   \n",
       "\n",
       "   number_of_reviews last_review  reviews_per_month  \\\n",
       "0                 11  2016-08-31               0.09   \n",
       "1                171  2019-08-26               1.32   \n",
       "2                 36  2019-04-14               0.35   \n",
       "3                 79  2018-07-25               1.44   \n",
       "4                 71  2019-08-05               0.66   \n",
       "\n",
       "   calculated_host_listings_count  availability_365  \n",
       "0                               2               358  \n",
       "1                               5               307  \n",
       "2                               3               296  \n",
       "3                               1               361  \n",
       "4                               3               283  "
      ]
     },
     "execution_count": 8,
     "metadata": {},
     "output_type": "execute_result"
    }
   ],
   "source": [
    "listings.head()"
   ]
  },
  {
   "cell_type": "code",
   "execution_count": 26,
   "metadata": {},
   "outputs": [
    {
     "data": {
      "text/plain": [
       "0      2758\n",
       "365     231\n",
       "90      119\n",
       "364      86\n",
       "89       85\n",
       "       ... \n",
       "191       1\n",
       "198       1\n",
       "200       1\n",
       "199       1\n",
       "195       1\n",
       "Name: availability_365, Length: 366, dtype: int64"
      ]
     },
     "execution_count": 26,
     "metadata": {},
     "output_type": "execute_result"
    }
   ],
   "source": [
    "listings['availability_365'].value_counts()"
   ]
  },
  {
   "cell_type": "markdown",
   "metadata": {},
   "source": [
    "### neighbourhoods.csv"
   ]
  },
  {
   "cell_type": "code",
   "execution_count": 10,
   "metadata": {},
   "outputs": [],
   "source": [
    "neighbourhoods = pd.read_csv('/Users/jessieowens2/Desktop/general_assembly/airbnb_data/neighbourhoods.csv')"
   ]
  },
  {
   "cell_type": "code",
   "execution_count": 11,
   "metadata": {},
   "outputs": [
    {
     "data": {
      "text/plain": [
       "Index(['neighbourhood_group', 'neighbourhood'], dtype='object')"
      ]
     },
     "execution_count": 11,
     "metadata": {},
     "output_type": "execute_result"
    }
   ],
   "source": [
    "neighbourhoods.columns"
   ]
  },
  {
   "cell_type": "code",
   "execution_count": 12,
   "metadata": {},
   "outputs": [
    {
     "data": {
      "text/plain": [
       "neighbourhood_group    float64\n",
       "neighbourhood           object\n",
       "dtype: object"
      ]
     },
     "execution_count": 12,
     "metadata": {},
     "output_type": "execute_result"
    }
   ],
   "source": [
    "neighbourhoods.dtypes"
   ]
  },
  {
   "cell_type": "markdown",
   "metadata": {},
   "source": [
    "### calendar.csv"
   ]
  },
  {
   "cell_type": "code",
   "execution_count": 13,
   "metadata": {},
   "outputs": [],
   "source": [
    "calendar = pd.read_csv('/Users/jessieowens2/Desktop/general_assembly/airbnb_data/calendar.csv')"
   ]
  },
  {
   "cell_type": "code",
   "execution_count": 14,
   "metadata": {},
   "outputs": [
    {
     "data": {
      "text/plain": [
       "Index(['listing_id', 'date', 'available', 'price', 'adjusted_price',\n",
       "       'minimum_nights', 'maximum_nights'],\n",
       "      dtype='object')"
      ]
     },
     "execution_count": 14,
     "metadata": {},
     "output_type": "execute_result"
    }
   ],
   "source": [
    "calendar.columns"
   ]
  },
  {
   "cell_type": "code",
   "execution_count": 15,
   "metadata": {},
   "outputs": [
    {
     "data": {
      "text/plain": [
       "listing_id          int64\n",
       "date               object\n",
       "available          object\n",
       "price              object\n",
       "adjusted_price     object\n",
       "minimum_nights    float64\n",
       "maximum_nights    float64\n",
       "dtype: object"
      ]
     },
     "execution_count": 15,
     "metadata": {},
     "output_type": "execute_result"
    }
   ],
   "source": [
    "calendar.dtypes"
   ]
  },
  {
   "cell_type": "code",
   "execution_count": 21,
   "metadata": {},
   "outputs": [
    {
     "data": {
      "text/html": [
       "<div>\n",
       "<style scoped>\n",
       "    .dataframe tbody tr th:only-of-type {\n",
       "        vertical-align: middle;\n",
       "    }\n",
       "\n",
       "    .dataframe tbody tr th {\n",
       "        vertical-align: top;\n",
       "    }\n",
       "\n",
       "    .dataframe thead th {\n",
       "        text-align: right;\n",
       "    }\n",
       "</style>\n",
       "<table border=\"1\" class=\"dataframe\">\n",
       "  <thead>\n",
       "    <tr style=\"text-align: right;\">\n",
       "      <th></th>\n",
       "      <th>listing_id</th>\n",
       "      <th>date</th>\n",
       "      <th>available</th>\n",
       "      <th>price</th>\n",
       "      <th>adjusted_price</th>\n",
       "      <th>minimum_nights</th>\n",
       "      <th>maximum_nights</th>\n",
       "    </tr>\n",
       "  </thead>\n",
       "  <tbody>\n",
       "    <tr>\n",
       "      <td>2014161</td>\n",
       "      <td>22201266</td>\n",
       "      <td>2020-10-09</td>\n",
       "      <td>f</td>\n",
       "      <td>$107.00</td>\n",
       "      <td>$107.00</td>\n",
       "      <td>2.0</td>\n",
       "      <td>7.0</td>\n",
       "    </tr>\n",
       "    <tr>\n",
       "      <td>2014160</td>\n",
       "      <td>22201266</td>\n",
       "      <td>2020-10-08</td>\n",
       "      <td>f</td>\n",
       "      <td>$106.00</td>\n",
       "      <td>$106.00</td>\n",
       "      <td>2.0</td>\n",
       "      <td>7.0</td>\n",
       "    </tr>\n",
       "    <tr>\n",
       "      <td>2014159</td>\n",
       "      <td>22201266</td>\n",
       "      <td>2020-10-07</td>\n",
       "      <td>f</td>\n",
       "      <td>$106.00</td>\n",
       "      <td>$106.00</td>\n",
       "      <td>2.0</td>\n",
       "      <td>7.0</td>\n",
       "    </tr>\n",
       "    <tr>\n",
       "      <td>2014158</td>\n",
       "      <td>22201266</td>\n",
       "      <td>2020-10-06</td>\n",
       "      <td>f</td>\n",
       "      <td>$106.00</td>\n",
       "      <td>$106.00</td>\n",
       "      <td>2.0</td>\n",
       "      <td>7.0</td>\n",
       "    </tr>\n",
       "    <tr>\n",
       "      <td>2014157</td>\n",
       "      <td>22201266</td>\n",
       "      <td>2020-10-05</td>\n",
       "      <td>f</td>\n",
       "      <td>$106.00</td>\n",
       "      <td>$106.00</td>\n",
       "      <td>2.0</td>\n",
       "      <td>7.0</td>\n",
       "    </tr>\n",
       "    <tr>\n",
       "      <td>...</td>\n",
       "      <td>...</td>\n",
       "      <td>...</td>\n",
       "      <td>...</td>\n",
       "      <td>...</td>\n",
       "      <td>...</td>\n",
       "      <td>...</td>\n",
       "      <td>...</td>\n",
       "    </tr>\n",
       "    <tr>\n",
       "      <td>664825</td>\n",
       "      <td>9750676</td>\n",
       "      <td>2019-09-22</td>\n",
       "      <td>f</td>\n",
       "      <td>$350.00</td>\n",
       "      <td>$350.00</td>\n",
       "      <td>1.0</td>\n",
       "      <td>7.0</td>\n",
       "    </tr>\n",
       "    <tr>\n",
       "      <td>3000794</td>\n",
       "      <td>34888096</td>\n",
       "      <td>2019-09-22</td>\n",
       "      <td>t</td>\n",
       "      <td>$111.00</td>\n",
       "      <td>$111.00</td>\n",
       "      <td>30.0</td>\n",
       "      <td>1125.0</td>\n",
       "    </tr>\n",
       "    <tr>\n",
       "      <td>2799665</td>\n",
       "      <td>32353389</td>\n",
       "      <td>2019-09-22</td>\n",
       "      <td>f</td>\n",
       "      <td>$24.00</td>\n",
       "      <td>$24.00</td>\n",
       "      <td>1.0</td>\n",
       "      <td>14.0</td>\n",
       "    </tr>\n",
       "    <tr>\n",
       "      <td>1431341</td>\n",
       "      <td>16671355</td>\n",
       "      <td>2019-09-22</td>\n",
       "      <td>t</td>\n",
       "      <td>$199.00</td>\n",
       "      <td>$199.00</td>\n",
       "      <td>2.0</td>\n",
       "      <td>1125.0</td>\n",
       "    </tr>\n",
       "    <tr>\n",
       "      <td>0</td>\n",
       "      <td>3344</td>\n",
       "      <td>2019-09-22</td>\n",
       "      <td>f</td>\n",
       "      <td>$58.00</td>\n",
       "      <td>$58.00</td>\n",
       "      <td>90.0</td>\n",
       "      <td>720.0</td>\n",
       "    </tr>\n",
       "  </tbody>\n",
       "</table>\n",
       "<p>3354070 rows × 7 columns</p>\n",
       "</div>"
      ],
      "text/plain": [
       "         listing_id        date available    price adjusted_price  \\\n",
       "2014161    22201266  2020-10-09         f  $107.00        $107.00   \n",
       "2014160    22201266  2020-10-08         f  $106.00        $106.00   \n",
       "2014159    22201266  2020-10-07         f  $106.00        $106.00   \n",
       "2014158    22201266  2020-10-06         f  $106.00        $106.00   \n",
       "2014157    22201266  2020-10-05         f  $106.00        $106.00   \n",
       "...             ...         ...       ...      ...            ...   \n",
       "664825      9750676  2019-09-22         f  $350.00        $350.00   \n",
       "3000794    34888096  2019-09-22         t  $111.00        $111.00   \n",
       "2799665    32353389  2019-09-22         f   $24.00         $24.00   \n",
       "1431341    16671355  2019-09-22         t  $199.00        $199.00   \n",
       "0              3344  2019-09-22         f   $58.00         $58.00   \n",
       "\n",
       "         minimum_nights  maximum_nights  \n",
       "2014161             2.0             7.0  \n",
       "2014160             2.0             7.0  \n",
       "2014159             2.0             7.0  \n",
       "2014158             2.0             7.0  \n",
       "2014157             2.0             7.0  \n",
       "...                 ...             ...  \n",
       "664825              1.0             7.0  \n",
       "3000794            30.0          1125.0  \n",
       "2799665             1.0            14.0  \n",
       "1431341             2.0          1125.0  \n",
       "0                  90.0           720.0  \n",
       "\n",
       "[3354070 rows x 7 columns]"
      ]
     },
     "execution_count": 21,
     "metadata": {},
     "output_type": "execute_result"
    }
   ],
   "source": [
    "calendar.sort_values(by='date', ascending=False)"
   ]
  },
  {
   "cell_type": "code",
   "execution_count": 27,
   "metadata": {},
   "outputs": [
    {
     "data": {
      "text/plain": [
       "f    2178644\n",
       "t    1175426\n",
       "Name: available, dtype: int64"
      ]
     },
     "execution_count": 27,
     "metadata": {},
     "output_type": "execute_result"
    }
   ],
   "source": [
    "calendar['available'].value_counts()"
   ]
  },
  {
   "cell_type": "markdown",
   "metadata": {},
   "source": [
    "### Data Dictionary"
   ]
  },
  {
   "cell_type": "markdown",
   "metadata": {},
   "source": [
    "| File | Variable Name | Data Type | Description |\n",
    "| --- | --- | --- | --- |\n",
    "| reviews | listing_id | integer | corresponds to the unique id of the listing in the listings dataset |\n",
    "| reviews | id | integer | unique id of the review |\n",
    "| reviews | date | object | date the review was given |\n",
    "| reviews | reviewer_id | integer | unique id of the reviewer |\n",
    "| reviews | reviewer_name | object | username of the reviewer | \n",
    "| reviews | comments | object | comments left by reviewer |\n",
    "| listings | id | integer | unique id for the listing |\n",
    "| listings | name | object | name of the listing |\n",
    "| listings | host_id | integer | unique id of the host |\n",
    "| listings | host_name | object | username of the host |\n",
    "| listings | neighbourhood_group | float | group a neighborhood is associated with (all values are missing) |\n",
    "| listings | neighbourhood | object | D.C. neighbourhood in which the listing is located |\n",
    "| listings | latitude | float | latitude of location of listing |\n",
    "| listings | longitude | float | longitude of location of listing |\n",
    "| listings | room_type | object | four possible room types:<br>-entire home/apt<br>-private room<br>-shared room<br>-hotel room |\n",
    "| listings | price | integer | price per night for listing at time data was pulled |\n",
    "| listings | minimum_nights | integer | Minimum number of nights a booking must be for the given listing (set by the host) |\n",
    "| listings | number_of_reviews | integer | total number of reviews left for listing |\n",
    "| listings | last_review | object | date of last review left |\n",
    "| listings | reviews_per_month | float | number of reviews left per month (average) |\n",
    "| listings | calculated_host_listings_count | integer | number of listings under host id |\n",
    "| listings | availability_365 | integer | number of days listing is available for rent in 365 day span |\n",
    "| calendar | listing_id | integer | corresponds to the unique id of the listing in the listings dataset |\n",
    "| calendar | date | object | future date (based on time data was pulled) that given listing is available for rent |\n",
    "| calendar | available | object | possible values of 'f' and 't' but not able to determine what these stand for |\n",
    "| calendar | price | object | price per night (at time data was pulled) of listing for date provided |\n",
    "| calendar | adjusted_price | object | an adjustment of price per night, but not yet able to determine how it was adjusted |\n",
    "| calendar | minimum_nights | float | minimum number of nights listing is available to be booked for (based on availability and minimum number of nights required) |\n",
    "| calendar | maximum_nights | float | maximum number of nights listing is available to be booked for (based on availability and minimum number of nights required) |\n",
    "| neighbourhoods | neighbourhood_group | float | group a neighborhood is associated with (all values are missing) |\n",
    "| neighbourhoods | neighbourhood | object | D.C. neighbourhood |"
   ]
  },
  {
   "cell_type": "code",
   "execution_count": null,
   "metadata": {},
   "outputs": [],
   "source": []
  }
 ],
 "metadata": {
  "kernelspec": {
   "display_name": "Python 3",
   "language": "python",
   "name": "python3"
  },
  "language_info": {
   "codemirror_mode": {
    "name": "ipython",
    "version": 3
   },
   "file_extension": ".py",
   "mimetype": "text/x-python",
   "name": "python",
   "nbconvert_exporter": "python",
   "pygments_lexer": "ipython3",
   "version": "3.7.3"
  }
 },
 "nbformat": 4,
 "nbformat_minor": 2
}
