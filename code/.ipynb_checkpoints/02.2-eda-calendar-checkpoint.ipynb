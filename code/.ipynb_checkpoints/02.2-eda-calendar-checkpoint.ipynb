{
 "cells": [
  {
   "cell_type": "markdown",
   "metadata": {},
   "source": [
    "# EDA: Calendar"
   ]
  },
  {
   "cell_type": "markdown",
   "metadata": {},
   "source": [
    "This notebooked is intended to conduct exploratory data analysis on the calendar.csv files. "
   ]
  },
  {
   "cell_type": "markdown",
   "metadata": {},
   "source": [
    "---"
   ]
  },
  {
   "cell_type": "markdown",
   "metadata": {},
   "source": [
    "## Import Libraries & Read in Data"
   ]
  },
  {
   "cell_type": "code",
   "execution_count": 1,
   "metadata": {},
   "outputs": [],
   "source": [
    "import pandas as pd\n",
    "import matplotlib.pyplot as plt\n",
    "import os\n",
    "\n",
    "%matplotlib inline"
   ]
  },
  {
   "cell_type": "code",
   "execution_count": 2,
   "metadata": {},
   "outputs": [
    {
     "data": {
      "text/plain": [
       "(3354070, 7)"
      ]
     },
     "execution_count": 2,
     "metadata": {},
     "output_type": "execute_result"
    }
   ],
   "source": [
    "# Read in primary calendar data (collected september 2019)\n",
    "calendar = pd.read_csv('/Users/jessieowens2/Desktop/general_assembly/airbnb_data/calendar_9_19.csv')\n",
    "# Look at shape of calendar data\n",
    "calendar.shape"
   ]
  },
  {
   "cell_type": "code",
   "execution_count": 3,
   "metadata": {},
   "outputs": [
    {
     "data": {
      "text/plain": [
       "(3283305, 7)"
      ]
     },
     "execution_count": 3,
     "metadata": {},
     "output_type": "execute_result"
    }
   ],
   "source": [
    "# Read in calendar data\n",
    "calendar_1_19 = pd.read_csv('/Users/jessieowens2/Desktop/general_assembly/airbnb_data/calendar_1_19.csv')\n",
    "# Look at shape of calendar data\n",
    "calendar_1_19.shape"
   ]
  },
  {
   "cell_type": "markdown",
   "metadata": {},
   "source": [
    "---"
   ]
  },
  {
   "cell_type": "markdown",
   "metadata": {},
   "source": [
    "## Summary Stats"
   ]
  },
  {
   "cell_type": "code",
   "execution_count": 4,
   "metadata": {},
   "outputs": [
    {
     "data": {
      "text/html": [
       "<div>\n",
       "<style scoped>\n",
       "    .dataframe tbody tr th:only-of-type {\n",
       "        vertical-align: middle;\n",
       "    }\n",
       "\n",
       "    .dataframe tbody tr th {\n",
       "        vertical-align: top;\n",
       "    }\n",
       "\n",
       "    .dataframe thead th {\n",
       "        text-align: right;\n",
       "    }\n",
       "</style>\n",
       "<table border=\"1\" class=\"dataframe\">\n",
       "  <thead>\n",
       "    <tr style=\"text-align: right;\">\n",
       "      <th></th>\n",
       "      <th>listing_id</th>\n",
       "      <th>date</th>\n",
       "      <th>available</th>\n",
       "      <th>price</th>\n",
       "      <th>adjusted_price</th>\n",
       "      <th>minimum_nights</th>\n",
       "      <th>maximum_nights</th>\n",
       "    </tr>\n",
       "  </thead>\n",
       "  <tbody>\n",
       "    <tr>\n",
       "      <td>3354065</td>\n",
       "      <td>38478357</td>\n",
       "      <td>2020-09-16</td>\n",
       "      <td>f</td>\n",
       "      <td>$87.00</td>\n",
       "      <td>$87.00</td>\n",
       "      <td>2.0</td>\n",
       "      <td>1125.0</td>\n",
       "    </tr>\n",
       "    <tr>\n",
       "      <td>3354066</td>\n",
       "      <td>38478357</td>\n",
       "      <td>2020-09-17</td>\n",
       "      <td>f</td>\n",
       "      <td>$87.00</td>\n",
       "      <td>$87.00</td>\n",
       "      <td>2.0</td>\n",
       "      <td>1125.0</td>\n",
       "    </tr>\n",
       "    <tr>\n",
       "      <td>3354067</td>\n",
       "      <td>38478357</td>\n",
       "      <td>2020-09-18</td>\n",
       "      <td>f</td>\n",
       "      <td>$87.00</td>\n",
       "      <td>$87.00</td>\n",
       "      <td>2.0</td>\n",
       "      <td>1125.0</td>\n",
       "    </tr>\n",
       "    <tr>\n",
       "      <td>3354068</td>\n",
       "      <td>38478357</td>\n",
       "      <td>2020-09-19</td>\n",
       "      <td>f</td>\n",
       "      <td>$87.00</td>\n",
       "      <td>$87.00</td>\n",
       "      <td>2.0</td>\n",
       "      <td>1125.0</td>\n",
       "    </tr>\n",
       "    <tr>\n",
       "      <td>3354069</td>\n",
       "      <td>38478357</td>\n",
       "      <td>2020-09-20</td>\n",
       "      <td>f</td>\n",
       "      <td>$87.00</td>\n",
       "      <td>$87.00</td>\n",
       "      <td>2.0</td>\n",
       "      <td>1125.0</td>\n",
       "    </tr>\n",
       "  </tbody>\n",
       "</table>\n",
       "</div>"
      ],
      "text/plain": [
       "         listing_id        date available   price adjusted_price  \\\n",
       "3354065    38478357  2020-09-16         f  $87.00         $87.00   \n",
       "3354066    38478357  2020-09-17         f  $87.00         $87.00   \n",
       "3354067    38478357  2020-09-18         f  $87.00         $87.00   \n",
       "3354068    38478357  2020-09-19         f  $87.00         $87.00   \n",
       "3354069    38478357  2020-09-20         f  $87.00         $87.00   \n",
       "\n",
       "         minimum_nights  maximum_nights  \n",
       "3354065             2.0          1125.0  \n",
       "3354066             2.0          1125.0  \n",
       "3354067             2.0          1125.0  \n",
       "3354068             2.0          1125.0  \n",
       "3354069             2.0          1125.0  "
      ]
     },
     "execution_count": 4,
     "metadata": {},
     "output_type": "execute_result"
    }
   ],
   "source": [
    "# Look at calendar data\n",
    "calendar.tail()"
   ]
  },
  {
   "cell_type": "code",
   "execution_count": 5,
   "metadata": {},
   "outputs": [
    {
     "data": {
      "text/html": [
       "<div>\n",
       "<style scoped>\n",
       "    .dataframe tbody tr th:only-of-type {\n",
       "        vertical-align: middle;\n",
       "    }\n",
       "\n",
       "    .dataframe tbody tr th {\n",
       "        vertical-align: top;\n",
       "    }\n",
       "\n",
       "    .dataframe thead th {\n",
       "        text-align: right;\n",
       "    }\n",
       "</style>\n",
       "<table border=\"1\" class=\"dataframe\">\n",
       "  <thead>\n",
       "    <tr style=\"text-align: right;\">\n",
       "      <th></th>\n",
       "      <th>listing_id</th>\n",
       "      <th>date</th>\n",
       "      <th>available</th>\n",
       "      <th>price</th>\n",
       "      <th>adjusted_price</th>\n",
       "      <th>minimum_nights</th>\n",
       "      <th>maximum_nights</th>\n",
       "    </tr>\n",
       "  </thead>\n",
       "  <tbody>\n",
       "    <tr>\n",
       "      <td>0</td>\n",
       "      <td>3362</td>\n",
       "      <td>2019-01-17</td>\n",
       "      <td>t</td>\n",
       "      <td>$295.00</td>\n",
       "      <td>$295.00</td>\n",
       "      <td>2.0</td>\n",
       "      <td>365.0</td>\n",
       "    </tr>\n",
       "    <tr>\n",
       "      <td>1</td>\n",
       "      <td>3362</td>\n",
       "      <td>2019-01-18</td>\n",
       "      <td>f</td>\n",
       "      <td>$450.00</td>\n",
       "      <td>$450.00</td>\n",
       "      <td>2.0</td>\n",
       "      <td>365.0</td>\n",
       "    </tr>\n",
       "    <tr>\n",
       "      <td>2</td>\n",
       "      <td>3362</td>\n",
       "      <td>2019-01-19</td>\n",
       "      <td>f</td>\n",
       "      <td>$450.00</td>\n",
       "      <td>$450.00</td>\n",
       "      <td>2.0</td>\n",
       "      <td>365.0</td>\n",
       "    </tr>\n",
       "    <tr>\n",
       "      <td>3</td>\n",
       "      <td>3362</td>\n",
       "      <td>2019-01-20</td>\n",
       "      <td>t</td>\n",
       "      <td>$229.00</td>\n",
       "      <td>$229.00</td>\n",
       "      <td>2.0</td>\n",
       "      <td>365.0</td>\n",
       "    </tr>\n",
       "    <tr>\n",
       "      <td>4</td>\n",
       "      <td>3362</td>\n",
       "      <td>2019-01-21</td>\n",
       "      <td>t</td>\n",
       "      <td>$229.00</td>\n",
       "      <td>$229.00</td>\n",
       "      <td>2.0</td>\n",
       "      <td>365.0</td>\n",
       "    </tr>\n",
       "  </tbody>\n",
       "</table>\n",
       "</div>"
      ],
      "text/plain": [
       "   listing_id        date available    price adjusted_price  minimum_nights  \\\n",
       "0        3362  2019-01-17         t  $295.00        $295.00             2.0   \n",
       "1        3362  2019-01-18         f  $450.00        $450.00             2.0   \n",
       "2        3362  2019-01-19         f  $450.00        $450.00             2.0   \n",
       "3        3362  2019-01-20         t  $229.00        $229.00             2.0   \n",
       "4        3362  2019-01-21         t  $229.00        $229.00             2.0   \n",
       "\n",
       "   maximum_nights  \n",
       "0           365.0  \n",
       "1           365.0  \n",
       "2           365.0  \n",
       "3           365.0  \n",
       "4           365.0  "
      ]
     },
     "execution_count": 5,
     "metadata": {},
     "output_type": "execute_result"
    }
   ],
   "source": [
    "calendar_1_19.head()"
   ]
  },
  {
   "cell_type": "code",
   "execution_count": 6,
   "metadata": {},
   "outputs": [
    {
     "data": {
      "text/html": [
       "<div>\n",
       "<style scoped>\n",
       "    .dataframe tbody tr th:only-of-type {\n",
       "        vertical-align: middle;\n",
       "    }\n",
       "\n",
       "    .dataframe tbody tr th {\n",
       "        vertical-align: top;\n",
       "    }\n",
       "\n",
       "    .dataframe thead th {\n",
       "        text-align: right;\n",
       "    }\n",
       "</style>\n",
       "<table border=\"1\" class=\"dataframe\">\n",
       "  <thead>\n",
       "    <tr style=\"text-align: right;\">\n",
       "      <th></th>\n",
       "      <th>listing_id</th>\n",
       "      <th>date</th>\n",
       "      <th>available</th>\n",
       "      <th>price</th>\n",
       "      <th>adjusted_price</th>\n",
       "      <th>minimum_nights</th>\n",
       "      <th>maximum_nights</th>\n",
       "    </tr>\n",
       "  </thead>\n",
       "  <tbody>\n",
       "    <tr>\n",
       "      <td>3283300</td>\n",
       "      <td>31558768</td>\n",
       "      <td>2020-01-13</td>\n",
       "      <td>f</td>\n",
       "      <td>$133.00</td>\n",
       "      <td>$133.00</td>\n",
       "      <td>1.0</td>\n",
       "      <td>1125.0</td>\n",
       "    </tr>\n",
       "    <tr>\n",
       "      <td>3283301</td>\n",
       "      <td>31558768</td>\n",
       "      <td>2020-01-14</td>\n",
       "      <td>f</td>\n",
       "      <td>$133.00</td>\n",
       "      <td>$133.00</td>\n",
       "      <td>1.0</td>\n",
       "      <td>1125.0</td>\n",
       "    </tr>\n",
       "    <tr>\n",
       "      <td>3283302</td>\n",
       "      <td>31558768</td>\n",
       "      <td>2020-01-15</td>\n",
       "      <td>f</td>\n",
       "      <td>$133.00</td>\n",
       "      <td>$133.00</td>\n",
       "      <td>1.0</td>\n",
       "      <td>1125.0</td>\n",
       "    </tr>\n",
       "    <tr>\n",
       "      <td>3283303</td>\n",
       "      <td>31558768</td>\n",
       "      <td>2020-01-16</td>\n",
       "      <td>f</td>\n",
       "      <td>$133.00</td>\n",
       "      <td>$133.00</td>\n",
       "      <td>1.0</td>\n",
       "      <td>1125.0</td>\n",
       "    </tr>\n",
       "    <tr>\n",
       "      <td>3283304</td>\n",
       "      <td>31558768</td>\n",
       "      <td>2020-01-17</td>\n",
       "      <td>f</td>\n",
       "      <td>$133.00</td>\n",
       "      <td>$133.00</td>\n",
       "      <td>1.0</td>\n",
       "      <td>1125.0</td>\n",
       "    </tr>\n",
       "  </tbody>\n",
       "</table>\n",
       "</div>"
      ],
      "text/plain": [
       "         listing_id        date available    price adjusted_price  \\\n",
       "3283300    31558768  2020-01-13         f  $133.00        $133.00   \n",
       "3283301    31558768  2020-01-14         f  $133.00        $133.00   \n",
       "3283302    31558768  2020-01-15         f  $133.00        $133.00   \n",
       "3283303    31558768  2020-01-16         f  $133.00        $133.00   \n",
       "3283304    31558768  2020-01-17         f  $133.00        $133.00   \n",
       "\n",
       "         minimum_nights  maximum_nights  \n",
       "3283300             1.0          1125.0  \n",
       "3283301             1.0          1125.0  \n",
       "3283302             1.0          1125.0  \n",
       "3283303             1.0          1125.0  \n",
       "3283304             1.0          1125.0  "
      ]
     },
     "execution_count": 6,
     "metadata": {},
     "output_type": "execute_result"
    }
   ],
   "source": [
    "calendar_1_19.tail()"
   ]
  },
  {
   "cell_type": "markdown",
   "metadata": {},
   "source": [
    "---"
   ]
  },
  {
   "cell_type": "markdown",
   "metadata": {},
   "source": [
    "## Exploring the Data"
   ]
  },
  {
   "cell_type": "code",
   "execution_count": 7,
   "metadata": {},
   "outputs": [
    {
     "data": {
      "text/html": [
       "<div>\n",
       "<style scoped>\n",
       "    .dataframe tbody tr th:only-of-type {\n",
       "        vertical-align: middle;\n",
       "    }\n",
       "\n",
       "    .dataframe tbody tr th {\n",
       "        vertical-align: top;\n",
       "    }\n",
       "\n",
       "    .dataframe thead th {\n",
       "        text-align: right;\n",
       "    }\n",
       "</style>\n",
       "<table border=\"1\" class=\"dataframe\">\n",
       "  <thead>\n",
       "    <tr style=\"text-align: right;\">\n",
       "      <th></th>\n",
       "      <th>listing_id</th>\n",
       "      <th>date</th>\n",
       "      <th>available</th>\n",
       "      <th>price</th>\n",
       "      <th>adjusted_price</th>\n",
       "      <th>minimum_nights</th>\n",
       "      <th>maximum_nights</th>\n",
       "    </tr>\n",
       "  </thead>\n",
       "  <tbody>\n",
       "    <tr>\n",
       "      <td>2014161</td>\n",
       "      <td>22201266</td>\n",
       "      <td>2020-10-09</td>\n",
       "      <td>f</td>\n",
       "      <td>$107.00</td>\n",
       "      <td>$107.00</td>\n",
       "      <td>2.0</td>\n",
       "      <td>7.0</td>\n",
       "    </tr>\n",
       "    <tr>\n",
       "      <td>2014160</td>\n",
       "      <td>22201266</td>\n",
       "      <td>2020-10-08</td>\n",
       "      <td>f</td>\n",
       "      <td>$106.00</td>\n",
       "      <td>$106.00</td>\n",
       "      <td>2.0</td>\n",
       "      <td>7.0</td>\n",
       "    </tr>\n",
       "    <tr>\n",
       "      <td>2014159</td>\n",
       "      <td>22201266</td>\n",
       "      <td>2020-10-07</td>\n",
       "      <td>f</td>\n",
       "      <td>$106.00</td>\n",
       "      <td>$106.00</td>\n",
       "      <td>2.0</td>\n",
       "      <td>7.0</td>\n",
       "    </tr>\n",
       "    <tr>\n",
       "      <td>2014158</td>\n",
       "      <td>22201266</td>\n",
       "      <td>2020-10-06</td>\n",
       "      <td>f</td>\n",
       "      <td>$106.00</td>\n",
       "      <td>$106.00</td>\n",
       "      <td>2.0</td>\n",
       "      <td>7.0</td>\n",
       "    </tr>\n",
       "    <tr>\n",
       "      <td>2014157</td>\n",
       "      <td>22201266</td>\n",
       "      <td>2020-10-05</td>\n",
       "      <td>f</td>\n",
       "      <td>$106.00</td>\n",
       "      <td>$106.00</td>\n",
       "      <td>2.0</td>\n",
       "      <td>7.0</td>\n",
       "    </tr>\n",
       "    <tr>\n",
       "      <td>...</td>\n",
       "      <td>...</td>\n",
       "      <td>...</td>\n",
       "      <td>...</td>\n",
       "      <td>...</td>\n",
       "      <td>...</td>\n",
       "      <td>...</td>\n",
       "      <td>...</td>\n",
       "    </tr>\n",
       "    <tr>\n",
       "      <td>664825</td>\n",
       "      <td>9750676</td>\n",
       "      <td>2019-09-22</td>\n",
       "      <td>f</td>\n",
       "      <td>$350.00</td>\n",
       "      <td>$350.00</td>\n",
       "      <td>1.0</td>\n",
       "      <td>7.0</td>\n",
       "    </tr>\n",
       "    <tr>\n",
       "      <td>3000794</td>\n",
       "      <td>34888096</td>\n",
       "      <td>2019-09-22</td>\n",
       "      <td>t</td>\n",
       "      <td>$111.00</td>\n",
       "      <td>$111.00</td>\n",
       "      <td>30.0</td>\n",
       "      <td>1125.0</td>\n",
       "    </tr>\n",
       "    <tr>\n",
       "      <td>2799665</td>\n",
       "      <td>32353389</td>\n",
       "      <td>2019-09-22</td>\n",
       "      <td>f</td>\n",
       "      <td>$24.00</td>\n",
       "      <td>$24.00</td>\n",
       "      <td>1.0</td>\n",
       "      <td>14.0</td>\n",
       "    </tr>\n",
       "    <tr>\n",
       "      <td>1431341</td>\n",
       "      <td>16671355</td>\n",
       "      <td>2019-09-22</td>\n",
       "      <td>t</td>\n",
       "      <td>$199.00</td>\n",
       "      <td>$199.00</td>\n",
       "      <td>2.0</td>\n",
       "      <td>1125.0</td>\n",
       "    </tr>\n",
       "    <tr>\n",
       "      <td>0</td>\n",
       "      <td>3344</td>\n",
       "      <td>2019-09-22</td>\n",
       "      <td>f</td>\n",
       "      <td>$58.00</td>\n",
       "      <td>$58.00</td>\n",
       "      <td>90.0</td>\n",
       "      <td>720.0</td>\n",
       "    </tr>\n",
       "  </tbody>\n",
       "</table>\n",
       "<p>3354070 rows × 7 columns</p>\n",
       "</div>"
      ],
      "text/plain": [
       "         listing_id        date available    price adjusted_price  \\\n",
       "2014161    22201266  2020-10-09         f  $107.00        $107.00   \n",
       "2014160    22201266  2020-10-08         f  $106.00        $106.00   \n",
       "2014159    22201266  2020-10-07         f  $106.00        $106.00   \n",
       "2014158    22201266  2020-10-06         f  $106.00        $106.00   \n",
       "2014157    22201266  2020-10-05         f  $106.00        $106.00   \n",
       "...             ...         ...       ...      ...            ...   \n",
       "664825      9750676  2019-09-22         f  $350.00        $350.00   \n",
       "3000794    34888096  2019-09-22         t  $111.00        $111.00   \n",
       "2799665    32353389  2019-09-22         f   $24.00         $24.00   \n",
       "1431341    16671355  2019-09-22         t  $199.00        $199.00   \n",
       "0              3344  2019-09-22         f   $58.00         $58.00   \n",
       "\n",
       "         minimum_nights  maximum_nights  \n",
       "2014161             2.0             7.0  \n",
       "2014160             2.0             7.0  \n",
       "2014159             2.0             7.0  \n",
       "2014158             2.0             7.0  \n",
       "2014157             2.0             7.0  \n",
       "...                 ...             ...  \n",
       "664825              1.0             7.0  \n",
       "3000794            30.0          1125.0  \n",
       "2799665             1.0            14.0  \n",
       "1431341             2.0          1125.0  \n",
       "0                  90.0           720.0  \n",
       "\n",
       "[3354070 rows x 7 columns]"
      ]
     },
     "execution_count": 7,
     "metadata": {},
     "output_type": "execute_result"
    }
   ],
   "source": [
    "# sort by date\n",
    "calendar.sort_values(by='date', ascending=False)"
   ]
  },
  {
   "cell_type": "code",
   "execution_count": 8,
   "metadata": {},
   "outputs": [
    {
     "data": {
      "text/plain": [
       "f    2178644\n",
       "t    1175426\n",
       "Name: available, dtype: int64"
      ]
     },
     "execution_count": 8,
     "metadata": {},
     "output_type": "execute_result"
    }
   ],
   "source": [
    "# what does available represent\n",
    "calendar['available'].value_counts()\n",
    "# The values t and f might stand for true and false. I will have to look into this with more EDA to get a better \n",
    "# idea of this or will just not use this data feature. "
   ]
  },
  {
   "cell_type": "code",
   "execution_count": 9,
   "metadata": {},
   "outputs": [
    {
     "data": {
      "text/plain": [
       "9216776     366\n",
       "25376900    366\n",
       "14732181    366\n",
       "25114096    366\n",
       "19055659    366\n",
       "           ... \n",
       "29231759    365\n",
       "7742346     365\n",
       "8402248     365\n",
       "5593060     365\n",
       "25620702    365\n",
       "Name: listing_id, Length: 9189, dtype: int64"
      ]
     },
     "execution_count": 9,
     "metadata": {},
     "output_type": "execute_result"
    }
   ],
   "source": [
    "calendar['listing_id'].value_counts()"
   ]
  },
  {
   "cell_type": "code",
   "execution_count": 10,
   "metadata": {},
   "outputs": [],
   "source": [
    "# trying to plot price vs data\n",
    "# plt.figure(figsize=(16, 14))\n",
    "# # need to split up by listing id? or how\n",
    "\n",
    "# plt.plot(calendar_1_19['price'], calendar_1_19['date'])\n",
    "\n",
    "# # plt.plot(y_test.index, y_test.values, color = 'orange')\n",
    "# plt.rcParams['agg.path.chunksize'] = 10_000_000"
   ]
  },
  {
   "cell_type": "code",
   "execution_count": 11,
   "metadata": {},
   "outputs": [
    {
     "data": {
      "text/plain": [
       "listing_id        0\n",
       "date              0\n",
       "available         0\n",
       "price             0\n",
       "adjusted_price    0\n",
       "minimum_nights    3\n",
       "maximum_nights    3\n",
       "dtype: int64"
      ]
     },
     "execution_count": 11,
     "metadata": {},
     "output_type": "execute_result"
    }
   ],
   "source": [
    "# Check for null values\n",
    "calendar.isnull().sum()"
   ]
  },
  {
   "cell_type": "code",
   "execution_count": 12,
   "metadata": {
    "scrolled": true
   },
   "outputs": [
    {
     "data": {
      "text/html": [
       "<div>\n",
       "<style scoped>\n",
       "    .dataframe tbody tr th:only-of-type {\n",
       "        vertical-align: middle;\n",
       "    }\n",
       "\n",
       "    .dataframe tbody tr th {\n",
       "        vertical-align: top;\n",
       "    }\n",
       "\n",
       "    .dataframe thead th {\n",
       "        text-align: right;\n",
       "    }\n",
       "</style>\n",
       "<table border=\"1\" class=\"dataframe\">\n",
       "  <thead>\n",
       "    <tr style=\"text-align: right;\">\n",
       "      <th></th>\n",
       "      <th>listing_id</th>\n",
       "      <th>date</th>\n",
       "      <th>available</th>\n",
       "      <th>price</th>\n",
       "      <th>adjusted_price</th>\n",
       "      <th>minimum_nights</th>\n",
       "      <th>maximum_nights</th>\n",
       "    </tr>\n",
       "  </thead>\n",
       "  <tbody>\n",
       "    <tr>\n",
       "      <td>949837</td>\n",
       "      <td>14236545</td>\n",
       "      <td>2019-09-22</td>\n",
       "      <td>f</td>\n",
       "      <td>$60.00</td>\n",
       "      <td>$60.00</td>\n",
       "      <td>NaN</td>\n",
       "      <td>NaN</td>\n",
       "    </tr>\n",
       "    <tr>\n",
       "      <td>1346378</td>\n",
       "      <td>16528608</td>\n",
       "      <td>2019-09-22</td>\n",
       "      <td>f</td>\n",
       "      <td>$170.00</td>\n",
       "      <td>$170.00</td>\n",
       "      <td>NaN</td>\n",
       "      <td>NaN</td>\n",
       "    </tr>\n",
       "    <tr>\n",
       "      <td>2509476</td>\n",
       "      <td>28757369</td>\n",
       "      <td>2019-09-22</td>\n",
       "      <td>f</td>\n",
       "      <td>$72.00</td>\n",
       "      <td>$72.00</td>\n",
       "      <td>NaN</td>\n",
       "      <td>NaN</td>\n",
       "    </tr>\n",
       "  </tbody>\n",
       "</table>\n",
       "</div>"
      ],
      "text/plain": [
       "         listing_id        date available    price adjusted_price  \\\n",
       "949837     14236545  2019-09-22         f   $60.00         $60.00   \n",
       "1346378    16528608  2019-09-22         f  $170.00        $170.00   \n",
       "2509476    28757369  2019-09-22         f   $72.00         $72.00   \n",
       "\n",
       "         minimum_nights  maximum_nights  \n",
       "949837              NaN             NaN  \n",
       "1346378             NaN             NaN  \n",
       "2509476             NaN             NaN  "
      ]
     },
     "execution_count": 12,
     "metadata": {},
     "output_type": "execute_result"
    }
   ],
   "source": [
    "# Very small amount of data missing, check out individually to see if it's for the same 3 rows. \n",
    "calendar[calendar['maximum_nights'].isnull()]"
   ]
  },
  {
   "cell_type": "code",
   "execution_count": 13,
   "metadata": {},
   "outputs": [],
   "source": [
    "# fill nans with 0s\n",
    "calendar['minimum_nights'].fillna(0, inplace=True)"
   ]
  },
  {
   "cell_type": "code",
   "execution_count": 14,
   "metadata": {},
   "outputs": [],
   "source": [
    "# fill nans with 0s\n",
    "calendar['maximum_nights'].fillna(0, inplace=True)"
   ]
  },
  {
   "cell_type": "code",
   "execution_count": 15,
   "metadata": {},
   "outputs": [
    {
     "data": {
      "text/plain": [
       "listing_id          int64\n",
       "date               object\n",
       "available          object\n",
       "price              object\n",
       "adjusted_price     object\n",
       "minimum_nights    float64\n",
       "maximum_nights    float64\n",
       "dtype: object"
      ]
     },
     "execution_count": 15,
     "metadata": {},
     "output_type": "execute_result"
    }
   ],
   "source": [
    "# Check data types\n",
    "calendar.dtypes"
   ]
  },
  {
   "cell_type": "code",
   "execution_count": 16,
   "metadata": {},
   "outputs": [
    {
     "data": {
      "text/html": [
       "<div>\n",
       "<style scoped>\n",
       "    .dataframe tbody tr th:only-of-type {\n",
       "        vertical-align: middle;\n",
       "    }\n",
       "\n",
       "    .dataframe tbody tr th {\n",
       "        vertical-align: top;\n",
       "    }\n",
       "\n",
       "    .dataframe thead th {\n",
       "        text-align: right;\n",
       "    }\n",
       "</style>\n",
       "<table border=\"1\" class=\"dataframe\">\n",
       "  <thead>\n",
       "    <tr style=\"text-align: right;\">\n",
       "      <th></th>\n",
       "      <th>listing_id</th>\n",
       "      <th>date</th>\n",
       "      <th>available</th>\n",
       "      <th>price</th>\n",
       "      <th>adjusted_price</th>\n",
       "      <th>minimum_nights</th>\n",
       "      <th>maximum_nights</th>\n",
       "    </tr>\n",
       "  </thead>\n",
       "  <tbody>\n",
       "    <tr>\n",
       "      <td>2014161</td>\n",
       "      <td>22201266</td>\n",
       "      <td>2020-10-09</td>\n",
       "      <td>f</td>\n",
       "      <td>$107.00</td>\n",
       "      <td>$107.00</td>\n",
       "      <td>2.0</td>\n",
       "      <td>7.0</td>\n",
       "    </tr>\n",
       "    <tr>\n",
       "      <td>2014160</td>\n",
       "      <td>22201266</td>\n",
       "      <td>2020-10-08</td>\n",
       "      <td>f</td>\n",
       "      <td>$106.00</td>\n",
       "      <td>$106.00</td>\n",
       "      <td>2.0</td>\n",
       "      <td>7.0</td>\n",
       "    </tr>\n",
       "    <tr>\n",
       "      <td>2014159</td>\n",
       "      <td>22201266</td>\n",
       "      <td>2020-10-07</td>\n",
       "      <td>f</td>\n",
       "      <td>$106.00</td>\n",
       "      <td>$106.00</td>\n",
       "      <td>2.0</td>\n",
       "      <td>7.0</td>\n",
       "    </tr>\n",
       "    <tr>\n",
       "      <td>2014158</td>\n",
       "      <td>22201266</td>\n",
       "      <td>2020-10-06</td>\n",
       "      <td>f</td>\n",
       "      <td>$106.00</td>\n",
       "      <td>$106.00</td>\n",
       "      <td>2.0</td>\n",
       "      <td>7.0</td>\n",
       "    </tr>\n",
       "    <tr>\n",
       "      <td>2014157</td>\n",
       "      <td>22201266</td>\n",
       "      <td>2020-10-05</td>\n",
       "      <td>f</td>\n",
       "      <td>$106.00</td>\n",
       "      <td>$106.00</td>\n",
       "      <td>2.0</td>\n",
       "      <td>7.0</td>\n",
       "    </tr>\n",
       "    <tr>\n",
       "      <td>...</td>\n",
       "      <td>...</td>\n",
       "      <td>...</td>\n",
       "      <td>...</td>\n",
       "      <td>...</td>\n",
       "      <td>...</td>\n",
       "      <td>...</td>\n",
       "      <td>...</td>\n",
       "    </tr>\n",
       "    <tr>\n",
       "      <td>664825</td>\n",
       "      <td>9750676</td>\n",
       "      <td>2019-09-22</td>\n",
       "      <td>f</td>\n",
       "      <td>$350.00</td>\n",
       "      <td>$350.00</td>\n",
       "      <td>1.0</td>\n",
       "      <td>7.0</td>\n",
       "    </tr>\n",
       "    <tr>\n",
       "      <td>3000794</td>\n",
       "      <td>34888096</td>\n",
       "      <td>2019-09-22</td>\n",
       "      <td>t</td>\n",
       "      <td>$111.00</td>\n",
       "      <td>$111.00</td>\n",
       "      <td>30.0</td>\n",
       "      <td>1125.0</td>\n",
       "    </tr>\n",
       "    <tr>\n",
       "      <td>2799665</td>\n",
       "      <td>32353389</td>\n",
       "      <td>2019-09-22</td>\n",
       "      <td>f</td>\n",
       "      <td>$24.00</td>\n",
       "      <td>$24.00</td>\n",
       "      <td>1.0</td>\n",
       "      <td>14.0</td>\n",
       "    </tr>\n",
       "    <tr>\n",
       "      <td>1431341</td>\n",
       "      <td>16671355</td>\n",
       "      <td>2019-09-22</td>\n",
       "      <td>t</td>\n",
       "      <td>$199.00</td>\n",
       "      <td>$199.00</td>\n",
       "      <td>2.0</td>\n",
       "      <td>1125.0</td>\n",
       "    </tr>\n",
       "    <tr>\n",
       "      <td>0</td>\n",
       "      <td>3344</td>\n",
       "      <td>2019-09-22</td>\n",
       "      <td>f</td>\n",
       "      <td>$58.00</td>\n",
       "      <td>$58.00</td>\n",
       "      <td>90.0</td>\n",
       "      <td>720.0</td>\n",
       "    </tr>\n",
       "  </tbody>\n",
       "</table>\n",
       "<p>3354070 rows × 7 columns</p>\n",
       "</div>"
      ],
      "text/plain": [
       "         listing_id        date available    price adjusted_price  \\\n",
       "2014161    22201266  2020-10-09         f  $107.00        $107.00   \n",
       "2014160    22201266  2020-10-08         f  $106.00        $106.00   \n",
       "2014159    22201266  2020-10-07         f  $106.00        $106.00   \n",
       "2014158    22201266  2020-10-06         f  $106.00        $106.00   \n",
       "2014157    22201266  2020-10-05         f  $106.00        $106.00   \n",
       "...             ...         ...       ...      ...            ...   \n",
       "664825      9750676  2019-09-22         f  $350.00        $350.00   \n",
       "3000794    34888096  2019-09-22         t  $111.00        $111.00   \n",
       "2799665    32353389  2019-09-22         f   $24.00         $24.00   \n",
       "1431341    16671355  2019-09-22         t  $199.00        $199.00   \n",
       "0              3344  2019-09-22         f   $58.00         $58.00   \n",
       "\n",
       "         minimum_nights  maximum_nights  \n",
       "2014161             2.0             7.0  \n",
       "2014160             2.0             7.0  \n",
       "2014159             2.0             7.0  \n",
       "2014158             2.0             7.0  \n",
       "2014157             2.0             7.0  \n",
       "...                 ...             ...  \n",
       "664825              1.0             7.0  \n",
       "3000794            30.0          1125.0  \n",
       "2799665             1.0            14.0  \n",
       "1431341             2.0          1125.0  \n",
       "0                  90.0           720.0  \n",
       "\n",
       "[3354070 rows x 7 columns]"
      ]
     },
     "execution_count": 16,
     "metadata": {},
     "output_type": "execute_result"
    }
   ],
   "source": [
    "# Sort on date column\n",
    "calendar.sort_values(by='date', ascending=False)\n",
    "# this data was pulled on 9/22/19 so only represents future listings at time of data being pulled\n",
    "# This only represents future data so won't be able to build time series off of just this."
   ]
  },
  {
   "cell_type": "code",
   "execution_count": 17,
   "metadata": {},
   "outputs": [],
   "source": [
    "# Strip dollar signs from price column\n",
    "calendar['price'] = calendar['price'].str.replace('$', '')"
   ]
  },
  {
   "cell_type": "code",
   "execution_count": 18,
   "metadata": {},
   "outputs": [],
   "source": [
    "# Strip commas from price column\n",
    "calendar['price'] = calendar['price'].str.replace(',', '')"
   ]
  },
  {
   "cell_type": "code",
   "execution_count": 19,
   "metadata": {},
   "outputs": [],
   "source": [
    "# Convert price column to numeric\n",
    "calendar['price'] = pd.to_numeric(calendar['price'])"
   ]
  },
  {
   "cell_type": "code",
   "execution_count": 20,
   "metadata": {},
   "outputs": [
    {
     "data": {
      "text/plain": [
       "listing_id          int64\n",
       "date               object\n",
       "available          object\n",
       "price             float64\n",
       "adjusted_price     object\n",
       "minimum_nights    float64\n",
       "maximum_nights    float64\n",
       "dtype: object"
      ]
     },
     "execution_count": 20,
     "metadata": {},
     "output_type": "execute_result"
    }
   ],
   "source": [
    "# Check that data type has changed\n",
    "calendar.dtypes"
   ]
  },
  {
   "cell_type": "code",
   "execution_count": 21,
   "metadata": {},
   "outputs": [],
   "source": [
    "calendar['date'] = pd.to_datetime(calendar['date'])"
   ]
  },
  {
   "cell_type": "code",
   "execution_count": 22,
   "metadata": {},
   "outputs": [],
   "source": [
    "# Strip dollar signs from adjusted price column\n",
    "calendar['adjusted_price'] = calendar['adjusted_price'].str.replace('$', '')"
   ]
  },
  {
   "cell_type": "code",
   "execution_count": 23,
   "metadata": {},
   "outputs": [],
   "source": [
    "# Strip commas from adjusted price column\n",
    "calendar['adjusted_price'] = calendar['adjusted_price'].str.replace(',', '')"
   ]
  },
  {
   "cell_type": "code",
   "execution_count": 24,
   "metadata": {},
   "outputs": [],
   "source": [
    "# Convert price column to numeric\n",
    "calendar['adjusted_price'] = pd.to_numeric(calendar['adjusted_price'])"
   ]
  },
  {
   "cell_type": "code",
   "execution_count": 25,
   "metadata": {},
   "outputs": [],
   "source": [
    "# Calculate price difference between price and adjusted price, put in a new column\n",
    "calendar['price_diff'] = calendar['price'] - calendar['adjusted_price']"
   ]
  },
  {
   "cell_type": "code",
   "execution_count": 26,
   "metadata": {},
   "outputs": [
    {
     "data": {
      "text/plain": [
       " 0.0     3326260\n",
       " 2.0        4707\n",
       " 1.0        2795\n",
       " 5.0        1846\n",
       " 9.0        1771\n",
       "          ...   \n",
       "-12.0          1\n",
       " 53.0          1\n",
       "-33.0          1\n",
       "-8.0           1\n",
       " 46.0          1\n",
       "Name: price_diff, Length: 101, dtype: int64"
      ]
     },
     "execution_count": 26,
     "metadata": {},
     "output_type": "execute_result"
    }
   ],
   "source": [
    "# Look at how big/small the price difference might be\n",
    "calendar['price_diff'].value_counts()\n",
    "# Not sure what the difference in price is representing (why there is an adjusted price?). Might be that the price \n",
    "# listed in this csv changed between instances of the InsideAirBnB team pulling this data (they pull on semi regular \n",
    "# basis)"
   ]
  },
  {
   "cell_type": "code",
   "execution_count": 27,
   "metadata": {},
   "outputs": [
    {
     "data": {
      "text/plain": [
       "2020-03-13    1\n",
       "2020-06-30    1\n",
       "2020-04-29    1\n",
       "2020-03-29    1\n",
       "2020-02-27    1\n",
       "             ..\n",
       "2020-05-29    1\n",
       "2020-04-28    1\n",
       "2020-03-28    1\n",
       "2020-02-26    1\n",
       "2020-02-11    1\n",
       "Name: date, Length: 365, dtype: int64"
      ]
     },
     "execution_count": 27,
     "metadata": {},
     "output_type": "execute_result"
    }
   ],
   "source": [
    "# seeing how many times one listing shows up in this dataset. \n",
    "calendar[calendar['listing_id'] == 3344]['date'].value_counts()"
   ]
  },
  {
   "cell_type": "code",
   "execution_count": 28,
   "metadata": {
    "scrolled": true
   },
   "outputs": [
    {
     "data": {
      "text/html": [
       "<div>\n",
       "<style scoped>\n",
       "    .dataframe tbody tr th:only-of-type {\n",
       "        vertical-align: middle;\n",
       "    }\n",
       "\n",
       "    .dataframe tbody tr th {\n",
       "        vertical-align: top;\n",
       "    }\n",
       "\n",
       "    .dataframe thead th {\n",
       "        text-align: right;\n",
       "    }\n",
       "</style>\n",
       "<table border=\"1\" class=\"dataframe\">\n",
       "  <thead>\n",
       "    <tr style=\"text-align: right;\">\n",
       "      <th></th>\n",
       "      <th>listing_id</th>\n",
       "      <th>date</th>\n",
       "      <th>available</th>\n",
       "      <th>price</th>\n",
       "      <th>adjusted_price</th>\n",
       "      <th>minimum_nights</th>\n",
       "      <th>maximum_nights</th>\n",
       "      <th>price_diff</th>\n",
       "    </tr>\n",
       "  </thead>\n",
       "  <tbody>\n",
       "    <tr>\n",
       "      <td>1490</td>\n",
       "      <td>3362</td>\n",
       "      <td>2019-09-22</td>\n",
       "      <td>f</td>\n",
       "      <td>269.0</td>\n",
       "      <td>269.0</td>\n",
       "      <td>2.0</td>\n",
       "      <td>365.0</td>\n",
       "      <td>0.0</td>\n",
       "    </tr>\n",
       "  </tbody>\n",
       "</table>\n",
       "</div>"
      ],
      "text/plain": [
       "      listing_id       date available  price  adjusted_price  minimum_nights  \\\n",
       "1490        3362 2019-09-22         f  269.0           269.0             2.0   \n",
       "\n",
       "      maximum_nights  price_diff  \n",
       "1490           365.0         0.0  "
      ]
     },
     "execution_count": 28,
     "metadata": {},
     "output_type": "execute_result"
    }
   ],
   "source": [
    "# spot checking if different sets of calendar data have same prices\n",
    "calendar[(calendar['date'] == '2019-09-22') & (calendar['listing_id'] == 3362)]"
   ]
  },
  {
   "cell_type": "code",
   "execution_count": 29,
   "metadata": {
    "scrolled": true
   },
   "outputs": [
    {
     "data": {
      "text/html": [
       "<div>\n",
       "<style scoped>\n",
       "    .dataframe tbody tr th:only-of-type {\n",
       "        vertical-align: middle;\n",
       "    }\n",
       "\n",
       "    .dataframe tbody tr th {\n",
       "        vertical-align: top;\n",
       "    }\n",
       "\n",
       "    .dataframe thead th {\n",
       "        text-align: right;\n",
       "    }\n",
       "</style>\n",
       "<table border=\"1\" class=\"dataframe\">\n",
       "  <thead>\n",
       "    <tr style=\"text-align: right;\">\n",
       "      <th></th>\n",
       "      <th>listing_id</th>\n",
       "      <th>date</th>\n",
       "      <th>available</th>\n",
       "      <th>price</th>\n",
       "      <th>adjusted_price</th>\n",
       "      <th>minimum_nights</th>\n",
       "      <th>maximum_nights</th>\n",
       "    </tr>\n",
       "  </thead>\n",
       "  <tbody>\n",
       "    <tr>\n",
       "      <td>1002</td>\n",
       "      <td>3362</td>\n",
       "      <td>2019-09-22</td>\n",
       "      <td>t</td>\n",
       "      <td>$433.00</td>\n",
       "      <td>$433.00</td>\n",
       "      <td>2.0</td>\n",
       "      <td>365.0</td>\n",
       "    </tr>\n",
       "  </tbody>\n",
       "</table>\n",
       "</div>"
      ],
      "text/plain": [
       "      listing_id        date available    price adjusted_price  \\\n",
       "1002        3362  2019-09-22         t  $433.00        $433.00   \n",
       "\n",
       "      minimum_nights  maximum_nights  \n",
       "1002             2.0           365.0  "
      ]
     },
     "execution_count": 29,
     "metadata": {},
     "output_type": "execute_result"
    }
   ],
   "source": [
    "calendar_1_19[(calendar_1_19['date'] == '2019-09-22') & (calendar_1_19['listing_id'] == 3362)]"
   ]
  },
  {
   "cell_type": "code",
   "execution_count": 30,
   "metadata": {},
   "outputs": [
    {
     "data": {
      "text/html": [
       "<div>\n",
       "<style scoped>\n",
       "    .dataframe tbody tr th:only-of-type {\n",
       "        vertical-align: middle;\n",
       "    }\n",
       "\n",
       "    .dataframe tbody tr th {\n",
       "        vertical-align: top;\n",
       "    }\n",
       "\n",
       "    .dataframe thead th {\n",
       "        text-align: right;\n",
       "    }\n",
       "</style>\n",
       "<table border=\"1\" class=\"dataframe\">\n",
       "  <thead>\n",
       "    <tr style=\"text-align: right;\">\n",
       "      <th></th>\n",
       "      <th>listing_id</th>\n",
       "      <th>date</th>\n",
       "      <th>available</th>\n",
       "      <th>price</th>\n",
       "      <th>adjusted_price</th>\n",
       "      <th>minimum_nights</th>\n",
       "      <th>maximum_nights</th>\n",
       "      <th>price_diff</th>\n",
       "    </tr>\n",
       "  </thead>\n",
       "  <tbody>\n",
       "    <tr>\n",
       "      <td>1886</td>\n",
       "      <td>3362</td>\n",
       "      <td>2019-11-22</td>\n",
       "      <td>t</td>\n",
       "      <td>348.0</td>\n",
       "      <td>348.0</td>\n",
       "      <td>2.0</td>\n",
       "      <td>365.0</td>\n",
       "      <td>0.0</td>\n",
       "    </tr>\n",
       "  </tbody>\n",
       "</table>\n",
       "</div>"
      ],
      "text/plain": [
       "      listing_id       date available  price  adjusted_price  minimum_nights  \\\n",
       "1886        3362 2019-11-22         t  348.0           348.0             2.0   \n",
       "\n",
       "      maximum_nights  price_diff  \n",
       "1886           365.0         0.0  "
      ]
     },
     "execution_count": 30,
     "metadata": {},
     "output_type": "execute_result"
    }
   ],
   "source": [
    "# spot checking again\n",
    "calendar[(calendar['date'] == '2019-11-22') & (calendar['listing_id'] == 3362)]"
   ]
  },
  {
   "cell_type": "code",
   "execution_count": 31,
   "metadata": {
    "scrolled": true
   },
   "outputs": [
    {
     "data": {
      "text/html": [
       "<div>\n",
       "<style scoped>\n",
       "    .dataframe tbody tr th:only-of-type {\n",
       "        vertical-align: middle;\n",
       "    }\n",
       "\n",
       "    .dataframe tbody tr th {\n",
       "        vertical-align: top;\n",
       "    }\n",
       "\n",
       "    .dataframe thead th {\n",
       "        text-align: right;\n",
       "    }\n",
       "</style>\n",
       "<table border=\"1\" class=\"dataframe\">\n",
       "  <thead>\n",
       "    <tr style=\"text-align: right;\">\n",
       "      <th></th>\n",
       "      <th>listing_id</th>\n",
       "      <th>date</th>\n",
       "      <th>available</th>\n",
       "      <th>price</th>\n",
       "      <th>adjusted_price</th>\n",
       "      <th>minimum_nights</th>\n",
       "      <th>maximum_nights</th>\n",
       "    </tr>\n",
       "  </thead>\n",
       "  <tbody>\n",
       "    <tr>\n",
       "      <td>1403</td>\n",
       "      <td>3362</td>\n",
       "      <td>2019-11-22</td>\n",
       "      <td>t</td>\n",
       "      <td>$450.00</td>\n",
       "      <td>$450.00</td>\n",
       "      <td>2.0</td>\n",
       "      <td>365.0</td>\n",
       "    </tr>\n",
       "  </tbody>\n",
       "</table>\n",
       "</div>"
      ],
      "text/plain": [
       "      listing_id        date available    price adjusted_price  \\\n",
       "1403        3362  2019-11-22         t  $450.00        $450.00   \n",
       "\n",
       "      minimum_nights  maximum_nights  \n",
       "1403             2.0           365.0  "
      ]
     },
     "execution_count": 31,
     "metadata": {},
     "output_type": "execute_result"
    }
   ],
   "source": [
    "calendar_1_19[(calendar_1_19['date'] == '2019-11-22') & (calendar_1_19['listing_id'] == 3362)]"
   ]
  },
  {
   "cell_type": "code",
   "execution_count": 32,
   "metadata": {
    "scrolled": true
   },
   "outputs": [
    {
     "data": {
      "text/html": [
       "<div>\n",
       "<style scoped>\n",
       "    .dataframe tbody tr th:only-of-type {\n",
       "        vertical-align: middle;\n",
       "    }\n",
       "\n",
       "    .dataframe tbody tr th {\n",
       "        vertical-align: top;\n",
       "    }\n",
       "\n",
       "    .dataframe thead th {\n",
       "        text-align: right;\n",
       "    }\n",
       "</style>\n",
       "<table border=\"1\" class=\"dataframe\">\n",
       "  <thead>\n",
       "    <tr style=\"text-align: right;\">\n",
       "      <th></th>\n",
       "      <th>listing_id</th>\n",
       "      <th>date</th>\n",
       "      <th>available</th>\n",
       "      <th>price</th>\n",
       "      <th>adjusted_price</th>\n",
       "      <th>minimum_nights</th>\n",
       "      <th>maximum_nights</th>\n",
       "      <th>price_diff</th>\n",
       "    </tr>\n",
       "  </thead>\n",
       "  <tbody>\n",
       "    <tr>\n",
       "      <td>631783</td>\n",
       "      <td>9216776</td>\n",
       "      <td>2019-12-30</td>\n",
       "      <td>t</td>\n",
       "      <td>119.0</td>\n",
       "      <td>119.0</td>\n",
       "      <td>4.0</td>\n",
       "      <td>45.0</td>\n",
       "      <td>0.0</td>\n",
       "    </tr>\n",
       "  </tbody>\n",
       "</table>\n",
       "</div>"
      ],
      "text/plain": [
       "        listing_id       date available  price  adjusted_price  \\\n",
       "631783     9216776 2019-12-30         t  119.0           119.0   \n",
       "\n",
       "        minimum_nights  maximum_nights  price_diff  \n",
       "631783             4.0            45.0         0.0  "
      ]
     },
     "execution_count": 32,
     "metadata": {},
     "output_type": "execute_result"
    }
   ],
   "source": [
    "# spot checking\n",
    "calendar[(calendar['date'] == '2019-12-30') & (calendar['listing_id'] == 9216776)]"
   ]
  },
  {
   "cell_type": "code",
   "execution_count": 33,
   "metadata": {
    "scrolled": true
   },
   "outputs": [
    {
     "data": {
      "text/html": [
       "<div>\n",
       "<style scoped>\n",
       "    .dataframe tbody tr th:only-of-type {\n",
       "        vertical-align: middle;\n",
       "    }\n",
       "\n",
       "    .dataframe tbody tr th {\n",
       "        vertical-align: top;\n",
       "    }\n",
       "\n",
       "    .dataframe thead th {\n",
       "        text-align: right;\n",
       "    }\n",
       "</style>\n",
       "<table border=\"1\" class=\"dataframe\">\n",
       "  <thead>\n",
       "    <tr style=\"text-align: right;\">\n",
       "      <th></th>\n",
       "      <th>listing_id</th>\n",
       "      <th>date</th>\n",
       "      <th>available</th>\n",
       "      <th>price</th>\n",
       "      <th>adjusted_price</th>\n",
       "      <th>minimum_nights</th>\n",
       "      <th>maximum_nights</th>\n",
       "    </tr>\n",
       "  </thead>\n",
       "  <tbody>\n",
       "    <tr>\n",
       "      <td>728327</td>\n",
       "      <td>9216776</td>\n",
       "      <td>2019-12-30</td>\n",
       "      <td>f</td>\n",
       "      <td>$399.00</td>\n",
       "      <td>$399.00</td>\n",
       "      <td>5.0</td>\n",
       "      <td>45.0</td>\n",
       "    </tr>\n",
       "  </tbody>\n",
       "</table>\n",
       "</div>"
      ],
      "text/plain": [
       "        listing_id        date available    price adjusted_price  \\\n",
       "728327     9216776  2019-12-30         f  $399.00        $399.00   \n",
       "\n",
       "        minimum_nights  maximum_nights  \n",
       "728327             5.0            45.0  "
      ]
     },
     "execution_count": 33,
     "metadata": {},
     "output_type": "execute_result"
    }
   ],
   "source": [
    "calendar_1_19[(calendar_1_19['date'] == '2019-12-30') & (calendar_1_19['listing_id'] == 9216776)]"
   ]
  },
  {
   "cell_type": "markdown",
   "metadata": {},
   "source": [
    "---"
   ]
  },
  {
   "cell_type": "markdown",
   "metadata": {},
   "source": [
    "## Combine the Calendar Datasets"
   ]
  },
  {
   "cell_type": "code",
   "execution_count": 34,
   "metadata": {},
   "outputs": [],
   "source": [
    "# add column to record the original dataset before creating the new one\n",
    "calendar_1_19['recorded_price_date'] = '2019-01'"
   ]
  },
  {
   "cell_type": "code",
   "execution_count": 35,
   "metadata": {},
   "outputs": [],
   "source": [
    "# add column to record the original dataset before creating the new one\n",
    "calendar['recorded_price_date'] = '2019-09'"
   ]
  },
  {
   "cell_type": "code",
   "execution_count": 36,
   "metadata": {},
   "outputs": [
    {
     "name": "stderr",
     "output_type": "stream",
     "text": [
      "//anaconda3/lib/python3.7/site-packages/ipykernel_launcher.py:2: FutureWarning: Sorting because non-concatenation axis is not aligned. A future version\n",
      "of pandas will change to not sort by default.\n",
      "\n",
      "To accept the future behavior, pass 'sort=False'.\n",
      "\n",
      "To retain the current behavior and silence the warning, pass 'sort=True'.\n",
      "\n",
      "  \n"
     ]
    }
   ],
   "source": [
    "# combine into new dataset\n",
    "calendar = pd.concat([calendar_1_19, calendar])"
   ]
  },
  {
   "cell_type": "code",
   "execution_count": 37,
   "metadata": {},
   "outputs": [
    {
     "data": {
      "text/plain": [
       "(6637375, 9)"
      ]
     },
     "execution_count": 37,
     "metadata": {},
     "output_type": "execute_result"
    }
   ],
   "source": [
    "calendar.shape"
   ]
  },
  {
   "cell_type": "code",
   "execution_count": 38,
   "metadata": {},
   "outputs": [],
   "source": [
    "calendar['date'] = pd.to_datetime(calendar['date'])"
   ]
  },
  {
   "cell_type": "code",
   "execution_count": 39,
   "metadata": {},
   "outputs": [],
   "source": [
    "calendar_1_19['date'] = pd.to_datetime(calendar_1_19['date'])"
   ]
  },
  {
   "cell_type": "code",
   "execution_count": 40,
   "metadata": {},
   "outputs": [
    {
     "data": {
      "text/html": [
       "<div>\n",
       "<style scoped>\n",
       "    .dataframe tbody tr th:only-of-type {\n",
       "        vertical-align: middle;\n",
       "    }\n",
       "\n",
       "    .dataframe tbody tr th {\n",
       "        vertical-align: top;\n",
       "    }\n",
       "\n",
       "    .dataframe thead th {\n",
       "        text-align: right;\n",
       "    }\n",
       "</style>\n",
       "<table border=\"1\" class=\"dataframe\">\n",
       "  <thead>\n",
       "    <tr style=\"text-align: right;\">\n",
       "      <th></th>\n",
       "      <th>listing_id</th>\n",
       "      <th>maximum_nights</th>\n",
       "      <th>minimum_nights</th>\n",
       "      <th>price_diff</th>\n",
       "    </tr>\n",
       "  </thead>\n",
       "  <tbody>\n",
       "    <tr>\n",
       "      <td>count</td>\n",
       "      <td>6.637375e+06</td>\n",
       "      <td>6.637374e+06</td>\n",
       "      <td>6.637374e+06</td>\n",
       "      <td>3.354070e+06</td>\n",
       "    </tr>\n",
       "    <tr>\n",
       "      <td>mean</td>\n",
       "      <td>1.827577e+07</td>\n",
       "      <td>2.489244e+05</td>\n",
       "      <td>6.378063e+00</td>\n",
       "      <td>9.201895e-02</td>\n",
       "    </tr>\n",
       "    <tr>\n",
       "      <td>std</td>\n",
       "      <td>9.653769e+06</td>\n",
       "      <td>2.254456e+07</td>\n",
       "      <td>4.038322e+01</td>\n",
       "      <td>2.848840e+00</td>\n",
       "    </tr>\n",
       "    <tr>\n",
       "      <td>min</td>\n",
       "      <td>3.344000e+03</td>\n",
       "      <td>0.000000e+00</td>\n",
       "      <td>0.000000e+00</td>\n",
       "      <td>-4.300000e+02</td>\n",
       "    </tr>\n",
       "    <tr>\n",
       "      <td>25%</td>\n",
       "      <td>1.155569e+07</td>\n",
       "      <td>3.000000e+01</td>\n",
       "      <td>1.000000e+00</td>\n",
       "      <td>0.000000e+00</td>\n",
       "    </tr>\n",
       "    <tr>\n",
       "      <td>50%</td>\n",
       "      <td>1.713318e+07</td>\n",
       "      <td>1.122000e+03</td>\n",
       "      <td>2.000000e+00</td>\n",
       "      <td>0.000000e+00</td>\n",
       "    </tr>\n",
       "    <tr>\n",
       "      <td>75%</td>\n",
       "      <td>2.505026e+07</td>\n",
       "      <td>1.125000e+03</td>\n",
       "      <td>3.000000e+00</td>\n",
       "      <td>0.000000e+00</td>\n",
       "    </tr>\n",
       "    <tr>\n",
       "      <td>max</td>\n",
       "      <td>3.881766e+07</td>\n",
       "      <td>2.147484e+09</td>\n",
       "      <td>2.635000e+03</td>\n",
       "      <td>1.500000e+02</td>\n",
       "    </tr>\n",
       "  </tbody>\n",
       "</table>\n",
       "</div>"
      ],
      "text/plain": [
       "         listing_id  maximum_nights  minimum_nights    price_diff\n",
       "count  6.637375e+06    6.637374e+06    6.637374e+06  3.354070e+06\n",
       "mean   1.827577e+07    2.489244e+05    6.378063e+00  9.201895e-02\n",
       "std    9.653769e+06    2.254456e+07    4.038322e+01  2.848840e+00\n",
       "min    3.344000e+03    0.000000e+00    0.000000e+00 -4.300000e+02\n",
       "25%    1.155569e+07    3.000000e+01    1.000000e+00  0.000000e+00\n",
       "50%    1.713318e+07    1.122000e+03    2.000000e+00  0.000000e+00\n",
       "75%    2.505026e+07    1.125000e+03    3.000000e+00  0.000000e+00\n",
       "max    3.881766e+07    2.147484e+09    2.635000e+03  1.500000e+02"
      ]
     },
     "execution_count": 40,
     "metadata": {},
     "output_type": "execute_result"
    }
   ],
   "source": [
    "# Look at describe stats\n",
    "calendar.describe()"
   ]
  },
  {
   "cell_type": "code",
   "execution_count": 41,
   "metadata": {},
   "outputs": [
    {
     "data": {
      "text/plain": [
       "adjusted_price                 object\n",
       "available                      object\n",
       "date                   datetime64[ns]\n",
       "listing_id                      int64\n",
       "maximum_nights                float64\n",
       "minimum_nights                float64\n",
       "price                          object\n",
       "price_diff                    float64\n",
       "recorded_price_date            object\n",
       "dtype: object"
      ]
     },
     "execution_count": 41,
     "metadata": {},
     "output_type": "execute_result"
    }
   ],
   "source": [
    "calendar.dtypes"
   ]
  },
  {
   "cell_type": "code",
   "execution_count": 42,
   "metadata": {},
   "outputs": [
    {
     "name": "stdout",
     "output_type": "stream",
     "text": [
      "<class 'pandas.core.frame.DataFrame'>\n",
      "Int64Index: 6637375 entries, 0 to 3354069\n",
      "Data columns (total 9 columns):\n",
      "adjusted_price         object\n",
      "available              object\n",
      "date                   datetime64[ns]\n",
      "listing_id             int64\n",
      "maximum_nights         float64\n",
      "minimum_nights         float64\n",
      "price                  object\n",
      "price_diff             float64\n",
      "recorded_price_date    object\n",
      "dtypes: datetime64[ns](1), float64(3), int64(1), object(4)\n",
      "memory usage: 506.4+ MB\n"
     ]
    }
   ],
   "source": [
    "# Look at info stats\n",
    "calendar.info()"
   ]
  },
  {
   "cell_type": "code",
   "execution_count": 43,
   "metadata": {},
   "outputs": [],
   "source": [
    "calendar.set_index('date', inplace=True)"
   ]
  },
  {
   "cell_type": "code",
   "execution_count": 44,
   "metadata": {},
   "outputs": [],
   "source": [
    "calendar.sort_index(inplace=True)"
   ]
  },
  {
   "cell_type": "code",
   "execution_count": 45,
   "metadata": {},
   "outputs": [
    {
     "data": {
      "text/html": [
       "<div>\n",
       "<style scoped>\n",
       "    .dataframe tbody tr th:only-of-type {\n",
       "        vertical-align: middle;\n",
       "    }\n",
       "\n",
       "    .dataframe tbody tr th {\n",
       "        vertical-align: top;\n",
       "    }\n",
       "\n",
       "    .dataframe thead th {\n",
       "        text-align: right;\n",
       "    }\n",
       "</style>\n",
       "<table border=\"1\" class=\"dataframe\">\n",
       "  <thead>\n",
       "    <tr style=\"text-align: right;\">\n",
       "      <th></th>\n",
       "      <th>adjusted_price</th>\n",
       "      <th>available</th>\n",
       "      <th>listing_id</th>\n",
       "      <th>maximum_nights</th>\n",
       "      <th>minimum_nights</th>\n",
       "      <th>price</th>\n",
       "      <th>price_diff</th>\n",
       "      <th>recorded_price_date</th>\n",
       "      <th>source</th>\n",
       "    </tr>\n",
       "    <tr>\n",
       "      <th>date</th>\n",
       "      <th></th>\n",
       "      <th></th>\n",
       "      <th></th>\n",
       "      <th></th>\n",
       "      <th></th>\n",
       "      <th></th>\n",
       "      <th></th>\n",
       "      <th></th>\n",
       "      <th></th>\n",
       "    </tr>\n",
       "  </thead>\n",
       "  <tbody>\n",
       "    <tr>\n",
       "      <td>2019-01-17</td>\n",
       "      <td>$295.00</td>\n",
       "      <td>t</td>\n",
       "      <td>3362</td>\n",
       "      <td>365.0</td>\n",
       "      <td>2.0</td>\n",
       "      <td>$295.00</td>\n",
       "      <td>NaN</td>\n",
       "      <td>2019-01</td>\n",
       "      <td>Sep-19</td>\n",
       "    </tr>\n",
       "    <tr>\n",
       "      <td>2019-01-17</td>\n",
       "      <td>$36.00</td>\n",
       "      <td>t</td>\n",
       "      <td>21042708</td>\n",
       "      <td>28.0</td>\n",
       "      <td>2.0</td>\n",
       "      <td>$36.00</td>\n",
       "      <td>NaN</td>\n",
       "      <td>2019-01</td>\n",
       "      <td>Sep-19</td>\n",
       "    </tr>\n",
       "    <tr>\n",
       "      <td>2019-01-17</td>\n",
       "      <td>$110.00</td>\n",
       "      <td>t</td>\n",
       "      <td>648093</td>\n",
       "      <td>25.0</td>\n",
       "      <td>3.0</td>\n",
       "      <td>$110.00</td>\n",
       "      <td>NaN</td>\n",
       "      <td>2019-01</td>\n",
       "      <td>Sep-19</td>\n",
       "    </tr>\n",
       "    <tr>\n",
       "      <td>2019-01-17</td>\n",
       "      <td>$225.00</td>\n",
       "      <td>t</td>\n",
       "      <td>20299513</td>\n",
       "      <td>1125.0</td>\n",
       "      <td>2.0</td>\n",
       "      <td>$225.00</td>\n",
       "      <td>NaN</td>\n",
       "      <td>2019-01</td>\n",
       "      <td>Sep-19</td>\n",
       "    </tr>\n",
       "    <tr>\n",
       "      <td>2019-01-17</td>\n",
       "      <td>$156.00</td>\n",
       "      <td>f</td>\n",
       "      <td>20768166</td>\n",
       "      <td>1125.0</td>\n",
       "      <td>10.0</td>\n",
       "      <td>$156.00</td>\n",
       "      <td>NaN</td>\n",
       "      <td>2019-01</td>\n",
       "      <td>Sep-19</td>\n",
       "    </tr>\n",
       "  </tbody>\n",
       "</table>\n",
       "</div>"
      ],
      "text/plain": [
       "           adjusted_price available  listing_id  maximum_nights  \\\n",
       "date                                                              \n",
       "2019-01-17        $295.00         t        3362           365.0   \n",
       "2019-01-17         $36.00         t    21042708            28.0   \n",
       "2019-01-17        $110.00         t      648093            25.0   \n",
       "2019-01-17        $225.00         t    20299513          1125.0   \n",
       "2019-01-17        $156.00         f    20768166          1125.0   \n",
       "\n",
       "            minimum_nights    price  price_diff recorded_price_date  source  \n",
       "date                                                                         \n",
       "2019-01-17             2.0  $295.00         NaN             2019-01  Sep-19  \n",
       "2019-01-17             2.0   $36.00         NaN             2019-01  Sep-19  \n",
       "2019-01-17             3.0  $110.00         NaN             2019-01  Sep-19  \n",
       "2019-01-17             2.0  $225.00         NaN             2019-01  Sep-19  \n",
       "2019-01-17            10.0  $156.00         NaN             2019-01  Sep-19  "
      ]
     },
     "execution_count": 45,
     "metadata": {},
     "output_type": "execute_result"
    }
   ],
   "source": [
    "calendar['source'] = 'Sep-19'\n",
    "calendar.head()"
   ]
  },
  {
   "cell_type": "code",
   "execution_count": 47,
   "metadata": {},
   "outputs": [
    {
     "data": {
      "text/plain": [
       "adjusted_price          object\n",
       "available               object\n",
       "listing_id               int64\n",
       "maximum_nights         float64\n",
       "minimum_nights         float64\n",
       "price                   object\n",
       "price_diff             float64\n",
       "recorded_price_date     object\n",
       "source                  object\n",
       "dtype: object"
      ]
     },
     "execution_count": 47,
     "metadata": {},
     "output_type": "execute_result"
    }
   ],
   "source": [
    "calendar.dtypes"
   ]
  },
  {
   "cell_type": "code",
   "execution_count": 48,
   "metadata": {},
   "outputs": [],
   "source": [
    "# convert price to numeric:\n"
   ]
  },
  {
   "cell_type": "code",
   "execution_count": 49,
   "metadata": {},
   "outputs": [],
   "source": [
    "# trying to sort listing_id and price, but currently getting an error\n",
    "# this shows average price per listing\n",
    "# calendar[['price']].groupby(by=calendar['listing_id']).mean().sort_values('price').head()"
   ]
  },
  {
   "cell_type": "markdown",
   "metadata": {},
   "source": [
    "---"
   ]
  },
  {
   "cell_type": "markdown",
   "metadata": {},
   "source": [
    "## Notes on Next Steps"
   ]
  },
  {
   "cell_type": "markdown",
   "metadata": {},
   "source": [
    "The following are ideas on things to look at for future iterations of this project:\n",
    "* Look at how price has changed over time\n",
    "* Average monthly price according to date\n",
    "* Average price on each day of the week\n",
    "* Availability over a year. (using availability and dates for calendar)\n",
    "* Line graph of x of date and y of percentage of units available\n",
    "* Could just use months for x and then color code line for each year\n",
    "* Look at this article for ideas for additional steps:https://towardsdatascience.com/exploring-machine-learning-for-airbnb-listings-in-toronto-efdbdeba2644\n",
    "* Run this:os.listdir('/Users/jessieowens2/Desktop/general_assembly/airbnb_data'). Then:\n",
    "    * List comprehension of all the files I want that start with calendar\n",
    "    * From above list (that the os command creates, give me every file name that starts with calendar, then with that list, pass into pd.concat\n",
    "    * Then use dataframe.duplicated(subset of id and date (these are the things duplicated throughout))\n",
    "    * If this is not working, use sep 2019, sep 2018, sep 2017"
   ]
  },
  {
   "cell_type": "markdown",
   "metadata": {},
   "source": [
    "---"
   ]
  }
 ],
 "metadata": {
  "kernelspec": {
   "display_name": "Python 3",
   "language": "python",
   "name": "python3"
  },
  "language_info": {
   "codemirror_mode": {
    "name": "ipython",
    "version": 3
   },
   "file_extension": ".py",
   "mimetype": "text/x-python",
   "name": "python",
   "nbconvert_exporter": "python",
   "pygments_lexer": "ipython3",
   "version": "3.7.3"
  }
 },
 "nbformat": 4,
 "nbformat_minor": 2
}
