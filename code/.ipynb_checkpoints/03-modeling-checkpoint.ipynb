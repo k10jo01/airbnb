{
 "cells": [
  {
   "cell_type": "markdown",
   "metadata": {},
   "source": [
    "# Modeling"
   ]
  },
  {
   "cell_type": "code",
   "execution_count": 1,
   "metadata": {},
   "outputs": [],
   "source": [
    "# can neighbourhood alone (and/or distance from national mall) predict price\n",
    "# make into get dummies\n",
    "# can room type alone predict price\n",
    "# can you predict the price of zeus's rentals?"
   ]
  },
  {
   "cell_type": "code",
   "execution_count": 2,
   "metadata": {},
   "outputs": [],
   "source": [
    "# xx\n",
    "# one model with features and one model with reviews \n",
    "# sentiment analysis: look through matt lectures (try word2vec)\n",
    "# supervised with price as target and regression with count vectorizer \n",
    "# neighbourhood clusters (clustering lab that tim did) - might not be necessary"
   ]
  },
  {
   "cell_type": "markdown",
   "metadata": {},
   "source": [
    "---"
   ]
  },
  {
   "cell_type": "markdown",
   "metadata": {},
   "source": [
    "## Import Libraries/Read in Data"
   ]
  },
  {
   "cell_type": "code",
   "execution_count": 3,
   "metadata": {},
   "outputs": [],
   "source": [
    "import pandas as pd\n",
    "import numpy as np\n",
    "import seaborn as sns\n",
    "import matplotlib.pyplot as plt\n",
    "\n",
    "from sklearn.preprocessing import StandardScaler\n",
    "from sklearn.linear_model import LogisticRegression, LinearRegression\n",
    "from sklearn.feature_extraction.text import CountVectorizer, TfidfVectorizer\n",
    "from sklearn.model_selection import train_test_split, GridSearchCV\n",
    "from sklearn.cluster import KMeans, DBSCAN\n",
    "from sklearn import metrics\n",
    "from sklearn.metrics import silhouette_score, r2_score\n",
    "from sklearn.preprocessing import StandardScaler\n",
    "from sklearn.metrics import silhouette_score\n",
    "from sklearn.ensemble import AdaBoostRegressor\n",
    "from sklearn.tree import DecisionTreeRegressor\n",
    "from sklearn.pipeline import Pipeline\n",
    "from sklearn.svm import SVR\n",
    "\n",
    "from xgboost import XGBRegressor\n",
    "\n",
    "%matplotlib inline"
   ]
  },
  {
   "cell_type": "code",
   "execution_count": 4,
   "metadata": {},
   "outputs": [],
   "source": [
    "listings_train = pd.read_csv('/Users/jessieowens2/Desktop/general_assembly/airbnb_data/listings_train.csv')\n",
    "listings_validate = pd.read_csv('/Users/jessieowens2/Desktop/general_assembly/airbnb_data/listings_validate.csv')"
   ]
  },
  {
   "cell_type": "code",
   "execution_count": 5,
   "metadata": {},
   "outputs": [
    {
     "data": {
      "text/html": [
       "<div>\n",
       "<style scoped>\n",
       "    .dataframe tbody tr th:only-of-type {\n",
       "        vertical-align: middle;\n",
       "    }\n",
       "\n",
       "    .dataframe tbody tr th {\n",
       "        vertical-align: top;\n",
       "    }\n",
       "\n",
       "    .dataframe thead th {\n",
       "        text-align: right;\n",
       "    }\n",
       "</style>\n",
       "<table border=\"1\" class=\"dataframe\">\n",
       "  <thead>\n",
       "    <tr style=\"text-align: right;\">\n",
       "      <th></th>\n",
       "      <th>id</th>\n",
       "      <th>name</th>\n",
       "      <th>host_id</th>\n",
       "      <th>host_name</th>\n",
       "      <th>latitude</th>\n",
       "      <th>longitude</th>\n",
       "      <th>room_type</th>\n",
       "      <th>price</th>\n",
       "      <th>minimum_nights</th>\n",
       "      <th>number_of_reviews</th>\n",
       "      <th>...</th>\n",
       "      <th>neighbourhood_Sheridan</th>\n",
       "      <th>neighbourhood_Southwest</th>\n",
       "      <th>neighbourhood_Spring Valley</th>\n",
       "      <th>neighbourhood_Takoma</th>\n",
       "      <th>neighbourhood_Twining</th>\n",
       "      <th>neighbourhood_Union Station</th>\n",
       "      <th>neighbourhood_Van Ness</th>\n",
       "      <th>neighbourhood_West End</th>\n",
       "      <th>neighbourhood_Woodland/Fort Stanton</th>\n",
       "      <th>neighbourhood_Woodridge</th>\n",
       "    </tr>\n",
       "  </thead>\n",
       "  <tbody>\n",
       "    <tr>\n",
       "      <td>0</td>\n",
       "      <td>9039332</td>\n",
       "      <td>Central, spacious, comfortable, DC</td>\n",
       "      <td>22818689</td>\n",
       "      <td>Jd</td>\n",
       "      <td>38.90404</td>\n",
       "      <td>-77.03066</td>\n",
       "      <td>Entire home/apt</td>\n",
       "      <td>95</td>\n",
       "      <td>6</td>\n",
       "      <td>2</td>\n",
       "      <td>...</td>\n",
       "      <td>0</td>\n",
       "      <td>0</td>\n",
       "      <td>0</td>\n",
       "      <td>0</td>\n",
       "      <td>0</td>\n",
       "      <td>0</td>\n",
       "      <td>0</td>\n",
       "      <td>0</td>\n",
       "      <td>0</td>\n",
       "      <td>0</td>\n",
       "    </tr>\n",
       "  </tbody>\n",
       "</table>\n",
       "<p>1 rows × 59 columns</p>\n",
       "</div>"
      ],
      "text/plain": [
       "        id                                name   host_id host_name  latitude  \\\n",
       "0  9039332  Central, spacious, comfortable, DC  22818689        Jd  38.90404   \n",
       "\n",
       "   longitude        room_type  price  minimum_nights  number_of_reviews  ...  \\\n",
       "0  -77.03066  Entire home/apt     95               6                  2  ...   \n",
       "\n",
       "  neighbourhood_Sheridan  neighbourhood_Southwest  \\\n",
       "0                      0                        0   \n",
       "\n",
       "   neighbourhood_Spring Valley  neighbourhood_Takoma  neighbourhood_Twining  \\\n",
       "0                            0                     0                      0   \n",
       "\n",
       "   neighbourhood_Union Station  neighbourhood_Van Ness  \\\n",
       "0                            0                       0   \n",
       "\n",
       "   neighbourhood_West End  neighbourhood_Woodland/Fort Stanton  \\\n",
       "0                       0                                    0   \n",
       "\n",
       "   neighbourhood_Woodridge  \n",
       "0                        0  \n",
       "\n",
       "[1 rows x 59 columns]"
      ]
     },
     "execution_count": 5,
     "metadata": {},
     "output_type": "execute_result"
    }
   ],
   "source": [
    "listings_train.head(1)"
   ]
  },
  {
   "cell_type": "code",
   "execution_count": 6,
   "metadata": {},
   "outputs": [],
   "source": [
    "X_train = listings_train.drop(columns=['price', 'id', 'name', 'host_id', 'host_name', 'room_type','last_review', \n",
    "                                      'lat_mall', 'lon_mall', 'latitude', 'longitude'])\n",
    "y_train = listings_train['price']\n",
    "X_val = listings_validate.drop(columns=['price', 'id', 'name', 'host_id', 'host_name', 'room_type','last_review', \n",
    "                                      'lat_mall', 'lon_mall', 'latitude', 'longitude'])\n",
    "y_val = listings_validate['price']"
   ]
  },
  {
   "cell_type": "code",
   "execution_count": 7,
   "metadata": {},
   "outputs": [
    {
     "name": "stdout",
     "output_type": "stream",
     "text": [
      "X_train shape is (5513, 48)\n",
      "y_train shape is (5513,)\n",
      "X_val shape is (1837, 48)\n",
      "y_val shape is (1837,)\n"
     ]
    }
   ],
   "source": [
    "print(f\"X_train shape is {X_train.shape}\")\n",
    "print(f\"y_train shape is {y_train.shape}\")\n",
    "print(f\"X_val shape is {X_val.shape}\")\n",
    "print(f\"y_val shape is {y_val.shape}\")"
   ]
  },
  {
   "cell_type": "code",
   "execution_count": 8,
   "metadata": {},
   "outputs": [
    {
     "data": {
      "text/html": [
       "<div>\n",
       "<style scoped>\n",
       "    .dataframe tbody tr th:only-of-type {\n",
       "        vertical-align: middle;\n",
       "    }\n",
       "\n",
       "    .dataframe tbody tr th {\n",
       "        vertical-align: top;\n",
       "    }\n",
       "\n",
       "    .dataframe thead th {\n",
       "        text-align: right;\n",
       "    }\n",
       "</style>\n",
       "<table border=\"1\" class=\"dataframe\">\n",
       "  <thead>\n",
       "    <tr style=\"text-align: right;\">\n",
       "      <th></th>\n",
       "      <th>minimum_nights</th>\n",
       "      <th>number_of_reviews</th>\n",
       "      <th>reviews_per_month</th>\n",
       "      <th>listings_per_host</th>\n",
       "      <th>availability_365</th>\n",
       "      <th>distance_mall</th>\n",
       "      <th>room_type_Entire home/apt</th>\n",
       "      <th>room_type_Hotel room</th>\n",
       "      <th>room_type_Private room</th>\n",
       "      <th>room_type_Shared room</th>\n",
       "      <th>...</th>\n",
       "      <th>neighbourhood_Sheridan</th>\n",
       "      <th>neighbourhood_Southwest</th>\n",
       "      <th>neighbourhood_Spring Valley</th>\n",
       "      <th>neighbourhood_Takoma</th>\n",
       "      <th>neighbourhood_Twining</th>\n",
       "      <th>neighbourhood_Union Station</th>\n",
       "      <th>neighbourhood_Van Ness</th>\n",
       "      <th>neighbourhood_West End</th>\n",
       "      <th>neighbourhood_Woodland/Fort Stanton</th>\n",
       "      <th>neighbourhood_Woodridge</th>\n",
       "    </tr>\n",
       "  </thead>\n",
       "  <tbody>\n",
       "    <tr>\n",
       "      <td>0</td>\n",
       "      <td>6</td>\n",
       "      <td>2</td>\n",
       "      <td>0.04</td>\n",
       "      <td>1</td>\n",
       "      <td>0</td>\n",
       "      <td>1.054333</td>\n",
       "      <td>1</td>\n",
       "      <td>0</td>\n",
       "      <td>0</td>\n",
       "      <td>0</td>\n",
       "      <td>...</td>\n",
       "      <td>0</td>\n",
       "      <td>0</td>\n",
       "      <td>0</td>\n",
       "      <td>0</td>\n",
       "      <td>0</td>\n",
       "      <td>0</td>\n",
       "      <td>0</td>\n",
       "      <td>0</td>\n",
       "      <td>0</td>\n",
       "      <td>0</td>\n",
       "    </tr>\n",
       "    <tr>\n",
       "      <td>1</td>\n",
       "      <td>1</td>\n",
       "      <td>9</td>\n",
       "      <td>0.35</td>\n",
       "      <td>1</td>\n",
       "      <td>0</td>\n",
       "      <td>3.245266</td>\n",
       "      <td>0</td>\n",
       "      <td>0</td>\n",
       "      <td>1</td>\n",
       "      <td>0</td>\n",
       "      <td>...</td>\n",
       "      <td>0</td>\n",
       "      <td>0</td>\n",
       "      <td>0</td>\n",
       "      <td>0</td>\n",
       "      <td>0</td>\n",
       "      <td>0</td>\n",
       "      <td>0</td>\n",
       "      <td>0</td>\n",
       "      <td>0</td>\n",
       "      <td>0</td>\n",
       "    </tr>\n",
       "    <tr>\n",
       "      <td>2</td>\n",
       "      <td>2</td>\n",
       "      <td>93</td>\n",
       "      <td>4.12</td>\n",
       "      <td>4</td>\n",
       "      <td>162</td>\n",
       "      <td>2.167775</td>\n",
       "      <td>0</td>\n",
       "      <td>0</td>\n",
       "      <td>1</td>\n",
       "      <td>0</td>\n",
       "      <td>...</td>\n",
       "      <td>0</td>\n",
       "      <td>0</td>\n",
       "      <td>0</td>\n",
       "      <td>0</td>\n",
       "      <td>0</td>\n",
       "      <td>0</td>\n",
       "      <td>0</td>\n",
       "      <td>0</td>\n",
       "      <td>0</td>\n",
       "      <td>0</td>\n",
       "    </tr>\n",
       "    <tr>\n",
       "      <td>3</td>\n",
       "      <td>2</td>\n",
       "      <td>192</td>\n",
       "      <td>5.06</td>\n",
       "      <td>2</td>\n",
       "      <td>157</td>\n",
       "      <td>2.040722</td>\n",
       "      <td>1</td>\n",
       "      <td>0</td>\n",
       "      <td>0</td>\n",
       "      <td>0</td>\n",
       "      <td>...</td>\n",
       "      <td>0</td>\n",
       "      <td>0</td>\n",
       "      <td>0</td>\n",
       "      <td>0</td>\n",
       "      <td>0</td>\n",
       "      <td>0</td>\n",
       "      <td>0</td>\n",
       "      <td>0</td>\n",
       "      <td>0</td>\n",
       "      <td>0</td>\n",
       "    </tr>\n",
       "    <tr>\n",
       "      <td>4</td>\n",
       "      <td>3</td>\n",
       "      <td>136</td>\n",
       "      <td>1.86</td>\n",
       "      <td>1</td>\n",
       "      <td>73</td>\n",
       "      <td>2.177276</td>\n",
       "      <td>1</td>\n",
       "      <td>0</td>\n",
       "      <td>0</td>\n",
       "      <td>0</td>\n",
       "      <td>...</td>\n",
       "      <td>0</td>\n",
       "      <td>0</td>\n",
       "      <td>0</td>\n",
       "      <td>0</td>\n",
       "      <td>0</td>\n",
       "      <td>0</td>\n",
       "      <td>0</td>\n",
       "      <td>0</td>\n",
       "      <td>0</td>\n",
       "      <td>0</td>\n",
       "    </tr>\n",
       "    <tr>\n",
       "      <td>...</td>\n",
       "      <td>...</td>\n",
       "      <td>...</td>\n",
       "      <td>...</td>\n",
       "      <td>...</td>\n",
       "      <td>...</td>\n",
       "      <td>...</td>\n",
       "      <td>...</td>\n",
       "      <td>...</td>\n",
       "      <td>...</td>\n",
       "      <td>...</td>\n",
       "      <td>...</td>\n",
       "      <td>...</td>\n",
       "      <td>...</td>\n",
       "      <td>...</td>\n",
       "      <td>...</td>\n",
       "      <td>...</td>\n",
       "      <td>...</td>\n",
       "      <td>...</td>\n",
       "      <td>...</td>\n",
       "      <td>...</td>\n",
       "      <td>...</td>\n",
       "    </tr>\n",
       "    <tr>\n",
       "      <td>5508</td>\n",
       "      <td>30</td>\n",
       "      <td>2</td>\n",
       "      <td>0.94</td>\n",
       "      <td>152</td>\n",
       "      <td>312</td>\n",
       "      <td>1.058847</td>\n",
       "      <td>1</td>\n",
       "      <td>0</td>\n",
       "      <td>0</td>\n",
       "      <td>0</td>\n",
       "      <td>...</td>\n",
       "      <td>0</td>\n",
       "      <td>0</td>\n",
       "      <td>0</td>\n",
       "      <td>0</td>\n",
       "      <td>0</td>\n",
       "      <td>0</td>\n",
       "      <td>0</td>\n",
       "      <td>0</td>\n",
       "      <td>0</td>\n",
       "      <td>0</td>\n",
       "    </tr>\n",
       "    <tr>\n",
       "      <td>5509</td>\n",
       "      <td>2</td>\n",
       "      <td>15</td>\n",
       "      <td>2.27</td>\n",
       "      <td>2</td>\n",
       "      <td>0</td>\n",
       "      <td>1.430179</td>\n",
       "      <td>1</td>\n",
       "      <td>0</td>\n",
       "      <td>0</td>\n",
       "      <td>0</td>\n",
       "      <td>...</td>\n",
       "      <td>0</td>\n",
       "      <td>0</td>\n",
       "      <td>0</td>\n",
       "      <td>0</td>\n",
       "      <td>0</td>\n",
       "      <td>0</td>\n",
       "      <td>0</td>\n",
       "      <td>0</td>\n",
       "      <td>0</td>\n",
       "      <td>0</td>\n",
       "    </tr>\n",
       "    <tr>\n",
       "      <td>5510</td>\n",
       "      <td>3</td>\n",
       "      <td>31</td>\n",
       "      <td>0.73</td>\n",
       "      <td>1</td>\n",
       "      <td>90</td>\n",
       "      <td>2.511025</td>\n",
       "      <td>1</td>\n",
       "      <td>0</td>\n",
       "      <td>0</td>\n",
       "      <td>0</td>\n",
       "      <td>...</td>\n",
       "      <td>0</td>\n",
       "      <td>0</td>\n",
       "      <td>0</td>\n",
       "      <td>0</td>\n",
       "      <td>0</td>\n",
       "      <td>0</td>\n",
       "      <td>0</td>\n",
       "      <td>0</td>\n",
       "      <td>0</td>\n",
       "      <td>0</td>\n",
       "    </tr>\n",
       "    <tr>\n",
       "      <td>5511</td>\n",
       "      <td>30</td>\n",
       "      <td>0</td>\n",
       "      <td>0.00</td>\n",
       "      <td>95</td>\n",
       "      <td>329</td>\n",
       "      <td>1.769059</td>\n",
       "      <td>1</td>\n",
       "      <td>0</td>\n",
       "      <td>0</td>\n",
       "      <td>0</td>\n",
       "      <td>...</td>\n",
       "      <td>0</td>\n",
       "      <td>0</td>\n",
       "      <td>0</td>\n",
       "      <td>0</td>\n",
       "      <td>0</td>\n",
       "      <td>0</td>\n",
       "      <td>0</td>\n",
       "      <td>1</td>\n",
       "      <td>0</td>\n",
       "      <td>0</td>\n",
       "    </tr>\n",
       "    <tr>\n",
       "      <td>5512</td>\n",
       "      <td>1</td>\n",
       "      <td>2</td>\n",
       "      <td>0.07</td>\n",
       "      <td>1</td>\n",
       "      <td>0</td>\n",
       "      <td>1.799733</td>\n",
       "      <td>1</td>\n",
       "      <td>0</td>\n",
       "      <td>0</td>\n",
       "      <td>0</td>\n",
       "      <td>...</td>\n",
       "      <td>0</td>\n",
       "      <td>0</td>\n",
       "      <td>0</td>\n",
       "      <td>0</td>\n",
       "      <td>0</td>\n",
       "      <td>0</td>\n",
       "      <td>0</td>\n",
       "      <td>1</td>\n",
       "      <td>0</td>\n",
       "      <td>0</td>\n",
       "    </tr>\n",
       "  </tbody>\n",
       "</table>\n",
       "<p>5513 rows × 48 columns</p>\n",
       "</div>"
      ],
      "text/plain": [
       "      minimum_nights  number_of_reviews  reviews_per_month  listings_per_host  \\\n",
       "0                  6                  2               0.04                  1   \n",
       "1                  1                  9               0.35                  1   \n",
       "2                  2                 93               4.12                  4   \n",
       "3                  2                192               5.06                  2   \n",
       "4                  3                136               1.86                  1   \n",
       "...              ...                ...                ...                ...   \n",
       "5508              30                  2               0.94                152   \n",
       "5509               2                 15               2.27                  2   \n",
       "5510               3                 31               0.73                  1   \n",
       "5511              30                  0               0.00                 95   \n",
       "5512               1                  2               0.07                  1   \n",
       "\n",
       "      availability_365  distance_mall  room_type_Entire home/apt  \\\n",
       "0                    0       1.054333                          1   \n",
       "1                    0       3.245266                          0   \n",
       "2                  162       2.167775                          0   \n",
       "3                  157       2.040722                          1   \n",
       "4                   73       2.177276                          1   \n",
       "...                ...            ...                        ...   \n",
       "5508               312       1.058847                          1   \n",
       "5509                 0       1.430179                          1   \n",
       "5510                90       2.511025                          1   \n",
       "5511               329       1.769059                          1   \n",
       "5512                 0       1.799733                          1   \n",
       "\n",
       "      room_type_Hotel room  room_type_Private room  room_type_Shared room  \\\n",
       "0                        0                       0                      0   \n",
       "1                        0                       1                      0   \n",
       "2                        0                       1                      0   \n",
       "3                        0                       0                      0   \n",
       "4                        0                       0                      0   \n",
       "...                    ...                     ...                    ...   \n",
       "5508                     0                       0                      0   \n",
       "5509                     0                       0                      0   \n",
       "5510                     0                       0                      0   \n",
       "5511                     0                       0                      0   \n",
       "5512                     0                       0                      0   \n",
       "\n",
       "      ...  neighbourhood_Sheridan  neighbourhood_Southwest  \\\n",
       "0     ...                       0                        0   \n",
       "1     ...                       0                        0   \n",
       "2     ...                       0                        0   \n",
       "3     ...                       0                        0   \n",
       "4     ...                       0                        0   \n",
       "...   ...                     ...                      ...   \n",
       "5508  ...                       0                        0   \n",
       "5509  ...                       0                        0   \n",
       "5510  ...                       0                        0   \n",
       "5511  ...                       0                        0   \n",
       "5512  ...                       0                        0   \n",
       "\n",
       "      neighbourhood_Spring Valley  neighbourhood_Takoma  \\\n",
       "0                               0                     0   \n",
       "1                               0                     0   \n",
       "2                               0                     0   \n",
       "3                               0                     0   \n",
       "4                               0                     0   \n",
       "...                           ...                   ...   \n",
       "5508                            0                     0   \n",
       "5509                            0                     0   \n",
       "5510                            0                     0   \n",
       "5511                            0                     0   \n",
       "5512                            0                     0   \n",
       "\n",
       "      neighbourhood_Twining  neighbourhood_Union Station  \\\n",
       "0                         0                            0   \n",
       "1                         0                            0   \n",
       "2                         0                            0   \n",
       "3                         0                            0   \n",
       "4                         0                            0   \n",
       "...                     ...                          ...   \n",
       "5508                      0                            0   \n",
       "5509                      0                            0   \n",
       "5510                      0                            0   \n",
       "5511                      0                            0   \n",
       "5512                      0                            0   \n",
       "\n",
       "      neighbourhood_Van Ness  neighbourhood_West End  \\\n",
       "0                          0                       0   \n",
       "1                          0                       0   \n",
       "2                          0                       0   \n",
       "3                          0                       0   \n",
       "4                          0                       0   \n",
       "...                      ...                     ...   \n",
       "5508                       0                       0   \n",
       "5509                       0                       0   \n",
       "5510                       0                       0   \n",
       "5511                       0                       1   \n",
       "5512                       0                       1   \n",
       "\n",
       "      neighbourhood_Woodland/Fort Stanton  neighbourhood_Woodridge  \n",
       "0                                       0                        0  \n",
       "1                                       0                        0  \n",
       "2                                       0                        0  \n",
       "3                                       0                        0  \n",
       "4                                       0                        0  \n",
       "...                                   ...                      ...  \n",
       "5508                                    0                        0  \n",
       "5509                                    0                        0  \n",
       "5510                                    0                        0  \n",
       "5511                                    0                        0  \n",
       "5512                                    0                        0  \n",
       "\n",
       "[5513 rows x 48 columns]"
      ]
     },
     "execution_count": 8,
     "metadata": {},
     "output_type": "execute_result"
    }
   ],
   "source": [
    "X_train"
   ]
  },
  {
   "cell_type": "code",
   "execution_count": 9,
   "metadata": {},
   "outputs": [],
   "source": [
    "clean_listings = pd.read_csv('/Users/jessieowens2/Desktop/general_assembly/airbnb_data/clean_listings.csv')"
   ]
  },
  {
   "cell_type": "code",
   "execution_count": 10,
   "metadata": {},
   "outputs": [],
   "source": [
    "clean_reviews = pd.read_csv('/Users/jessieowens2/Desktop/general_assembly/airbnb_data/clean_reviews.csv')"
   ]
  },
  {
   "cell_type": "code",
   "execution_count": 11,
   "metadata": {},
   "outputs": [],
   "source": [
    "# clean_listings.join(other=clean_reviews, on='id', how='inner', lsuffix='lis', rsuffix='rev')\n",
    "# pd.merge(df_new, df_n, left_on='subject_id', right_on='subject_id')\n",
    "new = pd.merge(clean_listings, clean_reviews, left_on='id', right_on='listing_id')"
   ]
  },
  {
   "cell_type": "code",
   "execution_count": 12,
   "metadata": {},
   "outputs": [
    {
     "data": {
      "text/plain": [
       "(358268, 65)"
      ]
     },
     "execution_count": 12,
     "metadata": {},
     "output_type": "execute_result"
    }
   ],
   "source": [
    "new.shape"
   ]
  },
  {
   "cell_type": "code",
   "execution_count": 13,
   "metadata": {},
   "outputs": [
    {
     "data": {
      "text/plain": [
       "54"
      ]
     },
     "execution_count": 13,
     "metadata": {},
     "output_type": "execute_result"
    }
   ],
   "source": [
    "new['comments'].isnull().sum()"
   ]
  },
  {
   "cell_type": "code",
   "execution_count": 14,
   "metadata": {},
   "outputs": [],
   "source": [
    "new['comments'].fillna('Missing', inplace=True)"
   ]
  },
  {
   "cell_type": "code",
   "execution_count": 15,
   "metadata": {},
   "outputs": [],
   "source": [
    "reviews = pd.read_csv('/Users/jessieowens2/Desktop/general_assembly/airbnb_data/reviews.csv')"
   ]
  },
  {
   "cell_type": "markdown",
   "metadata": {},
   "source": [
    "---"
   ]
  },
  {
   "cell_type": "markdown",
   "metadata": {},
   "source": [
    "## Logistic Regression on Numeric Data"
   ]
  },
  {
   "cell_type": "code",
   "execution_count": 16,
   "metadata": {},
   "outputs": [
    {
     "name": "stderr",
     "output_type": "stream",
     "text": [
      "//anaconda3/lib/python3.7/site-packages/sklearn/linear_model/logistic.py:432: FutureWarning: Default solver will be changed to 'lbfgs' in 0.22. Specify a solver to silence this warning.\n",
      "  FutureWarning)\n",
      "//anaconda3/lib/python3.7/site-packages/sklearn/linear_model/logistic.py:469: FutureWarning: Default multi_class will be changed to 'auto' in 0.22. Specify the multi_class option to silence this warning.\n",
      "  \"this warning.\", FutureWarning)\n"
     ]
    },
    {
     "data": {
      "text/plain": [
       "LogisticRegression(C=1.0, class_weight=None, dual=False, fit_intercept=True,\n",
       "                   intercept_scaling=1, l1_ratio=None, max_iter=100,\n",
       "                   multi_class='warn', n_jobs=None, penalty='l2',\n",
       "                   random_state=None, solver='warn', tol=0.0001, verbose=0,\n",
       "                   warm_start=False)"
      ]
     },
     "execution_count": 16,
     "metadata": {},
     "output_type": "execute_result"
    }
   ],
   "source": [
    "# logistic regression model\n",
    "lr = LogisticRegression()\n",
    "\n",
    "lr.fit(X_train, y_train)"
   ]
  },
  {
   "cell_type": "code",
   "execution_count": 17,
   "metadata": {},
   "outputs": [
    {
     "data": {
      "text/plain": [
       "0.09758752040631236"
      ]
     },
     "execution_count": 17,
     "metadata": {},
     "output_type": "execute_result"
    }
   ],
   "source": [
    "lr.score(X_train, y_train)"
   ]
  },
  {
   "cell_type": "code",
   "execution_count": 18,
   "metadata": {},
   "outputs": [
    {
     "data": {
      "text/plain": [
       "0.07076755579749591"
      ]
     },
     "execution_count": 18,
     "metadata": {},
     "output_type": "execute_result"
    }
   ],
   "source": [
    "lr.score(X_val, y_val)"
   ]
  },
  {
   "cell_type": "code",
   "execution_count": 19,
   "metadata": {},
   "outputs": [
    {
     "data": {
      "text/plain": [
       "array([[-1.00520271e+00, -6.50846690e-01, -5.03141889e-02, ...,\n",
       "        -6.13235517e-02,  4.01032593e-09, -2.51440342e-04],\n",
       "       [-1.12358319e+00, -1.85089037e-03, -1.46648973e-01, ...,\n",
       "        -5.39058734e-02, -3.97163688e-06, -4.61580491e-04],\n",
       "       [-1.41205809e+00,  7.76451989e-03, -2.87097049e-01, ...,\n",
       "        -1.00130974e-01, -1.48166544e-06, -3.68563220e-04],\n",
       "       ...,\n",
       "       [-1.50398762e-01, -7.30860451e-01, -1.36213859e-01, ...,\n",
       "        -9.43164619e-02, -1.56335562e-03, -6.26280635e-03],\n",
       "       [-2.26223710e-01, -4.31812654e-01, -1.63469880e-01, ...,\n",
       "        -1.52573230e-01, -3.16838952e-03, -8.88115269e-03],\n",
       "       [-3.31933187e-01, -6.45426593e-01, -1.40097712e-01, ...,\n",
       "        -7.96238189e-02, -1.44853894e-03, -2.16580854e-03]])"
      ]
     },
     "execution_count": 19,
     "metadata": {},
     "output_type": "execute_result"
    }
   ],
   "source": [
    "lr.coef_"
   ]
  },
  {
   "cell_type": "code",
   "execution_count": 20,
   "metadata": {},
   "outputs": [
    {
     "data": {
      "text/plain": [
       "<matplotlib.axes._subplots.AxesSubplot at 0x122156320>"
      ]
     },
     "execution_count": 20,
     "metadata": {},
     "output_type": "execute_result"
    },
    {
     "data": {
      "image/png": "[encoded data removed]",
      "text/plain": [
       "<Figure size 432x288 with 2 Axes>"
      ]
     },
     "metadata": {
      "needs_background": "light"
     },
     "output_type": "display_data"
    }
   ],
   "source": [
    "sns.heatmap(lr.coef_)"
   ]
  },
  {
   "cell_type": "markdown",
   "metadata": {},
   "source": [
    "---"
   ]
  },
  {
   "cell_type": "markdown",
   "metadata": {},
   "source": [
    "## Reviews"
   ]
  },
  {
   "cell_type": "code",
   "execution_count": 21,
   "metadata": {},
   "outputs": [],
   "source": [
    "# is this necessary??\n",
    "# create a review list\n",
    "# reviews_list = []\n",
    "\n",
    "# for i in new['comments']:\n",
    "#     reviews_list.append(i)"
   ]
  },
  {
   "cell_type": "code",
   "execution_count": 22,
   "metadata": {},
   "outputs": [],
   "source": [
    "# stem the words also ??"
   ]
  },
  {
   "cell_type": "code",
   "execution_count": 23,
   "metadata": {},
   "outputs": [],
   "source": [
    "X = new['comments']\n",
    "y = new['price']"
   ]
  },
  {
   "cell_type": "code",
   "execution_count": 24,
   "metadata": {},
   "outputs": [],
   "source": [
    "X_train, X_test, y_train, y_test = train_test_split(X, y, random_state=2020)"
   ]
  },
  {
   "cell_type": "code",
   "execution_count": 25,
   "metadata": {},
   "outputs": [
    {
     "data": {
      "text/plain": [
       "{'C': 1.0,\n",
       " 'cache_size': 200,\n",
       " 'coef0': 0.0,\n",
       " 'degree': 3,\n",
       " 'epsilon': 0.1,\n",
       " 'gamma': 'auto_deprecated',\n",
       " 'kernel': 'rbf',\n",
       " 'max_iter': -1,\n",
       " 'shrinking': True,\n",
       " 'tol': 0.001,\n",
       " 'verbose': False}"
      ]
     },
     "execution_count": 25,
     "metadata": {},
     "output_type": "execute_result"
    }
   ],
   "source": [
    "svr = SVR()\n",
    "svr.get_params()"
   ]
  },
  {
   "cell_type": "code",
   "execution_count": null,
   "metadata": {},
   "outputs": [
    {
     "name": "stdout",
     "output_type": "stream",
     "text": [
      "Fitting 3 folds for each of 4 candidates, totalling 12 fits\n"
     ]
    },
    {
     "name": "stderr",
     "output_type": "stream",
     "text": [
      "[Parallel(n_jobs=1)]: Using backend SequentialBackend with 1 concurrent workers.\n"
     ]
    }
   ],
   "source": [
    "pipe = Pipeline([('cvec', CountVectorizer()), ('svr', SVR())])\n",
    "\n",
    "\n",
    "pipe_params = {'cvec__max_features': [500], \n",
    "                 'cvec__min_df': [2, 3], \n",
    "                 'cvec__max_df': [0.9, 0.95], \n",
    "                 'cvec__ngram_range': [(1, 1)],\n",
    "                 'svr__C': [0.5], \n",
    "                 'svr__kernel': ['rbf'], \n",
    "                 'svr__gamma': ['scale']\n",
    "                }\n",
    "# pipe_params = {'cvec__max_features': [250, 500, 750], \n",
    "#                  'cvec__min_df': [2, 3], \n",
    "#                  'cvec__max_df': [0.9, 0.95], \n",
    "#                  'cvec__ngram_range': [(1, 2), (1, 3)],\n",
    "#                  'svr__C': [1.0, 0.75, 0.5, 0.25], \n",
    "#                  'svr__kernel': ['rbf', 'poly', 'linear'], \n",
    "#                  'svr__gamma': ['scale']\n",
    "#                 }\n",
    "\n",
    "gs = GridSearchCV(pipe, pipe_params, cv=3, verbose=1)\n",
    "gs.fit(X_train, y_train)\n",
    "print(gs.best_score_)\n",
    "gs.best_params_\n",
    "# 9:53"
   ]
  },
  {
   "cell_type": "code",
   "execution_count": null,
   "metadata": {},
   "outputs": [],
   "source": [
    "X_train, X_test, y_train, y_test = train_test_split(X, y, random_state=2020)"
   ]
  },
  {
   "cell_type": "code",
   "execution_count": null,
   "metadata": {},
   "outputs": [],
   "source": [
    "pipe_2 = Pipeline([('cvec', CountVectorizer()), ('ada', AdaBoostRegressor())])\n",
    "\n",
    "pipe_2_params = {'cvec__max_features': [250, 500], \n",
    "                 'cvec__min_df': [2, 3], \n",
    "                 'cvec__max_df': [0.9, 0.95], \n",
    "                 'cvec__ngram_range': [(1, 2), (1, 3)],\n",
    "                 'ada__n_estimators': [25, 50, 75],\n",
    "                 'ada__base_estimator': [DecisionTreeRegressor()]\n",
    "                }\n",
    "\n",
    "gs = GridSearchCV(pipe_2, pipe_2_params, cv=2, verbose=1)\n",
    "gs.fit(X_train, y_train)\n",
    "print(gs.best_score_)\n",
    "gs.best_params_\n",
    "# 4:44"
   ]
  },
  {
   "cell_type": "code",
   "execution_count": null,
   "metadata": {},
   "outputs": [],
   "source": [
    "# linreg = LinearRegression()\n",
    "# linreg.fit(X_train, y_train)"
   ]
  },
  {
   "cell_type": "code",
   "execution_count": null,
   "metadata": {},
   "outputs": [],
   "source": [
    "# xg boost"
   ]
  },
  {
   "cell_type": "code",
   "execution_count": null,
   "metadata": {},
   "outputs": [],
   "source": [
    "X = new['comments']\n",
    "y = new['price']"
   ]
  },
  {
   "cell_type": "code",
   "execution_count": null,
   "metadata": {},
   "outputs": [],
   "source": [
    "cvec = CountVectorizer()\n",
    "X = cvec.fit_transform(X)"
   ]
  },
  {
   "cell_type": "code",
   "execution_count": null,
   "metadata": {},
   "outputs": [],
   "source": [
    "X_train, X_test, y_train, y_test = train_test_split(X, y, random_state=2020)"
   ]
  },
  {
   "cell_type": "code",
   "execution_count": null,
   "metadata": {},
   "outputs": [],
   "source": [
    "xg_model = XGBRegressor(max_depth=5, n_estimators=175)\n",
    "xg_model.fit(X_train, y_train)\n",
    "print(xg_model)\n",
    "# 4:48"
   ]
  },
  {
   "cell_type": "code",
   "execution_count": null,
   "metadata": {},
   "outputs": [],
   "source": [
    "y_pred = xg_model.predict(X_test)"
   ]
  },
  {
   "cell_type": "code",
   "execution_count": null,
   "metadata": {},
   "outputs": [],
   "source": [
    "metrics.r2_score(y_test, y_pred)"
   ]
  },
  {
   "cell_type": "code",
   "execution_count": null,
   "metadata": {},
   "outputs": [],
   "source": [
    "xg_model.score(X_train, y_train)"
   ]
  },
  {
   "cell_type": "code",
   "execution_count": null,
   "metadata": {},
   "outputs": [],
   "source": [
    "R_squared = xg_model.score(X_test, y_test)\n",
    "R_squared"
   ]
  },
  {
   "cell_type": "code",
   "execution_count": null,
   "metadata": {},
   "outputs": [],
   "source": [
    "X.shape[0]"
   ]
  },
  {
   "cell_type": "code",
   "execution_count": null,
   "metadata": {},
   "outputs": [],
   "source": [
    "n = len(y)\n",
    "p = 1\n",
    "adj_r_squared = 1 - (1 - R_squared) * ((n - 1)/(n-p-1))\n",
    "print(adj_r_squared)"
   ]
  },
  {
   "cell_type": "code",
   "execution_count": null,
   "metadata": {},
   "outputs": [],
   "source": [
    "X = new['comments']\n",
    "y = new['price']"
   ]
  },
  {
   "cell_type": "code",
   "execution_count": null,
   "metadata": {},
   "outputs": [],
   "source": [
    "tf = TfidfVectorizer()"
   ]
  },
  {
   "cell_type": "code",
   "execution_count": null,
   "metadata": {},
   "outputs": [],
   "source": [
    "X_train, X_test, y_train, y_test = train_test_split(X, y, random_state=2020)"
   ]
  },
  {
   "cell_type": "code",
   "execution_count": null,
   "metadata": {},
   "outputs": [],
   "source": [
    "X_train = tf.fit_transform(X_train)\n",
    "\n",
    "X_test = tf.transform(X_test)"
   ]
  },
  {
   "cell_type": "code",
   "execution_count": null,
   "metadata": {},
   "outputs": [],
   "source": [
    "xg_model = XGBRegressor(max_depth=5, n_estimators=150)\n",
    "xg_model.fit(X_train, y_train)\n",
    "print(xg_model)\n",
    "#8 minutes; 6min"
   ]
  },
  {
   "cell_type": "code",
   "execution_count": null,
   "metadata": {},
   "outputs": [],
   "source": [
    "y_pred = xg_model.predict(X_test)"
   ]
  },
  {
   "cell_type": "code",
   "execution_count": null,
   "metadata": {},
   "outputs": [],
   "source": [
    "metrics.r2_score(y_test, y_pred)"
   ]
  },
  {
   "cell_type": "code",
   "execution_count": null,
   "metadata": {},
   "outputs": [],
   "source": [
    "xg_model.score(X_train, y_train)"
   ]
  },
  {
   "cell_type": "code",
   "execution_count": null,
   "metadata": {},
   "outputs": [],
   "source": [
    "R_squared = xg_model.score(X_test, y_test)\n",
    "R_squared"
   ]
  },
  {
   "cell_type": "markdown",
   "metadata": {},
   "source": [
    "---"
   ]
  },
  {
   "cell_type": "markdown",
   "metadata": {},
   "source": [
    "## K means Clustering of Location"
   ]
  },
  {
   "cell_type": "code",
   "execution_count": null,
   "metadata": {},
   "outputs": [],
   "source": [
    "clean_listings.head(1)"
   ]
  },
  {
   "cell_type": "code",
   "execution_count": null,
   "metadata": {},
   "outputs": [],
   "source": [
    "plt.scatter(x=clean_listings['longitude'], y=clean_listings['latitude'])"
   ]
  },
  {
   "cell_type": "code",
   "execution_count": null,
   "metadata": {},
   "outputs": [],
   "source": [
    "# Define X\n",
    "X = clean_listings.loc[:, ['latitude', 'longitude']]"
   ]
  },
  {
   "cell_type": "code",
   "execution_count": null,
   "metadata": {},
   "outputs": [],
   "source": [
    "# Scale data\n",
    "sc = StandardScaler()\n",
    "X_sc = sc.fit_transform(X)"
   ]
  },
  {
   "cell_type": "code",
   "execution_count": null,
   "metadata": {},
   "outputs": [],
   "source": [
    "km = KMeans(n_clusters=39, random_state=2020)\n",
    "km.fit(X_sc)"
   ]
  },
  {
   "cell_type": "code",
   "execution_count": null,
   "metadata": {},
   "outputs": [],
   "source": [
    "km.labels_"
   ]
  },
  {
   "cell_type": "code",
   "execution_count": null,
   "metadata": {},
   "outputs": [],
   "source": [
    "clean_listings['hood_clusters'] = km.labels_"
   ]
  },
  {
   "cell_type": "code",
   "execution_count": null,
   "metadata": {},
   "outputs": [],
   "source": [
    "centroids = pd.DataFrame(data=sc.inverse_transform(km.cluster_centers_), columns=['latitude', 'longitude'])\n",
    "centroids.head(1)"
   ]
  },
  {
   "cell_type": "code",
   "execution_count": null,
   "metadata": {},
   "outputs": [],
   "source": [
    "# plot centroids\n",
    "plt.scatter(x=centroids['longitude'], y=centroids['latitude'])"
   ]
  },
  {
   "cell_type": "code",
   "execution_count": null,
   "metadata": {},
   "outputs": [],
   "source": [
    "# plot clusters with centroids\n",
    "plt.figure(figsize=(14,14))\n",
    "\n",
    "colors = ['#641E16','#78281F','#7B241C','#943126','#922B21','#B03A2E','#A93226','#CB4335','#C0392B','#E74C3C','#CD6155','#EC7063','#D98880','#F1948A','#E6B0AA','#F5B7B1','#154360','#1B4F72','#1F618D','#2471A3','#512E5F','#4A235A','#633974','#5B2C6F','#76448A','#6C3483','#884EA0','#7D3C98','#9B59B6','#8E44AD','#AF7AC5','#A569BD','#C39BD3','#BB8FCE','#D7BDE2','#D2B4DE','#EBDEF0','#E8DAEF','#F5EEF8']\n",
    "clean_listings['color'] = clean_listings['hood_clusters'].map(lambda p: colors[p])\n",
    "\n",
    "ax = clean_listings.plot(    \n",
    "    kind=\"scatter\", \n",
    "    x=\"longitude\", y=\"latitude\",\n",
    "    figsize=(10,8),\n",
    "    c = clean_listings['color']\n",
    ")\n",
    "\n",
    "centroids.plot(\n",
    "    kind=\"scatter\", \n",
    "    x=\"longitude\", y=\"latitude\", \n",
    "    marker=\".\", edgecolor='black', c=['#641E16','#78281F','#7B241C','#943126','#922B21','#B03A2E','#A93226','#CB4335','#C0392B','#E74C3C','#CD6155','#EC7063','#D98880','#F1948A','#E6B0AA','#F5B7B1','#154360','#1B4F72','#1F618D','#2471A3','#512E5F','#4A235A','#633974','#5B2C6F','#76448A','#6C3483','#884EA0','#7D3C98','#9B59B6','#8E44AD','#AF7AC5','#A569BD','#C39BD3','#BB8FCE','#D7BDE2','#D2B4DE','#EBDEF0','#E8DAEF','#F5EEF8'], s=550,\n",
    "    ax=ax\n",
    ");"
   ]
  },
  {
   "cell_type": "code",
   "execution_count": null,
   "metadata": {},
   "outputs": [],
   "source": [
    "# check silhouette score\n",
    "silhouette_score(X_sc, km.labels_)"
   ]
  },
  {
   "cell_type": "markdown",
   "metadata": {},
   "source": [
    "---"
   ]
  },
  {
   "cell_type": "markdown",
   "metadata": {},
   "source": [
    "## K Means Clustering of Reviews"
   ]
  },
  {
   "cell_type": "code",
   "execution_count": null,
   "metadata": {},
   "outputs": [],
   "source": [
    "reviews.head(2)"
   ]
  },
  {
   "cell_type": "code",
   "execution_count": null,
   "metadata": {},
   "outputs": [],
   "source": [
    "# looking at count of reviews for each date\n",
    "rev_by_date = reviews.groupby('date')['comments'].count()\n",
    "\n",
    "rev_by_date.sort_values()"
   ]
  },
  {
   "cell_type": "code",
   "execution_count": null,
   "metadata": {},
   "outputs": [],
   "source": [
    "# convert this series to a df\n",
    "rev_by_date = pd.DataFrame(rev_by_date)"
   ]
  },
  {
   "cell_type": "code",
   "execution_count": null,
   "metadata": {},
   "outputs": [],
   "source": [
    "rev_by_date.head(1)"
   ]
  },
  {
   "cell_type": "code",
   "execution_count": null,
   "metadata": {},
   "outputs": [],
   "source": [
    "# reset index so data is it's own column for plotting\n",
    "rev_by_date = rev_by_date.reset_index()"
   ]
  },
  {
   "cell_type": "code",
   "execution_count": null,
   "metadata": {},
   "outputs": [],
   "source": [
    "# convert date to datetime type\n",
    "rev_by_date['date'] = pd.to_datetime(rev_by_date['date'])"
   ]
  },
  {
   "cell_type": "code",
   "execution_count": null,
   "metadata": {},
   "outputs": [],
   "source": [
    "# create new column for month\n",
    "rev_by_date['month'] = rev_by_date['date'].dt.month"
   ]
  },
  {
   "cell_type": "code",
   "execution_count": null,
   "metadata": {},
   "outputs": [],
   "source": [
    "# create new column for date\n",
    "rev_by_date['day'] = rev_by_date['date'].dt.day"
   ]
  },
  {
   "cell_type": "code",
   "execution_count": null,
   "metadata": {},
   "outputs": [],
   "source": [
    "# create new column for year\n",
    "rev_by_date['year'] = rev_by_date['date'].dt.year"
   ]
  },
  {
   "cell_type": "code",
   "execution_count": null,
   "metadata": {},
   "outputs": [],
   "source": [
    "# sort by date\n",
    "rev_by_date['date'].sort_values()"
   ]
  },
  {
   "cell_type": "code",
   "execution_count": null,
   "metadata": {},
   "outputs": [],
   "source": [
    "# add start date column\n",
    "rev_by_date['start_date'] = '2009-01-21'"
   ]
  },
  {
   "cell_type": "code",
   "execution_count": null,
   "metadata": {},
   "outputs": [],
   "source": [
    "# convert start date to datetime type\n",
    "rev_by_date['start_date'] = pd.to_datetime(rev_by_date['start_date'])"
   ]
  },
  {
   "cell_type": "code",
   "execution_count": null,
   "metadata": {},
   "outputs": [],
   "source": [
    "# calculate time for reach review since start date\n",
    "rev_by_date['time'] = rev_by_date['date'] - rev_by_date['start_date']"
   ]
  },
  {
   "cell_type": "code",
   "execution_count": null,
   "metadata": {},
   "outputs": [],
   "source": [
    "# convert time to integer\n",
    "rev_by_date['time'] = rev_by_date['time'].dt.days"
   ]
  },
  {
   "cell_type": "code",
   "execution_count": null,
   "metadata": {},
   "outputs": [],
   "source": [
    "rev_by_date.head()"
   ]
  },
  {
   "cell_type": "code",
   "execution_count": null,
   "metadata": {},
   "outputs": [],
   "source": [
    "# plot the time points\n",
    "plt.scatter(x=rev_by_date['time'], y=rev_by_date['comments'])"
   ]
  },
  {
   "cell_type": "code",
   "execution_count": null,
   "metadata": {},
   "outputs": [],
   "source": [
    "# Define X\n",
    "X = rev_by_date.loc[:, ['time', 'comments']]"
   ]
  },
  {
   "cell_type": "code",
   "execution_count": null,
   "metadata": {},
   "outputs": [],
   "source": [
    "# scale\n",
    "sc = StandardScaler()\n",
    "X_sc = sc.fit_transform(X)"
   ]
  },
  {
   "cell_type": "code",
   "execution_count": null,
   "metadata": {},
   "outputs": [],
   "source": [
    "# initiate cluster\n",
    "km = KMeans(n_clusters=20, random_state=2020)\n",
    "km.fit(X_sc)"
   ]
  },
  {
   "cell_type": "code",
   "execution_count": null,
   "metadata": {},
   "outputs": [],
   "source": [
    "# check labels\n",
    "km.labels_"
   ]
  },
  {
   "cell_type": "code",
   "execution_count": null,
   "metadata": {},
   "outputs": [],
   "source": [
    "rev_by_date['clusters'] = km.labels_"
   ]
  },
  {
   "cell_type": "code",
   "execution_count": null,
   "metadata": {},
   "outputs": [],
   "source": [
    "# create df of centroids\n",
    "centroids = pd.DataFrame(data=sc.inverse_transform(km.cluster_centers_), columns=['time', 'comments'])\n",
    "centroids.head(1)"
   ]
  },
  {
   "cell_type": "code",
   "execution_count": null,
   "metadata": {},
   "outputs": [],
   "source": [
    "# plot the centroids\n",
    "plt.scatter(x=centroids['time'], y=centroids['comments'])"
   ]
  },
  {
   "cell_type": "code",
   "execution_count": null,
   "metadata": {},
   "outputs": [],
   "source": [
    "# check silhouette score\n",
    "silhouette_score(X_sc, km.labels_)"
   ]
  },
  {
   "cell_type": "code",
   "execution_count": null,
   "metadata": {},
   "outputs": [],
   "source": [
    "## Plot scatter by cluster / color, and centroids\n",
    "plt.figure(figsize=(14,14))\n",
    "\n",
    "colors = ['#641E16','#78281F','#7B241C','#943126','#922B21','#B03A2E','#A93226','#CB4335','#C0392B','#E74C3C','#CD6155','#EC7063','#D98880','#F1948A','#E6B0AA','#F5B7B1','#154360','#1B4F72','#1F618D','#2471A3']\n",
    "#           ,'#512E5F','#4A235A','#633974','#5B2C6F','#76448A','#6C3483','#884EA0','#7D3C98','#9B59B6','#8E44AD','#AF7AC5','#A569BD','#C39BD3','#BB8FCE','#D7BDE2','#D2B4DE','#EBDEF0','#E8DAEF','#F5EEF8']\n",
    "rev_by_date['color'] = rev_by_date['clusters'].map(lambda p: colors[p])\n",
    "\n",
    "ax = rev_by_date.plot(    \n",
    "    kind=\"scatter\", \n",
    "    x=\"time\", y=\"comments\",\n",
    "    figsize=(10,8),\n",
    "    c = rev_by_date['color']\n",
    ")\n",
    "\n",
    "centroids.plot(\n",
    "    kind=\"scatter\", \n",
    "    x=\"time\", y=\"comments\", \n",
    "    marker=\".\", edgecolor='black', c=['#641E16','#78281F','#7B241C','#943126','#922B21','#B03A2E','#A93226','#CB4335','#C0392B','#E74C3C','#CD6155','#EC7063','#D98880','#F1948A','#E6B0AA','#F5B7B1','#154360','#1B4F72','#1F618D','#2471A3'], s=550, #,'#512E5F','#4A235A','#633974','#5B2C6F','#76448A','#6C3483','#884EA0','#7D3C98','#9B59B6','#8E44AD','#AF7AC5','#A569BD','#C39BD3','#BB8FCE','#D7BDE2','#D2B4DE','#EBDEF0','#E8DAEF','#F5EEF8']\n",
    "    ax=ax\n",
    ");"
   ]
  },
  {
   "cell_type": "code",
   "execution_count": null,
   "metadata": {},
   "outputs": [],
   "source": [
    "# rev_by_date[rev_by_date['time'] > 2000]"
   ]
  },
  {
   "cell_type": "code",
   "execution_count": null,
   "metadata": {},
   "outputs": [],
   "source": [
    "rev_by_date.head(3)"
   ]
  },
  {
   "cell_type": "code",
   "execution_count": null,
   "metadata": {},
   "outputs": [],
   "source": [
    "# create a dictionary for months - need to use this to calculate the distance from 0 of each date in a year\n",
    "# 0 in this instance will be january 1\n",
    "months_dict = {1:0, 2:31, 3:59, 4:90, 5:120, 6:151, 7:181, 8:212, 9:243, 10:273, 11:304, 12:334} "
   ]
  },
  {
   "cell_type": "code",
   "execution_count": null,
   "metadata": {},
   "outputs": [],
   "source": [
    "# map the month dictionary to a new column\n",
    "rev_by_date['time_cluster'] = rev_by_date['month'].map(months_dict)"
   ]
  },
  {
   "cell_type": "code",
   "execution_count": null,
   "metadata": {},
   "outputs": [],
   "source": [
    "rev_by_date['day'] = pd.to_numeric(rev_by_date['day'])"
   ]
  },
  {
   "cell_type": "code",
   "execution_count": null,
   "metadata": {},
   "outputs": [],
   "source": [
    "# add the days to the new column\n",
    "rev_by_date['time_cluster'] = rev_by_date['time_cluster'] + rev_by_date['day']"
   ]
  },
  {
   "cell_type": "code",
   "execution_count": null,
   "metadata": {},
   "outputs": [],
   "source": [
    "rev_by_date.head(6)"
   ]
  },
  {
   "cell_type": "code",
   "execution_count": null,
   "metadata": {},
   "outputs": [],
   "source": [
    "# create a df for each year for plotting\n",
    "rev_2009 = rev_by_date[rev_by_date['year'] == 2009]\n",
    "rev_2010 = rev_by_date[rev_by_date['year'] == 2010]\n",
    "rev_2011 = rev_by_date[rev_by_date['year'] == 2011]\n",
    "rev_2012 = rev_by_date[rev_by_date['year'] == 2012]\n",
    "rev_2013 = rev_by_date[rev_by_date['year'] == 2013]\n",
    "rev_2014 = rev_by_date[rev_by_date['year'] == 2014]\n",
    "rev_2015 = rev_by_date[rev_by_date['year'] == 2015]\n",
    "rev_2016 = rev_by_date[rev_by_date['year'] == 2016]\n",
    "rev_2017 = rev_by_date[rev_by_date['year'] == 2017]\n",
    "rev_2018 = rev_by_date[rev_by_date['year'] == 2018]\n",
    "rev_2019 = rev_by_date[rev_by_date['year'] == 2019]"
   ]
  },
  {
   "cell_type": "code",
   "execution_count": null,
   "metadata": {
    "scrolled": false
   },
   "outputs": [],
   "source": [
    "plt.figure(figsize=(16, 10))\n",
    "plt.plot(rev_2009['time_cluster'], rev_2009['comments'], color='#229954')\n",
    "plt.plot(rev_2010['time_cluster'], rev_2010['comments'], color='#D35400')\n",
    "plt.plot(rev_2011['time_cluster'], rev_2011['comments'], color='#3498DB')\n",
    "plt.plot(rev_2012['time_cluster'], rev_2012['comments'], color='#D4AC0D')\n",
    "plt.plot(rev_2013['time_cluster'], rev_2013['comments'], color='#7D3C98')\n",
    "\n",
    "plt.axvline(x=23, c='r', linestyle='--')\n",
    "plt.text(24, 20, 'Obama\\'s\\nInauguration')\n",
    "plt.axvline(x=98, c='r', linestyle='--')\n",
    "plt.text(99, 29, 'Cherry Blossom\\nFestival')\n",
    "plt.axvline(x=287, c='r', linestyle='--')\n",
    "plt.text(288, 19, 'Million Vet March')\n",
    "\n",
    "plt.xticks(np.arange(0, 360, step=31), ['Jan', 'Feb', 'Mar', 'Apr', 'May', 'Jun', 'Jul', 'Aug', 'Sep', 'Oct', 'Nov', 'Dec'])\n",
    "\n",
    "plt.xlabel('Month')\n",
    "plt.ylabel('Number of Reviews')\n",
    "# plt.title('2013', fontdict={'fontsize': 24})\n",
    "\n",
    "# plt.legend(['2009', '2010', '2011', '2012', '2013'])\n",
    "plt.show();"
   ]
  },
  {
   "cell_type": "code",
   "execution_count": null,
   "metadata": {},
   "outputs": [],
   "source": [
    "rev_2013.sort_values(by='comments', ascending=False).head(5)"
   ]
  },
  {
   "cell_type": "code",
   "execution_count": null,
   "metadata": {},
   "outputs": [],
   "source": [
    "plt.figure(figsize=(16, 10))\n",
    "\n",
    "plt.plot(rev_2014['time_cluster'], rev_2014['comments'], color='g')\n",
    "plt.plot(rev_2015['time_cluster'], rev_2015['comments'], color='r')\n",
    "plt.plot(rev_2016['time_cluster'], rev_2016['comments'], color='c')\n",
    "plt.plot(rev_2017['time_cluster'], rev_2017['comments'], color='y')\n",
    "plt.plot(rev_2018['time_cluster'], rev_2018['comments'], color='#7D3C98')\n",
    "plt.plot(rev_2019['time_cluster'], rev_2019['comments'], color='#2ECC71')\n",
    "\n",
    "plt.xticks(np.arange(0, 360, step=31), ['Jan', 'Feb', 'Mar', 'Apr', 'May', 'Jun', 'Jul', 'Aug', 'Sep', 'Oct', 'Nov', 'Dec'])\n",
    "\n",
    "plt.axvline(x=97, c='r', linestyle='--')\n",
    "plt.text(98, 1025, 'Cherry Blossom\\nFestival')\n",
    "\n",
    "plt.xlabel('Month')\n",
    "plt.ylabel('Number of Reviews Left')\n",
    "\n",
    "plt.legend(['2014', '2015', '2016', '2017', '2018', '2019'])\n",
    "\n",
    "plt.show();"
   ]
  },
  {
   "cell_type": "markdown",
   "metadata": {},
   "source": [
    "**2009**\n",
    "(1)1/21\n",
    "3/26\n",
    "7/28\n",
    "10/30\n",
    "10/6\n",
    "\n",
    "**2010**\n",
    "(1)4/11, 7/15, 9/18, 4/21, \n",
    "11/1/10: rally to restore sanity and/or fear (hosted by jon stewart and stephen colbert, drew 200k+ people)\n",
    "\n",
    "**2011**\n",
    "2011: 6/12, \n",
    "11/17/11: occupy wall street march from nyc\n",
    "11/18/11: occupy wall street march from nyc\n",
    "9/25, 10/7\n",
    "\n",
    "**2012**\n",
    "2012: 9/17, 9/14, 6/21, 10/24, 6/7\n",
    "\n",
    "**2013**\n",
    "* (1)4/8/13: cherry blossom fest (mar 20-apr 13)\n",
    "10/28/13\n",
    "* 1/23/13: Obama 2nd inauguration\n",
    "5/21/13\n",
    "* 10/14/13: Million Vet march - protesting closure of national memorials and parks due to gov shutdown / World Bank and IMF meetings\n",
    "\n",
    "**2014**\n",
    " (1)11/20/14: Obama announces immigration accountability executive action (deferring deporation for 5mil immigrants)\n",
    "11/21/14\n",
    "11/19/14\n",
    "10/27/14\n",
    "7/7/14\n",
    "\n",
    "**2015**\n",
    "(1)9/21\n",
    "10/24, 10/26, 10/12, 10/19,\n",
    "\n",
    "**2016**\n",
    "(1)11/13\n",
    "10/23\n",
    "10/30\n",
    "10/9\n",
    "10/16\n",
    "\n",
    "**2017**: 1/22, 10/22, 4/23, 11/15, 10/15\n",
    "\n",
    "**2018**: 5/1 (so few reviews), 10/28, 4/29, 3/25, 4/15, 4/8\n",
    "\n",
    "**2019**\n",
    " (1)4/7/19: cherry blossom fest (mar 20-apr 15)\n",
    "4/28\n",
    " 4/14/19: cherry blossom fest (mar 20-apr 15)\n",
    " 3/31/19: cherry blossom fest (mar 20-apr 15)\n",
    "4/21"
   ]
  },
  {
   "cell_type": "code",
   "execution_count": null,
   "metadata": {},
   "outputs": [],
   "source": [
    "# \n",
    "# , 10/16, 10/10\n",
    "# , 11/13, 3/17\n",
    "\n",
    "# on slides - all of them together then each year individually with highest reviews left and what event that was\n",
    "\n",
    "\n",
    "\n"
   ]
  },
  {
   "cell_type": "code",
   "execution_count": null,
   "metadata": {},
   "outputs": [],
   "source": [
    "# do major events on a graph of each year \n",
    "# do biggest event from each year on compiled graph"
   ]
  }
 ],
 "metadata": {
  "kernelspec": {
   "display_name": "Python 3",
   "language": "python",
   "name": "python3"
  },
  "language_info": {
   "codemirror_mode": {
    "name": "ipython",
    "version": 3
   },
   "file_extension": ".py",
   "mimetype": "text/x-python",
   "name": "python",
   "nbconvert_exporter": "python",
   "pygments_lexer": "ipython3",
   "version": "3.7.3"
  }
 },
 "nbformat": 4,
 "nbformat_minor": 2
}
