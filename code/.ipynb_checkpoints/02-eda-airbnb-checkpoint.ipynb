{
 "cells": [
  {
   "cell_type": "code",
   "execution_count": 1,
   "metadata": {},
   "outputs": [],
   "source": [
    "# Import libraries\n",
    "import pandas as pd"
   ]
  },
  {
   "cell_type": "markdown",
   "metadata": {},
   "source": [
    "## Reviews.csv"
   ]
  },
  {
   "cell_type": "code",
   "execution_count": 2,
   "metadata": {},
   "outputs": [
    {
     "data": {
      "text/plain": [
       "(358268, 6)"
      ]
     },
     "execution_count": 2,
     "metadata": {},
     "output_type": "execute_result"
    }
   ],
   "source": [
    "# Read in Reviews dataset\n",
    "reviews = pd.read_csv('/Users/jessieowens2/Desktop/general_assembly/airbnb_data/reviews.csv')\n",
    "# Check shape for total number of reviews\n",
    "reviews.shape"
   ]
  },
  {
   "cell_type": "code",
   "execution_count": 3,
   "metadata": {},
   "outputs": [
    {
     "data": {
      "text/html": [
       "<div>\n",
       "<style scoped>\n",
       "    .dataframe tbody tr th:only-of-type {\n",
       "        vertical-align: middle;\n",
       "    }\n",
       "\n",
       "    .dataframe tbody tr th {\n",
       "        vertical-align: top;\n",
       "    }\n",
       "\n",
       "    .dataframe thead th {\n",
       "        text-align: right;\n",
       "    }\n",
       "</style>\n",
       "<table border=\"1\" class=\"dataframe\">\n",
       "  <thead>\n",
       "    <tr style=\"text-align: right;\">\n",
       "      <th></th>\n",
       "      <th>listing_id</th>\n",
       "      <th>id</th>\n",
       "      <th>date</th>\n",
       "      <th>reviewer_id</th>\n",
       "      <th>reviewer_name</th>\n",
       "      <th>comments</th>\n",
       "    </tr>\n",
       "  </thead>\n",
       "  <tbody>\n",
       "    <tr>\n",
       "      <td>0</td>\n",
       "      <td>3344</td>\n",
       "      <td>2185</td>\n",
       "      <td>2009-05-09</td>\n",
       "      <td>12016</td>\n",
       "      <td>Tony</td>\n",
       "      <td>The stay at Amos' condo greatly exceeded my ex...</td>\n",
       "    </tr>\n",
       "    <tr>\n",
       "      <td>1</td>\n",
       "      <td>3344</td>\n",
       "      <td>18774</td>\n",
       "      <td>2009-11-29</td>\n",
       "      <td>40724</td>\n",
       "      <td>Faris</td>\n",
       "      <td>What can I say?  AJ picked me up from Dulles, ...</td>\n",
       "    </tr>\n",
       "    <tr>\n",
       "      <td>2</td>\n",
       "      <td>3344</td>\n",
       "      <td>20550</td>\n",
       "      <td>2009-12-16</td>\n",
       "      <td>58506</td>\n",
       "      <td>Sean</td>\n",
       "      <td>Amos is a phenomenal host. Where to start? Fir...</td>\n",
       "    </tr>\n",
       "    <tr>\n",
       "      <td>3</td>\n",
       "      <td>3344</td>\n",
       "      <td>293978</td>\n",
       "      <td>2011-06-01</td>\n",
       "      <td>583926</td>\n",
       "      <td>Yewwee</td>\n",
       "      <td>Aj is a great and friendly host! Excellent loc...</td>\n",
       "    </tr>\n",
       "    <tr>\n",
       "      <td>4</td>\n",
       "      <td>3344</td>\n",
       "      <td>296775</td>\n",
       "      <td>2011-06-04</td>\n",
       "      <td>503189</td>\n",
       "      <td>Jonathan</td>\n",
       "      <td>As a first-time airbnb.com user, I am glad Amo...</td>\n",
       "    </tr>\n",
       "  </tbody>\n",
       "</table>\n",
       "</div>"
      ],
      "text/plain": [
       "   listing_id      id        date  reviewer_id reviewer_name  \\\n",
       "0        3344    2185  2009-05-09        12016          Tony   \n",
       "1        3344   18774  2009-11-29        40724         Faris   \n",
       "2        3344   20550  2009-12-16        58506          Sean   \n",
       "3        3344  293978  2011-06-01       583926        Yewwee   \n",
       "4        3344  296775  2011-06-04       503189      Jonathan   \n",
       "\n",
       "                                            comments  \n",
       "0  The stay at Amos' condo greatly exceeded my ex...  \n",
       "1  What can I say?  AJ picked me up from Dulles, ...  \n",
       "2  Amos is a phenomenal host. Where to start? Fir...  \n",
       "3  Aj is a great and friendly host! Excellent loc...  \n",
       "4  As a first-time airbnb.com user, I am glad Amo...  "
      ]
     },
     "execution_count": 3,
     "metadata": {},
     "output_type": "execute_result"
    }
   ],
   "source": [
    "# Look at reviews data\n",
    "reviews.head()"
   ]
  },
  {
   "cell_type": "code",
   "execution_count": 38,
   "metadata": {},
   "outputs": [
    {
     "name": "stdout",
     "output_type": "stream",
     "text": [
      "<class 'pandas.core.frame.DataFrame'>\n",
      "RangeIndex: 358268 entries, 0 to 358267\n",
      "Data columns (total 6 columns):\n",
      "listing_id       358268 non-null int64\n",
      "id               358268 non-null int64\n",
      "date             358268 non-null object\n",
      "reviewer_id      358268 non-null int64\n",
      "reviewer_name    358268 non-null object\n",
      "comments         358090 non-null object\n",
      "dtypes: int64(3), object(3)\n",
      "memory usage: 16.4+ MB\n"
     ]
    }
   ],
   "source": [
    "# Look at info stats\n",
    "reviews.info()"
   ]
  },
  {
   "cell_type": "markdown",
   "metadata": {},
   "source": [
    "Are there any listings that have never gotten reviews? Or listings that only got bad reviews? "
   ]
  },
  {
   "cell_type": "markdown",
   "metadata": {},
   "source": [
    "What can be analyzed about the actual review content? Classify certain words as positive? Or negative? "
   ]
  },
  {
   "cell_type": "markdown",
   "metadata": {},
   "source": [
    "Should reviewer name be removed and just use the id? (For ethical concerns? But the host name of review is public on the site?)"
   ]
  },
  {
   "cell_type": "code",
   "execution_count": 6,
   "metadata": {},
   "outputs": [
    {
     "data": {
      "text/plain": [
       "listing_id         0\n",
       "id                 0\n",
       "date               0\n",
       "reviewer_id        0\n",
       "reviewer_name      0\n",
       "comments         178\n",
       "dtype: int64"
      ]
     },
     "execution_count": 6,
     "metadata": {},
     "output_type": "execute_result"
    }
   ],
   "source": [
    "# Check for null values\n",
    "reviews.isnull().sum()"
   ]
  },
  {
   "cell_type": "markdown",
   "metadata": {},
   "source": [
    "Drop rows without any comments"
   ]
  },
  {
   "cell_type": "code",
   "execution_count": 4,
   "metadata": {},
   "outputs": [
    {
     "data": {
      "text/html": [
       "<div>\n",
       "<style scoped>\n",
       "    .dataframe tbody tr th:only-of-type {\n",
       "        vertical-align: middle;\n",
       "    }\n",
       "\n",
       "    .dataframe tbody tr th {\n",
       "        vertical-align: top;\n",
       "    }\n",
       "\n",
       "    .dataframe thead th {\n",
       "        text-align: right;\n",
       "    }\n",
       "</style>\n",
       "<table border=\"1\" class=\"dataframe\">\n",
       "  <thead>\n",
       "    <tr style=\"text-align: right;\">\n",
       "      <th></th>\n",
       "      <th>listing_id</th>\n",
       "      <th>id</th>\n",
       "      <th>date</th>\n",
       "      <th>reviewer_id</th>\n",
       "      <th>reviewer_name</th>\n",
       "      <th>comments</th>\n",
       "    </tr>\n",
       "  </thead>\n",
       "  <tbody>\n",
       "    <tr>\n",
       "      <td>6664</td>\n",
       "      <td>223922</td>\n",
       "      <td>534301264</td>\n",
       "      <td>2019-09-22</td>\n",
       "      <td>286508382</td>\n",
       "      <td>Kierrha</td>\n",
       "      <td>Natasha was very kind and welcoming. The locat...</td>\n",
       "    </tr>\n",
       "    <tr>\n",
       "      <td>6716</td>\n",
       "      <td>262629</td>\n",
       "      <td>534389351</td>\n",
       "      <td>2019-09-22</td>\n",
       "      <td>27311645</td>\n",
       "      <td>Tsitsi</td>\n",
       "      <td>Hellen was an exceptional host. She was nice a...</td>\n",
       "    </tr>\n",
       "    <tr>\n",
       "      <td>24339</td>\n",
       "      <td>1245292</td>\n",
       "      <td>534398015</td>\n",
       "      <td>2019-09-22</td>\n",
       "      <td>155838693</td>\n",
       "      <td>Kristi</td>\n",
       "      <td>I enjoyed my stay so much! This family goes th...</td>\n",
       "    </tr>\n",
       "    <tr>\n",
       "      <td>53275</td>\n",
       "      <td>3729418</td>\n",
       "      <td>534326069</td>\n",
       "      <td>2019-09-22</td>\n",
       "      <td>41107304</td>\n",
       "      <td>Joshua</td>\n",
       "      <td>Had a fantastic, stress-free stay in Sally’s b...</td>\n",
       "    </tr>\n",
       "    <tr>\n",
       "      <td>75242</td>\n",
       "      <td>5495901</td>\n",
       "      <td>534414090</td>\n",
       "      <td>2019-09-22</td>\n",
       "      <td>6030437</td>\n",
       "      <td>Heidi</td>\n",
       "      <td>What a treat! Convenient location on Capitol H...</td>\n",
       "    </tr>\n",
       "    <tr>\n",
       "      <td>...</td>\n",
       "      <td>...</td>\n",
       "      <td>...</td>\n",
       "      <td>...</td>\n",
       "      <td>...</td>\n",
       "      <td>...</td>\n",
       "      <td>...</td>\n",
       "    </tr>\n",
       "    <tr>\n",
       "      <td>358028</td>\n",
       "      <td>37676860</td>\n",
       "      <td>534611186</td>\n",
       "      <td>2019-09-22</td>\n",
       "      <td>13781772</td>\n",
       "      <td>(Email hidden by Airbnb)</td>\n",
       "      <td>The host canceled this reservation 18 days bef...</td>\n",
       "    </tr>\n",
       "    <tr>\n",
       "      <td>358114</td>\n",
       "      <td>37841043</td>\n",
       "      <td>534322275</td>\n",
       "      <td>2019-09-22</td>\n",
       "      <td>21978461</td>\n",
       "      <td>Liz</td>\n",
       "      <td>This is a great space and was perfect for my d...</td>\n",
       "    </tr>\n",
       "    <tr>\n",
       "      <td>358117</td>\n",
       "      <td>37841107</td>\n",
       "      <td>534362566</td>\n",
       "      <td>2019-09-22</td>\n",
       "      <td>130834330</td>\n",
       "      <td>Joe</td>\n",
       "      <td>A lovely experience. Glenn’s apartment is very...</td>\n",
       "    </tr>\n",
       "    <tr>\n",
       "      <td>358248</td>\n",
       "      <td>38409709</td>\n",
       "      <td>534367786</td>\n",
       "      <td>2019-09-22</td>\n",
       "      <td>206960670</td>\n",
       "      <td>Romond</td>\n",
       "      <td>Had to cut my visit short but the place was cl...</td>\n",
       "    </tr>\n",
       "    <tr>\n",
       "      <td>358266</td>\n",
       "      <td>38721867</td>\n",
       "      <td>534214466</td>\n",
       "      <td>2019-09-22</td>\n",
       "      <td>68112602</td>\n",
       "      <td>LaFayette</td>\n",
       "      <td>Thanks for the hospitality! Never had someone ...</td>\n",
       "    </tr>\n",
       "  </tbody>\n",
       "</table>\n",
       "<p>77 rows × 6 columns</p>\n",
       "</div>"
      ],
      "text/plain": [
       "        listing_id         id        date  reviewer_id  \\\n",
       "6664        223922  534301264  2019-09-22    286508382   \n",
       "6716        262629  534389351  2019-09-22     27311645   \n",
       "24339      1245292  534398015  2019-09-22    155838693   \n",
       "53275      3729418  534326069  2019-09-22     41107304   \n",
       "75242      5495901  534414090  2019-09-22      6030437   \n",
       "...            ...        ...         ...          ...   \n",
       "358028    37676860  534611186  2019-09-22     13781772   \n",
       "358114    37841043  534322275  2019-09-22     21978461   \n",
       "358117    37841107  534362566  2019-09-22    130834330   \n",
       "358248    38409709  534367786  2019-09-22    206960670   \n",
       "358266    38721867  534214466  2019-09-22     68112602   \n",
       "\n",
       "                   reviewer_name  \\\n",
       "6664                     Kierrha   \n",
       "6716                      Tsitsi   \n",
       "24339                     Kristi   \n",
       "53275                     Joshua   \n",
       "75242                      Heidi   \n",
       "...                          ...   \n",
       "358028  (Email hidden by Airbnb)   \n",
       "358114                       Liz   \n",
       "358117                       Joe   \n",
       "358248                    Romond   \n",
       "358266                 LaFayette   \n",
       "\n",
       "                                                 comments  \n",
       "6664    Natasha was very kind and welcoming. The locat...  \n",
       "6716    Hellen was an exceptional host. She was nice a...  \n",
       "24339   I enjoyed my stay so much! This family goes th...  \n",
       "53275   Had a fantastic, stress-free stay in Sally’s b...  \n",
       "75242   What a treat! Convenient location on Capitol H...  \n",
       "...                                                   ...  \n",
       "358028  The host canceled this reservation 18 days bef...  \n",
       "358114  This is a great space and was perfect for my d...  \n",
       "358117  A lovely experience. Glenn’s apartment is very...  \n",
       "358248  Had to cut my visit short but the place was cl...  \n",
       "358266  Thanks for the hospitality! Never had someone ...  \n",
       "\n",
       "[77 rows x 6 columns]"
      ]
     },
     "execution_count": 4,
     "metadata": {},
     "output_type": "execute_result"
    }
   ],
   "source": [
    "# Looking at how many reviews are listed for a single date\n",
    "reviews[reviews['date'] == '2019-09-22']"
   ]
  },
  {
   "cell_type": "code",
   "execution_count": 7,
   "metadata": {},
   "outputs": [
    {
     "data": {
      "text/plain": [
       "368       2009-01-21\n",
       "411       2009-01-21\n",
       "11        2009-01-21\n",
       "412       2009-01-22\n",
       "413       2009-03-26\n",
       "             ...    \n",
       "354569    2019-09-22\n",
       "358028    2019-09-22\n",
       "355995    2019-09-22\n",
       "247848    2019-09-22\n",
       "291733    2019-09-22\n",
       "Name: date, Length: 358268, dtype: object"
      ]
     },
     "execution_count": 7,
     "metadata": {},
     "output_type": "execute_result"
    }
   ],
   "source": [
    "# Sort values by date\n",
    "reviews['date'].sort_values()"
   ]
  },
  {
   "cell_type": "code",
   "execution_count": 8,
   "metadata": {
    "scrolled": true
   },
   "outputs": [
    {
     "data": {
      "text/plain": [
       "2019-04-07    1044\n",
       "2019-04-28     890\n",
       "2019-04-14     878\n",
       "2019-03-31     878\n",
       "2019-04-21     844\n",
       "              ... \n",
       "2012-01-29       1\n",
       "2011-04-22       1\n",
       "2011-05-13       1\n",
       "2012-06-23       1\n",
       "2009-10-30       1\n",
       "Name: date, Length: 3314, dtype: int64"
      ]
     },
     "execution_count": 8,
     "metadata": {},
     "output_type": "execute_result"
    }
   ],
   "source": [
    "# Look at number of reviews per date\n",
    "reviews['date'].value_counts()"
   ]
  },
  {
   "cell_type": "markdown",
   "metadata": {},
   "source": [
    "The first five dates are within a 20 day span and each have a high volume of reviews. Should look into how volume of reviews left over time changes? Does it increase at similar rate that listings increase at? Or similar/inverse to something else? Also do external research on what might have related to this? Is this at time of Cherry Blossom festival or some other event?"
   ]
  },
  {
   "cell_type": "markdown",
   "metadata": {},
   "source": [
    "Reviews go back to 2009 (which may be around the time that AirBnB started listing places in DC) - worth further investigation"
   ]
  },
  {
   "cell_type": "markdown",
   "metadata": {},
   "source": [
    "## Listings.csv"
   ]
  },
  {
   "cell_type": "code",
   "execution_count": 9,
   "metadata": {},
   "outputs": [
    {
     "data": {
      "text/plain": [
       "(9189, 16)"
      ]
     },
     "execution_count": 9,
     "metadata": {},
     "output_type": "execute_result"
    }
   ],
   "source": [
    "# Read in Listings data\n",
    "listings = pd.read_csv('/Users/jessieowens2/Desktop/general_assembly/airbnb_data/listings.csv')\n",
    "# Check shape for total number of listings\n",
    "listings.shape"
   ]
  },
  {
   "cell_type": "code",
   "execution_count": 10,
   "metadata": {
    "scrolled": true
   },
   "outputs": [
    {
     "data": {
      "text/html": [
       "<div>\n",
       "<style scoped>\n",
       "    .dataframe tbody tr th:only-of-type {\n",
       "        vertical-align: middle;\n",
       "    }\n",
       "\n",
       "    .dataframe tbody tr th {\n",
       "        vertical-align: top;\n",
       "    }\n",
       "\n",
       "    .dataframe thead th {\n",
       "        text-align: right;\n",
       "    }\n",
       "</style>\n",
       "<table border=\"1\" class=\"dataframe\">\n",
       "  <thead>\n",
       "    <tr style=\"text-align: right;\">\n",
       "      <th></th>\n",
       "      <th>id</th>\n",
       "      <th>name</th>\n",
       "      <th>host_id</th>\n",
       "      <th>host_name</th>\n",
       "      <th>neighbourhood_group</th>\n",
       "      <th>neighbourhood</th>\n",
       "      <th>latitude</th>\n",
       "      <th>longitude</th>\n",
       "      <th>room_type</th>\n",
       "      <th>price</th>\n",
       "      <th>minimum_nights</th>\n",
       "      <th>number_of_reviews</th>\n",
       "      <th>last_review</th>\n",
       "      <th>reviews_per_month</th>\n",
       "      <th>calculated_host_listings_count</th>\n",
       "      <th>availability_365</th>\n",
       "    </tr>\n",
       "  </thead>\n",
       "  <tbody>\n",
       "    <tr>\n",
       "      <td>0</td>\n",
       "      <td>3344</td>\n",
       "      <td>White House/Center City, 1 roommate</td>\n",
       "      <td>4957</td>\n",
       "      <td>A.J.</td>\n",
       "      <td>NaN</td>\n",
       "      <td>Downtown, Chinatown, Penn Quarters, Mount Vern...</td>\n",
       "      <td>38.90126</td>\n",
       "      <td>-77.02857</td>\n",
       "      <td>Private room</td>\n",
       "      <td>58</td>\n",
       "      <td>90</td>\n",
       "      <td>11</td>\n",
       "      <td>2016-08-31</td>\n",
       "      <td>0.09</td>\n",
       "      <td>2</td>\n",
       "      <td>358</td>\n",
       "    </tr>\n",
       "    <tr>\n",
       "      <td>1</td>\n",
       "      <td>3362</td>\n",
       "      <td>Convention Center Rowhouse &amp; In Law: 2 Units, 4BR</td>\n",
       "      <td>2798</td>\n",
       "      <td>Ayeh</td>\n",
       "      <td>NaN</td>\n",
       "      <td>Shaw, Logan Circle</td>\n",
       "      <td>38.91046</td>\n",
       "      <td>-77.01933</td>\n",
       "      <td>Entire home/apt</td>\n",
       "      <td>433</td>\n",
       "      <td>2</td>\n",
       "      <td>171</td>\n",
       "      <td>2019-08-26</td>\n",
       "      <td>1.32</td>\n",
       "      <td>5</td>\n",
       "      <td>307</td>\n",
       "    </tr>\n",
       "    <tr>\n",
       "      <td>2</td>\n",
       "      <td>3662</td>\n",
       "      <td>Vita's Hideaway II</td>\n",
       "      <td>4645</td>\n",
       "      <td>Vita</td>\n",
       "      <td>NaN</td>\n",
       "      <td>Historic Anacostia</td>\n",
       "      <td>38.86193</td>\n",
       "      <td>-76.98963</td>\n",
       "      <td>Private room</td>\n",
       "      <td>65</td>\n",
       "      <td>2</td>\n",
       "      <td>36</td>\n",
       "      <td>2019-04-14</td>\n",
       "      <td>0.35</td>\n",
       "      <td>3</td>\n",
       "      <td>296</td>\n",
       "    </tr>\n",
       "    <tr>\n",
       "      <td>3</td>\n",
       "      <td>3670</td>\n",
       "      <td>Beautiful Sun-Lit U Street 1BR/1BA</td>\n",
       "      <td>4630</td>\n",
       "      <td>Sheila</td>\n",
       "      <td>NaN</td>\n",
       "      <td>Howard University, Le Droit Park, Cardozo/Shaw</td>\n",
       "      <td>38.91842</td>\n",
       "      <td>-77.02750</td>\n",
       "      <td>Private room</td>\n",
       "      <td>75</td>\n",
       "      <td>2</td>\n",
       "      <td>79</td>\n",
       "      <td>2018-07-25</td>\n",
       "      <td>1.44</td>\n",
       "      <td>1</td>\n",
       "      <td>361</td>\n",
       "    </tr>\n",
       "    <tr>\n",
       "      <td>4</td>\n",
       "      <td>3686</td>\n",
       "      <td>Vita's Hideaway</td>\n",
       "      <td>4645</td>\n",
       "      <td>Vita</td>\n",
       "      <td>NaN</td>\n",
       "      <td>Historic Anacostia</td>\n",
       "      <td>38.86314</td>\n",
       "      <td>-76.98836</td>\n",
       "      <td>Private room</td>\n",
       "      <td>55</td>\n",
       "      <td>2</td>\n",
       "      <td>71</td>\n",
       "      <td>2019-08-05</td>\n",
       "      <td>0.66</td>\n",
       "      <td>3</td>\n",
       "      <td>283</td>\n",
       "    </tr>\n",
       "  </tbody>\n",
       "</table>\n",
       "</div>"
      ],
      "text/plain": [
       "     id                                               name  host_id host_name  \\\n",
       "0  3344                White House/Center City, 1 roommate     4957      A.J.   \n",
       "1  3362  Convention Center Rowhouse & In Law: 2 Units, 4BR     2798      Ayeh   \n",
       "2  3662                                 Vita's Hideaway II     4645      Vita   \n",
       "3  3670                 Beautiful Sun-Lit U Street 1BR/1BA     4630    Sheila   \n",
       "4  3686                                    Vita's Hideaway     4645      Vita   \n",
       "\n",
       "   neighbourhood_group                                      neighbourhood  \\\n",
       "0                  NaN  Downtown, Chinatown, Penn Quarters, Mount Vern...   \n",
       "1                  NaN                                 Shaw, Logan Circle   \n",
       "2                  NaN                                 Historic Anacostia   \n",
       "3                  NaN     Howard University, Le Droit Park, Cardozo/Shaw   \n",
       "4                  NaN                                 Historic Anacostia   \n",
       "\n",
       "   latitude  longitude        room_type  price  minimum_nights  \\\n",
       "0  38.90126  -77.02857     Private room     58              90   \n",
       "1  38.91046  -77.01933  Entire home/apt    433               2   \n",
       "2  38.86193  -76.98963     Private room     65               2   \n",
       "3  38.91842  -77.02750     Private room     75               2   \n",
       "4  38.86314  -76.98836     Private room     55               2   \n",
       "\n",
       "   number_of_reviews last_review  reviews_per_month  \\\n",
       "0                 11  2016-08-31               0.09   \n",
       "1                171  2019-08-26               1.32   \n",
       "2                 36  2019-04-14               0.35   \n",
       "3                 79  2018-07-25               1.44   \n",
       "4                 71  2019-08-05               0.66   \n",
       "\n",
       "   calculated_host_listings_count  availability_365  \n",
       "0                               2               358  \n",
       "1                               5               307  \n",
       "2                               3               296  \n",
       "3                               1               361  \n",
       "4                               3               283  "
      ]
     },
     "execution_count": 10,
     "metadata": {},
     "output_type": "execute_result"
    }
   ],
   "source": [
    "# Look at Listings data\n",
    "listings.head()"
   ]
  },
  {
   "cell_type": "markdown",
   "metadata": {},
   "source": [
    "Do the neighbourhood values in listings line up to the 39 available in hoods CSV?"
   ]
  },
  {
   "cell_type": "markdown",
   "metadata": {},
   "source": [
    "Should host name be removed? Their names are referenced in reviews. Same ethical concern as mentioned with reviews.csv"
   ]
  },
  {
   "cell_type": "markdown",
   "metadata": {},
   "source": [
    "Room type is categorical - only 4 options. Use this for some type of classification? "
   ]
  },
  {
   "cell_type": "markdown",
   "metadata": {},
   "source": [
    "Manually calculate reviews per month. Does this match what that column shows?? What is the number of months used to calculate this."
   ]
  },
  {
   "cell_type": "markdown",
   "metadata": {},
   "source": [
    "Time since last review - does this relate to anything? "
   ]
  },
  {
   "cell_type": "code",
   "execution_count": 39,
   "metadata": {
    "scrolled": true
   },
   "outputs": [
    {
     "data": {
      "text/html": [
       "<div>\n",
       "<style scoped>\n",
       "    .dataframe tbody tr th:only-of-type {\n",
       "        vertical-align: middle;\n",
       "    }\n",
       "\n",
       "    .dataframe tbody tr th {\n",
       "        vertical-align: top;\n",
       "    }\n",
       "\n",
       "    .dataframe thead th {\n",
       "        text-align: right;\n",
       "    }\n",
       "</style>\n",
       "<table border=\"1\" class=\"dataframe\">\n",
       "  <thead>\n",
       "    <tr style=\"text-align: right;\">\n",
       "      <th></th>\n",
       "      <th>id</th>\n",
       "      <th>host_id</th>\n",
       "      <th>latitude</th>\n",
       "      <th>longitude</th>\n",
       "      <th>price</th>\n",
       "      <th>minimum_nights</th>\n",
       "      <th>number_of_reviews</th>\n",
       "      <th>reviews_per_month</th>\n",
       "      <th>calculated_host_listings_count</th>\n",
       "      <th>availability_365</th>\n",
       "    </tr>\n",
       "  </thead>\n",
       "  <tbody>\n",
       "    <tr>\n",
       "      <td>count</td>\n",
       "      <td>9.189000e+03</td>\n",
       "      <td>9.189000e+03</td>\n",
       "      <td>9189.000000</td>\n",
       "      <td>9189.000000</td>\n",
       "      <td>9189.000000</td>\n",
       "      <td>9189.00000</td>\n",
       "      <td>9189.000000</td>\n",
       "      <td>7421.000000</td>\n",
       "      <td>9189.000000</td>\n",
       "      <td>9189.000000</td>\n",
       "    </tr>\n",
       "    <tr>\n",
       "      <td>mean</td>\n",
       "      <td>1.980641e+07</td>\n",
       "      <td>6.053887e+07</td>\n",
       "      <td>38.911971</td>\n",
       "      <td>-77.017908</td>\n",
       "      <td>197.084558</td>\n",
       "      <td>5.57928</td>\n",
       "      <td>38.988791</td>\n",
       "      <td>2.010132</td>\n",
       "      <td>8.486560</td>\n",
       "      <td>127.113614</td>\n",
       "    </tr>\n",
       "    <tr>\n",
       "      <td>std</td>\n",
       "      <td>1.049327e+07</td>\n",
       "      <td>6.849793e+07</td>\n",
       "      <td>0.023371</td>\n",
       "      <td>0.029230</td>\n",
       "      <td>308.754577</td>\n",
       "      <td>19.49065</td>\n",
       "      <td>64.184896</td>\n",
       "      <td>2.121140</td>\n",
       "      <td>23.161285</td>\n",
       "      <td>131.208827</td>\n",
       "    </tr>\n",
       "    <tr>\n",
       "      <td>min</td>\n",
       "      <td>3.344000e+03</td>\n",
       "      <td>1.585000e+03</td>\n",
       "      <td>38.820370</td>\n",
       "      <td>-77.121280</td>\n",
       "      <td>10.000000</td>\n",
       "      <td>1.00000</td>\n",
       "      <td>0.000000</td>\n",
       "      <td>0.010000</td>\n",
       "      <td>1.000000</td>\n",
       "      <td>0.000000</td>\n",
       "    </tr>\n",
       "    <tr>\n",
       "      <td>25%</td>\n",
       "      <td>1.251382e+07</td>\n",
       "      <td>9.419684e+06</td>\n",
       "      <td>38.899530</td>\n",
       "      <td>-77.037300</td>\n",
       "      <td>80.000000</td>\n",
       "      <td>1.00000</td>\n",
       "      <td>1.000000</td>\n",
       "      <td>0.330000</td>\n",
       "      <td>1.000000</td>\n",
       "      <td>0.000000</td>\n",
       "    </tr>\n",
       "    <tr>\n",
       "      <td>50%</td>\n",
       "      <td>1.876655e+07</td>\n",
       "      <td>3.331386e+07</td>\n",
       "      <td>38.911210</td>\n",
       "      <td>-77.020250</td>\n",
       "      <td>118.000000</td>\n",
       "      <td>2.00000</td>\n",
       "      <td>11.000000</td>\n",
       "      <td>1.210000</td>\n",
       "      <td>1.000000</td>\n",
       "      <td>84.000000</td>\n",
       "    </tr>\n",
       "    <tr>\n",
       "      <td>75%</td>\n",
       "      <td>2.854158e+07</td>\n",
       "      <td>9.545940e+07</td>\n",
       "      <td>38.924780</td>\n",
       "      <td>-76.997400</td>\n",
       "      <td>195.000000</td>\n",
       "      <td>3.00000</td>\n",
       "      <td>50.000000</td>\n",
       "      <td>3.110000</td>\n",
       "      <td>4.000000</td>\n",
       "      <td>254.000000</td>\n",
       "    </tr>\n",
       "    <tr>\n",
       "      <td>max</td>\n",
       "      <td>3.881766e+07</td>\n",
       "      <td>2.965228e+08</td>\n",
       "      <td>38.995490</td>\n",
       "      <td>-76.904820</td>\n",
       "      <td>10000.000000</td>\n",
       "      <td>600.00000</td>\n",
       "      <td>769.000000</td>\n",
       "      <td>12.970000</td>\n",
       "      <td>152.000000</td>\n",
       "      <td>365.000000</td>\n",
       "    </tr>\n",
       "  </tbody>\n",
       "</table>\n",
       "</div>"
      ],
      "text/plain": [
       "                 id       host_id     latitude    longitude         price  \\\n",
       "count  9.189000e+03  9.189000e+03  9189.000000  9189.000000   9189.000000   \n",
       "mean   1.980641e+07  6.053887e+07    38.911971   -77.017908    197.084558   \n",
       "std    1.049327e+07  6.849793e+07     0.023371     0.029230    308.754577   \n",
       "min    3.344000e+03  1.585000e+03    38.820370   -77.121280     10.000000   \n",
       "25%    1.251382e+07  9.419684e+06    38.899530   -77.037300     80.000000   \n",
       "50%    1.876655e+07  3.331386e+07    38.911210   -77.020250    118.000000   \n",
       "75%    2.854158e+07  9.545940e+07    38.924780   -76.997400    195.000000   \n",
       "max    3.881766e+07  2.965228e+08    38.995490   -76.904820  10000.000000   \n",
       "\n",
       "       minimum_nights  number_of_reviews  reviews_per_month  \\\n",
       "count      9189.00000        9189.000000        7421.000000   \n",
       "mean          5.57928          38.988791           2.010132   \n",
       "std          19.49065          64.184896           2.121140   \n",
       "min           1.00000           0.000000           0.010000   \n",
       "25%           1.00000           1.000000           0.330000   \n",
       "50%           2.00000          11.000000           1.210000   \n",
       "75%           3.00000          50.000000           3.110000   \n",
       "max         600.00000         769.000000          12.970000   \n",
       "\n",
       "       calculated_host_listings_count  availability_365  \n",
       "count                     9189.000000       9189.000000  \n",
       "mean                         8.486560        127.113614  \n",
       "std                         23.161285        131.208827  \n",
       "min                          1.000000          0.000000  \n",
       "25%                          1.000000          0.000000  \n",
       "50%                          1.000000         84.000000  \n",
       "75%                          4.000000        254.000000  \n",
       "max                        152.000000        365.000000  "
      ]
     },
     "execution_count": 39,
     "metadata": {},
     "output_type": "execute_result"
    }
   ],
   "source": [
    "# Look at describe stats\n",
    "listings.describe()"
   ]
  },
  {
   "cell_type": "markdown",
   "metadata": {},
   "source": [
    "Price range of 10 - $10,000. would be good to look at how this is distributed. "
   ]
  },
  {
   "cell_type": "markdown",
   "metadata": {},
   "source": [
    "Also look at relationship between price and minimum number of nights "
   ]
  },
  {
   "cell_type": "markdown",
   "metadata": {},
   "source": [
    "Reviews per month max is around 13 - is this an outlier? \n",
    "\n",
    "Listings per host max is 152 - is this an outlier?"
   ]
  },
  {
   "cell_type": "markdown",
   "metadata": {},
   "source": [
    "Rename host listings count column"
   ]
  },
  {
   "cell_type": "markdown",
   "metadata": {},
   "source": [
    "Check for outliers"
   ]
  },
  {
   "cell_type": "code",
   "execution_count": null,
   "metadata": {},
   "outputs": [],
   "source": [
    "# Look at info stats\n"
   ]
  },
  {
   "cell_type": "code",
   "execution_count": 11,
   "metadata": {},
   "outputs": [
    {
     "data": {
      "text/plain": [
       "id                                   0\n",
       "name                                 3\n",
       "host_id                              0\n",
       "host_name                            1\n",
       "neighbourhood_group               9189\n",
       "neighbourhood                        0\n",
       "latitude                             0\n",
       "longitude                            0\n",
       "room_type                            0\n",
       "price                                0\n",
       "minimum_nights                       0\n",
       "number_of_reviews                    0\n",
       "last_review                       1768\n",
       "reviews_per_month                 1768\n",
       "calculated_host_listings_count       0\n",
       "availability_365                     0\n",
       "dtype: int64"
      ]
     },
     "execution_count": 11,
     "metadata": {},
     "output_type": "execute_result"
    }
   ],
   "source": [
    "listings.isnull().sum()"
   ]
  },
  {
   "cell_type": "markdown",
   "metadata": {},
   "source": [
    "Some listings have no reviews - how to handle those? still have valuable data. Also is a large chunk of the data"
   ]
  },
  {
   "cell_type": "code",
   "execution_count": 12,
   "metadata": {},
   "outputs": [],
   "source": [
    "# all of the neighborhood groups are missing so dropping this value\n",
    "listings.drop('neighbourhood_group', axis=1, inplace=True)"
   ]
  },
  {
   "cell_type": "markdown",
   "metadata": {},
   "source": [
    "The name of the listing normally has some location information in it - does this correspond to their actual location? Is it even valuable to explore this?"
   ]
  },
  {
   "cell_type": "markdown",
   "metadata": {},
   "source": [
    "What is the average price per neighborhood? "
   ]
  },
  {
   "cell_type": "code",
   "execution_count": 13,
   "metadata": {},
   "outputs": [
    {
     "data": {
      "text/plain": [
       "5       2009-01-21\n",
       "148     2013-03-31\n",
       "107     2013-05-28\n",
       "180     2013-06-03\n",
       "219     2013-06-15\n",
       "           ...    \n",
       "9184           NaN\n",
       "9185           NaN\n",
       "9186           NaN\n",
       "9187           NaN\n",
       "9188           NaN\n",
       "Name: last_review, Length: 9189, dtype: object"
      ]
     },
     "execution_count": 13,
     "metadata": {},
     "output_type": "execute_result"
    }
   ],
   "source": [
    "# Sorting on last review data to get an idea of how many reviews have not been reviewed recently\n",
    "listings['last_review'].sort_values()"
   ]
  },
  {
   "cell_type": "markdown",
   "metadata": {},
   "source": [
    "Some listings haven't been reviewed in many years. Were they bad reviews? "
   ]
  },
  {
   "cell_type": "markdown",
   "metadata": {},
   "source": [
    "## Neighbourhoods.csv"
   ]
  },
  {
   "cell_type": "code",
   "execution_count": 14,
   "metadata": {},
   "outputs": [
    {
     "data": {
      "text/plain": [
       "(39, 2)"
      ]
     },
     "execution_count": 14,
     "metadata": {},
     "output_type": "execute_result"
    }
   ],
   "source": [
    "# Read in neighbourhood data\n",
    "hoods = pd.read_csv('/Users/jessieowens2/Desktop/general_assembly/airbnb_data/neighbourhoods.csv')\n",
    "# Check shape of hood data\n",
    "hoods.shape"
   ]
  },
  {
   "cell_type": "code",
   "execution_count": 16,
   "metadata": {
    "scrolled": true
   },
   "outputs": [
    {
     "data": {
      "text/html": [
       "<div>\n",
       "<style scoped>\n",
       "    .dataframe tbody tr th:only-of-type {\n",
       "        vertical-align: middle;\n",
       "    }\n",
       "\n",
       "    .dataframe tbody tr th {\n",
       "        vertical-align: top;\n",
       "    }\n",
       "\n",
       "    .dataframe thead th {\n",
       "        text-align: right;\n",
       "    }\n",
       "</style>\n",
       "<table border=\"1\" class=\"dataframe\">\n",
       "  <thead>\n",
       "    <tr style=\"text-align: right;\">\n",
       "      <th></th>\n",
       "      <th>neighbourhood_group</th>\n",
       "      <th>neighbourhood</th>\n",
       "    </tr>\n",
       "  </thead>\n",
       "  <tbody>\n",
       "    <tr>\n",
       "      <td>0</td>\n",
       "      <td>NaN</td>\n",
       "      <td>Brightwood Park, Crestwood, Petworth</td>\n",
       "    </tr>\n",
       "    <tr>\n",
       "      <td>1</td>\n",
       "      <td>NaN</td>\n",
       "      <td>Brookland, Brentwood, Langdon</td>\n",
       "    </tr>\n",
       "    <tr>\n",
       "      <td>2</td>\n",
       "      <td>NaN</td>\n",
       "      <td>Capitol Hill, Lincoln Park</td>\n",
       "    </tr>\n",
       "    <tr>\n",
       "      <td>3</td>\n",
       "      <td>NaN</td>\n",
       "      <td>Capitol View, Marshall Heights, Benning Heights</td>\n",
       "    </tr>\n",
       "    <tr>\n",
       "      <td>4</td>\n",
       "      <td>NaN</td>\n",
       "      <td>Cathedral Heights, McLean Gardens, Glover Park</td>\n",
       "    </tr>\n",
       "  </tbody>\n",
       "</table>\n",
       "</div>"
      ],
      "text/plain": [
       "   neighbourhood_group                                    neighbourhood\n",
       "0                  NaN             Brightwood Park, Crestwood, Petworth\n",
       "1                  NaN                    Brookland, Brentwood, Langdon\n",
       "2                  NaN                       Capitol Hill, Lincoln Park\n",
       "3                  NaN  Capitol View, Marshall Heights, Benning Heights\n",
       "4                  NaN   Cathedral Heights, McLean Gardens, Glover Park"
      ]
     },
     "execution_count": 16,
     "metadata": {},
     "output_type": "execute_result"
    }
   ],
   "source": [
    "# Look at data\n",
    "hoods.head()"
   ]
  },
  {
   "cell_type": "code",
   "execution_count": null,
   "metadata": {},
   "outputs": [],
   "source": [
    "# Look at info stats\n"
   ]
  },
  {
   "cell_type": "code",
   "execution_count": 15,
   "metadata": {},
   "outputs": [
    {
     "data": {
      "text/plain": [
       "neighbourhood_group    39\n",
       "neighbourhood           0\n",
       "dtype: int64"
      ]
     },
     "execution_count": 15,
     "metadata": {},
     "output_type": "execute_result"
    }
   ],
   "source": [
    "# Check for null values\n",
    "hoods.isnull().sum()"
   ]
  },
  {
   "cell_type": "markdown",
   "metadata": {},
   "source": [
    "The neighbourhood group is all missing so removing. "
   ]
  },
  {
   "cell_type": "code",
   "execution_count": 17,
   "metadata": {},
   "outputs": [],
   "source": [
    "# drop column since all of data is missing\n",
    "hoods.drop('neighbourhood_group', axis=1, inplace=True)"
   ]
  },
  {
   "cell_type": "markdown",
   "metadata": {},
   "source": [
    "Do something with mapping out the neighbourhoods? Map out with color code for price of neighbourhoods"
   ]
  },
  {
   "cell_type": "markdown",
   "metadata": {},
   "source": [
    "## Calendars.csv"
   ]
  },
  {
   "cell_type": "code",
   "execution_count": 18,
   "metadata": {},
   "outputs": [
    {
     "data": {
      "text/plain": [
       "(3354070, 7)"
      ]
     },
     "execution_count": 18,
     "metadata": {},
     "output_type": "execute_result"
    }
   ],
   "source": [
    "# Read in calendar data\n",
    "calendar = pd.read_csv('/Users/jessieowens2/Desktop/general_assembly/airbnb_data/calendar.csv')\n",
    "# Look at shape of calendar data\n",
    "calendar.shape"
   ]
  },
  {
   "cell_type": "code",
   "execution_count": 19,
   "metadata": {
    "scrolled": true
   },
   "outputs": [
    {
     "data": {
      "text/html": [
       "<div>\n",
       "<style scoped>\n",
       "    .dataframe tbody tr th:only-of-type {\n",
       "        vertical-align: middle;\n",
       "    }\n",
       "\n",
       "    .dataframe tbody tr th {\n",
       "        vertical-align: top;\n",
       "    }\n",
       "\n",
       "    .dataframe thead th {\n",
       "        text-align: right;\n",
       "    }\n",
       "</style>\n",
       "<table border=\"1\" class=\"dataframe\">\n",
       "  <thead>\n",
       "    <tr style=\"text-align: right;\">\n",
       "      <th></th>\n",
       "      <th>listing_id</th>\n",
       "      <th>date</th>\n",
       "      <th>available</th>\n",
       "      <th>price</th>\n",
       "      <th>adjusted_price</th>\n",
       "      <th>minimum_nights</th>\n",
       "      <th>maximum_nights</th>\n",
       "    </tr>\n",
       "  </thead>\n",
       "  <tbody>\n",
       "    <tr>\n",
       "      <td>0</td>\n",
       "      <td>3344</td>\n",
       "      <td>2019-09-22</td>\n",
       "      <td>f</td>\n",
       "      <td>$58.00</td>\n",
       "      <td>$58.00</td>\n",
       "      <td>90.0</td>\n",
       "      <td>720.0</td>\n",
       "    </tr>\n",
       "    <tr>\n",
       "      <td>1</td>\n",
       "      <td>3344</td>\n",
       "      <td>2019-09-23</td>\n",
       "      <td>f</td>\n",
       "      <td>$58.00</td>\n",
       "      <td>$58.00</td>\n",
       "      <td>90.0</td>\n",
       "      <td>720.0</td>\n",
       "    </tr>\n",
       "    <tr>\n",
       "      <td>2</td>\n",
       "      <td>3344</td>\n",
       "      <td>2019-09-24</td>\n",
       "      <td>f</td>\n",
       "      <td>$58.00</td>\n",
       "      <td>$58.00</td>\n",
       "      <td>90.0</td>\n",
       "      <td>720.0</td>\n",
       "    </tr>\n",
       "    <tr>\n",
       "      <td>3</td>\n",
       "      <td>3344</td>\n",
       "      <td>2019-09-25</td>\n",
       "      <td>f</td>\n",
       "      <td>$58.00</td>\n",
       "      <td>$58.00</td>\n",
       "      <td>90.0</td>\n",
       "      <td>720.0</td>\n",
       "    </tr>\n",
       "    <tr>\n",
       "      <td>4</td>\n",
       "      <td>3344</td>\n",
       "      <td>2019-09-26</td>\n",
       "      <td>f</td>\n",
       "      <td>$58.00</td>\n",
       "      <td>$58.00</td>\n",
       "      <td>90.0</td>\n",
       "      <td>720.0</td>\n",
       "    </tr>\n",
       "  </tbody>\n",
       "</table>\n",
       "</div>"
      ],
      "text/plain": [
       "   listing_id        date available   price adjusted_price  minimum_nights  \\\n",
       "0        3344  2019-09-22         f  $58.00         $58.00            90.0   \n",
       "1        3344  2019-09-23         f  $58.00         $58.00            90.0   \n",
       "2        3344  2019-09-24         f  $58.00         $58.00            90.0   \n",
       "3        3344  2019-09-25         f  $58.00         $58.00            90.0   \n",
       "4        3344  2019-09-26         f  $58.00         $58.00            90.0   \n",
       "\n",
       "   maximum_nights  \n",
       "0           720.0  \n",
       "1           720.0  \n",
       "2           720.0  \n",
       "3           720.0  \n",
       "4           720.0  "
      ]
     },
     "execution_count": 19,
     "metadata": {},
     "output_type": "execute_result"
    }
   ],
   "source": [
    "# Look at calendar data\n",
    "calendar.head()"
   ]
  },
  {
   "cell_type": "code",
   "execution_count": null,
   "metadata": {},
   "outputs": [],
   "source": [
    "# Look at describe stats\n"
   ]
  },
  {
   "cell_type": "code",
   "execution_count": null,
   "metadata": {},
   "outputs": [],
   "source": [
    "# Look at info stats"
   ]
  },
  {
   "cell_type": "code",
   "execution_count": 36,
   "metadata": {},
   "outputs": [
    {
     "data": {
      "text/plain": [
       "listing_id        0\n",
       "date              0\n",
       "available         0\n",
       "price             0\n",
       "adjusted_price    0\n",
       "minimum_nights    3\n",
       "maximum_nights    3\n",
       "price_diff        0\n",
       "dtype: int64"
      ]
     },
     "execution_count": 36,
     "metadata": {},
     "output_type": "execute_result"
    }
   ],
   "source": [
    "# Check for null values\n",
    "calendar.isnull().sum()"
   ]
  },
  {
   "cell_type": "markdown",
   "metadata": {},
   "source": [
    "Very small amount of data missing but will check out individually to see if it's for the same 3 rows. "
   ]
  },
  {
   "cell_type": "code",
   "execution_count": 20,
   "metadata": {
    "scrolled": true
   },
   "outputs": [
    {
     "data": {
      "text/plain": [
       "listing_id          int64\n",
       "date               object\n",
       "available          object\n",
       "price              object\n",
       "adjusted_price     object\n",
       "minimum_nights    float64\n",
       "maximum_nights    float64\n",
       "dtype: object"
      ]
     },
     "execution_count": 20,
     "metadata": {},
     "output_type": "execute_result"
    }
   ],
   "source": [
    "# Check data types\n",
    "calendar.dtypes"
   ]
  },
  {
   "cell_type": "code",
   "execution_count": 21,
   "metadata": {
    "scrolled": true
   },
   "outputs": [
    {
     "data": {
      "text/html": [
       "<div>\n",
       "<style scoped>\n",
       "    .dataframe tbody tr th:only-of-type {\n",
       "        vertical-align: middle;\n",
       "    }\n",
       "\n",
       "    .dataframe tbody tr th {\n",
       "        vertical-align: top;\n",
       "    }\n",
       "\n",
       "    .dataframe thead th {\n",
       "        text-align: right;\n",
       "    }\n",
       "</style>\n",
       "<table border=\"1\" class=\"dataframe\">\n",
       "  <thead>\n",
       "    <tr style=\"text-align: right;\">\n",
       "      <th></th>\n",
       "      <th>listing_id</th>\n",
       "      <th>date</th>\n",
       "      <th>available</th>\n",
       "      <th>price</th>\n",
       "      <th>adjusted_price</th>\n",
       "      <th>minimum_nights</th>\n",
       "      <th>maximum_nights</th>\n",
       "    </tr>\n",
       "  </thead>\n",
       "  <tbody>\n",
       "    <tr>\n",
       "      <td>2014161</td>\n",
       "      <td>22201266</td>\n",
       "      <td>2020-10-09</td>\n",
       "      <td>f</td>\n",
       "      <td>$107.00</td>\n",
       "      <td>$107.00</td>\n",
       "      <td>2.0</td>\n",
       "      <td>7.0</td>\n",
       "    </tr>\n",
       "    <tr>\n",
       "      <td>2014160</td>\n",
       "      <td>22201266</td>\n",
       "      <td>2020-10-08</td>\n",
       "      <td>f</td>\n",
       "      <td>$106.00</td>\n",
       "      <td>$106.00</td>\n",
       "      <td>2.0</td>\n",
       "      <td>7.0</td>\n",
       "    </tr>\n",
       "    <tr>\n",
       "      <td>2014159</td>\n",
       "      <td>22201266</td>\n",
       "      <td>2020-10-07</td>\n",
       "      <td>f</td>\n",
       "      <td>$106.00</td>\n",
       "      <td>$106.00</td>\n",
       "      <td>2.0</td>\n",
       "      <td>7.0</td>\n",
       "    </tr>\n",
       "    <tr>\n",
       "      <td>2014158</td>\n",
       "      <td>22201266</td>\n",
       "      <td>2020-10-06</td>\n",
       "      <td>f</td>\n",
       "      <td>$106.00</td>\n",
       "      <td>$106.00</td>\n",
       "      <td>2.0</td>\n",
       "      <td>7.0</td>\n",
       "    </tr>\n",
       "    <tr>\n",
       "      <td>2014157</td>\n",
       "      <td>22201266</td>\n",
       "      <td>2020-10-05</td>\n",
       "      <td>f</td>\n",
       "      <td>$106.00</td>\n",
       "      <td>$106.00</td>\n",
       "      <td>2.0</td>\n",
       "      <td>7.0</td>\n",
       "    </tr>\n",
       "    <tr>\n",
       "      <td>...</td>\n",
       "      <td>...</td>\n",
       "      <td>...</td>\n",
       "      <td>...</td>\n",
       "      <td>...</td>\n",
       "      <td>...</td>\n",
       "      <td>...</td>\n",
       "      <td>...</td>\n",
       "    </tr>\n",
       "    <tr>\n",
       "      <td>664825</td>\n",
       "      <td>9750676</td>\n",
       "      <td>2019-09-22</td>\n",
       "      <td>f</td>\n",
       "      <td>$350.00</td>\n",
       "      <td>$350.00</td>\n",
       "      <td>1.0</td>\n",
       "      <td>7.0</td>\n",
       "    </tr>\n",
       "    <tr>\n",
       "      <td>3000794</td>\n",
       "      <td>34888096</td>\n",
       "      <td>2019-09-22</td>\n",
       "      <td>t</td>\n",
       "      <td>$111.00</td>\n",
       "      <td>$111.00</td>\n",
       "      <td>30.0</td>\n",
       "      <td>1125.0</td>\n",
       "    </tr>\n",
       "    <tr>\n",
       "      <td>2799665</td>\n",
       "      <td>32353389</td>\n",
       "      <td>2019-09-22</td>\n",
       "      <td>f</td>\n",
       "      <td>$24.00</td>\n",
       "      <td>$24.00</td>\n",
       "      <td>1.0</td>\n",
       "      <td>14.0</td>\n",
       "    </tr>\n",
       "    <tr>\n",
       "      <td>1431341</td>\n",
       "      <td>16671355</td>\n",
       "      <td>2019-09-22</td>\n",
       "      <td>t</td>\n",
       "      <td>$199.00</td>\n",
       "      <td>$199.00</td>\n",
       "      <td>2.0</td>\n",
       "      <td>1125.0</td>\n",
       "    </tr>\n",
       "    <tr>\n",
       "      <td>0</td>\n",
       "      <td>3344</td>\n",
       "      <td>2019-09-22</td>\n",
       "      <td>f</td>\n",
       "      <td>$58.00</td>\n",
       "      <td>$58.00</td>\n",
       "      <td>90.0</td>\n",
       "      <td>720.0</td>\n",
       "    </tr>\n",
       "  </tbody>\n",
       "</table>\n",
       "<p>3354070 rows × 7 columns</p>\n",
       "</div>"
      ],
      "text/plain": [
       "         listing_id        date available    price adjusted_price  \\\n",
       "2014161    22201266  2020-10-09         f  $107.00        $107.00   \n",
       "2014160    22201266  2020-10-08         f  $106.00        $106.00   \n",
       "2014159    22201266  2020-10-07         f  $106.00        $106.00   \n",
       "2014158    22201266  2020-10-06         f  $106.00        $106.00   \n",
       "2014157    22201266  2020-10-05         f  $106.00        $106.00   \n",
       "...             ...         ...       ...      ...            ...   \n",
       "664825      9750676  2019-09-22         f  $350.00        $350.00   \n",
       "3000794    34888096  2019-09-22         t  $111.00        $111.00   \n",
       "2799665    32353389  2019-09-22         f   $24.00         $24.00   \n",
       "1431341    16671355  2019-09-22         t  $199.00        $199.00   \n",
       "0              3344  2019-09-22         f   $58.00         $58.00   \n",
       "\n",
       "         minimum_nights  maximum_nights  \n",
       "2014161             2.0             7.0  \n",
       "2014160             2.0             7.0  \n",
       "2014159             2.0             7.0  \n",
       "2014158             2.0             7.0  \n",
       "2014157             2.0             7.0  \n",
       "...                 ...             ...  \n",
       "664825              1.0             7.0  \n",
       "3000794            30.0          1125.0  \n",
       "2799665             1.0            14.0  \n",
       "1431341             2.0          1125.0  \n",
       "0                  90.0           720.0  \n",
       "\n",
       "[3354070 rows x 7 columns]"
      ]
     },
     "execution_count": 21,
     "metadata": {},
     "output_type": "execute_result"
    }
   ],
   "source": [
    "# Sort on date column\n",
    "calendar.sort_values(by='date', ascending=False)\n",
    "# this data was pulled on 9/22/19 so only represents future listings at time of data being pulled"
   ]
  },
  {
   "cell_type": "markdown",
   "metadata": {},
   "source": [
    "This only represents future data so won't be able to build time series off of just this."
   ]
  },
  {
   "cell_type": "code",
   "execution_count": 22,
   "metadata": {},
   "outputs": [],
   "source": [
    "# Strip dollar signs from price column\n",
    "calendar['price'] = calendar['price'].str.replace('$', '')"
   ]
  },
  {
   "cell_type": "code",
   "execution_count": 23,
   "metadata": {},
   "outputs": [],
   "source": [
    "# Strip commas from price column\n",
    "calendar['price'] = calendar['price'].str.replace(',', '')"
   ]
  },
  {
   "cell_type": "code",
   "execution_count": 25,
   "metadata": {},
   "outputs": [],
   "source": [
    "# Convert price column to numeric\n",
    "calendar['price'] = pd.to_numeric(calendar['price'])"
   ]
  },
  {
   "cell_type": "code",
   "execution_count": 26,
   "metadata": {},
   "outputs": [
    {
     "data": {
      "text/plain": [
       "listing_id          int64\n",
       "date               object\n",
       "available          object\n",
       "price             float64\n",
       "adjusted_price     object\n",
       "minimum_nights    float64\n",
       "maximum_nights    float64\n",
       "dtype: object"
      ]
     },
     "execution_count": 26,
     "metadata": {},
     "output_type": "execute_result"
    }
   ],
   "source": [
    "# Check that data type has changed\n",
    "calendar.dtypes"
   ]
  },
  {
   "cell_type": "code",
   "execution_count": 27,
   "metadata": {},
   "outputs": [],
   "source": [
    "# Strip dollar signs from adjusted price column\n",
    "calendar['adjusted_price'] = calendar['adjusted_price'].str.replace('$', '')"
   ]
  },
  {
   "cell_type": "code",
   "execution_count": 28,
   "metadata": {},
   "outputs": [],
   "source": [
    "# Strip commas from adjusted price column\n",
    "calendar['adjusted_price'] = calendar['adjusted_price'].str.replace(',', '')"
   ]
  },
  {
   "cell_type": "code",
   "execution_count": 29,
   "metadata": {},
   "outputs": [],
   "source": [
    "# Convert price column to numeric\n",
    "calendar['adjusted_price'] = pd.to_numeric(calendar['adjusted_price'])"
   ]
  },
  {
   "cell_type": "code",
   "execution_count": 30,
   "metadata": {},
   "outputs": [],
   "source": [
    "# Calculate price difference between price and adjusted price, put in a new column\n",
    "calendar['price_diff'] = calendar['price'] - calendar['adjusted_price']"
   ]
  },
  {
   "cell_type": "code",
   "execution_count": 31,
   "metadata": {},
   "outputs": [
    {
     "data": {
      "text/plain": [
       " 0.0     3326260\n",
       " 2.0        4707\n",
       " 1.0        2795\n",
       " 5.0        1846\n",
       " 9.0        1771\n",
       "          ...   \n",
       "-12.0          1\n",
       " 53.0          1\n",
       "-33.0          1\n",
       "-8.0           1\n",
       " 46.0          1\n",
       "Name: price_diff, Length: 101, dtype: int64"
      ]
     },
     "execution_count": 31,
     "metadata": {},
     "output_type": "execute_result"
    }
   ],
   "source": [
    "# Look at how big/small the price difference might be\n",
    "calendar['price_diff'].value_counts()"
   ]
  },
  {
   "cell_type": "markdown",
   "metadata": {},
   "source": [
    "Not sure what the difference in price is representing (why there is an adjusted price?). Might be that the price listed in this csv changed between instances of the InsideAirBnB team pulling this data (they pull on semi regular basis)"
   ]
  },
  {
   "cell_type": "code",
   "execution_count": 33,
   "metadata": {
    "scrolled": true
   },
   "outputs": [
    {
     "data": {
      "text/plain": [
       "f    2178644\n",
       "t    1175426\n",
       "Name: available, dtype: int64"
      ]
     },
     "execution_count": 33,
     "metadata": {},
     "output_type": "execute_result"
    }
   ],
   "source": [
    "# Check the possible values for the available column\n",
    "calendar['available'].value_counts()"
   ]
  },
  {
   "cell_type": "markdown",
   "metadata": {},
   "source": [
    "The values t and f might stand for true and false. I will have to look into this with more EDA to get a better idea of this or will just not use this data feature. "
   ]
  },
  {
   "cell_type": "code",
   "execution_count": 34,
   "metadata": {},
   "outputs": [
    {
     "data": {
      "text/plain": [
       "2020-08-25    1\n",
       "2019-10-18    1\n",
       "2020-09-15    1\n",
       "2020-02-06    1\n",
       "2019-12-23    1\n",
       "             ..\n",
       "2020-01-12    1\n",
       "2020-06-22    1\n",
       "2020-09-16    1\n",
       "2019-12-07    1\n",
       "2019-11-19    1\n",
       "Name: date, Length: 365, dtype: int64"
      ]
     },
     "execution_count": 34,
     "metadata": {},
     "output_type": "execute_result"
    }
   ],
   "source": [
    "# seeing how many times one listing shows up in this dataset. \n",
    "calendar[calendar['listing_id'] == 3344]['date'].value_counts()"
   ]
  },
  {
   "cell_type": "code",
   "execution_count": null,
   "metadata": {
    "scrolled": true
   },
   "outputs": [],
   "source": [
    "# trying to sort listing_id and price, but currently getting an error\n",
    "# calendar['listing_id'].groupby(by='price')"
   ]
  },
  {
   "cell_type": "markdown",
   "metadata": {},
   "source": [
    "## Additional notes on future actions"
   ]
  },
  {
   "cell_type": "markdown",
   "metadata": {},
   "source": [
    "Unsupervised learning problem: analyzing factors that contribute to good reviews and predict on a new dataset? (should be oct and nov data by time of capstone) \n",
    "\n",
    "Try to predict price changes based on review sentiment? "
   ]
  },
  {
   "cell_type": "markdown",
   "metadata": {},
   "source": [
    "Does high availability of a listing have a relationship with anything? (review sentiment, number of reviews, price per night, neighbourhood, host?)"
   ]
  },
  {
   "cell_type": "markdown",
   "metadata": {},
   "source": [
    "Look at how price has changed over time"
   ]
  },
  {
   "cell_type": "markdown",
   "metadata": {},
   "source": [
    "May or may not use time series to correlate data over time"
   ]
  },
  {
   "cell_type": "markdown",
   "metadata": {},
   "source": [
    "Use archived calendar data set to account for seasonality or change over time"
   ]
  },
  {
   "cell_type": "markdown",
   "metadata": {},
   "source": [
    "Look at how older events affected the price and see if this can predict how newer events will affect price (model)"
   ]
  }
 ],
 "metadata": {
  "kernelspec": {
   "display_name": "Python 3",
   "language": "python",
   "name": "python3"
  },
  "language_info": {
   "codemirror_mode": {
    "name": "ipython",
    "version": 3
   },
   "file_extension": ".py",
   "mimetype": "text/x-python",
   "name": "python",
   "nbconvert_exporter": "python",
   "pygments_lexer": "ipython3",
   "version": "3.7.3"
  }
 },
 "nbformat": 4,
 "nbformat_minor": 2
}
