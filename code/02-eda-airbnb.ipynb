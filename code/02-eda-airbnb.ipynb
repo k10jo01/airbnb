{
 "cells": [
  {
   "cell_type": "markdown",
   "metadata": {},
   "source": [
    "All data from http://insideairbnb.com/get-the-data.html as of Sep 22 2019"
   ]
  },
  {
   "cell_type": "code",
   "execution_count": 26,
   "metadata": {},
   "outputs": [],
   "source": [
    "import pandas as pd"
   ]
  },
  {
   "cell_type": "code",
   "execution_count": 5,
   "metadata": {},
   "outputs": [
    {
     "data": {
      "text/plain": [
       "(358268, 6)"
      ]
     },
     "execution_count": 5,
     "metadata": {},
     "output_type": "execute_result"
    }
   ],
   "source": [
    "reviews = pd.read_csv('/Users/jessieowens2/Desktop/general_assembly/airbnb_data/reviews.csv')\n",
    "reviews.shape"
   ]
  },
  {
   "cell_type": "code",
   "execution_count": 6,
   "metadata": {},
   "outputs": [
    {
     "data": {
      "text/html": [
       "<div>\n",
       "<style scoped>\n",
       "    .dataframe tbody tr th:only-of-type {\n",
       "        vertical-align: middle;\n",
       "    }\n",
       "\n",
       "    .dataframe tbody tr th {\n",
       "        vertical-align: top;\n",
       "    }\n",
       "\n",
       "    .dataframe thead th {\n",
       "        text-align: right;\n",
       "    }\n",
       "</style>\n",
       "<table border=\"1\" class=\"dataframe\">\n",
       "  <thead>\n",
       "    <tr style=\"text-align: right;\">\n",
       "      <th></th>\n",
       "      <th>listing_id</th>\n",
       "      <th>id</th>\n",
       "      <th>date</th>\n",
       "      <th>reviewer_id</th>\n",
       "      <th>reviewer_name</th>\n",
       "      <th>comments</th>\n",
       "    </tr>\n",
       "  </thead>\n",
       "  <tbody>\n",
       "    <tr>\n",
       "      <td>0</td>\n",
       "      <td>3344</td>\n",
       "      <td>2185</td>\n",
       "      <td>2009-05-09</td>\n",
       "      <td>12016</td>\n",
       "      <td>Tony</td>\n",
       "      <td>The stay at Amos' condo greatly exceeded my ex...</td>\n",
       "    </tr>\n",
       "    <tr>\n",
       "      <td>1</td>\n",
       "      <td>3344</td>\n",
       "      <td>18774</td>\n",
       "      <td>2009-11-29</td>\n",
       "      <td>40724</td>\n",
       "      <td>Faris</td>\n",
       "      <td>What can I say?  AJ picked me up from Dulles, ...</td>\n",
       "    </tr>\n",
       "    <tr>\n",
       "      <td>2</td>\n",
       "      <td>3344</td>\n",
       "      <td>20550</td>\n",
       "      <td>2009-12-16</td>\n",
       "      <td>58506</td>\n",
       "      <td>Sean</td>\n",
       "      <td>Amos is a phenomenal host. Where to start? Fir...</td>\n",
       "    </tr>\n",
       "    <tr>\n",
       "      <td>3</td>\n",
       "      <td>3344</td>\n",
       "      <td>293978</td>\n",
       "      <td>2011-06-01</td>\n",
       "      <td>583926</td>\n",
       "      <td>Yewwee</td>\n",
       "      <td>Aj is a great and friendly host! Excellent loc...</td>\n",
       "    </tr>\n",
       "    <tr>\n",
       "      <td>4</td>\n",
       "      <td>3344</td>\n",
       "      <td>296775</td>\n",
       "      <td>2011-06-04</td>\n",
       "      <td>503189</td>\n",
       "      <td>Jonathan</td>\n",
       "      <td>As a first-time airbnb.com user, I am glad Amo...</td>\n",
       "    </tr>\n",
       "  </tbody>\n",
       "</table>\n",
       "</div>"
      ],
      "text/plain": [
       "   listing_id      id        date  reviewer_id reviewer_name  \\\n",
       "0        3344    2185  2009-05-09        12016          Tony   \n",
       "1        3344   18774  2009-11-29        40724         Faris   \n",
       "2        3344   20550  2009-12-16        58506          Sean   \n",
       "3        3344  293978  2011-06-01       583926        Yewwee   \n",
       "4        3344  296775  2011-06-04       503189      Jonathan   \n",
       "\n",
       "                                            comments  \n",
       "0  The stay at Amos' condo greatly exceeded my ex...  \n",
       "1  What can I say?  AJ picked me up from Dulles, ...  \n",
       "2  Amos is a phenomenal host. Where to start? Fir...  \n",
       "3  Aj is a great and friendly host! Excellent loc...  \n",
       "4  As a first-time airbnb.com user, I am glad Amo...  "
      ]
     },
     "execution_count": 6,
     "metadata": {},
     "output_type": "execute_result"
    }
   ],
   "source": [
    "reviews.head()"
   ]
  },
  {
   "cell_type": "markdown",
   "metadata": {},
   "source": [
    "Corresponds to listing id - are there any listings that have never gotten reviews? Or listings that only got bad reviews? "
   ]
  },
  {
   "cell_type": "markdown",
   "metadata": {},
   "source": [
    "What can be analyzed about the actual review content? Classify certain words as positive? or negative? "
   ]
  },
  {
   "cell_type": "markdown",
   "metadata": {},
   "source": [
    "Should reviewer name be removed and just use the id? "
   ]
  },
  {
   "cell_type": "code",
   "execution_count": 10,
   "metadata": {},
   "outputs": [
    {
     "data": {
      "text/html": [
       "<div>\n",
       "<style scoped>\n",
       "    .dataframe tbody tr th:only-of-type {\n",
       "        vertical-align: middle;\n",
       "    }\n",
       "\n",
       "    .dataframe tbody tr th {\n",
       "        vertical-align: top;\n",
       "    }\n",
       "\n",
       "    .dataframe thead th {\n",
       "        text-align: right;\n",
       "    }\n",
       "</style>\n",
       "<table border=\"1\" class=\"dataframe\">\n",
       "  <thead>\n",
       "    <tr style=\"text-align: right;\">\n",
       "      <th></th>\n",
       "      <th>listing_id</th>\n",
       "      <th>id</th>\n",
       "      <th>date</th>\n",
       "      <th>reviewer_id</th>\n",
       "      <th>reviewer_name</th>\n",
       "      <th>comments</th>\n",
       "    </tr>\n",
       "  </thead>\n",
       "  <tbody>\n",
       "    <tr>\n",
       "      <td>6664</td>\n",
       "      <td>223922</td>\n",
       "      <td>534301264</td>\n",
       "      <td>2019-09-22</td>\n",
       "      <td>286508382</td>\n",
       "      <td>Kierrha</td>\n",
       "      <td>Natasha was very kind and welcoming. The locat...</td>\n",
       "    </tr>\n",
       "    <tr>\n",
       "      <td>6716</td>\n",
       "      <td>262629</td>\n",
       "      <td>534389351</td>\n",
       "      <td>2019-09-22</td>\n",
       "      <td>27311645</td>\n",
       "      <td>Tsitsi</td>\n",
       "      <td>Hellen was an exceptional host. She was nice a...</td>\n",
       "    </tr>\n",
       "    <tr>\n",
       "      <td>24339</td>\n",
       "      <td>1245292</td>\n",
       "      <td>534398015</td>\n",
       "      <td>2019-09-22</td>\n",
       "      <td>155838693</td>\n",
       "      <td>Kristi</td>\n",
       "      <td>I enjoyed my stay so much! This family goes th...</td>\n",
       "    </tr>\n",
       "    <tr>\n",
       "      <td>53275</td>\n",
       "      <td>3729418</td>\n",
       "      <td>534326069</td>\n",
       "      <td>2019-09-22</td>\n",
       "      <td>41107304</td>\n",
       "      <td>Joshua</td>\n",
       "      <td>Had a fantastic, stress-free stay in Sally’s b...</td>\n",
       "    </tr>\n",
       "    <tr>\n",
       "      <td>75242</td>\n",
       "      <td>5495901</td>\n",
       "      <td>534414090</td>\n",
       "      <td>2019-09-22</td>\n",
       "      <td>6030437</td>\n",
       "      <td>Heidi</td>\n",
       "      <td>What a treat! Convenient location on Capitol H...</td>\n",
       "    </tr>\n",
       "    <tr>\n",
       "      <td>...</td>\n",
       "      <td>...</td>\n",
       "      <td>...</td>\n",
       "      <td>...</td>\n",
       "      <td>...</td>\n",
       "      <td>...</td>\n",
       "      <td>...</td>\n",
       "    </tr>\n",
       "    <tr>\n",
       "      <td>358028</td>\n",
       "      <td>37676860</td>\n",
       "      <td>534611186</td>\n",
       "      <td>2019-09-22</td>\n",
       "      <td>13781772</td>\n",
       "      <td>(Email hidden by Airbnb)</td>\n",
       "      <td>The host canceled this reservation 18 days bef...</td>\n",
       "    </tr>\n",
       "    <tr>\n",
       "      <td>358114</td>\n",
       "      <td>37841043</td>\n",
       "      <td>534322275</td>\n",
       "      <td>2019-09-22</td>\n",
       "      <td>21978461</td>\n",
       "      <td>Liz</td>\n",
       "      <td>This is a great space and was perfect for my d...</td>\n",
       "    </tr>\n",
       "    <tr>\n",
       "      <td>358117</td>\n",
       "      <td>37841107</td>\n",
       "      <td>534362566</td>\n",
       "      <td>2019-09-22</td>\n",
       "      <td>130834330</td>\n",
       "      <td>Joe</td>\n",
       "      <td>A lovely experience. Glenn’s apartment is very...</td>\n",
       "    </tr>\n",
       "    <tr>\n",
       "      <td>358248</td>\n",
       "      <td>38409709</td>\n",
       "      <td>534367786</td>\n",
       "      <td>2019-09-22</td>\n",
       "      <td>206960670</td>\n",
       "      <td>Romond</td>\n",
       "      <td>Had to cut my visit short but the place was cl...</td>\n",
       "    </tr>\n",
       "    <tr>\n",
       "      <td>358266</td>\n",
       "      <td>38721867</td>\n",
       "      <td>534214466</td>\n",
       "      <td>2019-09-22</td>\n",
       "      <td>68112602</td>\n",
       "      <td>LaFayette</td>\n",
       "      <td>Thanks for the hospitality! Never had someone ...</td>\n",
       "    </tr>\n",
       "  </tbody>\n",
       "</table>\n",
       "<p>77 rows × 6 columns</p>\n",
       "</div>"
      ],
      "text/plain": [
       "        listing_id         id        date  reviewer_id  \\\n",
       "6664        223922  534301264  2019-09-22    286508382   \n",
       "6716        262629  534389351  2019-09-22     27311645   \n",
       "24339      1245292  534398015  2019-09-22    155838693   \n",
       "53275      3729418  534326069  2019-09-22     41107304   \n",
       "75242      5495901  534414090  2019-09-22      6030437   \n",
       "...            ...        ...         ...          ...   \n",
       "358028    37676860  534611186  2019-09-22     13781772   \n",
       "358114    37841043  534322275  2019-09-22     21978461   \n",
       "358117    37841107  534362566  2019-09-22    130834330   \n",
       "358248    38409709  534367786  2019-09-22    206960670   \n",
       "358266    38721867  534214466  2019-09-22     68112602   \n",
       "\n",
       "                   reviewer_name  \\\n",
       "6664                     Kierrha   \n",
       "6716                      Tsitsi   \n",
       "24339                     Kristi   \n",
       "53275                     Joshua   \n",
       "75242                      Heidi   \n",
       "...                          ...   \n",
       "358028  (Email hidden by Airbnb)   \n",
       "358114                       Liz   \n",
       "358117                       Joe   \n",
       "358248                    Romond   \n",
       "358266                 LaFayette   \n",
       "\n",
       "                                                 comments  \n",
       "6664    Natasha was very kind and welcoming. The locat...  \n",
       "6716    Hellen was an exceptional host. She was nice a...  \n",
       "24339   I enjoyed my stay so much! This family goes th...  \n",
       "53275   Had a fantastic, stress-free stay in Sally’s b...  \n",
       "75242   What a treat! Convenient location on Capitol H...  \n",
       "...                                                   ...  \n",
       "358028  The host canceled this reservation 18 days bef...  \n",
       "358114  This is a great space and was perfect for my d...  \n",
       "358117  A lovely experience. Glenn’s apartment is very...  \n",
       "358248  Had to cut my visit short but the place was cl...  \n",
       "358266  Thanks for the hospitality! Never had someone ...  \n",
       "\n",
       "[77 rows x 6 columns]"
      ]
     },
     "execution_count": 10,
     "metadata": {},
     "output_type": "execute_result"
    }
   ],
   "source": [
    "reviews[reviews['date'] == '2019-09-22']"
   ]
  },
  {
   "cell_type": "code",
   "execution_count": 7,
   "metadata": {},
   "outputs": [
    {
     "data": {
      "text/plain": [
       "368       2009-01-21\n",
       "411       2009-01-21\n",
       "11        2009-01-21\n",
       "412       2009-01-22\n",
       "413       2009-03-26\n",
       "             ...    \n",
       "354569    2019-09-22\n",
       "358028    2019-09-22\n",
       "355995    2019-09-22\n",
       "247848    2019-09-22\n",
       "291733    2019-09-22\n",
       "Name: date, Length: 358268, dtype: object"
      ]
     },
     "execution_count": 7,
     "metadata": {},
     "output_type": "execute_result"
    }
   ],
   "source": [
    "reviews['date'].sort_values()"
   ]
  },
  {
   "cell_type": "markdown",
   "metadata": {},
   "source": [
    "Reviews go back to 2009 (which may be around the time that AirBnB started listing places)"
   ]
  },
  {
   "cell_type": "code",
   "execution_count": 11,
   "metadata": {},
   "outputs": [
    {
     "data": {
      "text/plain": [
       "(9189, 16)"
      ]
     },
     "execution_count": 11,
     "metadata": {},
     "output_type": "execute_result"
    }
   ],
   "source": [
    "listings = pd.read_csv('/Users/jessieowens2/Desktop/general_assembly/airbnb_data/listings.csv')\n",
    "listings.shape"
   ]
  },
  {
   "cell_type": "code",
   "execution_count": 12,
   "metadata": {
    "scrolled": true
   },
   "outputs": [
    {
     "data": {
      "text/html": [
       "<div>\n",
       "<style scoped>\n",
       "    .dataframe tbody tr th:only-of-type {\n",
       "        vertical-align: middle;\n",
       "    }\n",
       "\n",
       "    .dataframe tbody tr th {\n",
       "        vertical-align: top;\n",
       "    }\n",
       "\n",
       "    .dataframe thead th {\n",
       "        text-align: right;\n",
       "    }\n",
       "</style>\n",
       "<table border=\"1\" class=\"dataframe\">\n",
       "  <thead>\n",
       "    <tr style=\"text-align: right;\">\n",
       "      <th></th>\n",
       "      <th>id</th>\n",
       "      <th>name</th>\n",
       "      <th>host_id</th>\n",
       "      <th>host_name</th>\n",
       "      <th>neighbourhood_group</th>\n",
       "      <th>neighbourhood</th>\n",
       "      <th>latitude</th>\n",
       "      <th>longitude</th>\n",
       "      <th>room_type</th>\n",
       "      <th>price</th>\n",
       "      <th>minimum_nights</th>\n",
       "      <th>number_of_reviews</th>\n",
       "      <th>last_review</th>\n",
       "      <th>reviews_per_month</th>\n",
       "      <th>calculated_host_listings_count</th>\n",
       "      <th>availability_365</th>\n",
       "    </tr>\n",
       "  </thead>\n",
       "  <tbody>\n",
       "    <tr>\n",
       "      <td>0</td>\n",
       "      <td>3344</td>\n",
       "      <td>White House/Center City, 1 roommate</td>\n",
       "      <td>4957</td>\n",
       "      <td>A.J.</td>\n",
       "      <td>NaN</td>\n",
       "      <td>Downtown, Chinatown, Penn Quarters, Mount Vern...</td>\n",
       "      <td>38.90126</td>\n",
       "      <td>-77.02857</td>\n",
       "      <td>Private room</td>\n",
       "      <td>58</td>\n",
       "      <td>90</td>\n",
       "      <td>11</td>\n",
       "      <td>2016-08-31</td>\n",
       "      <td>0.09</td>\n",
       "      <td>2</td>\n",
       "      <td>358</td>\n",
       "    </tr>\n",
       "    <tr>\n",
       "      <td>1</td>\n",
       "      <td>3362</td>\n",
       "      <td>Convention Center Rowhouse &amp; In Law: 2 Units, 4BR</td>\n",
       "      <td>2798</td>\n",
       "      <td>Ayeh</td>\n",
       "      <td>NaN</td>\n",
       "      <td>Shaw, Logan Circle</td>\n",
       "      <td>38.91046</td>\n",
       "      <td>-77.01933</td>\n",
       "      <td>Entire home/apt</td>\n",
       "      <td>433</td>\n",
       "      <td>2</td>\n",
       "      <td>171</td>\n",
       "      <td>2019-08-26</td>\n",
       "      <td>1.32</td>\n",
       "      <td>5</td>\n",
       "      <td>307</td>\n",
       "    </tr>\n",
       "    <tr>\n",
       "      <td>2</td>\n",
       "      <td>3662</td>\n",
       "      <td>Vita's Hideaway II</td>\n",
       "      <td>4645</td>\n",
       "      <td>Vita</td>\n",
       "      <td>NaN</td>\n",
       "      <td>Historic Anacostia</td>\n",
       "      <td>38.86193</td>\n",
       "      <td>-76.98963</td>\n",
       "      <td>Private room</td>\n",
       "      <td>65</td>\n",
       "      <td>2</td>\n",
       "      <td>36</td>\n",
       "      <td>2019-04-14</td>\n",
       "      <td>0.35</td>\n",
       "      <td>3</td>\n",
       "      <td>296</td>\n",
       "    </tr>\n",
       "    <tr>\n",
       "      <td>3</td>\n",
       "      <td>3670</td>\n",
       "      <td>Beautiful Sun-Lit U Street 1BR/1BA</td>\n",
       "      <td>4630</td>\n",
       "      <td>Sheila</td>\n",
       "      <td>NaN</td>\n",
       "      <td>Howard University, Le Droit Park, Cardozo/Shaw</td>\n",
       "      <td>38.91842</td>\n",
       "      <td>-77.02750</td>\n",
       "      <td>Private room</td>\n",
       "      <td>75</td>\n",
       "      <td>2</td>\n",
       "      <td>79</td>\n",
       "      <td>2018-07-25</td>\n",
       "      <td>1.44</td>\n",
       "      <td>1</td>\n",
       "      <td>361</td>\n",
       "    </tr>\n",
       "    <tr>\n",
       "      <td>4</td>\n",
       "      <td>3686</td>\n",
       "      <td>Vita's Hideaway</td>\n",
       "      <td>4645</td>\n",
       "      <td>Vita</td>\n",
       "      <td>NaN</td>\n",
       "      <td>Historic Anacostia</td>\n",
       "      <td>38.86314</td>\n",
       "      <td>-76.98836</td>\n",
       "      <td>Private room</td>\n",
       "      <td>55</td>\n",
       "      <td>2</td>\n",
       "      <td>71</td>\n",
       "      <td>2019-08-05</td>\n",
       "      <td>0.66</td>\n",
       "      <td>3</td>\n",
       "      <td>283</td>\n",
       "    </tr>\n",
       "  </tbody>\n",
       "</table>\n",
       "</div>"
      ],
      "text/plain": [
       "     id                                               name  host_id host_name  \\\n",
       "0  3344                White House/Center City, 1 roommate     4957      A.J.   \n",
       "1  3362  Convention Center Rowhouse & In Law: 2 Units, 4BR     2798      Ayeh   \n",
       "2  3662                                 Vita's Hideaway II     4645      Vita   \n",
       "3  3670                 Beautiful Sun-Lit U Street 1BR/1BA     4630    Sheila   \n",
       "4  3686                                    Vita's Hideaway     4645      Vita   \n",
       "\n",
       "   neighbourhood_group                                      neighbourhood  \\\n",
       "0                  NaN  Downtown, Chinatown, Penn Quarters, Mount Vern...   \n",
       "1                  NaN                                 Shaw, Logan Circle   \n",
       "2                  NaN                                 Historic Anacostia   \n",
       "3                  NaN     Howard University, Le Droit Park, Cardozo/Shaw   \n",
       "4                  NaN                                 Historic Anacostia   \n",
       "\n",
       "   latitude  longitude        room_type  price  minimum_nights  \\\n",
       "0  38.90126  -77.02857     Private room     58              90   \n",
       "1  38.91046  -77.01933  Entire home/apt    433               2   \n",
       "2  38.86193  -76.98963     Private room     65               2   \n",
       "3  38.91842  -77.02750     Private room     75               2   \n",
       "4  38.86314  -76.98836     Private room     55               2   \n",
       "\n",
       "   number_of_reviews last_review  reviews_per_month  \\\n",
       "0                 11  2016-08-31               0.09   \n",
       "1                171  2019-08-26               1.32   \n",
       "2                 36  2019-04-14               0.35   \n",
       "3                 79  2018-07-25               1.44   \n",
       "4                 71  2019-08-05               0.66   \n",
       "\n",
       "   calculated_host_listings_count  availability_365  \n",
       "0                               2               358  \n",
       "1                               5               307  \n",
       "2                               3               296  \n",
       "3                               1               361  \n",
       "4                               3               283  "
      ]
     },
     "execution_count": 12,
     "metadata": {},
     "output_type": "execute_result"
    }
   ],
   "source": [
    "listings.head()"
   ]
  },
  {
   "cell_type": "markdown",
   "metadata": {},
   "source": [
    "do the neighbourhood values in listings line up to the 39 available in hoods df?"
   ]
  },
  {
   "cell_type": "markdown",
   "metadata": {},
   "source": [
    "should host name be removed? their names are referenced in reviews"
   ]
  },
  {
   "cell_type": "markdown",
   "metadata": {},
   "source": [
    "room type is categorical - only 4 options. use this for some type of classification? "
   ]
  },
  {
   "cell_type": "markdown",
   "metadata": {},
   "source": [
    "manually calculate reviews per month. does this match what that column shows?? "
   ]
  },
  {
   "cell_type": "markdown",
   "metadata": {},
   "source": [
    "type since last review - does this relate to anything? "
   ]
  },
  {
   "cell_type": "code",
   "execution_count": null,
   "metadata": {},
   "outputs": [],
   "source": [
    "listings.isnull().sum()"
   ]
  },
  {
   "cell_type": "code",
   "execution_count": null,
   "metadata": {},
   "outputs": [],
   "source": [
    "# all of the neighborhood groups are missing\n",
    "listings.drop('neighbourhood_group', axis=1, inplace=True)"
   ]
  },
  {
   "cell_type": "markdown",
   "metadata": {},
   "source": [
    "the name of the reviews normally has some location information in it - does this correspond to their actual location? "
   ]
  },
  {
   "cell_type": "markdown",
   "metadata": {},
   "source": [
    "What is the average price per neighborhood? "
   ]
  },
  {
   "cell_type": "code",
   "execution_count": null,
   "metadata": {},
   "outputs": [],
   "source": [
    "listings['last_review'].sort_values()"
   ]
  },
  {
   "cell_type": "markdown",
   "metadata": {},
   "source": [
    "some listings haven't been reviewed in many years. were they bad reviews? "
   ]
  },
  {
   "cell_type": "code",
   "execution_count": 13,
   "metadata": {},
   "outputs": [
    {
     "data": {
      "text/plain": [
       "(39, 2)"
      ]
     },
     "execution_count": 13,
     "metadata": {},
     "output_type": "execute_result"
    }
   ],
   "source": [
    "hoods = pd.read_csv('/Users/jessieowens2/Desktop/general_assembly/airbnb_data/neighbourhoods.csv')\n",
    "hoods.shape"
   ]
  },
  {
   "cell_type": "code",
   "execution_count": 14,
   "metadata": {},
   "outputs": [
    {
     "data": {
      "text/plain": [
       "neighbourhood_group    39\n",
       "neighbourhood           0\n",
       "dtype: int64"
      ]
     },
     "execution_count": 14,
     "metadata": {},
     "output_type": "execute_result"
    }
   ],
   "source": [
    "hoods.isnull().sum()"
   ]
  },
  {
   "cell_type": "markdown",
   "metadata": {},
   "source": [
    "The neighbourhood group is all missing so removing. "
   ]
  },
  {
   "cell_type": "code",
   "execution_count": null,
   "metadata": {},
   "outputs": [],
   "source": [
    "hoods.drop('neighbourhood_group', axis=1, inplace=True)"
   ]
  },
  {
   "cell_type": "code",
   "execution_count": 27,
   "metadata": {},
   "outputs": [
    {
     "data": {
      "text/plain": [
       "(3354070, 7)"
      ]
     },
     "execution_count": 27,
     "metadata": {},
     "output_type": "execute_result"
    }
   ],
   "source": [
    "calendar = pd.read_csv('/Users/jessieowens2/Desktop/general_assembly/airbnb_data/calendar.csv')\n",
    "calendar.shape"
   ]
  },
  {
   "cell_type": "code",
   "execution_count": 16,
   "metadata": {},
   "outputs": [
    {
     "data": {
      "text/html": [
       "<div>\n",
       "<style scoped>\n",
       "    .dataframe tbody tr th:only-of-type {\n",
       "        vertical-align: middle;\n",
       "    }\n",
       "\n",
       "    .dataframe tbody tr th {\n",
       "        vertical-align: top;\n",
       "    }\n",
       "\n",
       "    .dataframe thead th {\n",
       "        text-align: right;\n",
       "    }\n",
       "</style>\n",
       "<table border=\"1\" class=\"dataframe\">\n",
       "  <thead>\n",
       "    <tr style=\"text-align: right;\">\n",
       "      <th></th>\n",
       "      <th>listing_id</th>\n",
       "      <th>date</th>\n",
       "      <th>available</th>\n",
       "      <th>price</th>\n",
       "      <th>adjusted_price</th>\n",
       "      <th>minimum_nights</th>\n",
       "      <th>maximum_nights</th>\n",
       "    </tr>\n",
       "  </thead>\n",
       "  <tbody>\n",
       "    <tr>\n",
       "      <td>0</td>\n",
       "      <td>3344</td>\n",
       "      <td>2019-09-22</td>\n",
       "      <td>f</td>\n",
       "      <td>$58.00</td>\n",
       "      <td>$58.00</td>\n",
       "      <td>90.0</td>\n",
       "      <td>720.0</td>\n",
       "    </tr>\n",
       "    <tr>\n",
       "      <td>1</td>\n",
       "      <td>3344</td>\n",
       "      <td>2019-09-23</td>\n",
       "      <td>f</td>\n",
       "      <td>$58.00</td>\n",
       "      <td>$58.00</td>\n",
       "      <td>90.0</td>\n",
       "      <td>720.0</td>\n",
       "    </tr>\n",
       "    <tr>\n",
       "      <td>2</td>\n",
       "      <td>3344</td>\n",
       "      <td>2019-09-24</td>\n",
       "      <td>f</td>\n",
       "      <td>$58.00</td>\n",
       "      <td>$58.00</td>\n",
       "      <td>90.0</td>\n",
       "      <td>720.0</td>\n",
       "    </tr>\n",
       "    <tr>\n",
       "      <td>3</td>\n",
       "      <td>3344</td>\n",
       "      <td>2019-09-25</td>\n",
       "      <td>f</td>\n",
       "      <td>$58.00</td>\n",
       "      <td>$58.00</td>\n",
       "      <td>90.0</td>\n",
       "      <td>720.0</td>\n",
       "    </tr>\n",
       "    <tr>\n",
       "      <td>4</td>\n",
       "      <td>3344</td>\n",
       "      <td>2019-09-26</td>\n",
       "      <td>f</td>\n",
       "      <td>$58.00</td>\n",
       "      <td>$58.00</td>\n",
       "      <td>90.0</td>\n",
       "      <td>720.0</td>\n",
       "    </tr>\n",
       "  </tbody>\n",
       "</table>\n",
       "</div>"
      ],
      "text/plain": [
       "   listing_id        date available   price adjusted_price  minimum_nights  \\\n",
       "0        3344  2019-09-22         f  $58.00         $58.00            90.0   \n",
       "1        3344  2019-09-23         f  $58.00         $58.00            90.0   \n",
       "2        3344  2019-09-24         f  $58.00         $58.00            90.0   \n",
       "3        3344  2019-09-25         f  $58.00         $58.00            90.0   \n",
       "4        3344  2019-09-26         f  $58.00         $58.00            90.0   \n",
       "\n",
       "   maximum_nights  \n",
       "0           720.0  \n",
       "1           720.0  \n",
       "2           720.0  \n",
       "3           720.0  \n",
       "4           720.0  "
      ]
     },
     "execution_count": 16,
     "metadata": {},
     "output_type": "execute_result"
    }
   ],
   "source": [
    "calendar.head()"
   ]
  },
  {
   "cell_type": "code",
   "execution_count": 28,
   "metadata": {
    "scrolled": true
   },
   "outputs": [
    {
     "data": {
      "text/plain": [
       "listing_id          int64\n",
       "date               object\n",
       "available          object\n",
       "price              object\n",
       "adjusted_price     object\n",
       "minimum_nights    float64\n",
       "maximum_nights    float64\n",
       "dtype: object"
      ]
     },
     "execution_count": 28,
     "metadata": {},
     "output_type": "execute_result"
    }
   ],
   "source": [
    "calendar.dtypes"
   ]
  },
  {
   "cell_type": "code",
   "execution_count": 32,
   "metadata": {},
   "outputs": [],
   "source": [
    "calendar['price'] = calendar['price'].str.replace('$', '')"
   ]
  },
  {
   "cell_type": "code",
   "execution_count": 36,
   "metadata": {},
   "outputs": [],
   "source": [
    "calendar['price'] = calendar['price'].str.replace(',', '')"
   ]
  },
  {
   "cell_type": "code",
   "execution_count": 39,
   "metadata": {},
   "outputs": [],
   "source": [
    "calendar['price'] = pd.to_numeric(calendar['price'])"
   ]
  },
  {
   "cell_type": "code",
   "execution_count": 40,
   "metadata": {},
   "outputs": [
    {
     "data": {
      "text/plain": [
       "listing_id          int64\n",
       "date               object\n",
       "available          object\n",
       "price             float64\n",
       "adjusted_price     object\n",
       "minimum_nights    float64\n",
       "maximum_nights    float64\n",
       "dtype: object"
      ]
     },
     "execution_count": 40,
     "metadata": {},
     "output_type": "execute_result"
    }
   ],
   "source": [
    "calendar.dtypes"
   ]
  },
  {
   "cell_type": "code",
   "execution_count": 41,
   "metadata": {},
   "outputs": [],
   "source": [
    "calendar['adjusted_price'] = calendar['adjusted_price'].str.replace('$', '')"
   ]
  },
  {
   "cell_type": "code",
   "execution_count": 42,
   "metadata": {},
   "outputs": [],
   "source": [
    "calendar['adjusted_price'] = calendar['adjusted_price'].str.replace(',', '')"
   ]
  },
  {
   "cell_type": "code",
   "execution_count": 43,
   "metadata": {},
   "outputs": [],
   "source": [
    "calendar['adjusted_price'] = pd.to_numeric(calendar['adjusted_price'])"
   ]
  },
  {
   "cell_type": "code",
   "execution_count": 44,
   "metadata": {},
   "outputs": [],
   "source": [
    "calendar['price_diff'] = calendar['price'] - calendar['adjusted_price']"
   ]
  },
  {
   "cell_type": "code",
   "execution_count": 46,
   "metadata": {},
   "outputs": [
    {
     "data": {
      "text/plain": [
       " 0.0     3326260\n",
       " 2.0        4707\n",
       " 1.0        2795\n",
       " 5.0        1846\n",
       " 9.0        1771\n",
       "          ...   \n",
       "-12.0          1\n",
       " 53.0          1\n",
       "-33.0          1\n",
       "-8.0           1\n",
       " 46.0          1\n",
       "Name: price_diff, Length: 101, dtype: int64"
      ]
     },
     "execution_count": 46,
     "metadata": {},
     "output_type": "execute_result"
    }
   ],
   "source": [
    "calendar['price_diff'].value_counts()"
   ]
  },
  {
   "cell_type": "code",
   "execution_count": 20,
   "metadata": {},
   "outputs": [
    {
     "data": {
      "text/plain": [
       "f    2178644\n",
       "t    1175426\n",
       "Name: available, dtype: int64"
      ]
     },
     "execution_count": 20,
     "metadata": {},
     "output_type": "execute_result"
    }
   ],
   "source": [
    "calendar['available'].value_counts()"
   ]
  },
  {
   "cell_type": "code",
   "execution_count": 19,
   "metadata": {},
   "outputs": [
    {
     "data": {
      "text/plain": [
       "2020-03-23    1\n",
       "2020-01-02    1\n",
       "2020-04-12    1\n",
       "2020-09-19    1\n",
       "2020-07-25    1\n",
       "             ..\n",
       "2019-10-26    1\n",
       "2020-03-12    1\n",
       "2020-05-16    1\n",
       "2020-07-20    1\n",
       "2019-11-16    1\n",
       "Name: date, Length: 365, dtype: int64"
      ]
     },
     "execution_count": 19,
     "metadata": {},
     "output_type": "execute_result"
    }
   ],
   "source": [
    "calendar[calendar['listing_id'] == 3344]['date'].value_counts()"
   ]
  },
  {
   "cell_type": "code",
   "execution_count": 17,
   "metadata": {},
   "outputs": [
    {
     "ename": "KeyError",
     "evalue": "'price'",
     "output_type": "error",
     "traceback": [
      "\u001b[0;31m---------------------------------------------------------------------------\u001b[0m",
      "\u001b[0;31mKeyError\u001b[0m                                  Traceback (most recent call last)",
      "\u001b[0;32m<ipython-input-17-72706351a6ea>\u001b[0m in \u001b[0;36m<module>\u001b[0;34m\u001b[0m\n\u001b[0;32m----> 1\u001b[0;31m \u001b[0mcalendar\u001b[0m\u001b[0;34m[\u001b[0m\u001b[0;34m'listing_id'\u001b[0m\u001b[0;34m]\u001b[0m\u001b[0;34m.\u001b[0m\u001b[0mgroupby\u001b[0m\u001b[0;34m(\u001b[0m\u001b[0mby\u001b[0m\u001b[0;34m=\u001b[0m\u001b[0;34m'price'\u001b[0m\u001b[0;34m)\u001b[0m\u001b[0;34m\u001b[0m\u001b[0;34m\u001b[0m\u001b[0m\n\u001b[0m",
      "\u001b[0;32m//anaconda3/lib/python3.7/site-packages/pandas/core/generic.py\u001b[0m in \u001b[0;36mgroupby\u001b[0;34m(self, by, axis, level, as_index, sort, group_keys, squeeze, observed, **kwargs)\u001b[0m\n\u001b[1;32m   7892\u001b[0m             \u001b[0msqueeze\u001b[0m\u001b[0;34m=\u001b[0m\u001b[0msqueeze\u001b[0m\u001b[0;34m,\u001b[0m\u001b[0;34m\u001b[0m\u001b[0;34m\u001b[0m\u001b[0m\n\u001b[1;32m   7893\u001b[0m             \u001b[0mobserved\u001b[0m\u001b[0;34m=\u001b[0m\u001b[0mobserved\u001b[0m\u001b[0;34m,\u001b[0m\u001b[0;34m\u001b[0m\u001b[0;34m\u001b[0m\u001b[0m\n\u001b[0;32m-> 7894\u001b[0;31m             \u001b[0;34m**\u001b[0m\u001b[0mkwargs\u001b[0m\u001b[0;34m\u001b[0m\u001b[0;34m\u001b[0m\u001b[0m\n\u001b[0m\u001b[1;32m   7895\u001b[0m         )\n\u001b[1;32m   7896\u001b[0m \u001b[0;34m\u001b[0m\u001b[0m\n",
      "\u001b[0;32m//anaconda3/lib/python3.7/site-packages/pandas/core/groupby/groupby.py\u001b[0m in \u001b[0;36mgroupby\u001b[0;34m(obj, by, **kwds)\u001b[0m\n\u001b[1;32m   2520\u001b[0m         \u001b[0;32mraise\u001b[0m \u001b[0mTypeError\u001b[0m\u001b[0;34m(\u001b[0m\u001b[0;34m\"invalid type: {}\"\u001b[0m\u001b[0;34m.\u001b[0m\u001b[0mformat\u001b[0m\u001b[0;34m(\u001b[0m\u001b[0mobj\u001b[0m\u001b[0;34m)\u001b[0m\u001b[0;34m)\u001b[0m\u001b[0;34m\u001b[0m\u001b[0;34m\u001b[0m\u001b[0m\n\u001b[1;32m   2521\u001b[0m \u001b[0;34m\u001b[0m\u001b[0m\n\u001b[0;32m-> 2522\u001b[0;31m     \u001b[0;32mreturn\u001b[0m \u001b[0mklass\u001b[0m\u001b[0;34m(\u001b[0m\u001b[0mobj\u001b[0m\u001b[0;34m,\u001b[0m \u001b[0mby\u001b[0m\u001b[0;34m,\u001b[0m \u001b[0;34m**\u001b[0m\u001b[0mkwds\u001b[0m\u001b[0;34m)\u001b[0m\u001b[0;34m\u001b[0m\u001b[0;34m\u001b[0m\u001b[0m\n\u001b[0m",
      "\u001b[0;32m//anaconda3/lib/python3.7/site-packages/pandas/core/groupby/groupby.py\u001b[0m in \u001b[0;36m__init__\u001b[0;34m(self, obj, keys, axis, level, grouper, exclusions, selection, as_index, sort, group_keys, squeeze, observed, **kwargs)\u001b[0m\n\u001b[1;32m    389\u001b[0m                 \u001b[0msort\u001b[0m\u001b[0;34m=\u001b[0m\u001b[0msort\u001b[0m\u001b[0;34m,\u001b[0m\u001b[0;34m\u001b[0m\u001b[0;34m\u001b[0m\u001b[0m\n\u001b[1;32m    390\u001b[0m                 \u001b[0mobserved\u001b[0m\u001b[0;34m=\u001b[0m\u001b[0mobserved\u001b[0m\u001b[0;34m,\u001b[0m\u001b[0;34m\u001b[0m\u001b[0;34m\u001b[0m\u001b[0m\n\u001b[0;32m--> 391\u001b[0;31m                 \u001b[0mmutated\u001b[0m\u001b[0;34m=\u001b[0m\u001b[0mself\u001b[0m\u001b[0;34m.\u001b[0m\u001b[0mmutated\u001b[0m\u001b[0;34m,\u001b[0m\u001b[0;34m\u001b[0m\u001b[0;34m\u001b[0m\u001b[0m\n\u001b[0m\u001b[1;32m    392\u001b[0m             )\n\u001b[1;32m    393\u001b[0m \u001b[0;34m\u001b[0m\u001b[0m\n",
      "\u001b[0;32m//anaconda3/lib/python3.7/site-packages/pandas/core/groupby/grouper.py\u001b[0m in \u001b[0;36m_get_grouper\u001b[0;34m(obj, key, axis, level, sort, observed, mutated, validate)\u001b[0m\n\u001b[1;32m    619\u001b[0m                 \u001b[0min_axis\u001b[0m\u001b[0;34m,\u001b[0m \u001b[0mname\u001b[0m\u001b[0;34m,\u001b[0m \u001b[0mlevel\u001b[0m\u001b[0;34m,\u001b[0m \u001b[0mgpr\u001b[0m \u001b[0;34m=\u001b[0m \u001b[0;32mFalse\u001b[0m\u001b[0;34m,\u001b[0m \u001b[0;32mNone\u001b[0m\u001b[0;34m,\u001b[0m \u001b[0mgpr\u001b[0m\u001b[0;34m,\u001b[0m \u001b[0;32mNone\u001b[0m\u001b[0;34m\u001b[0m\u001b[0;34m\u001b[0m\u001b[0m\n\u001b[1;32m    620\u001b[0m             \u001b[0;32melse\u001b[0m\u001b[0;34m:\u001b[0m\u001b[0;34m\u001b[0m\u001b[0;34m\u001b[0m\u001b[0m\n\u001b[0;32m--> 621\u001b[0;31m                 \u001b[0;32mraise\u001b[0m \u001b[0mKeyError\u001b[0m\u001b[0;34m(\u001b[0m\u001b[0mgpr\u001b[0m\u001b[0;34m)\u001b[0m\u001b[0;34m\u001b[0m\u001b[0;34m\u001b[0m\u001b[0m\n\u001b[0m\u001b[1;32m    622\u001b[0m         \u001b[0;32melif\u001b[0m \u001b[0misinstance\u001b[0m\u001b[0;34m(\u001b[0m\u001b[0mgpr\u001b[0m\u001b[0;34m,\u001b[0m \u001b[0mGrouper\u001b[0m\u001b[0;34m)\u001b[0m \u001b[0;32mand\u001b[0m \u001b[0mgpr\u001b[0m\u001b[0;34m.\u001b[0m\u001b[0mkey\u001b[0m \u001b[0;32mis\u001b[0m \u001b[0;32mnot\u001b[0m \u001b[0;32mNone\u001b[0m\u001b[0;34m:\u001b[0m\u001b[0;34m\u001b[0m\u001b[0;34m\u001b[0m\u001b[0m\n\u001b[1;32m    623\u001b[0m             \u001b[0;31m# Add key to exclusions\u001b[0m\u001b[0;34m\u001b[0m\u001b[0;34m\u001b[0m\u001b[0;34m\u001b[0m\u001b[0m\n",
      "\u001b[0;31mKeyError\u001b[0m: 'price'"
     ]
    }
   ],
   "source": [
    "calendar['listing_id'].groupby(by='price')"
   ]
  },
  {
   "cell_type": "markdown",
   "metadata": {},
   "source": [
    "Unsupervised learning problem: analyzing factors that contribute to good reviews and predict on a new dataset? (should be oct and nov data by time of capstone) \n",
    "\n",
    "try to predict price changes? "
   ]
  },
  {
   "cell_type": "markdown",
   "metadata": {},
   "source": [
    "Does high availability of a listing have a relationship with anything? (review sentiment, number of reviews, price per night, neighbourhood, host?)"
   ]
  },
  {
   "cell_type": "markdown",
   "metadata": {},
   "source": [
    "look at how price has changed over time\n",
    "\n",
    "try to predict price change based on review sentiment"
   ]
  },
  {
   "cell_type": "markdown",
   "metadata": {},
   "source": [
    "may or may not use time series to correlate data over time"
   ]
  },
  {
   "cell_type": "markdown",
   "metadata": {},
   "source": [
    "if you find that the calendar data set was collected awhile ago, probably could account for seasonality or change over time"
   ]
  },
  {
   "cell_type": "markdown",
   "metadata": {},
   "source": [
    "look at how older events affected the price and see if you can predict how newer events will affect price (model)"
   ]
  },
  {
   "cell_type": "code",
   "execution_count": null,
   "metadata": {},
   "outputs": [],
   "source": []
  }
 ],
 "metadata": {
  "kernelspec": {
   "display_name": "Python 3",
   "language": "python",
   "name": "python3"
  },
  "language_info": {
   "codemirror_mode": {
    "name": "ipython",
    "version": 3
   },
   "file_extension": ".py",
   "mimetype": "text/x-python",
   "name": "python",
   "nbconvert_exporter": "python",
   "pygments_lexer": "ipython3",
   "version": "3.7.3"
  }
 },
 "nbformat": 4,
 "nbformat_minor": 2
}
