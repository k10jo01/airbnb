{
 "cells": [
  {
   "cell_type": "code",
   "execution_count": 2,
   "metadata": {},
   "outputs": [],
   "source": [
    "import pandas as pd"
   ]
  },
  {
   "cell_type": "code",
   "execution_count": 3,
   "metadata": {},
   "outputs": [
    {
     "data": {
      "text/plain": [
       "(3354070, 7)"
      ]
     },
     "execution_count": 3,
     "metadata": {},
     "output_type": "execute_result"
    }
   ],
   "source": [
    "# Read in calendar data\n",
    "calendar = pd.read_csv('/Users/jessieowens2/Desktop/general_assembly/airbnb_data/calendar_9_19.csv')\n",
    "# Look at shape of calendar data\n",
    "calendar.shape"
   ]
  },
  {
   "cell_type": "code",
   "execution_count": 4,
   "metadata": {},
   "outputs": [
    {
     "data": {
      "text/html": [
       "<div>\n",
       "<style scoped>\n",
       "    .dataframe tbody tr th:only-of-type {\n",
       "        vertical-align: middle;\n",
       "    }\n",
       "\n",
       "    .dataframe tbody tr th {\n",
       "        vertical-align: top;\n",
       "    }\n",
       "\n",
       "    .dataframe thead th {\n",
       "        text-align: right;\n",
       "    }\n",
       "</style>\n",
       "<table border=\"1\" class=\"dataframe\">\n",
       "  <thead>\n",
       "    <tr style=\"text-align: right;\">\n",
       "      <th></th>\n",
       "      <th>listing_id</th>\n",
       "      <th>date</th>\n",
       "      <th>available</th>\n",
       "      <th>price</th>\n",
       "      <th>adjusted_price</th>\n",
       "      <th>minimum_nights</th>\n",
       "      <th>maximum_nights</th>\n",
       "    </tr>\n",
       "  </thead>\n",
       "  <tbody>\n",
       "    <tr>\n",
       "      <td>0</td>\n",
       "      <td>3344</td>\n",
       "      <td>2019-09-22</td>\n",
       "      <td>f</td>\n",
       "      <td>$58.00</td>\n",
       "      <td>$58.00</td>\n",
       "      <td>90.0</td>\n",
       "      <td>720.0</td>\n",
       "    </tr>\n",
       "    <tr>\n",
       "      <td>1</td>\n",
       "      <td>3344</td>\n",
       "      <td>2019-09-23</td>\n",
       "      <td>f</td>\n",
       "      <td>$58.00</td>\n",
       "      <td>$58.00</td>\n",
       "      <td>90.0</td>\n",
       "      <td>720.0</td>\n",
       "    </tr>\n",
       "    <tr>\n",
       "      <td>2</td>\n",
       "      <td>3344</td>\n",
       "      <td>2019-09-24</td>\n",
       "      <td>f</td>\n",
       "      <td>$58.00</td>\n",
       "      <td>$58.00</td>\n",
       "      <td>90.0</td>\n",
       "      <td>720.0</td>\n",
       "    </tr>\n",
       "    <tr>\n",
       "      <td>3</td>\n",
       "      <td>3344</td>\n",
       "      <td>2019-09-25</td>\n",
       "      <td>f</td>\n",
       "      <td>$58.00</td>\n",
       "      <td>$58.00</td>\n",
       "      <td>90.0</td>\n",
       "      <td>720.0</td>\n",
       "    </tr>\n",
       "    <tr>\n",
       "      <td>4</td>\n",
       "      <td>3344</td>\n",
       "      <td>2019-09-26</td>\n",
       "      <td>f</td>\n",
       "      <td>$58.00</td>\n",
       "      <td>$58.00</td>\n",
       "      <td>90.0</td>\n",
       "      <td>720.0</td>\n",
       "    </tr>\n",
       "  </tbody>\n",
       "</table>\n",
       "</div>"
      ],
      "text/plain": [
       "   listing_id        date available   price adjusted_price  minimum_nights  \\\n",
       "0        3344  2019-09-22         f  $58.00         $58.00            90.0   \n",
       "1        3344  2019-09-23         f  $58.00         $58.00            90.0   \n",
       "2        3344  2019-09-24         f  $58.00         $58.00            90.0   \n",
       "3        3344  2019-09-25         f  $58.00         $58.00            90.0   \n",
       "4        3344  2019-09-26         f  $58.00         $58.00            90.0   \n",
       "\n",
       "   maximum_nights  \n",
       "0           720.0  \n",
       "1           720.0  \n",
       "2           720.0  \n",
       "3           720.0  \n",
       "4           720.0  "
      ]
     },
     "execution_count": 4,
     "metadata": {},
     "output_type": "execute_result"
    }
   ],
   "source": [
    "# Look at calendar data\n",
    "calendar.head()"
   ]
  },
  {
   "cell_type": "code",
   "execution_count": 29,
   "metadata": {},
   "outputs": [
    {
     "data": {
      "text/html": [
       "<div>\n",
       "<style scoped>\n",
       "    .dataframe tbody tr th:only-of-type {\n",
       "        vertical-align: middle;\n",
       "    }\n",
       "\n",
       "    .dataframe tbody tr th {\n",
       "        vertical-align: top;\n",
       "    }\n",
       "\n",
       "    .dataframe thead th {\n",
       "        text-align: right;\n",
       "    }\n",
       "</style>\n",
       "<table border=\"1\" class=\"dataframe\">\n",
       "  <thead>\n",
       "    <tr style=\"text-align: right;\">\n",
       "      <th></th>\n",
       "      <th>listing_id</th>\n",
       "      <th>price</th>\n",
       "      <th>adjusted_price</th>\n",
       "      <th>minimum_nights</th>\n",
       "      <th>maximum_nights</th>\n",
       "      <th>price_diff</th>\n",
       "    </tr>\n",
       "  </thead>\n",
       "  <tbody>\n",
       "    <tr>\n",
       "      <td>count</td>\n",
       "      <td>3.354070e+06</td>\n",
       "      <td>3.354070e+06</td>\n",
       "      <td>3.354070e+06</td>\n",
       "      <td>3.354070e+06</td>\n",
       "      <td>3.354070e+06</td>\n",
       "      <td>3.354070e+06</td>\n",
       "    </tr>\n",
       "    <tr>\n",
       "      <td>mean</td>\n",
       "      <td>1.980632e+07</td>\n",
       "      <td>1.903516e+02</td>\n",
       "      <td>1.902596e+02</td>\n",
       "      <td>5.872331e+00</td>\n",
       "      <td>2.463027e+05</td>\n",
       "      <td>9.201895e-02</td>\n",
       "    </tr>\n",
       "    <tr>\n",
       "      <td>std</td>\n",
       "      <td>1.049269e+07</td>\n",
       "      <td>2.993762e+02</td>\n",
       "      <td>2.993233e+02</td>\n",
       "      <td>2.181613e+01</td>\n",
       "      <td>2.242535e+07</td>\n",
       "      <td>2.848840e+00</td>\n",
       "    </tr>\n",
       "    <tr>\n",
       "      <td>min</td>\n",
       "      <td>3.344000e+03</td>\n",
       "      <td>1.000000e+01</td>\n",
       "      <td>1.000000e+01</td>\n",
       "      <td>0.000000e+00</td>\n",
       "      <td>0.000000e+00</td>\n",
       "      <td>-4.300000e+02</td>\n",
       "    </tr>\n",
       "    <tr>\n",
       "      <td>25%</td>\n",
       "      <td>1.251382e+07</td>\n",
       "      <td>7.600000e+01</td>\n",
       "      <td>7.600000e+01</td>\n",
       "      <td>1.000000e+00</td>\n",
       "      <td>3.000000e+01</td>\n",
       "      <td>0.000000e+00</td>\n",
       "    </tr>\n",
       "    <tr>\n",
       "      <td>50%</td>\n",
       "      <td>1.876655e+07</td>\n",
       "      <td>1.150000e+02</td>\n",
       "      <td>1.150000e+02</td>\n",
       "      <td>2.000000e+00</td>\n",
       "      <td>1.120000e+03</td>\n",
       "      <td>0.000000e+00</td>\n",
       "    </tr>\n",
       "    <tr>\n",
       "      <td>75%</td>\n",
       "      <td>2.854158e+07</td>\n",
       "      <td>1.950000e+02</td>\n",
       "      <td>1.950000e+02</td>\n",
       "      <td>3.000000e+00</td>\n",
       "      <td>1.125000e+03</td>\n",
       "      <td>0.000000e+00</td>\n",
       "    </tr>\n",
       "    <tr>\n",
       "      <td>max</td>\n",
       "      <td>3.881766e+07</td>\n",
       "      <td>1.000000e+04</td>\n",
       "      <td>1.000000e+04</td>\n",
       "      <td>9.990000e+02</td>\n",
       "      <td>2.147484e+09</td>\n",
       "      <td>1.500000e+02</td>\n",
       "    </tr>\n",
       "  </tbody>\n",
       "</table>\n",
       "</div>"
      ],
      "text/plain": [
       "         listing_id         price  adjusted_price  minimum_nights  \\\n",
       "count  3.354070e+06  3.354070e+06    3.354070e+06    3.354070e+06   \n",
       "mean   1.980632e+07  1.903516e+02    1.902596e+02    5.872331e+00   \n",
       "std    1.049269e+07  2.993762e+02    2.993233e+02    2.181613e+01   \n",
       "min    3.344000e+03  1.000000e+01    1.000000e+01    0.000000e+00   \n",
       "25%    1.251382e+07  7.600000e+01    7.600000e+01    1.000000e+00   \n",
       "50%    1.876655e+07  1.150000e+02    1.150000e+02    2.000000e+00   \n",
       "75%    2.854158e+07  1.950000e+02    1.950000e+02    3.000000e+00   \n",
       "max    3.881766e+07  1.000000e+04    1.000000e+04    9.990000e+02   \n",
       "\n",
       "       maximum_nights    price_diff  \n",
       "count    3.354070e+06  3.354070e+06  \n",
       "mean     2.463027e+05  9.201895e-02  \n",
       "std      2.242535e+07  2.848840e+00  \n",
       "min      0.000000e+00 -4.300000e+02  \n",
       "25%      3.000000e+01  0.000000e+00  \n",
       "50%      1.120000e+03  0.000000e+00  \n",
       "75%      1.125000e+03  0.000000e+00  \n",
       "max      2.147484e+09  1.500000e+02  "
      ]
     },
     "execution_count": 29,
     "metadata": {},
     "output_type": "execute_result"
    }
   ],
   "source": [
    "# Look at describe stats\n",
    "calendar.describe()"
   ]
  },
  {
   "cell_type": "code",
   "execution_count": 31,
   "metadata": {},
   "outputs": [
    {
     "name": "stdout",
     "output_type": "stream",
     "text": [
      "<class 'pandas.core.frame.DataFrame'>\n",
      "RangeIndex: 3354070 entries, 0 to 3354069\n",
      "Data columns (total 8 columns):\n",
      "listing_id        int64\n",
      "date              object\n",
      "available         object\n",
      "price             float64\n",
      "adjusted_price    float64\n",
      "minimum_nights    float64\n",
      "maximum_nights    float64\n",
      "price_diff        float64\n",
      "dtypes: float64(5), int64(1), object(2)\n",
      "memory usage: 204.7+ MB\n"
     ]
    }
   ],
   "source": [
    "# Look at info stats\n",
    "calendar.info()"
   ]
  },
  {
   "cell_type": "code",
   "execution_count": 6,
   "metadata": {},
   "outputs": [
    {
     "data": {
      "text/plain": [
       "listing_id        0\n",
       "date              0\n",
       "available         0\n",
       "price             0\n",
       "adjusted_price    0\n",
       "minimum_nights    3\n",
       "maximum_nights    3\n",
       "dtype: int64"
      ]
     },
     "execution_count": 6,
     "metadata": {},
     "output_type": "execute_result"
    }
   ],
   "source": [
    "# Check for null values\n",
    "calendar.isnull().sum()"
   ]
  },
  {
   "cell_type": "code",
   "execution_count": 32,
   "metadata": {
    "scrolled": true
   },
   "outputs": [
    {
     "data": {
      "text/html": [
       "<div>\n",
       "<style scoped>\n",
       "    .dataframe tbody tr th:only-of-type {\n",
       "        vertical-align: middle;\n",
       "    }\n",
       "\n",
       "    .dataframe tbody tr th {\n",
       "        vertical-align: top;\n",
       "    }\n",
       "\n",
       "    .dataframe thead th {\n",
       "        text-align: right;\n",
       "    }\n",
       "</style>\n",
       "<table border=\"1\" class=\"dataframe\">\n",
       "  <thead>\n",
       "    <tr style=\"text-align: right;\">\n",
       "      <th></th>\n",
       "      <th>listing_id</th>\n",
       "      <th>date</th>\n",
       "      <th>available</th>\n",
       "      <th>price</th>\n",
       "      <th>adjusted_price</th>\n",
       "      <th>minimum_nights</th>\n",
       "      <th>maximum_nights</th>\n",
       "      <th>price_diff</th>\n",
       "    </tr>\n",
       "  </thead>\n",
       "  <tbody>\n",
       "  </tbody>\n",
       "</table>\n",
       "</div>"
      ],
      "text/plain": [
       "Empty DataFrame\n",
       "Columns: [listing_id, date, available, price, adjusted_price, minimum_nights, maximum_nights, price_diff]\n",
       "Index: []"
      ]
     },
     "execution_count": 32,
     "metadata": {},
     "output_type": "execute_result"
    }
   ],
   "source": [
    "# Very small amount of data missing, check out individually to see if it's for the same 3 rows. \n",
    "calendar[calendar['maximum_nights'].isnull()]"
   ]
  },
  {
   "cell_type": "code",
   "execution_count": 12,
   "metadata": {},
   "outputs": [],
   "source": [
    "# fill nans with 0s\n",
    "calendar['minimum_nights'].fillna(0, inplace=True)"
   ]
  },
  {
   "cell_type": "code",
   "execution_count": 15,
   "metadata": {},
   "outputs": [],
   "source": [
    "# fill nans with 0s\n",
    "calendar['maximum_nights'].fillna(0, inplace=True)"
   ]
  },
  {
   "cell_type": "code",
   "execution_count": 16,
   "metadata": {},
   "outputs": [
    {
     "data": {
      "text/plain": [
       "listing_id          int64\n",
       "date               object\n",
       "available          object\n",
       "price              object\n",
       "adjusted_price     object\n",
       "minimum_nights    float64\n",
       "maximum_nights    float64\n",
       "dtype: object"
      ]
     },
     "execution_count": 16,
     "metadata": {},
     "output_type": "execute_result"
    }
   ],
   "source": [
    "# Check data types\n",
    "calendar.dtypes"
   ]
  },
  {
   "cell_type": "code",
   "execution_count": 17,
   "metadata": {},
   "outputs": [
    {
     "data": {
      "text/html": [
       "<div>\n",
       "<style scoped>\n",
       "    .dataframe tbody tr th:only-of-type {\n",
       "        vertical-align: middle;\n",
       "    }\n",
       "\n",
       "    .dataframe tbody tr th {\n",
       "        vertical-align: top;\n",
       "    }\n",
       "\n",
       "    .dataframe thead th {\n",
       "        text-align: right;\n",
       "    }\n",
       "</style>\n",
       "<table border=\"1\" class=\"dataframe\">\n",
       "  <thead>\n",
       "    <tr style=\"text-align: right;\">\n",
       "      <th></th>\n",
       "      <th>listing_id</th>\n",
       "      <th>date</th>\n",
       "      <th>available</th>\n",
       "      <th>price</th>\n",
       "      <th>adjusted_price</th>\n",
       "      <th>minimum_nights</th>\n",
       "      <th>maximum_nights</th>\n",
       "    </tr>\n",
       "  </thead>\n",
       "  <tbody>\n",
       "    <tr>\n",
       "      <td>2014161</td>\n",
       "      <td>22201266</td>\n",
       "      <td>2020-10-09</td>\n",
       "      <td>f</td>\n",
       "      <td>$107.00</td>\n",
       "      <td>$107.00</td>\n",
       "      <td>2.0</td>\n",
       "      <td>7.0</td>\n",
       "    </tr>\n",
       "    <tr>\n",
       "      <td>2014160</td>\n",
       "      <td>22201266</td>\n",
       "      <td>2020-10-08</td>\n",
       "      <td>f</td>\n",
       "      <td>$106.00</td>\n",
       "      <td>$106.00</td>\n",
       "      <td>2.0</td>\n",
       "      <td>7.0</td>\n",
       "    </tr>\n",
       "    <tr>\n",
       "      <td>2014159</td>\n",
       "      <td>22201266</td>\n",
       "      <td>2020-10-07</td>\n",
       "      <td>f</td>\n",
       "      <td>$106.00</td>\n",
       "      <td>$106.00</td>\n",
       "      <td>2.0</td>\n",
       "      <td>7.0</td>\n",
       "    </tr>\n",
       "    <tr>\n",
       "      <td>2014158</td>\n",
       "      <td>22201266</td>\n",
       "      <td>2020-10-06</td>\n",
       "      <td>f</td>\n",
       "      <td>$106.00</td>\n",
       "      <td>$106.00</td>\n",
       "      <td>2.0</td>\n",
       "      <td>7.0</td>\n",
       "    </tr>\n",
       "    <tr>\n",
       "      <td>2014157</td>\n",
       "      <td>22201266</td>\n",
       "      <td>2020-10-05</td>\n",
       "      <td>f</td>\n",
       "      <td>$106.00</td>\n",
       "      <td>$106.00</td>\n",
       "      <td>2.0</td>\n",
       "      <td>7.0</td>\n",
       "    </tr>\n",
       "    <tr>\n",
       "      <td>...</td>\n",
       "      <td>...</td>\n",
       "      <td>...</td>\n",
       "      <td>...</td>\n",
       "      <td>...</td>\n",
       "      <td>...</td>\n",
       "      <td>...</td>\n",
       "      <td>...</td>\n",
       "    </tr>\n",
       "    <tr>\n",
       "      <td>664825</td>\n",
       "      <td>9750676</td>\n",
       "      <td>2019-09-22</td>\n",
       "      <td>f</td>\n",
       "      <td>$350.00</td>\n",
       "      <td>$350.00</td>\n",
       "      <td>1.0</td>\n",
       "      <td>7.0</td>\n",
       "    </tr>\n",
       "    <tr>\n",
       "      <td>3000794</td>\n",
       "      <td>34888096</td>\n",
       "      <td>2019-09-22</td>\n",
       "      <td>t</td>\n",
       "      <td>$111.00</td>\n",
       "      <td>$111.00</td>\n",
       "      <td>30.0</td>\n",
       "      <td>1125.0</td>\n",
       "    </tr>\n",
       "    <tr>\n",
       "      <td>2799665</td>\n",
       "      <td>32353389</td>\n",
       "      <td>2019-09-22</td>\n",
       "      <td>f</td>\n",
       "      <td>$24.00</td>\n",
       "      <td>$24.00</td>\n",
       "      <td>1.0</td>\n",
       "      <td>14.0</td>\n",
       "    </tr>\n",
       "    <tr>\n",
       "      <td>1431341</td>\n",
       "      <td>16671355</td>\n",
       "      <td>2019-09-22</td>\n",
       "      <td>t</td>\n",
       "      <td>$199.00</td>\n",
       "      <td>$199.00</td>\n",
       "      <td>2.0</td>\n",
       "      <td>1125.0</td>\n",
       "    </tr>\n",
       "    <tr>\n",
       "      <td>0</td>\n",
       "      <td>3344</td>\n",
       "      <td>2019-09-22</td>\n",
       "      <td>f</td>\n",
       "      <td>$58.00</td>\n",
       "      <td>$58.00</td>\n",
       "      <td>90.0</td>\n",
       "      <td>720.0</td>\n",
       "    </tr>\n",
       "  </tbody>\n",
       "</table>\n",
       "<p>3354070 rows × 7 columns</p>\n",
       "</div>"
      ],
      "text/plain": [
       "         listing_id        date available    price adjusted_price  \\\n",
       "2014161    22201266  2020-10-09         f  $107.00        $107.00   \n",
       "2014160    22201266  2020-10-08         f  $106.00        $106.00   \n",
       "2014159    22201266  2020-10-07         f  $106.00        $106.00   \n",
       "2014158    22201266  2020-10-06         f  $106.00        $106.00   \n",
       "2014157    22201266  2020-10-05         f  $106.00        $106.00   \n",
       "...             ...         ...       ...      ...            ...   \n",
       "664825      9750676  2019-09-22         f  $350.00        $350.00   \n",
       "3000794    34888096  2019-09-22         t  $111.00        $111.00   \n",
       "2799665    32353389  2019-09-22         f   $24.00         $24.00   \n",
       "1431341    16671355  2019-09-22         t  $199.00        $199.00   \n",
       "0              3344  2019-09-22         f   $58.00         $58.00   \n",
       "\n",
       "         minimum_nights  maximum_nights  \n",
       "2014161             2.0             7.0  \n",
       "2014160             2.0             7.0  \n",
       "2014159             2.0             7.0  \n",
       "2014158             2.0             7.0  \n",
       "2014157             2.0             7.0  \n",
       "...                 ...             ...  \n",
       "664825              1.0             7.0  \n",
       "3000794            30.0          1125.0  \n",
       "2799665             1.0            14.0  \n",
       "1431341             2.0          1125.0  \n",
       "0                  90.0           720.0  \n",
       "\n",
       "[3354070 rows x 7 columns]"
      ]
     },
     "execution_count": 17,
     "metadata": {},
     "output_type": "execute_result"
    }
   ],
   "source": [
    "# Sort on date column\n",
    "calendar.sort_values(by='date', ascending=False)\n",
    "# this data was pulled on 9/22/19 so only represents future listings at time of data being pulled"
   ]
  },
  {
   "cell_type": "code",
   "execution_count": null,
   "metadata": {},
   "outputs": [],
   "source": [
    "# This only represents future data so won't be able to build time series off of just this."
   ]
  },
  {
   "cell_type": "code",
   "execution_count": 18,
   "metadata": {},
   "outputs": [],
   "source": [
    "# Strip dollar signs from price column\n",
    "calendar['price'] = calendar['price'].str.replace('$', '')"
   ]
  },
  {
   "cell_type": "code",
   "execution_count": 19,
   "metadata": {},
   "outputs": [],
   "source": [
    "# Strip commas from price column\n",
    "calendar['price'] = calendar['price'].str.replace(',', '')"
   ]
  },
  {
   "cell_type": "code",
   "execution_count": 20,
   "metadata": {},
   "outputs": [],
   "source": [
    "# Convert price column to numeric\n",
    "calendar['price'] = pd.to_numeric(calendar['price'])"
   ]
  },
  {
   "cell_type": "code",
   "execution_count": 34,
   "metadata": {},
   "outputs": [
    {
     "data": {
      "text/plain": [
       "listing_id                 int64\n",
       "date              datetime64[ns]\n",
       "available                 object\n",
       "price                    float64\n",
       "adjusted_price           float64\n",
       "minimum_nights           float64\n",
       "maximum_nights           float64\n",
       "price_diff               float64\n",
       "dtype: object"
      ]
     },
     "execution_count": 34,
     "metadata": {},
     "output_type": "execute_result"
    }
   ],
   "source": [
    "# Check that data type has changed\n",
    "calendar.dtypes"
   ]
  },
  {
   "cell_type": "code",
   "execution_count": 33,
   "metadata": {},
   "outputs": [],
   "source": [
    "calendar['date'] = pd.to_datetime(calendar['date'])"
   ]
  },
  {
   "cell_type": "code",
   "execution_count": 22,
   "metadata": {},
   "outputs": [],
   "source": [
    "# Strip dollar signs from adjusted price column\n",
    "calendar['adjusted_price'] = calendar['adjusted_price'].str.replace('$', '')"
   ]
  },
  {
   "cell_type": "code",
   "execution_count": 23,
   "metadata": {},
   "outputs": [],
   "source": [
    "# Strip commas from adjusted price column\n",
    "calendar['adjusted_price'] = calendar['adjusted_price'].str.replace(',', '')"
   ]
  },
  {
   "cell_type": "code",
   "execution_count": 24,
   "metadata": {},
   "outputs": [],
   "source": [
    "# Convert price column to numeric\n",
    "calendar['adjusted_price'] = pd.to_numeric(calendar['adjusted_price'])"
   ]
  },
  {
   "cell_type": "code",
   "execution_count": 25,
   "metadata": {},
   "outputs": [],
   "source": [
    "# Calculate price difference between price and adjusted price, put in a new column\n",
    "calendar['price_diff'] = calendar['price'] - calendar['adjusted_price']"
   ]
  },
  {
   "cell_type": "code",
   "execution_count": 26,
   "metadata": {},
   "outputs": [
    {
     "data": {
      "text/plain": [
       " 0.0     3326260\n",
       " 2.0        4707\n",
       " 1.0        2795\n",
       " 5.0        1846\n",
       " 9.0        1771\n",
       "          ...   \n",
       "-12.0          1\n",
       " 53.0          1\n",
       "-33.0          1\n",
       "-8.0           1\n",
       " 46.0          1\n",
       "Name: price_diff, Length: 101, dtype: int64"
      ]
     },
     "execution_count": 26,
     "metadata": {},
     "output_type": "execute_result"
    }
   ],
   "source": [
    "# Look at how big/small the price difference might be\n",
    "calendar['price_diff'].value_counts()"
   ]
  },
  {
   "cell_type": "markdown",
   "metadata": {},
   "source": [
    "Not sure what the difference in price is representing (why there is an adjusted price?). Might be that the price listed in this csv changed between instances of the InsideAirBnB team pulling this data (they pull on semi regular basis)"
   ]
  },
  {
   "cell_type": "code",
   "execution_count": 27,
   "metadata": {},
   "outputs": [
    {
     "data": {
      "text/plain": [
       "f    2178644\n",
       "t    1175426\n",
       "Name: available, dtype: int64"
      ]
     },
     "execution_count": 27,
     "metadata": {},
     "output_type": "execute_result"
    }
   ],
   "source": [
    "# Check the possible values for the available column\n",
    "calendar['available'].value_counts()"
   ]
  },
  {
   "cell_type": "code",
   "execution_count": null,
   "metadata": {},
   "outputs": [],
   "source": [
    "# The values t and f might stand for true and false. I will have to look into this with more EDA to get a better \n",
    "# idea of this or will just not use this data feature. "
   ]
  },
  {
   "cell_type": "code",
   "execution_count": 35,
   "metadata": {},
   "outputs": [
    {
     "data": {
      "text/plain": [
       "2020-03-13    1\n",
       "2020-06-30    1\n",
       "2020-04-29    1\n",
       "2020-03-29    1\n",
       "2020-02-27    1\n",
       "             ..\n",
       "2020-05-29    1\n",
       "2020-04-28    1\n",
       "2020-03-28    1\n",
       "2020-02-26    1\n",
       "2020-02-11    1\n",
       "Name: date, Length: 365, dtype: int64"
      ]
     },
     "execution_count": 35,
     "metadata": {},
     "output_type": "execute_result"
    }
   ],
   "source": [
    "# seeing how many times one listing shows up in this dataset. \n",
    "calendar[calendar['listing_id'] == 3344]['date'].value_counts()"
   ]
  },
  {
   "cell_type": "code",
   "execution_count": 37,
   "metadata": {},
   "outputs": [],
   "source": [
    "calendar.set_index('date', inplace=True)"
   ]
  },
  {
   "cell_type": "code",
   "execution_count": 39,
   "metadata": {},
   "outputs": [],
   "source": [
    "calendar.sort_index(inplace=True)"
   ]
  },
  {
   "cell_type": "code",
   "execution_count": 41,
   "metadata": {},
   "outputs": [
    {
     "data": {
      "text/html": [
       "<div>\n",
       "<style scoped>\n",
       "    .dataframe tbody tr th:only-of-type {\n",
       "        vertical-align: middle;\n",
       "    }\n",
       "\n",
       "    .dataframe tbody tr th {\n",
       "        vertical-align: top;\n",
       "    }\n",
       "\n",
       "    .dataframe thead th {\n",
       "        text-align: right;\n",
       "    }\n",
       "</style>\n",
       "<table border=\"1\" class=\"dataframe\">\n",
       "  <thead>\n",
       "    <tr style=\"text-align: right;\">\n",
       "      <th></th>\n",
       "      <th>listing_id</th>\n",
       "      <th>available</th>\n",
       "      <th>price</th>\n",
       "      <th>adjusted_price</th>\n",
       "      <th>minimum_nights</th>\n",
       "      <th>maximum_nights</th>\n",
       "      <th>price_diff</th>\n",
       "      <th>source</th>\n",
       "    </tr>\n",
       "    <tr>\n",
       "      <th>date</th>\n",
       "      <th></th>\n",
       "      <th></th>\n",
       "      <th></th>\n",
       "      <th></th>\n",
       "      <th></th>\n",
       "      <th></th>\n",
       "      <th></th>\n",
       "      <th></th>\n",
       "    </tr>\n",
       "  </thead>\n",
       "  <tbody>\n",
       "    <tr>\n",
       "      <td>2019-09-22</td>\n",
       "      <td>3344</td>\n",
       "      <td>f</td>\n",
       "      <td>58.0</td>\n",
       "      <td>58.0</td>\n",
       "      <td>90.0</td>\n",
       "      <td>720.0</td>\n",
       "      <td>0.0</td>\n",
       "      <td>Sep-19</td>\n",
       "    </tr>\n",
       "    <tr>\n",
       "      <td>2019-09-22</td>\n",
       "      <td>26133778</td>\n",
       "      <td>f</td>\n",
       "      <td>60.0</td>\n",
       "      <td>60.0</td>\n",
       "      <td>2.0</td>\n",
       "      <td>1124.0</td>\n",
       "      <td>0.0</td>\n",
       "      <td>Sep-19</td>\n",
       "    </tr>\n",
       "    <tr>\n",
       "      <td>2019-09-22</td>\n",
       "      <td>35412148</td>\n",
       "      <td>t</td>\n",
       "      <td>100.0</td>\n",
       "      <td>100.0</td>\n",
       "      <td>1.0</td>\n",
       "      <td>1125.0</td>\n",
       "      <td>0.0</td>\n",
       "      <td>Sep-19</td>\n",
       "    </tr>\n",
       "    <tr>\n",
       "      <td>2019-09-22</td>\n",
       "      <td>12423375</td>\n",
       "      <td>f</td>\n",
       "      <td>92.0</td>\n",
       "      <td>92.0</td>\n",
       "      <td>3.0</td>\n",
       "      <td>30.0</td>\n",
       "      <td>0.0</td>\n",
       "      <td>Sep-19</td>\n",
       "    </tr>\n",
       "    <tr>\n",
       "      <td>2019-09-22</td>\n",
       "      <td>4634946</td>\n",
       "      <td>t</td>\n",
       "      <td>70.0</td>\n",
       "      <td>70.0</td>\n",
       "      <td>1.0</td>\n",
       "      <td>7.0</td>\n",
       "      <td>0.0</td>\n",
       "      <td>Sep-19</td>\n",
       "    </tr>\n",
       "  </tbody>\n",
       "</table>\n",
       "</div>"
      ],
      "text/plain": [
       "            listing_id available  price  adjusted_price  minimum_nights  \\\n",
       "date                                                                      \n",
       "2019-09-22        3344         f   58.0            58.0            90.0   \n",
       "2019-09-22    26133778         f   60.0            60.0             2.0   \n",
       "2019-09-22    35412148         t  100.0           100.0             1.0   \n",
       "2019-09-22    12423375         f   92.0            92.0             3.0   \n",
       "2019-09-22     4634946         t   70.0            70.0             1.0   \n",
       "\n",
       "            maximum_nights  price_diff  source  \n",
       "date                                            \n",
       "2019-09-22           720.0         0.0  Sep-19  \n",
       "2019-09-22          1124.0         0.0  Sep-19  \n",
       "2019-09-22          1125.0         0.0  Sep-19  \n",
       "2019-09-22            30.0         0.0  Sep-19  \n",
       "2019-09-22             7.0         0.0  Sep-19  "
      ]
     },
     "execution_count": 41,
     "metadata": {},
     "output_type": "execute_result"
    }
   ],
   "source": [
    "calendar['source'] = 'Sep-19'\n",
    "calendar.head()"
   ]
  },
  {
   "cell_type": "code",
   "execution_count": 48,
   "metadata": {},
   "outputs": [
    {
     "data": {
      "text/html": [
       "<div>\n",
       "<style scoped>\n",
       "    .dataframe tbody tr th:only-of-type {\n",
       "        vertical-align: middle;\n",
       "    }\n",
       "\n",
       "    .dataframe tbody tr th {\n",
       "        vertical-align: top;\n",
       "    }\n",
       "\n",
       "    .dataframe thead th {\n",
       "        text-align: right;\n",
       "    }\n",
       "</style>\n",
       "<table border=\"1\" class=\"dataframe\">\n",
       "  <thead>\n",
       "    <tr style=\"text-align: right;\">\n",
       "      <th></th>\n",
       "      <th>price</th>\n",
       "    </tr>\n",
       "    <tr>\n",
       "      <th>listing_id</th>\n",
       "      <th></th>\n",
       "    </tr>\n",
       "  </thead>\n",
       "  <tbody>\n",
       "    <tr>\n",
       "      <td>16531993</td>\n",
       "      <td>10.000000</td>\n",
       "    </tr>\n",
       "    <tr>\n",
       "      <td>27542740</td>\n",
       "      <td>16.145205</td>\n",
       "    </tr>\n",
       "    <tr>\n",
       "      <td>34779036</td>\n",
       "      <td>16.331507</td>\n",
       "    </tr>\n",
       "    <tr>\n",
       "      <td>34779592</td>\n",
       "      <td>16.854795</td>\n",
       "    </tr>\n",
       "    <tr>\n",
       "      <td>28384313</td>\n",
       "      <td>16.904110</td>\n",
       "    </tr>\n",
       "    <tr>\n",
       "      <td>...</td>\n",
       "      <td>...</td>\n",
       "    </tr>\n",
       "    <tr>\n",
       "      <td>16661573</td>\n",
       "      <td>5000.000000</td>\n",
       "    </tr>\n",
       "    <tr>\n",
       "      <td>16769736</td>\n",
       "      <td>5000.000000</td>\n",
       "    </tr>\n",
       "    <tr>\n",
       "      <td>16634189</td>\n",
       "      <td>5220.830137</td>\n",
       "    </tr>\n",
       "    <tr>\n",
       "      <td>14507861</td>\n",
       "      <td>5995.000000</td>\n",
       "    </tr>\n",
       "    <tr>\n",
       "      <td>15054700</td>\n",
       "      <td>10000.000000</td>\n",
       "    </tr>\n",
       "  </tbody>\n",
       "</table>\n",
       "<p>9189 rows × 1 columns</p>\n",
       "</div>"
      ],
      "text/plain": [
       "                   price\n",
       "listing_id              \n",
       "16531993       10.000000\n",
       "27542740       16.145205\n",
       "34779036       16.331507\n",
       "34779592       16.854795\n",
       "28384313       16.904110\n",
       "...                  ...\n",
       "16661573     5000.000000\n",
       "16769736     5000.000000\n",
       "16634189     5220.830137\n",
       "14507861     5995.000000\n",
       "15054700    10000.000000\n",
       "\n",
       "[9189 rows x 1 columns]"
      ]
     },
     "execution_count": 48,
     "metadata": {},
     "output_type": "execute_result"
    }
   ],
   "source": [
    "# trying to sort listing_id and price, but currently getting an error\n",
    "# this shows average price per listing\n",
    "calendar[['price']].groupby(by=calendar['listing_id']).mean().sort_values('price')"
   ]
  },
  {
   "cell_type": "code",
   "execution_count": null,
   "metadata": {},
   "outputs": [],
   "source": []
  }
 ],
 "metadata": {
  "kernelspec": {
   "display_name": "Python 3",
   "language": "python",
   "name": "python3"
  },
  "language_info": {
   "codemirror_mode": {
    "name": "ipython",
    "version": 3
   },
   "file_extension": ".py",
   "mimetype": "text/x-python",
   "name": "python",
   "nbconvert_exporter": "python",
   "pygments_lexer": "ipython3",
   "version": "3.7.3"
  }
 },
 "nbformat": 4,
 "nbformat_minor": 2
}
