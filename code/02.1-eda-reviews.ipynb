{
 "cells": [
  {
   "cell_type": "markdown",
   "metadata": {},
   "source": [
    "# EDA: Reviews"
   ]
  },
  {
   "cell_type": "markdown",
   "metadata": {},
   "source": [
    "This notebooked is intended to conduct exploratory data analysis on the reviews.csv file"
   ]
  },
  {
   "cell_type": "markdown",
   "metadata": {},
   "source": [
    "---"
   ]
  },
  {
   "cell_type": "markdown",
   "metadata": {},
   "source": [
    "## Import Libraries & Read in Data"
   ]
  },
  {
   "cell_type": "code",
   "execution_count": 56,
   "metadata": {},
   "outputs": [
    {
     "name": "stderr",
     "output_type": "stream",
     "text": [
      "[nltk_data] Downloading package wordnet to\n",
      "[nltk_data]     /Users/jessieowens2/nltk_data...\n",
      "[nltk_data]   Package wordnet is already up-to-date!\n",
      "[nltk_data] Downloading package stopwords to\n",
      "[nltk_data]     /Users/jessieowens2/nltk_data...\n",
      "[nltk_data]   Package stopwords is already up-to-date!\n",
      "[nltk_data] Downloading package words to\n",
      "[nltk_data]     /Users/jessieowens2/nltk_data...\n",
      "[nltk_data]   Package words is already up-to-date!\n",
      "[nltk_data] Downloading package names to\n",
      "[nltk_data]     /Users/jessieowens2/nltk_data...\n",
      "[nltk_data]   Package names is already up-to-date!\n",
      "[nltk_data] Downloading package opinion_lexicon to\n",
      "[nltk_data]     /Users/jessieowens2/nltk_data...\n",
      "[nltk_data]   Package opinion_lexicon is already up-to-date!\n"
     ]
    }
   ],
   "source": [
    "# Import libraries\n",
    "import pandas as pd\n",
    "import matplotlib.pyplot as plt\n",
    "\n",
    "import regex as re\n",
    "\n",
    "import nltk\n",
    "from nltk.stem import WordNetLemmatizer\n",
    "lemmatizer = WordNetLemmatizer()\n",
    "from nltk.tokenize import RegexpTokenizer\n",
    "tokenizer = RegexpTokenizer(r'\\w+')\n",
    "from nltk.stem.porter import PorterStemmer\n",
    "from nltk.corpus import stopwords, names, words\n",
    "from nltk.corpus import opinion_lexicon\n",
    "nltk.download('wordnet')\n",
    "nltk.download('stopwords')\n",
    "nltk.download('words')\n",
    "nltk.download('names')\n",
    "nltk.download('opinion_lexicon')\n",
    "\n",
    "\n",
    "from sklearn.feature_extraction.text import CountVectorizer, TfidfVectorizer\n",
    "\n",
    "%matplotlib inline"
   ]
  },
  {
   "cell_type": "code",
   "execution_count": 2,
   "metadata": {},
   "outputs": [],
   "source": [
    "# Read in Reviews dataset\n",
    "reviews = pd.read_csv('/Users/jessieowens2/Desktop/general_assembly/airbnb_data/reviews.csv')"
   ]
  },
  {
   "cell_type": "markdown",
   "metadata": {},
   "source": [
    "---"
   ]
  },
  {
   "cell_type": "markdown",
   "metadata": {},
   "source": [
    "## Summary Stats"
   ]
  },
  {
   "cell_type": "code",
   "execution_count": 3,
   "metadata": {},
   "outputs": [
    {
     "data": {
      "text/plain": [
       "(358268, 6)"
      ]
     },
     "execution_count": 3,
     "metadata": {},
     "output_type": "execute_result"
    }
   ],
   "source": [
    "# Check shape for total number of reviews\n",
    "reviews.shape"
   ]
  },
  {
   "cell_type": "code",
   "execution_count": 4,
   "metadata": {
    "scrolled": true
   },
   "outputs": [
    {
     "data": {
      "text/html": [
       "<div>\n",
       "<style scoped>\n",
       "    .dataframe tbody tr th:only-of-type {\n",
       "        vertical-align: middle;\n",
       "    }\n",
       "\n",
       "    .dataframe tbody tr th {\n",
       "        vertical-align: top;\n",
       "    }\n",
       "\n",
       "    .dataframe thead th {\n",
       "        text-align: right;\n",
       "    }\n",
       "</style>\n",
       "<table border=\"1\" class=\"dataframe\">\n",
       "  <thead>\n",
       "    <tr style=\"text-align: right;\">\n",
       "      <th></th>\n",
       "      <th>listing_id</th>\n",
       "      <th>id</th>\n",
       "      <th>date</th>\n",
       "      <th>reviewer_id</th>\n",
       "      <th>reviewer_name</th>\n",
       "      <th>comments</th>\n",
       "    </tr>\n",
       "  </thead>\n",
       "  <tbody>\n",
       "    <tr>\n",
       "      <td>0</td>\n",
       "      <td>3344</td>\n",
       "      <td>2185</td>\n",
       "      <td>2009-05-09</td>\n",
       "      <td>12016</td>\n",
       "      <td>Tony</td>\n",
       "      <td>The stay at Amos' condo greatly exceeded my ex...</td>\n",
       "    </tr>\n",
       "    <tr>\n",
       "      <td>1</td>\n",
       "      <td>3344</td>\n",
       "      <td>18774</td>\n",
       "      <td>2009-11-29</td>\n",
       "      <td>40724</td>\n",
       "      <td>Faris</td>\n",
       "      <td>What can I say?  AJ picked me up from Dulles, ...</td>\n",
       "    </tr>\n",
       "    <tr>\n",
       "      <td>2</td>\n",
       "      <td>3344</td>\n",
       "      <td>20550</td>\n",
       "      <td>2009-12-16</td>\n",
       "      <td>58506</td>\n",
       "      <td>Sean</td>\n",
       "      <td>Amos is a phenomenal host. Where to start? Fir...</td>\n",
       "    </tr>\n",
       "    <tr>\n",
       "      <td>3</td>\n",
       "      <td>3344</td>\n",
       "      <td>293978</td>\n",
       "      <td>2011-06-01</td>\n",
       "      <td>583926</td>\n",
       "      <td>Yewwee</td>\n",
       "      <td>Aj is a great and friendly host! Excellent loc...</td>\n",
       "    </tr>\n",
       "    <tr>\n",
       "      <td>4</td>\n",
       "      <td>3344</td>\n",
       "      <td>296775</td>\n",
       "      <td>2011-06-04</td>\n",
       "      <td>503189</td>\n",
       "      <td>Jonathan</td>\n",
       "      <td>As a first-time airbnb.com user, I am glad Amo...</td>\n",
       "    </tr>\n",
       "  </tbody>\n",
       "</table>\n",
       "</div>"
      ],
      "text/plain": [
       "   listing_id      id        date  reviewer_id reviewer_name  \\\n",
       "0        3344    2185  2009-05-09        12016          Tony   \n",
       "1        3344   18774  2009-11-29        40724         Faris   \n",
       "2        3344   20550  2009-12-16        58506          Sean   \n",
       "3        3344  293978  2011-06-01       583926        Yewwee   \n",
       "4        3344  296775  2011-06-04       503189      Jonathan   \n",
       "\n",
       "                                            comments  \n",
       "0  The stay at Amos' condo greatly exceeded my ex...  \n",
       "1  What can I say?  AJ picked me up from Dulles, ...  \n",
       "2  Amos is a phenomenal host. Where to start? Fir...  \n",
       "3  Aj is a great and friendly host! Excellent loc...  \n",
       "4  As a first-time airbnb.com user, I am glad Amo...  "
      ]
     },
     "execution_count": 4,
     "metadata": {},
     "output_type": "execute_result"
    }
   ],
   "source": [
    "# Look at reviews data\n",
    "reviews.head()"
   ]
  },
  {
   "cell_type": "code",
   "execution_count": 5,
   "metadata": {},
   "outputs": [],
   "source": [
    "# reviewer name appears to only be a username or first name, so leaving in for now. "
   ]
  },
  {
   "cell_type": "code",
   "execution_count": 6,
   "metadata": {},
   "outputs": [
    {
     "name": "stdout",
     "output_type": "stream",
     "text": [
      "<class 'pandas.core.frame.DataFrame'>\n",
      "RangeIndex: 358268 entries, 0 to 358267\n",
      "Data columns (total 6 columns):\n",
      "listing_id       358268 non-null int64\n",
      "id               358268 non-null int64\n",
      "date             358268 non-null object\n",
      "reviewer_id      358268 non-null int64\n",
      "reviewer_name    358268 non-null object\n",
      "comments         358090 non-null object\n",
      "dtypes: int64(3), object(3)\n",
      "memory usage: 16.4+ MB\n"
     ]
    }
   ],
   "source": [
    "# Look at info stats\n",
    "reviews.info()"
   ]
  },
  {
   "cell_type": "code",
   "execution_count": 7,
   "metadata": {},
   "outputs": [],
   "source": [
    "# converting date to datetime\n",
    "reviews['date'] = pd.to_datetime(reviews['date'])"
   ]
  },
  {
   "cell_type": "code",
   "execution_count": 8,
   "metadata": {},
   "outputs": [
    {
     "data": {
      "text/plain": [
       "listing_id                int64\n",
       "id                        int64\n",
       "date             datetime64[ns]\n",
       "reviewer_id               int64\n",
       "reviewer_name            object\n",
       "comments                 object\n",
       "dtype: object"
      ]
     },
     "execution_count": 8,
     "metadata": {},
     "output_type": "execute_result"
    }
   ],
   "source": [
    "reviews.dtypes"
   ]
  },
  {
   "cell_type": "markdown",
   "metadata": {},
   "source": [
    "---"
   ]
  },
  {
   "cell_type": "markdown",
   "metadata": {},
   "source": [
    "## Missing Data"
   ]
  },
  {
   "cell_type": "code",
   "execution_count": 9,
   "metadata": {
    "scrolled": true
   },
   "outputs": [
    {
     "data": {
      "text/plain": [
       "listing_id         0\n",
       "id                 0\n",
       "date               0\n",
       "reviewer_id        0\n",
       "reviewer_name      0\n",
       "comments         178\n",
       "dtype: int64"
      ]
     },
     "execution_count": 9,
     "metadata": {},
     "output_type": "execute_result"
    }
   ],
   "source": [
    "# Check for null values\n",
    "reviews.isnull().sum()"
   ]
  },
  {
   "cell_type": "code",
   "execution_count": 10,
   "metadata": {},
   "outputs": [
    {
     "data": {
      "text/html": [
       "<div>\n",
       "<style scoped>\n",
       "    .dataframe tbody tr th:only-of-type {\n",
       "        vertical-align: middle;\n",
       "    }\n",
       "\n",
       "    .dataframe tbody tr th {\n",
       "        vertical-align: top;\n",
       "    }\n",
       "\n",
       "    .dataframe thead th {\n",
       "        text-align: right;\n",
       "    }\n",
       "</style>\n",
       "<table border=\"1\" class=\"dataframe\">\n",
       "  <thead>\n",
       "    <tr style=\"text-align: right;\">\n",
       "      <th></th>\n",
       "      <th>listing_id</th>\n",
       "      <th>id</th>\n",
       "      <th>date</th>\n",
       "      <th>reviewer_id</th>\n",
       "      <th>reviewer_name</th>\n",
       "      <th>comments</th>\n",
       "    </tr>\n",
       "  </thead>\n",
       "  <tbody>\n",
       "    <tr>\n",
       "      <td>12985</td>\n",
       "      <td>586981</td>\n",
       "      <td>239615096</td>\n",
       "      <td>2018-03-02</td>\n",
       "      <td>117486914</td>\n",
       "      <td>Roman</td>\n",
       "      <td>NaN</td>\n",
       "    </tr>\n",
       "    <tr>\n",
       "      <td>14847</td>\n",
       "      <td>713529</td>\n",
       "      <td>125989966</td>\n",
       "      <td>2017-01-08</td>\n",
       "      <td>109392285</td>\n",
       "      <td>Dylan</td>\n",
       "      <td>NaN</td>\n",
       "    </tr>\n",
       "    <tr>\n",
       "      <td>18674</td>\n",
       "      <td>860336</td>\n",
       "      <td>440256846</td>\n",
       "      <td>2019-04-20</td>\n",
       "      <td>182551906</td>\n",
       "      <td>אלי</td>\n",
       "      <td>NaN</td>\n",
       "    </tr>\n",
       "    <tr>\n",
       "      <td>19303</td>\n",
       "      <td>892183</td>\n",
       "      <td>167072868</td>\n",
       "      <td>2017-07-05</td>\n",
       "      <td>9737637</td>\n",
       "      <td>Jessie</td>\n",
       "      <td>NaN</td>\n",
       "    </tr>\n",
       "    <tr>\n",
       "      <td>20964</td>\n",
       "      <td>1026034</td>\n",
       "      <td>248037000</td>\n",
       "      <td>2018-03-30</td>\n",
       "      <td>180885491</td>\n",
       "      <td>Whitney</td>\n",
       "      <td>NaN</td>\n",
       "    </tr>\n",
       "    <tr>\n",
       "      <td>...</td>\n",
       "      <td>...</td>\n",
       "      <td>...</td>\n",
       "      <td>...</td>\n",
       "      <td>...</td>\n",
       "      <td>...</td>\n",
       "      <td>...</td>\n",
       "    </tr>\n",
       "    <tr>\n",
       "      <td>353070</td>\n",
       "      <td>33577623</td>\n",
       "      <td>472836062</td>\n",
       "      <td>2019-06-20</td>\n",
       "      <td>245367094</td>\n",
       "      <td>Matt</td>\n",
       "      <td>NaN</td>\n",
       "    </tr>\n",
       "    <tr>\n",
       "      <td>354640</td>\n",
       "      <td>34332428</td>\n",
       "      <td>461473439</td>\n",
       "      <td>2019-05-31</td>\n",
       "      <td>125351296</td>\n",
       "      <td>默涵</td>\n",
       "      <td>NaN</td>\n",
       "    </tr>\n",
       "    <tr>\n",
       "      <td>354678</td>\n",
       "      <td>34358109</td>\n",
       "      <td>469371259</td>\n",
       "      <td>2019-06-14</td>\n",
       "      <td>58737699</td>\n",
       "      <td>Kimberly</td>\n",
       "      <td>NaN</td>\n",
       "    </tr>\n",
       "    <tr>\n",
       "      <td>354820</td>\n",
       "      <td>34422566</td>\n",
       "      <td>523421758</td>\n",
       "      <td>2019-09-03</td>\n",
       "      <td>278450123</td>\n",
       "      <td>Zaid</td>\n",
       "      <td>NaN</td>\n",
       "    </tr>\n",
       "    <tr>\n",
       "      <td>355515</td>\n",
       "      <td>34907238</td>\n",
       "      <td>522781850</td>\n",
       "      <td>2019-09-02</td>\n",
       "      <td>139761345</td>\n",
       "      <td>James</td>\n",
       "      <td>NaN</td>\n",
       "    </tr>\n",
       "  </tbody>\n",
       "</table>\n",
       "<p>178 rows × 6 columns</p>\n",
       "</div>"
      ],
      "text/plain": [
       "        listing_id         id       date  reviewer_id reviewer_name comments\n",
       "12985       586981  239615096 2018-03-02    117486914         Roman      NaN\n",
       "14847       713529  125989966 2017-01-08    109392285         Dylan      NaN\n",
       "18674       860336  440256846 2019-04-20    182551906           אלי      NaN\n",
       "19303       892183  167072868 2017-07-05      9737637        Jessie      NaN\n",
       "20964      1026034  248037000 2018-03-30    180885491       Whitney      NaN\n",
       "...            ...        ...        ...          ...           ...      ...\n",
       "353070    33577623  472836062 2019-06-20    245367094          Matt      NaN\n",
       "354640    34332428  461473439 2019-05-31    125351296            默涵      NaN\n",
       "354678    34358109  469371259 2019-06-14     58737699      Kimberly      NaN\n",
       "354820    34422566  523421758 2019-09-03    278450123          Zaid      NaN\n",
       "355515    34907238  522781850 2019-09-02    139761345         James      NaN\n",
       "\n",
       "[178 rows x 6 columns]"
      ]
     },
     "execution_count": 10,
     "metadata": {},
     "output_type": "execute_result"
    }
   ],
   "source": [
    "# look at reviews that are null\n",
    "reviews[reviews['comments'].isnull()]\n",
    "# appears these are for reviews left that have no content in them (or maybe were images or videos that could not be \n",
    "# read in properly)"
   ]
  },
  {
   "cell_type": "code",
   "execution_count": 11,
   "metadata": {},
   "outputs": [],
   "source": [
    "# might be value in the missing reviews (when comparing to listing_id) so will fill with 'missing'\n",
    "reviews['comments'].fillna('missing', inplace=True)"
   ]
  },
  {
   "cell_type": "markdown",
   "metadata": {},
   "source": [
    "---"
   ]
  },
  {
   "cell_type": "markdown",
   "metadata": {},
   "source": [
    "## Reviews Count"
   ]
  },
  {
   "cell_type": "code",
   "execution_count": 12,
   "metadata": {
    "scrolled": true
   },
   "outputs": [
    {
     "data": {
      "text/plain": [
       "listing_id\n",
       "3771                 588\n",
       "893529           5144488\n",
       "632735          10141779\n",
       "2503630         11270259\n",
       "2481335         11334360\n",
       "                ...     \n",
       "453315      106596084153\n",
       "11640393    110373320269\n",
       "2833952     111133945751\n",
       "15435963    126823184215\n",
       "15373088    126985948330\n",
       "Name: id, Length: 7421, dtype: int64"
      ]
     },
     "execution_count": 12,
     "metadata": {},
     "output_type": "execute_result"
    }
   ],
   "source": [
    "# all reviews in this dataset have a listing id tied to them\n",
    "reviews['id'].groupby(by=reviews['listing_id']).sum().sort_values()"
   ]
  },
  {
   "cell_type": "code",
   "execution_count": 13,
   "metadata": {},
   "outputs": [
    {
     "data": {
      "text/plain": [
       "7421"
      ]
     },
     "execution_count": 13,
     "metadata": {},
     "output_type": "execute_result"
    }
   ],
   "source": [
    "# there are 7421 unique listing ids in the reviews dataset\n",
    "reviews['listing_id'].nunique()"
   ]
  },
  {
   "cell_type": "code",
   "execution_count": 14,
   "metadata": {},
   "outputs": [],
   "source": [
    "# read in listings dataset for comparison\n",
    "listings = pd.read_csv('/Users/jessieowens2/Desktop/general_assembly/airbnb_data/listings.csv')"
   ]
  },
  {
   "cell_type": "code",
   "execution_count": 15,
   "metadata": {},
   "outputs": [
    {
     "data": {
      "text/plain": [
       "9189"
      ]
     },
     "execution_count": 15,
     "metadata": {},
     "output_type": "execute_result"
    }
   ],
   "source": [
    "listings['id'].nunique()\n",
    "# Some listings do not have reviews"
   ]
  },
  {
   "cell_type": "code",
   "execution_count": 16,
   "metadata": {},
   "outputs": [],
   "source": [
    "# All reviews in the reviews dataset have reviews listed, however some of the listings in the listings dataset are not\n",
    "# in the reviews dataset. "
   ]
  },
  {
   "cell_type": "code",
   "execution_count": 17,
   "metadata": {},
   "outputs": [
    {
     "data": {
      "text/plain": [
       "1768"
      ]
     },
     "execution_count": 17,
     "metadata": {},
     "output_type": "execute_result"
    }
   ],
   "source": [
    "9189 - 7421\n",
    "# 1768 listings without reviews"
   ]
  },
  {
   "cell_type": "markdown",
   "metadata": {},
   "source": [
    "---"
   ]
  },
  {
   "cell_type": "markdown",
   "metadata": {},
   "source": [
    "## Reviews by Date"
   ]
  },
  {
   "cell_type": "code",
   "execution_count": 18,
   "metadata": {},
   "outputs": [
    {
     "data": {
      "text/html": [
       "<div>\n",
       "<style scoped>\n",
       "    .dataframe tbody tr th:only-of-type {\n",
       "        vertical-align: middle;\n",
       "    }\n",
       "\n",
       "    .dataframe tbody tr th {\n",
       "        vertical-align: top;\n",
       "    }\n",
       "\n",
       "    .dataframe thead th {\n",
       "        text-align: right;\n",
       "    }\n",
       "</style>\n",
       "<table border=\"1\" class=\"dataframe\">\n",
       "  <thead>\n",
       "    <tr style=\"text-align: right;\">\n",
       "      <th></th>\n",
       "      <th>listing_id</th>\n",
       "      <th>id</th>\n",
       "      <th>date</th>\n",
       "      <th>reviewer_id</th>\n",
       "      <th>reviewer_name</th>\n",
       "      <th>comments</th>\n",
       "    </tr>\n",
       "  </thead>\n",
       "  <tbody>\n",
       "    <tr>\n",
       "      <td>6664</td>\n",
       "      <td>223922</td>\n",
       "      <td>534301264</td>\n",
       "      <td>2019-09-22</td>\n",
       "      <td>286508382</td>\n",
       "      <td>Kierrha</td>\n",
       "      <td>Natasha was very kind and welcoming. The locat...</td>\n",
       "    </tr>\n",
       "    <tr>\n",
       "      <td>6716</td>\n",
       "      <td>262629</td>\n",
       "      <td>534389351</td>\n",
       "      <td>2019-09-22</td>\n",
       "      <td>27311645</td>\n",
       "      <td>Tsitsi</td>\n",
       "      <td>Hellen was an exceptional host. She was nice a...</td>\n",
       "    </tr>\n",
       "    <tr>\n",
       "      <td>24339</td>\n",
       "      <td>1245292</td>\n",
       "      <td>534398015</td>\n",
       "      <td>2019-09-22</td>\n",
       "      <td>155838693</td>\n",
       "      <td>Kristi</td>\n",
       "      <td>I enjoyed my stay so much! This family goes th...</td>\n",
       "    </tr>\n",
       "    <tr>\n",
       "      <td>53275</td>\n",
       "      <td>3729418</td>\n",
       "      <td>534326069</td>\n",
       "      <td>2019-09-22</td>\n",
       "      <td>41107304</td>\n",
       "      <td>Joshua</td>\n",
       "      <td>Had a fantastic, stress-free stay in Sally’s b...</td>\n",
       "    </tr>\n",
       "    <tr>\n",
       "      <td>75242</td>\n",
       "      <td>5495901</td>\n",
       "      <td>534414090</td>\n",
       "      <td>2019-09-22</td>\n",
       "      <td>6030437</td>\n",
       "      <td>Heidi</td>\n",
       "      <td>What a treat! Convenient location on Capitol H...</td>\n",
       "    </tr>\n",
       "    <tr>\n",
       "      <td>...</td>\n",
       "      <td>...</td>\n",
       "      <td>...</td>\n",
       "      <td>...</td>\n",
       "      <td>...</td>\n",
       "      <td>...</td>\n",
       "      <td>...</td>\n",
       "    </tr>\n",
       "    <tr>\n",
       "      <td>358028</td>\n",
       "      <td>37676860</td>\n",
       "      <td>534611186</td>\n",
       "      <td>2019-09-22</td>\n",
       "      <td>13781772</td>\n",
       "      <td>(Email hidden by Airbnb)</td>\n",
       "      <td>The host canceled this reservation 18 days bef...</td>\n",
       "    </tr>\n",
       "    <tr>\n",
       "      <td>358114</td>\n",
       "      <td>37841043</td>\n",
       "      <td>534322275</td>\n",
       "      <td>2019-09-22</td>\n",
       "      <td>21978461</td>\n",
       "      <td>Liz</td>\n",
       "      <td>This is a great space and was perfect for my d...</td>\n",
       "    </tr>\n",
       "    <tr>\n",
       "      <td>358117</td>\n",
       "      <td>37841107</td>\n",
       "      <td>534362566</td>\n",
       "      <td>2019-09-22</td>\n",
       "      <td>130834330</td>\n",
       "      <td>Joe</td>\n",
       "      <td>A lovely experience. Glenn’s apartment is very...</td>\n",
       "    </tr>\n",
       "    <tr>\n",
       "      <td>358248</td>\n",
       "      <td>38409709</td>\n",
       "      <td>534367786</td>\n",
       "      <td>2019-09-22</td>\n",
       "      <td>206960670</td>\n",
       "      <td>Romond</td>\n",
       "      <td>Had to cut my visit short but the place was cl...</td>\n",
       "    </tr>\n",
       "    <tr>\n",
       "      <td>358266</td>\n",
       "      <td>38721867</td>\n",
       "      <td>534214466</td>\n",
       "      <td>2019-09-22</td>\n",
       "      <td>68112602</td>\n",
       "      <td>LaFayette</td>\n",
       "      <td>Thanks for the hospitality! Never had someone ...</td>\n",
       "    </tr>\n",
       "  </tbody>\n",
       "</table>\n",
       "<p>77 rows × 6 columns</p>\n",
       "</div>"
      ],
      "text/plain": [
       "        listing_id         id       date  reviewer_id  \\\n",
       "6664        223922  534301264 2019-09-22    286508382   \n",
       "6716        262629  534389351 2019-09-22     27311645   \n",
       "24339      1245292  534398015 2019-09-22    155838693   \n",
       "53275      3729418  534326069 2019-09-22     41107304   \n",
       "75242      5495901  534414090 2019-09-22      6030437   \n",
       "...            ...        ...        ...          ...   \n",
       "358028    37676860  534611186 2019-09-22     13781772   \n",
       "358114    37841043  534322275 2019-09-22     21978461   \n",
       "358117    37841107  534362566 2019-09-22    130834330   \n",
       "358248    38409709  534367786 2019-09-22    206960670   \n",
       "358266    38721867  534214466 2019-09-22     68112602   \n",
       "\n",
       "                   reviewer_name  \\\n",
       "6664                     Kierrha   \n",
       "6716                      Tsitsi   \n",
       "24339                     Kristi   \n",
       "53275                     Joshua   \n",
       "75242                      Heidi   \n",
       "...                          ...   \n",
       "358028  (Email hidden by Airbnb)   \n",
       "358114                       Liz   \n",
       "358117                       Joe   \n",
       "358248                    Romond   \n",
       "358266                 LaFayette   \n",
       "\n",
       "                                                 comments  \n",
       "6664    Natasha was very kind and welcoming. The locat...  \n",
       "6716    Hellen was an exceptional host. She was nice a...  \n",
       "24339   I enjoyed my stay so much! This family goes th...  \n",
       "53275   Had a fantastic, stress-free stay in Sally’s b...  \n",
       "75242   What a treat! Convenient location on Capitol H...  \n",
       "...                                                   ...  \n",
       "358028  The host canceled this reservation 18 days bef...  \n",
       "358114  This is a great space and was perfect for my d...  \n",
       "358117  A lovely experience. Glenn’s apartment is very...  \n",
       "358248  Had to cut my visit short but the place was cl...  \n",
       "358266  Thanks for the hospitality! Never had someone ...  \n",
       "\n",
       "[77 rows x 6 columns]"
      ]
     },
     "execution_count": 18,
     "metadata": {},
     "output_type": "execute_result"
    }
   ],
   "source": [
    "# Looking at how many reviews are listed for a single date\n",
    "reviews[reviews['date'] == '2019-09-22']"
   ]
  },
  {
   "cell_type": "code",
   "execution_count": 19,
   "metadata": {
    "scrolled": false
   },
   "outputs": [
    {
     "data": {
      "text/plain": [
       "date\n",
       "2011-07-16       1\n",
       "2011-05-18       1\n",
       "2011-05-15       1\n",
       "2011-05-13       1\n",
       "2011-05-03       1\n",
       "              ... \n",
       "2019-04-21     844\n",
       "2019-04-14     878\n",
       "2019-03-31     878\n",
       "2019-04-28     890\n",
       "2019-04-07    1044\n",
       "Name: comments, Length: 3314, dtype: int64"
      ]
     },
     "execution_count": 19,
     "metadata": {},
     "output_type": "execute_result"
    }
   ],
   "source": [
    "# looking at count of reviews for each date\n",
    "rev_by_date = reviews.groupby('date')['comments'].count()\n",
    "\n",
    "rev_by_date.sort_values()"
   ]
  },
  {
   "cell_type": "code",
   "execution_count": 20,
   "metadata": {
    "scrolled": false
   },
   "outputs": [
    {
     "name": "stderr",
     "output_type": "stream",
     "text": [
      "//anaconda3/lib/python3.7/site-packages/pandas/plotting/_matplotlib/converter.py:103: FutureWarning: Using an implicitly registered datetime converter for a matplotlib plotting method. The converter was registered by pandas on import. Future versions of pandas will require you to explicitly register matplotlib converters.\n",
      "\n",
      "To register the converters:\n",
      "\t>>> from pandas.plotting import register_matplotlib_converters\n",
      "\t>>> register_matplotlib_converters()\n",
      "  warnings.warn(msg, FutureWarning)\n"
     ]
    },
    {
     "data": {
      "image/png": "[encoded data removed]",
      "text/plain": [
       "<Figure size 1152x720 with 1 Axes>"
      ]
     },
     "metadata": {
      "needs_background": "light"
     },
     "output_type": "display_data"
    }
   ],
   "source": [
    "# plotting volume of reviews for each date over time\n",
    "plt.figure(figsize=(16, 10))\n",
    "plt.plot(rev_by_date, color='#FF6666')\n",
    "plt.xlabel('Year', fontdict={'fontsize': 14})\n",
    "plt.ylabel('Number of Reviews', fontdict={'fontsize': 14})\n",
    "plt.title('Number of Reviews Left Has Increased Over Time', fontdict={'fontsize': 24});"
   ]
  },
  {
   "cell_type": "code",
   "execution_count": 21,
   "metadata": {},
   "outputs": [],
   "source": [
    "rev_by_date = pd.DataFrame(rev_by_date)"
   ]
  },
  {
   "cell_type": "code",
   "execution_count": 22,
   "metadata": {},
   "outputs": [
    {
     "data": {
      "text/plain": [
       "date\n",
       "2011-07-16       1\n",
       "2011-05-18       1\n",
       "2011-05-15       1\n",
       "2011-05-13       1\n",
       "2011-05-03       1\n",
       "              ... \n",
       "2019-04-21     844\n",
       "2019-04-14     878\n",
       "2019-03-31     878\n",
       "2019-04-28     890\n",
       "2019-04-07    1044\n",
       "Name: comments, Length: 3314, dtype: int64"
      ]
     },
     "execution_count": 22,
     "metadata": {},
     "output_type": "execute_result"
    }
   ],
   "source": [
    "rev_by_date['comments'].sort_values()"
   ]
  },
  {
   "cell_type": "code",
   "execution_count": 23,
   "metadata": {
    "scrolled": true
   },
   "outputs": [
    {
     "data": {
      "text/plain": [
       "2019-04-07    1044\n",
       "2019-04-28     890\n",
       "2019-04-14     878\n",
       "2019-03-31     878\n",
       "2019-04-21     844\n",
       "              ... \n",
       "2010-10-25       1\n",
       "2011-01-25       1\n",
       "2010-04-14       1\n",
       "2012-03-04       1\n",
       "2009-12-04       1\n",
       "Name: date, Length: 3314, dtype: int64"
      ]
     },
     "execution_count": 23,
     "metadata": {},
     "output_type": "execute_result"
    }
   ],
   "source": [
    "# Look at number of reviews per date\n",
    "reviews['date'].value_counts()\n",
    "# The first five dates are within a 20 day span and each have a high volume of reviews. After looking at what was \n",
    "# happening in DC during that time, I saw the Cherry Blossom festival took place March 20-April 10 which might \n",
    "# explain increased volume. "
   ]
  },
  {
   "cell_type": "code",
   "execution_count": 24,
   "metadata": {},
   "outputs": [
    {
     "data": {
      "text/plain": [
       "9189"
      ]
     },
     "execution_count": 24,
     "metadata": {},
     "output_type": "execute_result"
    }
   ],
   "source": [
    "# Does increase in reviews equate to increase in listings?\n",
    "calendar_19 = pd.read_csv('/Users/jessieowens2/Desktop/general_assembly/airbnb_data/calendar_9_19.csv')\n",
    "\n",
    "calendar_19['listing_id'].nunique()"
   ]
  },
  {
   "cell_type": "code",
   "execution_count": 25,
   "metadata": {},
   "outputs": [
    {
     "data": {
      "text/plain": [
       "9182"
      ]
     },
     "execution_count": 25,
     "metadata": {},
     "output_type": "execute_result"
    }
   ],
   "source": [
    "calendar_18 = pd.read_csv('/Users/jessieowens2/Desktop/general_assembly/airbnb_data/calendar_9_18.csv')\n",
    "\n",
    "calendar_18['listing_id'].nunique()"
   ]
  },
  {
   "cell_type": "code",
   "execution_count": 26,
   "metadata": {},
   "outputs": [
    {
     "data": {
      "text/plain": [
       "7868"
      ]
     },
     "execution_count": 26,
     "metadata": {},
     "output_type": "execute_result"
    }
   ],
   "source": [
    "calendar_17 = pd.read_csv('/Users/jessieowens2/Desktop/general_assembly/airbnb_data/calendar_3_17.csv')\n",
    "\n",
    "calendar_17['listing_id'].nunique()"
   ]
  },
  {
   "cell_type": "code",
   "execution_count": 27,
   "metadata": {},
   "outputs": [
    {
     "data": {
      "text/plain": [
       "3723"
      ]
     },
     "execution_count": 27,
     "metadata": {},
     "output_type": "execute_result"
    }
   ],
   "source": [
    "calendar_15 = pd.read_csv('/Users/jessieowens2/Desktop/general_assembly/airbnb_data/calendar_10_15.csv')\n",
    "\n",
    "calendar_15['listing_id'].nunique()"
   ]
  },
  {
   "cell_type": "code",
   "execution_count": 28,
   "metadata": {},
   "outputs": [
    {
     "data": {
      "text/html": [
       "<div>\n",
       "<style scoped>\n",
       "    .dataframe tbody tr th:only-of-type {\n",
       "        vertical-align: middle;\n",
       "    }\n",
       "\n",
       "    .dataframe tbody tr th {\n",
       "        vertical-align: top;\n",
       "    }\n",
       "\n",
       "    .dataframe thead th {\n",
       "        text-align: right;\n",
       "    }\n",
       "</style>\n",
       "<table border=\"1\" class=\"dataframe\">\n",
       "  <thead>\n",
       "    <tr style=\"text-align: right;\">\n",
       "      <th></th>\n",
       "      <th>year</th>\n",
       "      <th>num_listings</th>\n",
       "    </tr>\n",
       "  </thead>\n",
       "  <tbody>\n",
       "    <tr>\n",
       "      <td>0</td>\n",
       "      <td>2015</td>\n",
       "      <td>3723</td>\n",
       "    </tr>\n",
       "    <tr>\n",
       "      <td>1</td>\n",
       "      <td>2017</td>\n",
       "      <td>7868</td>\n",
       "    </tr>\n",
       "    <tr>\n",
       "      <td>2</td>\n",
       "      <td>2018</td>\n",
       "      <td>9182</td>\n",
       "    </tr>\n",
       "    <tr>\n",
       "      <td>3</td>\n",
       "      <td>2019</td>\n",
       "      <td>9189</td>\n",
       "    </tr>\n",
       "  </tbody>\n",
       "</table>\n",
       "</div>"
      ],
      "text/plain": [
       "   year  num_listings\n",
       "0  2015          3723\n",
       "1  2017          7868\n",
       "2  2018          9182\n",
       "3  2019          9189"
      ]
     },
     "execution_count": 28,
     "metadata": {},
     "output_type": "execute_result"
    }
   ],
   "source": [
    "cal_data = {'year': [2015, 2017, 2018, 2019],\n",
    "           'num_listings': [3723, 7868, 9182, 9189]}\n",
    "cal_df = pd.DataFrame(cal_data, columns=['year', 'num_listings'])\n",
    "cal_df"
   ]
  },
  {
   "cell_type": "code",
   "execution_count": 29,
   "metadata": {},
   "outputs": [],
   "source": [
    "cal_df.set_index('year', inplace=True)"
   ]
  },
  {
   "cell_type": "code",
   "execution_count": 30,
   "metadata": {},
   "outputs": [
    {
     "data": {
      "image/png": "[encoded data removed]",
      "text/plain": [
       "<Figure size 864x720 with 1 Axes>"
      ]
     },
     "metadata": {
      "needs_background": "light"
     },
     "output_type": "display_data"
    }
   ],
   "source": [
    "plt.figure(figsize=(12, 10))\n",
    "plt.plot(cal_df, color='#FF6666')\n",
    "plt.xticks(ticks=[2015, 2016, 2017, 2018, 2019])\n",
    "plt.xlabel('Year', fontdict={'fontsize': 14})\n",
    "plt.ylabel('Number of Listings', fontdict={'fontsize': 14})\n",
    "plt.title('Number of Listings in D.C. Has Increased Over Time', fontdict={'fontsize': 24});"
   ]
  },
  {
   "cell_type": "code",
   "execution_count": 31,
   "metadata": {},
   "outputs": [],
   "source": [
    "# This graph shows that number of listings has increased over time, which is the same for reviews. "
   ]
  },
  {
   "cell_type": "markdown",
   "metadata": {},
   "source": [
    "---"
   ]
  },
  {
   "cell_type": "markdown",
   "metadata": {},
   "source": [
    "## Transform Review Text"
   ]
  },
  {
   "cell_type": "code",
   "execution_count": 32,
   "metadata": {},
   "outputs": [],
   "source": [
    "# define function to clean review text\n",
    "def clean_text(df, text):\n",
    "    df[text] = df[text].str.replace(\"won\\'t\", \"will not\")\n",
    "    df[text] = df[text].str.replace(\"can\\'t\", \"can not\")\n",
    "    df[text] = df[text].str.replace(\"n\\'t\", \" not\")\n",
    "    df[text] = df[text].str.replace(\"\\'re\", \" are\")\n",
    "    df[text] = df[text].str.replace(\"\\'s\", \" is\")\n",
    "    df[text] = df[text].str.replace(\"\\'d\", \" would\")\n",
    "    df[text] = df[text].str.replace(\"\\'ll\", \" will\")\n",
    "    df[text] = df[text].str.replace(\"\\'t\", \" not\")\n",
    "    df[text] = df[text].str.replace(\"\\'ve\", \" have\")\n",
    "    df[text] = df[text].str.replace(\"\\'m\", \" am\")\n",
    "    df[text] = df[text].str.replace('\\r', '')\n",
    "    df[text] = df[text].str.replace('\\n', '')\n",
    "    df[text] = df[text].str.replace(',', '')\n",
    "    df[text] = df[text].str.replace('!', ' ')\n",
    "    df[text] = df[text].str.replace('.', ' ')\n",
    "    df[text] = df[text].str.replace('\\'', '')\n",
    "    df[text] = df[text].str.replace(';', '')\n",
    "    df[text] = df[text].str.replace('-', '')\n",
    "    df[text] = df[text].str.replace('(', '')\n",
    "    df[text] = df[text].str.replace(')', '')\n",
    "    df[text] = df[text].str.replace('--', '')\n",
    "    df[text] = df[text].str.replace('---', '')\n",
    "    df[text] = df[text].str.replace('?', ' ')\n",
    "    df[text] = df[text].str.lower()\n",
    "    return df\n",
    "\n",
    "# Wrote this function by consulting this post on stackoverflow: \n",
    "# https://stackoverflow.com/questions/19790188/expanding-english-language-contractions-in-python"
   ]
  },
  {
   "cell_type": "code",
   "execution_count": 33,
   "metadata": {},
   "outputs": [
    {
     "data": {
      "text/plain": [
       "\"The stay at Amos' condo greatly exceeded my expectations. This is a great location that is a short walk from two metro stations and is surrounded by business offices, other condos, and restaurants. \\r\\n\\r\\nVery clean and neat accommodations. Bed was a small cot style bed with a foam mattress that was adequate. I had exclusive use of a bathroom with a shower including space to keep my shower supplies. \\r\\n\\r\\nAmos went above and beyond to make me feel welcome in his home. Not only did he pick me up from the airport, but he dropped me off when my stay was finished. I highly recommend that anyone planning a trip to DC stay with Amos. You won't regret it!\\r\\n\\r\\nAmos had stocked the kitchen with plenty to eat for breakfast and access to all appliances if I chose to cook. \""
      ]
     },
     "execution_count": 33,
     "metadata": {},
     "output_type": "execute_result"
    }
   ],
   "source": [
    "# check review\n",
    "reviews['comments'][0]"
   ]
  },
  {
   "cell_type": "code",
   "execution_count": 34,
   "metadata": {},
   "outputs": [
    {
     "data": {
      "text/html": [
       "<div>\n",
       "<style scoped>\n",
       "    .dataframe tbody tr th:only-of-type {\n",
       "        vertical-align: middle;\n",
       "    }\n",
       "\n",
       "    .dataframe tbody tr th {\n",
       "        vertical-align: top;\n",
       "    }\n",
       "\n",
       "    .dataframe thead th {\n",
       "        text-align: right;\n",
       "    }\n",
       "</style>\n",
       "<table border=\"1\" class=\"dataframe\">\n",
       "  <thead>\n",
       "    <tr style=\"text-align: right;\">\n",
       "      <th></th>\n",
       "      <th>listing_id</th>\n",
       "      <th>id</th>\n",
       "      <th>date</th>\n",
       "      <th>reviewer_id</th>\n",
       "      <th>reviewer_name</th>\n",
       "      <th>comments</th>\n",
       "    </tr>\n",
       "  </thead>\n",
       "  <tbody>\n",
       "    <tr>\n",
       "      <td>0</td>\n",
       "      <td>3344</td>\n",
       "      <td>2185</td>\n",
       "      <td>2009-05-09</td>\n",
       "      <td>12016</td>\n",
       "      <td>Tony</td>\n",
       "      <td>the stay at amos condo greatly exceeded my exp...</td>\n",
       "    </tr>\n",
       "    <tr>\n",
       "      <td>1</td>\n",
       "      <td>3344</td>\n",
       "      <td>18774</td>\n",
       "      <td>2009-11-29</td>\n",
       "      <td>40724</td>\n",
       "      <td>Faris</td>\n",
       "      <td>what can i say   aj picked me up from dulles w...</td>\n",
       "    </tr>\n",
       "    <tr>\n",
       "      <td>2</td>\n",
       "      <td>3344</td>\n",
       "      <td>20550</td>\n",
       "      <td>2009-12-16</td>\n",
       "      <td>58506</td>\n",
       "      <td>Sean</td>\n",
       "      <td>amos is a phenomenal host  where to start  fir...</td>\n",
       "    </tr>\n",
       "    <tr>\n",
       "      <td>3</td>\n",
       "      <td>3344</td>\n",
       "      <td>293978</td>\n",
       "      <td>2011-06-01</td>\n",
       "      <td>583926</td>\n",
       "      <td>Yewwee</td>\n",
       "      <td>aj is a great and friendly host  excellent loc...</td>\n",
       "    </tr>\n",
       "    <tr>\n",
       "      <td>4</td>\n",
       "      <td>3344</td>\n",
       "      <td>296775</td>\n",
       "      <td>2011-06-04</td>\n",
       "      <td>503189</td>\n",
       "      <td>Jonathan</td>\n",
       "      <td>as a firsttime airbnb com user i am glad amos ...</td>\n",
       "    </tr>\n",
       "    <tr>\n",
       "      <td>...</td>\n",
       "      <td>...</td>\n",
       "      <td>...</td>\n",
       "      <td>...</td>\n",
       "      <td>...</td>\n",
       "      <td>...</td>\n",
       "      <td>...</td>\n",
       "    </tr>\n",
       "    <tr>\n",
       "      <td>358263</td>\n",
       "      <td>38659601</td>\n",
       "      <td>532321246</td>\n",
       "      <td>2019-09-19</td>\n",
       "      <td>124782810</td>\n",
       "      <td>Barry</td>\n",
       "      <td>place is super clean and on a great block with...</td>\n",
       "    </tr>\n",
       "    <tr>\n",
       "      <td>358264</td>\n",
       "      <td>38697663</td>\n",
       "      <td>532355989</td>\n",
       "      <td>2019-09-19</td>\n",
       "      <td>30358487</td>\n",
       "      <td>David</td>\n",
       "      <td>the place was beautiful and stylish and in an ...</td>\n",
       "    </tr>\n",
       "    <tr>\n",
       "      <td>358265</td>\n",
       "      <td>38721867</td>\n",
       "      <td>532839440</td>\n",
       "      <td>2019-09-20</td>\n",
       "      <td>249411755</td>\n",
       "      <td>Johanna</td>\n",
       "      <td>best option for washington dc  if you want a l...</td>\n",
       "    </tr>\n",
       "    <tr>\n",
       "      <td>358266</td>\n",
       "      <td>38721867</td>\n",
       "      <td>534214466</td>\n",
       "      <td>2019-09-22</td>\n",
       "      <td>68112602</td>\n",
       "      <td>LaFayette</td>\n",
       "      <td>thanks for the hospitality  never had someone ...</td>\n",
       "    </tr>\n",
       "    <tr>\n",
       "      <td>358267</td>\n",
       "      <td>38727301</td>\n",
       "      <td>533435042</td>\n",
       "      <td>2019-09-21</td>\n",
       "      <td>98166225</td>\n",
       "      <td>Chris</td>\n",
       "      <td>i enjoyed my stay at felicia’s home  it was we...</td>\n",
       "    </tr>\n",
       "  </tbody>\n",
       "</table>\n",
       "<p>358268 rows × 6 columns</p>\n",
       "</div>"
      ],
      "text/plain": [
       "        listing_id         id       date  reviewer_id reviewer_name  \\\n",
       "0             3344       2185 2009-05-09        12016          Tony   \n",
       "1             3344      18774 2009-11-29        40724         Faris   \n",
       "2             3344      20550 2009-12-16        58506          Sean   \n",
       "3             3344     293978 2011-06-01       583926        Yewwee   \n",
       "4             3344     296775 2011-06-04       503189      Jonathan   \n",
       "...            ...        ...        ...          ...           ...   \n",
       "358263    38659601  532321246 2019-09-19    124782810         Barry   \n",
       "358264    38697663  532355989 2019-09-19     30358487         David   \n",
       "358265    38721867  532839440 2019-09-20    249411755       Johanna   \n",
       "358266    38721867  534214466 2019-09-22     68112602     LaFayette   \n",
       "358267    38727301  533435042 2019-09-21     98166225         Chris   \n",
       "\n",
       "                                                 comments  \n",
       "0       the stay at amos condo greatly exceeded my exp...  \n",
       "1       what can i say   aj picked me up from dulles w...  \n",
       "2       amos is a phenomenal host  where to start  fir...  \n",
       "3       aj is a great and friendly host  excellent loc...  \n",
       "4       as a firsttime airbnb com user i am glad amos ...  \n",
       "...                                                   ...  \n",
       "358263  place is super clean and on a great block with...  \n",
       "358264  the place was beautiful and stylish and in an ...  \n",
       "358265  best option for washington dc  if you want a l...  \n",
       "358266  thanks for the hospitality  never had someone ...  \n",
       "358267  i enjoyed my stay at felicia’s home  it was we...  \n",
       "\n",
       "[358268 rows x 6 columns]"
      ]
     },
     "execution_count": 34,
     "metadata": {},
     "output_type": "execute_result"
    }
   ],
   "source": [
    "# apply function\n",
    "clean_text(reviews, 'comments')"
   ]
  },
  {
   "cell_type": "code",
   "execution_count": 35,
   "metadata": {},
   "outputs": [
    {
     "data": {
      "text/plain": [
       "'the stay at amos condo greatly exceeded my expectations  this is a great location that is a short walk from two metro stations and is surrounded by business offices other condos and restaurants  very clean and neat accommodations  bed was a small cot style bed with a foam mattress that was adequate  i had exclusive use of a bathroom with a shower including space to keep my shower supplies  amos went above and beyond to make me feel welcome in his home  not only did he pick me up from the airport but he dropped me off when my stay was finished  i highly recommend that anyone planning a trip to dc stay with amos  you will not regret it amos had stocked the kitchen with plenty to eat for breakfast and access to all appliances if i chose to cook  '"
      ]
     },
     "execution_count": 35,
     "metadata": {},
     "output_type": "execute_result"
    }
   ],
   "source": [
    "# check same review again to make sure it has been cleaned\n",
    "reviews['comments'][0]"
   ]
  },
  {
   "cell_type": "code",
   "execution_count": 36,
   "metadata": {},
   "outputs": [],
   "source": [
    "# new DF for clean reviews\n",
    "clean_reviews = reviews"
   ]
  },
  {
   "cell_type": "code",
   "execution_count": 37,
   "metadata": {},
   "outputs": [],
   "source": [
    "# save to csv\n",
    "clean_reviews.to_csv('/Users/jessieowens2/Desktop/general_assembly/airbnb_data/clean_reviews.csv', index=False)"
   ]
  },
  {
   "cell_type": "markdown",
   "metadata": {},
   "source": [
    "---"
   ]
  },
  {
   "cell_type": "markdown",
   "metadata": {},
   "source": [
    "## Time since last review"
   ]
  },
  {
   "cell_type": "code",
   "execution_count": 40,
   "metadata": {},
   "outputs": [
    {
     "data": {
      "text/html": [
       "<div>\n",
       "<style scoped>\n",
       "    .dataframe tbody tr th:only-of-type {\n",
       "        vertical-align: middle;\n",
       "    }\n",
       "\n",
       "    .dataframe tbody tr th {\n",
       "        vertical-align: top;\n",
       "    }\n",
       "\n",
       "    .dataframe thead th {\n",
       "        text-align: right;\n",
       "    }\n",
       "</style>\n",
       "<table border=\"1\" class=\"dataframe\">\n",
       "  <thead>\n",
       "    <tr style=\"text-align: right;\">\n",
       "      <th></th>\n",
       "      <th>listing_id</th>\n",
       "      <th>id</th>\n",
       "      <th>date</th>\n",
       "      <th>reviewer_id</th>\n",
       "      <th>reviewer_name</th>\n",
       "      <th>comments</th>\n",
       "    </tr>\n",
       "  </thead>\n",
       "  <tbody>\n",
       "    <tr>\n",
       "      <td>0</td>\n",
       "      <td>3344</td>\n",
       "      <td>2185</td>\n",
       "      <td>2009-05-09</td>\n",
       "      <td>12016</td>\n",
       "      <td>Tony</td>\n",
       "      <td>the stay at amos condo greatly exceeded my exp...</td>\n",
       "    </tr>\n",
       "    <tr>\n",
       "      <td>1</td>\n",
       "      <td>3344</td>\n",
       "      <td>18774</td>\n",
       "      <td>2009-11-29</td>\n",
       "      <td>40724</td>\n",
       "      <td>Faris</td>\n",
       "      <td>what can i say   aj picked me up from dulles w...</td>\n",
       "    </tr>\n",
       "    <tr>\n",
       "      <td>2</td>\n",
       "      <td>3344</td>\n",
       "      <td>20550</td>\n",
       "      <td>2009-12-16</td>\n",
       "      <td>58506</td>\n",
       "      <td>Sean</td>\n",
       "      <td>amos is a phenomenal host  where to start  fir...</td>\n",
       "    </tr>\n",
       "    <tr>\n",
       "      <td>3</td>\n",
       "      <td>3344</td>\n",
       "      <td>293978</td>\n",
       "      <td>2011-06-01</td>\n",
       "      <td>583926</td>\n",
       "      <td>Yewwee</td>\n",
       "      <td>aj is a great and friendly host  excellent loc...</td>\n",
       "    </tr>\n",
       "    <tr>\n",
       "      <td>4</td>\n",
       "      <td>3344</td>\n",
       "      <td>296775</td>\n",
       "      <td>2011-06-04</td>\n",
       "      <td>503189</td>\n",
       "      <td>Jonathan</td>\n",
       "      <td>as a firsttime airbnb com user i am glad amos ...</td>\n",
       "    </tr>\n",
       "  </tbody>\n",
       "</table>\n",
       "</div>"
      ],
      "text/plain": [
       "   listing_id      id       date  reviewer_id reviewer_name  \\\n",
       "0        3344    2185 2009-05-09        12016          Tony   \n",
       "1        3344   18774 2009-11-29        40724         Faris   \n",
       "2        3344   20550 2009-12-16        58506          Sean   \n",
       "3        3344  293978 2011-06-01       583926        Yewwee   \n",
       "4        3344  296775 2011-06-04       503189      Jonathan   \n",
       "\n",
       "                                            comments  \n",
       "0  the stay at amos condo greatly exceeded my exp...  \n",
       "1  what can i say   aj picked me up from dulles w...  \n",
       "2  amos is a phenomenal host  where to start  fir...  \n",
       "3  aj is a great and friendly host  excellent loc...  \n",
       "4  as a firsttime airbnb com user i am glad amos ...  "
      ]
     },
     "execution_count": 40,
     "metadata": {},
     "output_type": "execute_result"
    }
   ],
   "source": [
    "# look at reviews\n",
    "reviews.head()"
   ]
  },
  {
   "cell_type": "code",
   "execution_count": 41,
   "metadata": {},
   "outputs": [],
   "source": [
    "# create a new column for today's date\n",
    "reviews['today'] = '2019-12-01'"
   ]
  },
  {
   "cell_type": "code",
   "execution_count": 42,
   "metadata": {},
   "outputs": [
    {
     "data": {
      "text/plain": [
       "listing_id                int64\n",
       "id                        int64\n",
       "date             datetime64[ns]\n",
       "reviewer_id               int64\n",
       "reviewer_name            object\n",
       "comments                 object\n",
       "today                    object\n",
       "dtype: object"
      ]
     },
     "execution_count": 42,
     "metadata": {},
     "output_type": "execute_result"
    }
   ],
   "source": [
    "# check datatypes\n",
    "reviews.dtypes"
   ]
  },
  {
   "cell_type": "code",
   "execution_count": 43,
   "metadata": {},
   "outputs": [],
   "source": [
    "# convert new column to datetime\n",
    "reviews['today'] = pd.to_datetime(reviews['today'])"
   ]
  },
  {
   "cell_type": "code",
   "execution_count": 44,
   "metadata": {},
   "outputs": [],
   "source": [
    "# calculate difference between today and date of last review\n",
    "reviews['time'] = reviews['today'] - reviews['date']"
   ]
  },
  {
   "cell_type": "code",
   "execution_count": 45,
   "metadata": {},
   "outputs": [
    {
     "data": {
      "text/plain": [
       "355764     70 days\n",
       "346589     70 days\n",
       "355637     70 days\n",
       "351448     70 days\n",
       "6664       70 days\n",
       "            ...   \n",
       "413      3902 days\n",
       "412      3965 days\n",
       "368      3966 days\n",
       "411      3966 days\n",
       "11       3966 days\n",
       "Name: time, Length: 358268, dtype: timedelta64[ns]"
      ]
     },
     "execution_count": 45,
     "metadata": {},
     "output_type": "execute_result"
    }
   ],
   "source": [
    "# check for new column, sort on that column\n",
    "reviews['time'].sort_values()"
   ]
  },
  {
   "cell_type": "code",
   "execution_count": 46,
   "metadata": {
    "scrolled": false
   },
   "outputs": [
    {
     "data": {
      "text/html": [
       "<div>\n",
       "<style scoped>\n",
       "    .dataframe tbody tr th:only-of-type {\n",
       "        vertical-align: middle;\n",
       "    }\n",
       "\n",
       "    .dataframe tbody tr th {\n",
       "        vertical-align: top;\n",
       "    }\n",
       "\n",
       "    .dataframe thead th {\n",
       "        text-align: right;\n",
       "    }\n",
       "</style>\n",
       "<table border=\"1\" class=\"dataframe\">\n",
       "  <thead>\n",
       "    <tr style=\"text-align: right;\">\n",
       "      <th></th>\n",
       "      <th>listing_id</th>\n",
       "      <th>id</th>\n",
       "      <th>date</th>\n",
       "      <th>reviewer_id</th>\n",
       "      <th>reviewer_name</th>\n",
       "      <th>comments</th>\n",
       "      <th>today</th>\n",
       "      <th>time</th>\n",
       "    </tr>\n",
       "  </thead>\n",
       "  <tbody>\n",
       "    <tr>\n",
       "      <td>11</td>\n",
       "      <td>3362</td>\n",
       "      <td>662</td>\n",
       "      <td>2009-01-21</td>\n",
       "      <td>6917</td>\n",
       "      <td>Robyn</td>\n",
       "      <td>ayeh is a gracious and accommodating host   he...</td>\n",
       "      <td>2019-12-01</td>\n",
       "      <td>3966 days</td>\n",
       "    </tr>\n",
       "    <tr>\n",
       "      <td>368</td>\n",
       "      <td>3771</td>\n",
       "      <td>588</td>\n",
       "      <td>2009-01-21</td>\n",
       "      <td>6413</td>\n",
       "      <td>Kevin</td>\n",
       "      <td>charlene and her home were absolutely wonderfu...</td>\n",
       "      <td>2019-12-01</td>\n",
       "      <td>3966 days</td>\n",
       "    </tr>\n",
       "    <tr>\n",
       "      <td>411</td>\n",
       "      <td>4501</td>\n",
       "      <td>616</td>\n",
       "      <td>2009-01-21</td>\n",
       "      <td>6588</td>\n",
       "      <td>Mary</td>\n",
       "      <td>kip and liz were generous and helpful host dur...</td>\n",
       "      <td>2019-12-01</td>\n",
       "      <td>3966 days</td>\n",
       "    </tr>\n",
       "  </tbody>\n",
       "</table>\n",
       "</div>"
      ],
      "text/plain": [
       "     listing_id   id       date  reviewer_id reviewer_name  \\\n",
       "11         3362  662 2009-01-21         6917         Robyn   \n",
       "368        3771  588 2009-01-21         6413         Kevin   \n",
       "411        4501  616 2009-01-21         6588          Mary   \n",
       "\n",
       "                                              comments      today      time  \n",
       "11   ayeh is a gracious and accommodating host   he... 2019-12-01 3966 days  \n",
       "368  charlene and her home were absolutely wonderfu... 2019-12-01 3966 days  \n",
       "411  kip and liz were generous and helpful host dur... 2019-12-01 3966 days  "
      ]
     },
     "execution_count": 46,
     "metadata": {},
     "output_type": "execute_result"
    }
   ],
   "source": [
    "# look at the largest value\n",
    "reviews[reviews['time'] == '3966 days']\n",
    "# these are listings that received some of the first reviews in DC so it would make sense that they have larger values\n",
    "# this doesn't mean that these listings haven't been reviewed since then"
   ]
  },
  {
   "cell_type": "code",
   "execution_count": 47,
   "metadata": {},
   "outputs": [
    {
     "data": {
      "text/plain": [
       "listing_id\n",
       "3344       1187 days\n",
       "3362         97 days\n",
       "3662        231 days\n",
       "3670        494 days\n",
       "3686        118 days\n",
       "              ...   \n",
       "38623685     76 days\n",
       "38659601     73 days\n",
       "38697663     73 days\n",
       "38721867     70 days\n",
       "38727301     71 days\n",
       "Name: time, Length: 7421, dtype: timedelta64[ns]"
      ]
     },
     "execution_count": 47,
     "metadata": {},
     "output_type": "execute_result"
    }
   ],
   "source": [
    "# group reviews by listing and the time, then the minimum value. This shows the smallest amount of time since the \n",
    "# last review for each listing\n",
    "reviews.groupby('listing_id')['time'].min()"
   ]
  },
  {
   "cell_type": "code",
   "execution_count": 48,
   "metadata": {},
   "outputs": [
    {
     "data": {
      "text/html": [
       "<div>\n",
       "<style scoped>\n",
       "    .dataframe tbody tr th:only-of-type {\n",
       "        vertical-align: middle;\n",
       "    }\n",
       "\n",
       "    .dataframe tbody tr th {\n",
       "        vertical-align: top;\n",
       "    }\n",
       "\n",
       "    .dataframe thead th {\n",
       "        text-align: right;\n",
       "    }\n",
       "</style>\n",
       "<table border=\"1\" class=\"dataframe\">\n",
       "  <thead>\n",
       "    <tr style=\"text-align: right;\">\n",
       "      <th></th>\n",
       "      <th>listing_id</th>\n",
       "      <th>id</th>\n",
       "      <th>date</th>\n",
       "      <th>reviewer_id</th>\n",
       "      <th>reviewer_name</th>\n",
       "      <th>comments</th>\n",
       "      <th>today</th>\n",
       "      <th>time</th>\n",
       "    </tr>\n",
       "  </thead>\n",
       "  <tbody>\n",
       "    <tr>\n",
       "      <td>0</td>\n",
       "      <td>3344</td>\n",
       "      <td>2185</td>\n",
       "      <td>2009-05-09</td>\n",
       "      <td>12016</td>\n",
       "      <td>Tony</td>\n",
       "      <td>the stay at amos condo greatly exceeded my exp...</td>\n",
       "      <td>2019-12-01</td>\n",
       "      <td>3858 days</td>\n",
       "    </tr>\n",
       "    <tr>\n",
       "      <td>1</td>\n",
       "      <td>3344</td>\n",
       "      <td>18774</td>\n",
       "      <td>2009-11-29</td>\n",
       "      <td>40724</td>\n",
       "      <td>Faris</td>\n",
       "      <td>what can i say   aj picked me up from dulles w...</td>\n",
       "      <td>2019-12-01</td>\n",
       "      <td>3654 days</td>\n",
       "    </tr>\n",
       "    <tr>\n",
       "      <td>2</td>\n",
       "      <td>3344</td>\n",
       "      <td>20550</td>\n",
       "      <td>2009-12-16</td>\n",
       "      <td>58506</td>\n",
       "      <td>Sean</td>\n",
       "      <td>amos is a phenomenal host  where to start  fir...</td>\n",
       "      <td>2019-12-01</td>\n",
       "      <td>3637 days</td>\n",
       "    </tr>\n",
       "    <tr>\n",
       "      <td>3</td>\n",
       "      <td>3344</td>\n",
       "      <td>293978</td>\n",
       "      <td>2011-06-01</td>\n",
       "      <td>583926</td>\n",
       "      <td>Yewwee</td>\n",
       "      <td>aj is a great and friendly host  excellent loc...</td>\n",
       "      <td>2019-12-01</td>\n",
       "      <td>3105 days</td>\n",
       "    </tr>\n",
       "    <tr>\n",
       "      <td>4</td>\n",
       "      <td>3344</td>\n",
       "      <td>296775</td>\n",
       "      <td>2011-06-04</td>\n",
       "      <td>503189</td>\n",
       "      <td>Jonathan</td>\n",
       "      <td>as a firsttime airbnb com user i am glad amos ...</td>\n",
       "      <td>2019-12-01</td>\n",
       "      <td>3102 days</td>\n",
       "    </tr>\n",
       "    <tr>\n",
       "      <td>5</td>\n",
       "      <td>3344</td>\n",
       "      <td>4623658</td>\n",
       "      <td>2013-05-16</td>\n",
       "      <td>5092646</td>\n",
       "      <td>Tobias</td>\n",
       "      <td>amos is a fantastic host  he has picked me up ...</td>\n",
       "      <td>2019-12-01</td>\n",
       "      <td>2390 days</td>\n",
       "    </tr>\n",
       "    <tr>\n",
       "      <td>6</td>\n",
       "      <td>3344</td>\n",
       "      <td>4684484</td>\n",
       "      <td>2013-05-20</td>\n",
       "      <td>6051850</td>\n",
       "      <td>Ian</td>\n",
       "      <td>amos is an excellent host who made my trip to ...</td>\n",
       "      <td>2019-12-01</td>\n",
       "      <td>2386 days</td>\n",
       "    </tr>\n",
       "    <tr>\n",
       "      <td>7</td>\n",
       "      <td>3344</td>\n",
       "      <td>5838187</td>\n",
       "      <td>2013-07-18</td>\n",
       "      <td>3680725</td>\n",
       "      <td>Eneasz</td>\n",
       "      <td>a j  was very hospitable and accommodating  th...</td>\n",
       "      <td>2019-12-01</td>\n",
       "      <td>2327 days</td>\n",
       "    </tr>\n",
       "    <tr>\n",
       "      <td>8</td>\n",
       "      <td>3344</td>\n",
       "      <td>5997239</td>\n",
       "      <td>2013-07-25</td>\n",
       "      <td>869497</td>\n",
       "      <td>Michael</td>\n",
       "      <td>amos was a gracious host  the accommodations w...</td>\n",
       "      <td>2019-12-01</td>\n",
       "      <td>2320 days</td>\n",
       "    </tr>\n",
       "    <tr>\n",
       "      <td>9</td>\n",
       "      <td>3344</td>\n",
       "      <td>65024539</td>\n",
       "      <td>2016-03-10</td>\n",
       "      <td>53186598</td>\n",
       "      <td>Abe</td>\n",
       "      <td>the host canceled this reservation 9 days befo...</td>\n",
       "      <td>2019-12-01</td>\n",
       "      <td>1361 days</td>\n",
       "    </tr>\n",
       "    <tr>\n",
       "      <td>10</td>\n",
       "      <td>3344</td>\n",
       "      <td>98564881</td>\n",
       "      <td>2016-08-31</td>\n",
       "      <td>49273574</td>\n",
       "      <td>Moses</td>\n",
       "      <td>a j  is place is amazing and is located close ...</td>\n",
       "      <td>2019-12-01</td>\n",
       "      <td>1187 days</td>\n",
       "    </tr>\n",
       "  </tbody>\n",
       "</table>\n",
       "</div>"
      ],
      "text/plain": [
       "    listing_id        id       date  reviewer_id reviewer_name  \\\n",
       "0         3344      2185 2009-05-09        12016          Tony   \n",
       "1         3344     18774 2009-11-29        40724         Faris   \n",
       "2         3344     20550 2009-12-16        58506          Sean   \n",
       "3         3344    293978 2011-06-01       583926        Yewwee   \n",
       "4         3344    296775 2011-06-04       503189      Jonathan   \n",
       "5         3344   4623658 2013-05-16      5092646        Tobias   \n",
       "6         3344   4684484 2013-05-20      6051850           Ian   \n",
       "7         3344   5838187 2013-07-18      3680725        Eneasz   \n",
       "8         3344   5997239 2013-07-25       869497       Michael   \n",
       "9         3344  65024539 2016-03-10     53186598           Abe   \n",
       "10        3344  98564881 2016-08-31     49273574         Moses   \n",
       "\n",
       "                                             comments      today      time  \n",
       "0   the stay at amos condo greatly exceeded my exp... 2019-12-01 3858 days  \n",
       "1   what can i say   aj picked me up from dulles w... 2019-12-01 3654 days  \n",
       "2   amos is a phenomenal host  where to start  fir... 2019-12-01 3637 days  \n",
       "3   aj is a great and friendly host  excellent loc... 2019-12-01 3105 days  \n",
       "4   as a firsttime airbnb com user i am glad amos ... 2019-12-01 3102 days  \n",
       "5   amos is a fantastic host  he has picked me up ... 2019-12-01 2390 days  \n",
       "6   amos is an excellent host who made my trip to ... 2019-12-01 2386 days  \n",
       "7   a j  was very hospitable and accommodating  th... 2019-12-01 2327 days  \n",
       "8   amos was a gracious host  the accommodations w... 2019-12-01 2320 days  \n",
       "9   the host canceled this reservation 9 days befo... 2019-12-01 1361 days  \n",
       "10  a j  is place is amazing and is located close ... 2019-12-01 1187 days  "
      ]
     },
     "execution_count": 48,
     "metadata": {},
     "output_type": "execute_result"
    }
   ],
   "source": [
    "# the shortest time since the last review for listing 3344 was 1187 days. checking the reviews for that listing\n",
    "reviews[reviews['listing_id'] == 3344]"
   ]
  },
  {
   "cell_type": "code",
   "execution_count": 49,
   "metadata": {},
   "outputs": [],
   "source": [
    "# Some listings haven't been reviewed in many years. Were they bad reviews? Not necessarily - last review for \n",
    "# listing 3344 was in 2016 and it says it was amazing"
   ]
  },
  {
   "cell_type": "markdown",
   "metadata": {},
   "source": [
    "---"
   ]
  },
  {
   "cell_type": "markdown",
   "metadata": {},
   "source": [
    "## Sentiment"
   ]
  },
  {
   "cell_type": "code",
   "execution_count": 69,
   "metadata": {},
   "outputs": [
    {
     "data": {
      "text/plain": [
       "(358268, 8)"
      ]
     },
     "execution_count": 69,
     "metadata": {},
     "output_type": "execute_result"
    }
   ],
   "source": [
    "reviews.shape"
   ]
  },
  {
   "cell_type": "code",
   "execution_count": null,
   "metadata": {},
   "outputs": [],
   "source": [
    "# add a column called 'labeled_sentiment'"
   ]
  },
  {
   "cell_type": "code",
   "execution_count": 68,
   "metadata": {
    "scrolled": true
   },
   "outputs": [
    {
     "data": {
      "text/plain": [
       "'the stay at amos condo greatly exceeded my expectations  this is a great location that is a short walk from two metro stations and is surrounded by business offices other condos and restaurants  very clean and neat accommodations  bed was a small cot style bed with a foam mattress that was adequate  i had exclusive use of a bathroom with a shower including space to keep my shower supplies  amos went above and beyond to make me feel welcome in his home  not only did he pick me up from the airport but he dropped me off when my stay was finished  i highly recommend that anyone planning a trip to dc stay with amos  you will not regret it amos had stocked the kitchen with plenty to eat for breakfast and access to all appliances if i chose to cook  '"
      ]
     },
     "execution_count": 68,
     "metadata": {},
     "output_type": "execute_result"
    }
   ],
   "source": [
    "# look at some examples of what to label\n",
    "reviews['comments'][0]\n",
    "# positive"
   ]
  },
  {
   "cell_type": "code",
   "execution_count": 70,
   "metadata": {},
   "outputs": [
    {
     "data": {
      "text/plain": [
       "'this was a perfect experience   great location with metro nearby but we were able to walk to capitol   the apartment was exactly as described and kelly was available if we needed any help but we did not   '"
      ]
     },
     "execution_count": 70,
     "metadata": {},
     "output_type": "execute_result"
    }
   ],
   "source": [
    "reviews['comments'][10_000]\n",
    "# positive"
   ]
  },
  {
   "cell_type": "code",
   "execution_count": 71,
   "metadata": {},
   "outputs": [
    {
     "data": {
      "text/plain": [
       "'great space in a nice quiet neighborhood  very clean and easy to walk to georgetown from there '"
      ]
     },
     "execution_count": 71,
     "metadata": {},
     "output_type": "execute_result"
    }
   ],
   "source": [
    "reviews['comments'][350_000]\n",
    "# positive"
   ]
  },
  {
   "cell_type": "code",
   "execution_count": 72,
   "metadata": {},
   "outputs": [
    {
     "data": {
      "text/plain": [
       "'very well located place  clean cozy and quiet place  fast check in  it was a great stay  tks rafic   '"
      ]
     },
     "execution_count": 72,
     "metadata": {},
     "output_type": "execute_result"
    }
   ],
   "source": [
    "reviews['comments'][104_849]\n",
    "# positive"
   ]
  },
  {
   "cell_type": "code",
   "execution_count": 73,
   "metadata": {},
   "outputs": [
    {
     "data": {
      "text/plain": [
       "'great location and price '"
      ]
     },
     "execution_count": 73,
     "metadata": {},
     "output_type": "execute_result"
    }
   ],
   "source": [
    "reviews['comments'][275_275]\n",
    "# positive"
   ]
  },
  {
   "cell_type": "code",
   "execution_count": 74,
   "metadata": {},
   "outputs": [
    {
     "data": {
      "text/plain": [
       "'we just loved river is place   it was close to our son is apartment and the neighborhood has much to offer   very convenient to the metro eastern market and great restaurants   a real pleasure to come home to at the end of the day   we would definitely do this again   clean convenient and accessible '"
      ]
     },
     "execution_count": 74,
     "metadata": {},
     "output_type": "execute_result"
    }
   ],
   "source": [
    "reviews['comments'][200_000]\n",
    "# positive"
   ]
  },
  {
   "cell_type": "code",
   "execution_count": 58,
   "metadata": {},
   "outputs": [],
   "source": [
    "# create a review list\n",
    "reviews_list = []\n",
    "\n",
    "for i in reviews['comments']:\n",
    "    reviews_list.append(i)"
   ]
  },
  {
   "cell_type": "code",
   "execution_count": 60,
   "metadata": {},
   "outputs": [
    {
     "data": {
      "text/plain": [
       "'the stay at amos condo greatly exceeded my expectations  this is a great location that is a short walk from two metro stations and is surrounded by business offices other condos and restaurants  very clean and neat accommodations  bed was a small cot style bed with a foam mattress that was adequate  i had exclusive use of a bathroom with a shower including space to keep my shower supplies  amos went above and beyond to make me feel welcome in his home  not only did he pick me up from the airport but he dropped me off when my stay was finished  i highly recommend that anyone planning a trip to dc stay with amos  you will not regret it amos had stocked the kitchen with plenty to eat for breakfast and access to all appliances if i chose to cook  '"
      ]
     },
     "execution_count": 60,
     "metadata": {},
     "output_type": "execute_result"
    }
   ],
   "source": [
    "# check reviews list first item\n",
    "reviews_list[0]"
   ]
  },
  {
   "cell_type": "code",
   "execution_count": 64,
   "metadata": {},
   "outputs": [],
   "source": [
    "# define positive words using opinion lexicon library from nltk\n",
    "positive_words = opinion_lexicon.positive()"
   ]
  },
  {
   "cell_type": "code",
   "execution_count": 65,
   "metadata": {},
   "outputs": [],
   "source": [
    "# define negative words using opinion lexicon library\n",
    "negative_words = opinion_lexicon.negative()"
   ]
  },
  {
   "cell_type": "code",
   "execution_count": 83,
   "metadata": {},
   "outputs": [],
   "source": [
    "# define a function that will estimate the sentiment\n",
    "def simple_sentiment(text):\n",
    "    # Instantiate tokenizer.\n",
    "    tokenizer = RegexpTokenizer(r'\\w+')\n",
    "    \n",
    "    # Tokenize text.\n",
    "    tokens = tokenizer.tokenize(text.lower())\n",
    "    \n",
    "    # Remove stop words from \"words.\"\n",
    "    text = [w for w in text if w not in stopwords.words('english')]\n",
    "    \n",
    "    # Instantiate stemmer.\n",
    "    p_stemmer = PorterStemmer()\n",
    "    \n",
    "    # Stem words.\n",
    "    stemmed_words = [p_stemmer.stem(token) for token in tokens]\n",
    "    \n",
    "    # Stem our positive/negative words.\n",
    "    positive_stems = [p_stemmer.stem(token) for token in positive_words]\n",
    "    negative_stems = [p_stemmer.stem(token) for token in negative_words]\n",
    "\n",
    "    # Count \"positive\" words.\n",
    "    positive_count = len([i for i in stemmed_words if i in positive_words])\n",
    "    \n",
    "    # Count \"negative\" words\n",
    "    negative_count = len([i for i in stemmed_words if i in negative_words])\n",
    "    \n",
    "    # Calculate Sentiment Percentage \n",
    "    # (Positive Count - Negative Count) / (Total Count)\n",
    "    positive_count - negative_count / len(tokens)\n",
    "\n",
    "    return 100 * round((positive_count - negative_count) / len(tokens), 2)\n",
    "\n",
    "# code from Matt Brems DSI lecture, modified slightly"
   ]
  },
  {
   "cell_type": "code",
   "execution_count": 85,
   "metadata": {},
   "outputs": [
    {
     "data": {
      "text/plain": [
       "24.0"
      ]
     },
     "execution_count": 85,
     "metadata": {},
     "output_type": "execute_result"
    }
   ],
   "source": [
    "simple_sentiment(reviews['comments'][350_000])"
   ]
  },
  {
   "cell_type": "code",
   "execution_count": 82,
   "metadata": {},
   "outputs": [
    {
     "data": {
      "text/plain": [
       "'manuel was very friendly  easy 10 min walk to benning metro station  '"
      ]
     },
     "execution_count": 82,
     "metadata": {},
     "output_type": "execute_result"
    }
   ],
   "source": [
    "reviews['comments'][300_000]"
   ]
  },
  {
   "cell_type": "code",
   "execution_count": 87,
   "metadata": {},
   "outputs": [
    {
     "ename": "ZeroDivisionError",
     "evalue": "division by zero",
     "output_type": "error",
     "traceback": [
      "\u001b[0;31m---------------------------------------------------------------------------\u001b[0m",
      "\u001b[0;31mZeroDivisionError\u001b[0m                         Traceback (most recent call last)",
      "\u001b[0;32m<ipython-input-87-cd32a50a1adc>\u001b[0m in \u001b[0;36m<module>\u001b[0;34m\u001b[0m\n\u001b[1;32m      1\u001b[0m \u001b[0;32mfor\u001b[0m \u001b[0mi\u001b[0m \u001b[0;32min\u001b[0m \u001b[0mreviews\u001b[0m\u001b[0;34m[\u001b[0m\u001b[0;34m'comments'\u001b[0m\u001b[0;34m]\u001b[0m\u001b[0;34m:\u001b[0m\u001b[0;34m\u001b[0m\u001b[0;34m\u001b[0m\u001b[0m\n\u001b[0;32m----> 2\u001b[0;31m     \u001b[0mreviews\u001b[0m\u001b[0;34m[\u001b[0m\u001b[0;34m'sentiment_score'\u001b[0m\u001b[0;34m]\u001b[0m \u001b[0;34m=\u001b[0m \u001b[0msimple_sentiment\u001b[0m\u001b[0;34m(\u001b[0m\u001b[0mi\u001b[0m\u001b[0;34m)\u001b[0m\u001b[0;34m\u001b[0m\u001b[0;34m\u001b[0m\u001b[0m\n\u001b[0m",
      "\u001b[0;32m<ipython-input-83-63f225cb7b80>\u001b[0m in \u001b[0;36msimple_sentiment\u001b[0;34m(text)\u001b[0m\n\u001b[1;32m     28\u001b[0m     \u001b[0;31m# Calculate Sentiment Percentage\u001b[0m\u001b[0;34m\u001b[0m\u001b[0;34m\u001b[0m\u001b[0;34m\u001b[0m\u001b[0m\n\u001b[1;32m     29\u001b[0m     \u001b[0;31m# (Positive Count - Negative Count) / (Total Count)\u001b[0m\u001b[0;34m\u001b[0m\u001b[0;34m\u001b[0m\u001b[0;34m\u001b[0m\u001b[0m\n\u001b[0;32m---> 30\u001b[0;31m     \u001b[0mpositive_count\u001b[0m \u001b[0;34m-\u001b[0m \u001b[0mnegative_count\u001b[0m \u001b[0;34m/\u001b[0m \u001b[0mlen\u001b[0m\u001b[0;34m(\u001b[0m\u001b[0mtokens\u001b[0m\u001b[0;34m)\u001b[0m\u001b[0;34m\u001b[0m\u001b[0;34m\u001b[0m\u001b[0m\n\u001b[0m\u001b[1;32m     31\u001b[0m \u001b[0;34m\u001b[0m\u001b[0m\n\u001b[1;32m     32\u001b[0m     \u001b[0;32mreturn\u001b[0m \u001b[0;36m100\u001b[0m \u001b[0;34m*\u001b[0m \u001b[0mround\u001b[0m\u001b[0;34m(\u001b[0m\u001b[0;34m(\u001b[0m\u001b[0mpositive_count\u001b[0m \u001b[0;34m-\u001b[0m \u001b[0mnegative_count\u001b[0m\u001b[0;34m)\u001b[0m \u001b[0;34m/\u001b[0m \u001b[0mlen\u001b[0m\u001b[0;34m(\u001b[0m\u001b[0mtokens\u001b[0m\u001b[0;34m)\u001b[0m\u001b[0;34m,\u001b[0m \u001b[0;36m2\u001b[0m\u001b[0;34m)\u001b[0m\u001b[0;34m\u001b[0m\u001b[0;34m\u001b[0m\u001b[0m\n",
      "\u001b[0;31mZeroDivisionError\u001b[0m: division by zero"
     ]
    }
   ],
   "source": [
    "for i in reviews['comments']:\n",
    "    reviews['sentiment_score'] = simple_sentiment(i)"
   ]
  },
  {
   "cell_type": "code",
   "execution_count": 90,
   "metadata": {},
   "outputs": [
    {
     "data": {
      "text/plain": [
       "172077                                                     \n",
       "18588                                                      \n",
       "213195                                                     \n",
       "47555                                                      \n",
       "28526                                                      \n",
       "                                ...                        \n",
       "66132     ﾜｼﾝﾄﾝd c  地下鉄ｲｰｽﾀﾝﾏｰｹｯﾄ駅から徒歩2〜3分の好立地､ｵｼｬﾚで居心地の...\n",
       "210211                       ﾜｼﾝﾄﾝdc中心部からは少し離れていますが､おすすめです｡\n",
       "321351    ﾜｼﾝﾄﾝの観光地から車で10ふんほ10分ほどの閑静な住宅地にあります｡歩いて5 6分のとこ...\n",
       "102411                                 ﾜｼﾝﾄﾝ中心部から近くて助かりました｡\n",
       "44631     ﾜｼﾝﾄﾝｷｬﾋﾟﾄﾙから歩ける範囲にある閑静な住宅街の一軒家｡内部も素敵な芸術品に囲まれ､...\n",
       "Name: comments, Length: 358268, dtype: object"
      ]
     },
     "execution_count": 90,
     "metadata": {},
     "output_type": "execute_result"
    }
   ],
   "source": [
    "reviews['comments'].sort_values()"
   ]
  },
  {
   "cell_type": "code",
   "execution_count": 126,
   "metadata": {},
   "outputs": [
    {
     "ename": "TypeError",
     "evalue": "expected string or bytes-like object",
     "output_type": "error",
     "traceback": [
      "\u001b[0;31m---------------------------------------------------------------------------\u001b[0m",
      "\u001b[0;31mTypeError\u001b[0m                                 Traceback (most recent call last)",
      "\u001b[0;32m<ipython-input-126-16dc3ca10bc5>\u001b[0m in \u001b[0;36m<module>\u001b[0;34m\u001b[0m\n\u001b[0;32m----> 1\u001b[0;31m \u001b[0mreviews_list_tokens\u001b[0m \u001b[0;34m=\u001b[0m \u001b[0mtokenizer\u001b[0m\u001b[0;34m.\u001b[0m\u001b[0mtokenize\u001b[0m\u001b[0;34m(\u001b[0m\u001b[0mreviews_list\u001b[0m\u001b[0;34m)\u001b[0m\u001b[0;34m\u001b[0m\u001b[0;34m\u001b[0m\u001b[0m\n\u001b[0m",
      "\u001b[0;32m~/.local/lib/python3.7/site-packages/nltk/tokenize/regexp.py\u001b[0m in \u001b[0;36mtokenize\u001b[0;34m(self, text)\u001b[0m\n\u001b[1;32m    134\u001b[0m         \u001b[0;31m# If our regexp matches tokens, use re.findall:\u001b[0m\u001b[0;34m\u001b[0m\u001b[0;34m\u001b[0m\u001b[0;34m\u001b[0m\u001b[0m\n\u001b[1;32m    135\u001b[0m         \u001b[0;32melse\u001b[0m\u001b[0;34m:\u001b[0m\u001b[0;34m\u001b[0m\u001b[0;34m\u001b[0m\u001b[0m\n\u001b[0;32m--> 136\u001b[0;31m             \u001b[0;32mreturn\u001b[0m \u001b[0mself\u001b[0m\u001b[0;34m.\u001b[0m\u001b[0m_regexp\u001b[0m\u001b[0;34m.\u001b[0m\u001b[0mfindall\u001b[0m\u001b[0;34m(\u001b[0m\u001b[0mtext\u001b[0m\u001b[0;34m)\u001b[0m\u001b[0;34m\u001b[0m\u001b[0;34m\u001b[0m\u001b[0m\n\u001b[0m\u001b[1;32m    137\u001b[0m \u001b[0;34m\u001b[0m\u001b[0m\n\u001b[1;32m    138\u001b[0m     \u001b[0;32mdef\u001b[0m \u001b[0mspan_tokenize\u001b[0m\u001b[0;34m(\u001b[0m\u001b[0mself\u001b[0m\u001b[0;34m,\u001b[0m \u001b[0mtext\u001b[0m\u001b[0;34m)\u001b[0m\u001b[0;34m:\u001b[0m\u001b[0;34m\u001b[0m\u001b[0;34m\u001b[0m\u001b[0m\n",
      "\u001b[0;31mTypeError\u001b[0m: expected string or bytes-like object"
     ]
    }
   ],
   "source": [
    "reviews_list_tokens = tokenizer.tokenize(reviews_list)"
   ]
  },
  {
   "cell_type": "code",
   "execution_count": 109,
   "metadata": {},
   "outputs": [],
   "source": [
    "rev_tokens = tokenizer.tokenize(reviews['comments'][0])"
   ]
  },
  {
   "cell_type": "code",
   "execution_count": 116,
   "metadata": {},
   "outputs": [],
   "source": [
    "reviews['tokens'] = [tokenizer.tokenize(i) for i in reviews['comments']]"
   ]
  },
  {
   "cell_type": "code",
   "execution_count": 133,
   "metadata": {},
   "outputs": [
    {
     "data": {
      "text/html": [
       "<div>\n",
       "<style scoped>\n",
       "    .dataframe tbody tr th:only-of-type {\n",
       "        vertical-align: middle;\n",
       "    }\n",
       "\n",
       "    .dataframe tbody tr th {\n",
       "        vertical-align: top;\n",
       "    }\n",
       "\n",
       "    .dataframe thead th {\n",
       "        text-align: right;\n",
       "    }\n",
       "</style>\n",
       "<table border=\"1\" class=\"dataframe\">\n",
       "  <thead>\n",
       "    <tr style=\"text-align: right;\">\n",
       "      <th></th>\n",
       "      <th>listing_id</th>\n",
       "      <th>id</th>\n",
       "      <th>date</th>\n",
       "      <th>reviewer_id</th>\n",
       "      <th>reviewer_name</th>\n",
       "      <th>comments</th>\n",
       "      <th>today</th>\n",
       "      <th>time</th>\n",
       "      <th>sentiment_score</th>\n",
       "      <th>tokens</th>\n",
       "      <th>tokens_no_stops</th>\n",
       "    </tr>\n",
       "  </thead>\n",
       "  <tbody>\n",
       "    <tr>\n",
       "      <td>0</td>\n",
       "      <td>3344</td>\n",
       "      <td>2185</td>\n",
       "      <td>2009-05-09</td>\n",
       "      <td>12016</td>\n",
       "      <td>Tony</td>\n",
       "      <td>the stay at amos condo greatly exceeded my exp...</td>\n",
       "      <td>2019-12-01</td>\n",
       "      <td>3858 days</td>\n",
       "      <td>8.0</td>\n",
       "      <td>[the, stay, at, amos, condo, greatly, exceeded...</td>\n",
       "      <td>[the, stay, at, amos, condo, greatly, exceeded...</td>\n",
       "    </tr>\n",
       "    <tr>\n",
       "      <td>1</td>\n",
       "      <td>3344</td>\n",
       "      <td>18774</td>\n",
       "      <td>2009-11-29</td>\n",
       "      <td>40724</td>\n",
       "      <td>Faris</td>\n",
       "      <td>what can i say   aj picked me up from dulles w...</td>\n",
       "      <td>2019-12-01</td>\n",
       "      <td>3654 days</td>\n",
       "      <td>8.0</td>\n",
       "      <td>[what, can, i, say, aj, picked, me, up, from, ...</td>\n",
       "      <td>[what, can, i, say, aj, picked, me, up, from, ...</td>\n",
       "    </tr>\n",
       "  </tbody>\n",
       "</table>\n",
       "</div>"
      ],
      "text/plain": [
       "   listing_id     id       date  reviewer_id reviewer_name  \\\n",
       "0        3344   2185 2009-05-09        12016          Tony   \n",
       "1        3344  18774 2009-11-29        40724         Faris   \n",
       "\n",
       "                                            comments      today      time  \\\n",
       "0  the stay at amos condo greatly exceeded my exp... 2019-12-01 3858 days   \n",
       "1  what can i say   aj picked me up from dulles w... 2019-12-01 3654 days   \n",
       "\n",
       "   sentiment_score                                             tokens  \\\n",
       "0              8.0  [the, stay, at, amos, condo, greatly, exceeded...   \n",
       "1              8.0  [what, can, i, say, aj, picked, me, up, from, ...   \n",
       "\n",
       "                                     tokens_no_stops  \n",
       "0  [the, stay, at, amos, condo, greatly, exceeded...  \n",
       "1  [what, can, i, say, aj, picked, me, up, from, ...  "
      ]
     },
     "execution_count": 133,
     "metadata": {},
     "output_type": "execute_result"
    }
   ],
   "source": [
    "reviews.head(2)"
   ]
  },
  {
   "cell_type": "code",
   "execution_count": 103,
   "metadata": {},
   "outputs": [],
   "source": [
    "# remove stop words\n",
    "def remove_stopwords(text):\n",
    "    text = [w for w in text if w not in stopwords.words('english')]\n",
    "    return text"
   ]
  },
  {
   "cell_type": "code",
   "execution_count": null,
   "metadata": {},
   "outputs": [],
   "source": [
    "tokens_no_stops_list = []\n",
    "\n",
    "for i in reviews['tokens']:\n",
    "    i = remove_stopwords(i)\n",
    "    tokens_no_stops_list.append(i)"
   ]
  },
  {
   "cell_type": "code",
   "execution_count": 124,
   "metadata": {},
   "outputs": [
    {
     "data": {
      "text/plain": [
       "0         [the, stay, at, amos, condo, greatly, exceeded...\n",
       "1         [what, can, i, say, aj, picked, me, up, from, ...\n",
       "2         [amos, is, a, phenomenal, host, where, to, sta...\n",
       "3         [aj, is, a, great, and, friendly, host, excell...\n",
       "4         [as, a, firsttime, airbnb, com, user, i, am, g...\n",
       "                                ...                        \n",
       "358263    [place, is, super, clean, and, on, a, great, b...\n",
       "358264    [the, place, was, beautiful, and, stylish, and...\n",
       "358265    [best, option, for, washington, dc, if, you, w...\n",
       "358266    [thanks, for, the, hospitality, never, had, so...\n",
       "358267    [i, enjoyed, my, stay, at, felicia, s, home, i...\n",
       "Name: tokens_no_stops, Length: 358268, dtype: object"
      ]
     },
     "execution_count": 124,
     "metadata": {},
     "output_type": "execute_result"
    }
   ],
   "source": [
    "reviews['tokens_no_stops']"
   ]
  },
  {
   "cell_type": "code",
   "execution_count": 132,
   "metadata": {},
   "outputs": [],
   "source": [
    "rev_tokens = remove_stopwords(rev_tokens)"
   ]
  },
  {
   "cell_type": "code",
   "execution_count": null,
   "metadata": {},
   "outputs": [],
   "source": []
  },
  {
   "cell_type": "code",
   "execution_count": 113,
   "metadata": {},
   "outputs": [],
   "source": [
    "# get the word frequency\n",
    "def get_word_freq(text):\n",
    "    cvec = CountVectorizer().fit(text)\n",
    "    bag_of_words = cvec.transform(text)\n",
    "    sum_words = bag_of_words.sum(axis=0)\n",
    "    words_freq = [(word, sum_words[0, idx]) for word, idx in cvec.vocabulary_.items()]\n",
    "    words_freq = sorted(words_freq, key = lambda x: x[1], reverse=True)\n",
    "    return words_freq[:10]"
   ]
  },
  {
   "cell_type": "code",
   "execution_count": 121,
   "metadata": {},
   "outputs": [
    {
     "data": {
      "text/plain": [
       "[('amos', 4),\n",
       " ('stay', 3),\n",
       " ('bed', 2),\n",
       " ('shower', 2),\n",
       " ('condo', 1),\n",
       " ('greatly', 1),\n",
       " ('exceeded', 1),\n",
       " ('expectations', 1),\n",
       " ('great', 1),\n",
       " ('location', 1)]"
      ]
     },
     "execution_count": 121,
     "metadata": {},
     "output_type": "execute_result"
    }
   ],
   "source": [
    "get_word_freq(rev_tokens)"
   ]
  },
  {
   "cell_type": "code",
   "execution_count": 138,
   "metadata": {},
   "outputs": [
    {
     "data": {
      "text/plain": [
       "list"
      ]
     },
     "execution_count": 138,
     "metadata": {},
     "output_type": "execute_result"
    }
   ],
   "source": [
    "type(reviews['tokens_no_stops'][0])"
   ]
  },
  {
   "cell_type": "code",
   "execution_count": 137,
   "metadata": {},
   "outputs": [
    {
     "data": {
      "text/plain": [
       "[('to', 6),\n",
       " ('and', 5),\n",
       " ('amos', 4),\n",
       " ('with', 4),\n",
       " ('the', 3),\n",
       " ('stay', 3),\n",
       " ('my', 3),\n",
       " ('is', 3),\n",
       " ('that', 3),\n",
       " ('was', 3)]"
      ]
     },
     "execution_count": 137,
     "metadata": {},
     "output_type": "execute_result"
    }
   ],
   "source": [
    "get_word_freq(reviews['tokens_no_stops'][0])"
   ]
  },
  {
   "cell_type": "code",
   "execution_count": 128,
   "metadata": {},
   "outputs": [],
   "source": [
    "reviews_list = remove_stopwords(reviews_list)"
   ]
  },
  {
   "cell_type": "code",
   "execution_count": 130,
   "metadata": {},
   "outputs": [
    {
     "data": {
      "text/plain": [
       "[('and', 803076),\n",
       " ('the', 787948),\n",
       " ('to', 506699),\n",
       " ('was', 420541),\n",
       " ('is', 394078),\n",
       " ('in', 274826),\n",
       " ('we', 226294),\n",
       " ('great', 223209),\n",
       " ('very', 223030),\n",
       " ('for', 205119)]"
      ]
     },
     "execution_count": 130,
     "metadata": {},
     "output_type": "execute_result"
    }
   ],
   "source": [
    "get_word_freq(reviews_list)"
   ]
  },
  {
   "cell_type": "code",
   "execution_count": null,
   "metadata": {},
   "outputs": [],
   "source": []
  },
  {
   "cell_type": "code",
   "execution_count": null,
   "metadata": {},
   "outputs": [],
   "source": []
  },
  {
   "cell_type": "code",
   "execution_count": null,
   "metadata": {},
   "outputs": [],
   "source": []
  },
  {
   "cell_type": "code",
   "execution_count": null,
   "metadata": {},
   "outputs": [],
   "source": [
    "# https://www.nltk.org/api/nltk.sentiment.html"
   ]
  },
  {
   "cell_type": "markdown",
   "metadata": {},
   "source": [
    "---"
   ]
  },
  {
   "cell_type": "markdown",
   "metadata": {},
   "source": [
    "Or listings that only got bad reviews? "
   ]
  },
  {
   "cell_type": "markdown",
   "metadata": {},
   "source": [
    "What can be analyzed about the actual review content? Classify certain words as positive? Or negative? "
   ]
  },
  {
   "cell_type": "markdown",
   "metadata": {},
   "source": [
    "Reviews go back to 2009 (which may be around the time that AirBnB started listing places in DC) - worth further investigation"
   ]
  },
  {
   "cell_type": "markdown",
   "metadata": {},
   "source": [
    "Reviews per month max is around 13 - is this an outlier? "
   ]
  },
  {
   "cell_type": "markdown",
   "metadata": {},
   "source": [
    "Some listings have no reviews - how to handle those? still have valuable data. Also is a large chunk of the data"
   ]
  },
  {
   "cell_type": "markdown",
   "metadata": {},
   "source": [
    "Unsupervised learning problem: analyzing factors that contribute to good reviews and predict on a new dataset? (should be oct and nov data by time of capstone) \n",
    "\n",
    "Try to predict price changes based on review sentiment? "
   ]
  },
  {
   "cell_type": "markdown",
   "metadata": {},
   "source": [
    "Does high availability of a listing have a relationship with anything? (review sentiment, number of reviews, price per night, neighbourhood, host?)"
   ]
  }
 ],
 "metadata": {
  "kernelspec": {
   "display_name": "Python 3",
   "language": "python",
   "name": "python3"
  },
  "language_info": {
   "codemirror_mode": {
    "name": "ipython",
    "version": 3
   },
   "file_extension": ".py",
   "mimetype": "text/x-python",
   "name": "python",
   "nbconvert_exporter": "python",
   "pygments_lexer": "ipython3",
   "version": "3.7.3"
  }
 },
 "nbformat": 4,
 "nbformat_minor": 2
}
